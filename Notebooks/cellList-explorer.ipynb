{
 "cells": [
  {
   "cell_type": "code",
   "execution_count": 28,
   "metadata": {
    "collapsed": true
   },
   "outputs": [],
   "source": [
    "from Code.Particle import Particle\n",
    "from Code.Cell import Cell\n",
    "import numpy as np \n",
    "import math\n",
    "import time\n",
    "import sys"
   ]
  },
  {
   "cell_type": "code",
   "execution_count": 41,
   "metadata": {},
   "outputs": [],
   "source": [
    "def init_cells(n):\n",
    "    ignore_i = []\n",
    "    cellList = []\n",
    "    l = np.sqrt(n)\n",
    "    distance = 1.5\n",
    "    for x in range(n):\n",
    "        if((x+1)%l==0):\n",
    "            ignore_i.append(x)\n",
    "        if(x>=n-l):\n",
    "            ignore_i.append(x)\n",
    "\n",
    "    for x in range(n):\n",
    "       if x not in ignore_i:\n",
    "         cellList.append(Cell(particleList[x].x,particleList[x].y,particleList[x].x+distance,particleList[x].y+distance,distance))\n",
    "    return cellList"
   ]
  },
  {
   "cell_type": "code",
   "execution_count": 42,
   "metadata": {},
   "outputs": [],
   "source": [
    "def init(n):\n",
    "    particleList = []\n",
    "    particles_per_edge = np.ceil(np.sqrt(n))\n",
    "    initial_min_step = 1.2 * 1.122\n",
    "    initial_l = particles_per_edge * initial_min_step\n",
    "    count =0\n",
    "    for i in range(0, int(math.sqrt(n))):  # 1 <= i <= n/2\n",
    "        for j in range(0, int(math.sqrt(n))):\n",
    "            x = initial_min_step * i - (initial_l/2) + (initial_min_step/2)\n",
    "            y = initial_min_step * j - (initial_l/2) + (initial_min_step / 2)\n",
    "            particleList.append(Particle(count,False,x,y))\n",
    "            count+=1\n",
    "    return particleList"
   ]
  },
  {
   "cell_type": "code",
   "execution_count": 43,
   "metadata": {},
   "outputs": [],
   "source": [
    "num_particle = 100\n",
    "particleList =init(num_particle) #list of particles\n",
    "cellList = init_cells(num_particle)"
   ]
  },
  {
   "cell_type": "code",
   "execution_count": 48,
   "metadata": {},
   "outputs": [],
   "source": [
    "def reoreient(particleList,cellList):\n",
    "    for j,particle in enumerate(particleList):\n",
    "        for i,cell in enumerate(cellList):\n",
    "            sys.stdout.write(\"\\r{}particle :  {} / {}\".format(j,i,len(cellList)))\n",
    "            sys.stdout.flush()\n",
    "            if cell.check_if_present(particle):\n",
    "                cell.add_particle(particle)\n",
    "                continue"
   ]
  },
  {
   "cell_type": "code",
   "execution_count": 49,
   "metadata": {},
   "outputs": [
    {
     "name": "stdout",
     "output_type": "stream",
     "text": [
      "\r0particle :  0 / 81"
     ]
    },
    {
     "name": "stdout",
     "output_type": "stream",
     "text": [
      "\r0particle :  1 / 81"
     ]
    },
    {
     "name": "stdout",
     "output_type": "stream",
     "text": [
      "\r0particle :  2 / 81"
     ]
    },
    {
     "name": "stdout",
     "output_type": "stream",
     "text": [
      "\r0particle :  3 / 81"
     ]
    },
    {
     "name": "stdout",
     "output_type": "stream",
     "text": [
      "\r0particle :  4 / 81"
     ]
    },
    {
     "name": "stdout",
     "output_type": "stream",
     "text": [
      "\r0particle :  5 / 81"
     ]
    },
    {
     "name": "stdout",
     "output_type": "stream",
     "text": [
      "\r0particle :  6 / 81"
     ]
    },
    {
     "name": "stdout",
     "output_type": "stream",
     "text": [
      "\r0particle :  7 / 81"
     ]
    },
    {
     "name": "stdout",
     "output_type": "stream",
     "text": [
      "\r0particle :  8 / 81"
     ]
    },
    {
     "name": "stdout",
     "output_type": "stream",
     "text": [
      "\r0particle :  9 / 81"
     ]
    },
    {
     "name": "stdout",
     "output_type": "stream",
     "text": [
      "\r0particle :  10 / 81"
     ]
    },
    {
     "name": "stdout",
     "output_type": "stream",
     "text": [
      "\r0particle :  11 / 81"
     ]
    },
    {
     "name": "stdout",
     "output_type": "stream",
     "text": [
      "\r0particle :  12 / 81"
     ]
    },
    {
     "name": "stdout",
     "output_type": "stream",
     "text": [
      "\r0particle :  13 / 81"
     ]
    },
    {
     "name": "stdout",
     "output_type": "stream",
     "text": [
      "\r0particle :  14 / 81"
     ]
    },
    {
     "name": "stdout",
     "output_type": "stream",
     "text": [
      "\r0particle :  15 / 81"
     ]
    },
    {
     "name": "stdout",
     "output_type": "stream",
     "text": [
      "\r0particle :  16 / 81"
     ]
    },
    {
     "name": "stdout",
     "output_type": "stream",
     "text": [
      "\r0particle :  17 / 81"
     ]
    },
    {
     "name": "stdout",
     "output_type": "stream",
     "text": [
      "\r0particle :  18 / 81"
     ]
    },
    {
     "name": "stdout",
     "output_type": "stream",
     "text": [
      "\r0particle :  19 / 81"
     ]
    },
    {
     "name": "stdout",
     "output_type": "stream",
     "text": [
      "\r0particle :  20 / 81"
     ]
    },
    {
     "name": "stdout",
     "output_type": "stream",
     "text": [
      "\r0particle :  21 / 81"
     ]
    },
    {
     "name": "stdout",
     "output_type": "stream",
     "text": [
      "\r0particle :  22 / 81"
     ]
    },
    {
     "name": "stdout",
     "output_type": "stream",
     "text": [
      "\r0particle :  23 / 81"
     ]
    },
    {
     "name": "stdout",
     "output_type": "stream",
     "text": [
      "\r0particle :  24 / 81"
     ]
    },
    {
     "name": "stdout",
     "output_type": "stream",
     "text": [
      "\r0particle :  25 / 81"
     ]
    },
    {
     "name": "stdout",
     "output_type": "stream",
     "text": [
      "\r0particle :  26 / 81"
     ]
    },
    {
     "name": "stdout",
     "output_type": "stream",
     "text": [
      "\r0particle :  27 / 81"
     ]
    },
    {
     "name": "stdout",
     "output_type": "stream",
     "text": [
      "\r0particle :  28 / 81"
     ]
    },
    {
     "name": "stdout",
     "output_type": "stream",
     "text": [
      "\r0particle :  29 / 81"
     ]
    },
    {
     "name": "stdout",
     "output_type": "stream",
     "text": [
      "\r0particle :  30 / 81"
     ]
    },
    {
     "name": "stdout",
     "output_type": "stream",
     "text": [
      "\r0particle :  31 / 81"
     ]
    },
    {
     "name": "stdout",
     "output_type": "stream",
     "text": [
      "\r0particle :  32 / 81"
     ]
    },
    {
     "name": "stdout",
     "output_type": "stream",
     "text": [
      "\r0particle :  33 / 81"
     ]
    },
    {
     "name": "stdout",
     "output_type": "stream",
     "text": [
      "\r0particle :  34 / 81"
     ]
    },
    {
     "name": "stdout",
     "output_type": "stream",
     "text": [
      "\r0particle :  35 / 81"
     ]
    },
    {
     "name": "stdout",
     "output_type": "stream",
     "text": [
      "\r0particle :  36 / 81"
     ]
    },
    {
     "name": "stdout",
     "output_type": "stream",
     "text": [
      "\r0particle :  37 / 81"
     ]
    },
    {
     "name": "stdout",
     "output_type": "stream",
     "text": [
      "\r0particle :  38 / 81"
     ]
    },
    {
     "name": "stdout",
     "output_type": "stream",
     "text": [
      "\r0particle :  39 / 81"
     ]
    },
    {
     "name": "stdout",
     "output_type": "stream",
     "text": [
      "\r0particle :  40 / 81"
     ]
    },
    {
     "name": "stdout",
     "output_type": "stream",
     "text": [
      "\r0particle :  41 / 81"
     ]
    },
    {
     "name": "stdout",
     "output_type": "stream",
     "text": [
      "\r0particle :  42 / 81"
     ]
    },
    {
     "name": "stdout",
     "output_type": "stream",
     "text": [
      "\r0particle :  43 / 81"
     ]
    },
    {
     "name": "stdout",
     "output_type": "stream",
     "text": [
      "\r0particle :  44 / 81"
     ]
    },
    {
     "name": "stdout",
     "output_type": "stream",
     "text": [
      "\r0particle :  45 / 81"
     ]
    },
    {
     "name": "stdout",
     "output_type": "stream",
     "text": [
      "\r0particle :  46 / 81"
     ]
    },
    {
     "name": "stdout",
     "output_type": "stream",
     "text": [
      "\r0particle :  47 / 81"
     ]
    },
    {
     "name": "stdout",
     "output_type": "stream",
     "text": [
      "\r0particle :  48 / 81"
     ]
    },
    {
     "name": "stdout",
     "output_type": "stream",
     "text": [
      "\r0particle :  49 / 81"
     ]
    },
    {
     "name": "stdout",
     "output_type": "stream",
     "text": [
      "\r0particle :  50 / 81"
     ]
    },
    {
     "name": "stdout",
     "output_type": "stream",
     "text": [
      "\r0particle :  51 / 81"
     ]
    },
    {
     "name": "stdout",
     "output_type": "stream",
     "text": [
      "\r0particle :  52 / 81"
     ]
    },
    {
     "name": "stdout",
     "output_type": "stream",
     "text": [
      "\r0particle :  53 / 81"
     ]
    },
    {
     "name": "stdout",
     "output_type": "stream",
     "text": [
      "\r0particle :  54 / 81"
     ]
    },
    {
     "name": "stdout",
     "output_type": "stream",
     "text": [
      "\r0particle :  55 / 81"
     ]
    },
    {
     "name": "stdout",
     "output_type": "stream",
     "text": [
      "\r0particle :  56 / 81"
     ]
    },
    {
     "name": "stdout",
     "output_type": "stream",
     "text": [
      "\r0particle :  57 / 81"
     ]
    },
    {
     "name": "stdout",
     "output_type": "stream",
     "text": [
      "\r0particle :  58 / 81"
     ]
    },
    {
     "name": "stdout",
     "output_type": "stream",
     "text": [
      "\r0particle :  59 / 81"
     ]
    },
    {
     "name": "stdout",
     "output_type": "stream",
     "text": [
      "\r0particle :  60 / 81"
     ]
    },
    {
     "name": "stdout",
     "output_type": "stream",
     "text": [
      "\r0particle :  61 / 81"
     ]
    },
    {
     "name": "stdout",
     "output_type": "stream",
     "text": [
      "\r0particle :  62 / 81"
     ]
    },
    {
     "name": "stdout",
     "output_type": "stream",
     "text": [
      "\r0particle :  63 / 81"
     ]
    },
    {
     "name": "stdout",
     "output_type": "stream",
     "text": [
      "\r0particle :  64 / 81"
     ]
    },
    {
     "name": "stdout",
     "output_type": "stream",
     "text": [
      "\r0particle :  65 / 81"
     ]
    },
    {
     "name": "stdout",
     "output_type": "stream",
     "text": [
      "\r0particle :  66 / 81"
     ]
    },
    {
     "name": "stdout",
     "output_type": "stream",
     "text": [
      "\r0particle :  67 / 81"
     ]
    },
    {
     "name": "stdout",
     "output_type": "stream",
     "text": [
      "\r0particle :  68 / 81"
     ]
    },
    {
     "name": "stdout",
     "output_type": "stream",
     "text": [
      "\r0particle :  69 / 81"
     ]
    },
    {
     "name": "stdout",
     "output_type": "stream",
     "text": [
      "\r0particle :  70 / 81"
     ]
    },
    {
     "name": "stdout",
     "output_type": "stream",
     "text": [
      "\r0particle :  71 / 81"
     ]
    },
    {
     "name": "stdout",
     "output_type": "stream",
     "text": [
      "\r0particle :  72 / 81"
     ]
    },
    {
     "name": "stdout",
     "output_type": "stream",
     "text": [
      "\r0particle :  73 / 81"
     ]
    },
    {
     "name": "stdout",
     "output_type": "stream",
     "text": [
      "\r0particle :  74 / 81"
     ]
    },
    {
     "name": "stdout",
     "output_type": "stream",
     "text": [
      "\r0particle :  75 / 81"
     ]
    },
    {
     "name": "stdout",
     "output_type": "stream",
     "text": [
      "\r0particle :  76 / 81"
     ]
    },
    {
     "name": "stdout",
     "output_type": "stream",
     "text": [
      "\r0particle :  77 / 81"
     ]
    },
    {
     "name": "stdout",
     "output_type": "stream",
     "text": [
      "\r0particle :  78 / 81"
     ]
    },
    {
     "name": "stdout",
     "output_type": "stream",
     "text": [
      "\r0particle :  79 / 81"
     ]
    },
    {
     "name": "stdout",
     "output_type": "stream",
     "text": [
      "\r0particle :  80 / 81"
     ]
    },
    {
     "name": "stdout",
     "output_type": "stream",
     "text": [
      "\r1particle :  0 / 81"
     ]
    },
    {
     "name": "stdout",
     "output_type": "stream",
     "text": [
      "\r1particle :  1 / 81"
     ]
    },
    {
     "name": "stdout",
     "output_type": "stream",
     "text": [
      "\r1particle :  2 / 81"
     ]
    },
    {
     "name": "stdout",
     "output_type": "stream",
     "text": [
      "\r1particle :  3 / 81"
     ]
    },
    {
     "name": "stdout",
     "output_type": "stream",
     "text": [
      "\r1particle :  4 / 81"
     ]
    },
    {
     "name": "stdout",
     "output_type": "stream",
     "text": [
      "\r1particle :  5 / 81"
     ]
    },
    {
     "name": "stdout",
     "output_type": "stream",
     "text": [
      "\r1particle :  6 / 81"
     ]
    },
    {
     "name": "stdout",
     "output_type": "stream",
     "text": [
      "\r1particle :  7 / 81"
     ]
    },
    {
     "name": "stdout",
     "output_type": "stream",
     "text": [
      "\r1particle :  8 / 81"
     ]
    },
    {
     "name": "stdout",
     "output_type": "stream",
     "text": [
      "\r1particle :  9 / 81"
     ]
    },
    {
     "name": "stdout",
     "output_type": "stream",
     "text": [
      "\r1particle :  10 / 81"
     ]
    },
    {
     "name": "stdout",
     "output_type": "stream",
     "text": [
      "\r1particle :  11 / 81"
     ]
    },
    {
     "name": "stdout",
     "output_type": "stream",
     "text": [
      "\r1particle :  12 / 81"
     ]
    },
    {
     "name": "stdout",
     "output_type": "stream",
     "text": [
      "\r1particle :  13 / 81"
     ]
    },
    {
     "name": "stdout",
     "output_type": "stream",
     "text": [
      "\r1particle :  14 / 81"
     ]
    },
    {
     "name": "stdout",
     "output_type": "stream",
     "text": [
      "\r1particle :  15 / 81"
     ]
    },
    {
     "name": "stdout",
     "output_type": "stream",
     "text": [
      "\r1particle :  16 / 81"
     ]
    },
    {
     "name": "stdout",
     "output_type": "stream",
     "text": [
      "\r1particle :  17 / 81"
     ]
    },
    {
     "name": "stdout",
     "output_type": "stream",
     "text": [
      "\r1particle :  18 / 81"
     ]
    },
    {
     "name": "stdout",
     "output_type": "stream",
     "text": [
      "\r1particle :  19 / 81"
     ]
    },
    {
     "name": "stdout",
     "output_type": "stream",
     "text": [
      "\r1particle :  20 / 81"
     ]
    },
    {
     "name": "stdout",
     "output_type": "stream",
     "text": [
      "\r1particle :  21 / 81"
     ]
    },
    {
     "name": "stdout",
     "output_type": "stream",
     "text": [
      "\r1particle :  22 / 81"
     ]
    },
    {
     "name": "stdout",
     "output_type": "stream",
     "text": [
      "\r1particle :  23 / 81"
     ]
    },
    {
     "name": "stdout",
     "output_type": "stream",
     "text": [
      "\r1particle :  24 / 81"
     ]
    },
    {
     "name": "stdout",
     "output_type": "stream",
     "text": [
      "\r1particle :  25 / 81"
     ]
    },
    {
     "name": "stdout",
     "output_type": "stream",
     "text": [
      "\r1particle :  26 / 81"
     ]
    },
    {
     "name": "stdout",
     "output_type": "stream",
     "text": [
      "\r1particle :  27 / 81"
     ]
    },
    {
     "name": "stdout",
     "output_type": "stream",
     "text": [
      "\r1particle :  28 / 81"
     ]
    },
    {
     "name": "stdout",
     "output_type": "stream",
     "text": [
      "\r1particle :  29 / 81"
     ]
    },
    {
     "name": "stdout",
     "output_type": "stream",
     "text": [
      "\r1particle :  30 / 81"
     ]
    },
    {
     "name": "stdout",
     "output_type": "stream",
     "text": [
      "\r1particle :  31 / 81"
     ]
    },
    {
     "name": "stdout",
     "output_type": "stream",
     "text": [
      "\r1particle :  32 / 81"
     ]
    },
    {
     "name": "stdout",
     "output_type": "stream",
     "text": [
      "\r1particle :  33 / 81"
     ]
    },
    {
     "name": "stdout",
     "output_type": "stream",
     "text": [
      "\r1particle :  34 / 81"
     ]
    },
    {
     "name": "stdout",
     "output_type": "stream",
     "text": [
      "\r1particle :  35 / 81"
     ]
    },
    {
     "name": "stdout",
     "output_type": "stream",
     "text": [
      "\r1particle :  36 / 81"
     ]
    },
    {
     "name": "stdout",
     "output_type": "stream",
     "text": [
      "\r1particle :  37 / 81"
     ]
    },
    {
     "name": "stdout",
     "output_type": "stream",
     "text": [
      "\r1particle :  38 / 81"
     ]
    },
    {
     "name": "stdout",
     "output_type": "stream",
     "text": [
      "\r1particle :  39 / 81"
     ]
    },
    {
     "name": "stdout",
     "output_type": "stream",
     "text": [
      "\r1particle :  40 / 81"
     ]
    },
    {
     "name": "stdout",
     "output_type": "stream",
     "text": [
      "\r1particle :  41 / 81"
     ]
    },
    {
     "name": "stdout",
     "output_type": "stream",
     "text": [
      "\r1particle :  42 / 81"
     ]
    },
    {
     "name": "stdout",
     "output_type": "stream",
     "text": [
      "\r1particle :  43 / 81"
     ]
    },
    {
     "name": "stdout",
     "output_type": "stream",
     "text": [
      "\r1particle :  44 / 81"
     ]
    },
    {
     "name": "stdout",
     "output_type": "stream",
     "text": [
      "\r1particle :  45 / 81"
     ]
    },
    {
     "name": "stdout",
     "output_type": "stream",
     "text": [
      "\r1particle :  46 / 81"
     ]
    },
    {
     "name": "stdout",
     "output_type": "stream",
     "text": [
      "\r1particle :  47 / 81"
     ]
    },
    {
     "name": "stdout",
     "output_type": "stream",
     "text": [
      "\r1particle :  48 / 81"
     ]
    },
    {
     "name": "stdout",
     "output_type": "stream",
     "text": [
      "\r1particle :  49 / 81"
     ]
    },
    {
     "name": "stdout",
     "output_type": "stream",
     "text": [
      "\r1particle :  50 / 81"
     ]
    },
    {
     "name": "stdout",
     "output_type": "stream",
     "text": [
      "\r1particle :  51 / 81"
     ]
    },
    {
     "name": "stdout",
     "output_type": "stream",
     "text": [
      "\r1particle :  52 / 81"
     ]
    },
    {
     "name": "stdout",
     "output_type": "stream",
     "text": [
      "\r1particle :  53 / 81"
     ]
    },
    {
     "name": "stdout",
     "output_type": "stream",
     "text": [
      "\r1particle :  54 / 81"
     ]
    },
    {
     "name": "stdout",
     "output_type": "stream",
     "text": [
      "\r1particle :  55 / 81"
     ]
    },
    {
     "name": "stdout",
     "output_type": "stream",
     "text": [
      "\r1particle :  56 / 81"
     ]
    },
    {
     "name": "stdout",
     "output_type": "stream",
     "text": [
      "\r1particle :  57 / 81"
     ]
    },
    {
     "name": "stdout",
     "output_type": "stream",
     "text": [
      "\r1particle :  58 / 81"
     ]
    },
    {
     "name": "stdout",
     "output_type": "stream",
     "text": [
      "\r1particle :  59 / 81"
     ]
    },
    {
     "name": "stdout",
     "output_type": "stream",
     "text": [
      "\r1particle :  60 / 81"
     ]
    },
    {
     "name": "stdout",
     "output_type": "stream",
     "text": [
      "\r1particle :  61 / 81"
     ]
    },
    {
     "name": "stdout",
     "output_type": "stream",
     "text": [
      "\r1particle :  62 / 81"
     ]
    },
    {
     "name": "stdout",
     "output_type": "stream",
     "text": [
      "\r1particle :  63 / 81"
     ]
    },
    {
     "name": "stdout",
     "output_type": "stream",
     "text": [
      "\r1particle :  64 / 81"
     ]
    },
    {
     "name": "stdout",
     "output_type": "stream",
     "text": [
      "\r1particle :  65 / 81"
     ]
    },
    {
     "name": "stdout",
     "output_type": "stream",
     "text": [
      "\r1particle :  66 / 81"
     ]
    },
    {
     "name": "stdout",
     "output_type": "stream",
     "text": [
      "\r1particle :  67 / 81"
     ]
    },
    {
     "name": "stdout",
     "output_type": "stream",
     "text": [
      "\r1particle :  68 / 81"
     ]
    },
    {
     "name": "stdout",
     "output_type": "stream",
     "text": [
      "\r1particle :  69 / 81"
     ]
    },
    {
     "name": "stdout",
     "output_type": "stream",
     "text": [
      "\r1particle :  70 / 81"
     ]
    },
    {
     "name": "stdout",
     "output_type": "stream",
     "text": [
      "\r1particle :  71 / 81"
     ]
    },
    {
     "name": "stdout",
     "output_type": "stream",
     "text": [
      "\r1particle :  72 / 81"
     ]
    },
    {
     "name": "stdout",
     "output_type": "stream",
     "text": [
      "\r1particle :  73 / 81"
     ]
    },
    {
     "name": "stdout",
     "output_type": "stream",
     "text": [
      "\r1particle :  74 / 81"
     ]
    },
    {
     "name": "stdout",
     "output_type": "stream",
     "text": [
      "\r1particle :  75 / 81"
     ]
    },
    {
     "name": "stdout",
     "output_type": "stream",
     "text": [
      "\r1particle :  76 / 81"
     ]
    },
    {
     "name": "stdout",
     "output_type": "stream",
     "text": [
      "\r1particle :  77 / 81"
     ]
    },
    {
     "name": "stdout",
     "output_type": "stream",
     "text": [
      "\r1particle :  78 / 81"
     ]
    },
    {
     "name": "stdout",
     "output_type": "stream",
     "text": [
      "\r1particle :  79 / 81"
     ]
    },
    {
     "name": "stdout",
     "output_type": "stream",
     "text": [
      "\r1particle :  80 / 81"
     ]
    },
    {
     "name": "stdout",
     "output_type": "stream",
     "text": [
      "\r2particle :  0 / 81"
     ]
    },
    {
     "name": "stdout",
     "output_type": "stream",
     "text": [
      "\r2particle :  1 / 81"
     ]
    },
    {
     "name": "stdout",
     "output_type": "stream",
     "text": [
      "\r2particle :  2 / 81"
     ]
    },
    {
     "name": "stdout",
     "output_type": "stream",
     "text": [
      "\r2particle :  3 / 81"
     ]
    },
    {
     "name": "stdout",
     "output_type": "stream",
     "text": [
      "\r2particle :  4 / 81"
     ]
    },
    {
     "name": "stdout",
     "output_type": "stream",
     "text": [
      "\r2particle :  5 / 81"
     ]
    },
    {
     "name": "stdout",
     "output_type": "stream",
     "text": [
      "\r2particle :  6 / 81"
     ]
    },
    {
     "name": "stdout",
     "output_type": "stream",
     "text": [
      "\r2particle :  7 / 81"
     ]
    },
    {
     "name": "stdout",
     "output_type": "stream",
     "text": [
      "\r2particle :  8 / 81"
     ]
    },
    {
     "name": "stdout",
     "output_type": "stream",
     "text": [
      "\r2particle :  9 / 81"
     ]
    },
    {
     "name": "stdout",
     "output_type": "stream",
     "text": [
      "\r2particle :  10 / 81"
     ]
    },
    {
     "name": "stdout",
     "output_type": "stream",
     "text": [
      "\r2particle :  11 / 81"
     ]
    },
    {
     "name": "stdout",
     "output_type": "stream",
     "text": [
      "\r2particle :  12 / 81"
     ]
    },
    {
     "name": "stdout",
     "output_type": "stream",
     "text": [
      "\r2particle :  13 / 81"
     ]
    },
    {
     "name": "stdout",
     "output_type": "stream",
     "text": [
      "\r2particle :  14 / 81"
     ]
    },
    {
     "name": "stdout",
     "output_type": "stream",
     "text": [
      "\r2particle :  15 / 81"
     ]
    },
    {
     "name": "stdout",
     "output_type": "stream",
     "text": [
      "\r2particle :  16 / 81"
     ]
    },
    {
     "name": "stdout",
     "output_type": "stream",
     "text": [
      "\r2particle :  17 / 81"
     ]
    },
    {
     "name": "stdout",
     "output_type": "stream",
     "text": [
      "\r2particle :  18 / 81"
     ]
    },
    {
     "name": "stdout",
     "output_type": "stream",
     "text": [
      "\r2particle :  19 / 81"
     ]
    },
    {
     "name": "stdout",
     "output_type": "stream",
     "text": [
      "\r2particle :  20 / 81"
     ]
    },
    {
     "name": "stdout",
     "output_type": "stream",
     "text": [
      "\r2particle :  21 / 81"
     ]
    },
    {
     "name": "stdout",
     "output_type": "stream",
     "text": [
      "\r2particle :  22 / 81"
     ]
    },
    {
     "name": "stdout",
     "output_type": "stream",
     "text": [
      "\r2particle :  23 / 81"
     ]
    },
    {
     "name": "stdout",
     "output_type": "stream",
     "text": [
      "\r2particle :  24 / 81"
     ]
    },
    {
     "name": "stdout",
     "output_type": "stream",
     "text": [
      "\r2particle :  25 / 81"
     ]
    },
    {
     "name": "stdout",
     "output_type": "stream",
     "text": [
      "\r2particle :  26 / 81"
     ]
    },
    {
     "name": "stdout",
     "output_type": "stream",
     "text": [
      "\r2particle :  27 / 81"
     ]
    },
    {
     "name": "stdout",
     "output_type": "stream",
     "text": [
      "\r2particle :  28 / 81"
     ]
    },
    {
     "name": "stdout",
     "output_type": "stream",
     "text": [
      "\r2particle :  29 / 81"
     ]
    },
    {
     "name": "stdout",
     "output_type": "stream",
     "text": [
      "\r2particle :  30 / 81"
     ]
    },
    {
     "name": "stdout",
     "output_type": "stream",
     "text": [
      "\r2particle :  31 / 81"
     ]
    },
    {
     "name": "stdout",
     "output_type": "stream",
     "text": [
      "\r2particle :  32 / 81"
     ]
    },
    {
     "name": "stdout",
     "output_type": "stream",
     "text": [
      "\r2particle :  33 / 81"
     ]
    },
    {
     "name": "stdout",
     "output_type": "stream",
     "text": [
      "\r2particle :  34 / 81"
     ]
    },
    {
     "name": "stdout",
     "output_type": "stream",
     "text": [
      "\r2particle :  35 / 81"
     ]
    },
    {
     "name": "stdout",
     "output_type": "stream",
     "text": [
      "\r2particle :  36 / 81"
     ]
    },
    {
     "name": "stdout",
     "output_type": "stream",
     "text": [
      "\r2particle :  37 / 81"
     ]
    },
    {
     "name": "stdout",
     "output_type": "stream",
     "text": [
      "\r2particle :  38 / 81"
     ]
    },
    {
     "name": "stdout",
     "output_type": "stream",
     "text": [
      "\r2particle :  39 / 81"
     ]
    },
    {
     "name": "stdout",
     "output_type": "stream",
     "text": [
      "\r2particle :  40 / 81"
     ]
    },
    {
     "name": "stdout",
     "output_type": "stream",
     "text": [
      "\r2particle :  41 / 81"
     ]
    },
    {
     "name": "stdout",
     "output_type": "stream",
     "text": [
      "\r2particle :  42 / 81"
     ]
    },
    {
     "name": "stdout",
     "output_type": "stream",
     "text": [
      "\r2particle :  43 / 81"
     ]
    },
    {
     "name": "stdout",
     "output_type": "stream",
     "text": [
      "\r2particle :  44 / 81"
     ]
    },
    {
     "name": "stdout",
     "output_type": "stream",
     "text": [
      "\r2particle :  45 / 81"
     ]
    },
    {
     "name": "stdout",
     "output_type": "stream",
     "text": [
      "\r2particle :  46 / 81"
     ]
    },
    {
     "name": "stdout",
     "output_type": "stream",
     "text": [
      "\r2particle :  47 / 81"
     ]
    },
    {
     "name": "stdout",
     "output_type": "stream",
     "text": [
      "\r2particle :  48 / 81"
     ]
    },
    {
     "name": "stdout",
     "output_type": "stream",
     "text": [
      "\r2particle :  49 / 81"
     ]
    },
    {
     "name": "stdout",
     "output_type": "stream",
     "text": [
      "\r2particle :  50 / 81"
     ]
    },
    {
     "name": "stdout",
     "output_type": "stream",
     "text": [
      "\r2particle :  51 / 81"
     ]
    },
    {
     "name": "stdout",
     "output_type": "stream",
     "text": [
      "\r2particle :  52 / 81"
     ]
    },
    {
     "name": "stdout",
     "output_type": "stream",
     "text": [
      "\r2particle :  53 / 81"
     ]
    },
    {
     "name": "stdout",
     "output_type": "stream",
     "text": [
      "\r2particle :  54 / 81"
     ]
    },
    {
     "name": "stdout",
     "output_type": "stream",
     "text": [
      "\r2particle :  55 / 81"
     ]
    },
    {
     "name": "stdout",
     "output_type": "stream",
     "text": [
      "\r2particle :  56 / 81"
     ]
    },
    {
     "name": "stdout",
     "output_type": "stream",
     "text": [
      "\r2particle :  57 / 81"
     ]
    },
    {
     "name": "stdout",
     "output_type": "stream",
     "text": [
      "\r2particle :  58 / 81"
     ]
    },
    {
     "name": "stdout",
     "output_type": "stream",
     "text": [
      "\r2particle :  59 / 81"
     ]
    },
    {
     "name": "stdout",
     "output_type": "stream",
     "text": [
      "\r2particle :  60 / 81"
     ]
    },
    {
     "name": "stdout",
     "output_type": "stream",
     "text": [
      "\r2particle :  61 / 81"
     ]
    },
    {
     "name": "stdout",
     "output_type": "stream",
     "text": [
      "\r2particle :  62 / 81"
     ]
    },
    {
     "name": "stdout",
     "output_type": "stream",
     "text": [
      "\r2particle :  63 / 81"
     ]
    },
    {
     "name": "stdout",
     "output_type": "stream",
     "text": [
      "\r2particle :  64 / 81"
     ]
    },
    {
     "name": "stdout",
     "output_type": "stream",
     "text": [
      "\r2particle :  65 / 81"
     ]
    },
    {
     "name": "stdout",
     "output_type": "stream",
     "text": [
      "\r2particle :  66 / 81"
     ]
    },
    {
     "name": "stdout",
     "output_type": "stream",
     "text": [
      "\r2particle :  67 / 81"
     ]
    },
    {
     "name": "stdout",
     "output_type": "stream",
     "text": [
      "\r2particle :  68 / 81"
     ]
    },
    {
     "name": "stdout",
     "output_type": "stream",
     "text": [
      "\r2particle :  69 / 81"
     ]
    },
    {
     "name": "stdout",
     "output_type": "stream",
     "text": [
      "\r2particle :  70 / 81"
     ]
    },
    {
     "name": "stdout",
     "output_type": "stream",
     "text": [
      "\r2particle :  71 / 81"
     ]
    },
    {
     "name": "stdout",
     "output_type": "stream",
     "text": [
      "\r2particle :  72 / 81"
     ]
    },
    {
     "name": "stdout",
     "output_type": "stream",
     "text": [
      "\r2particle :  73 / 81"
     ]
    },
    {
     "name": "stdout",
     "output_type": "stream",
     "text": [
      "\r2particle :  74 / 81"
     ]
    },
    {
     "name": "stdout",
     "output_type": "stream",
     "text": [
      "\r2particle :  75 / 81"
     ]
    },
    {
     "name": "stdout",
     "output_type": "stream",
     "text": [
      "\r2particle :  76 / 81"
     ]
    },
    {
     "name": "stdout",
     "output_type": "stream",
     "text": [
      "\r2particle :  77 / 81"
     ]
    },
    {
     "name": "stdout",
     "output_type": "stream",
     "text": [
      "\r2particle :  78 / 81"
     ]
    },
    {
     "name": "stdout",
     "output_type": "stream",
     "text": [
      "\r2particle :  79 / 81"
     ]
    },
    {
     "name": "stdout",
     "output_type": "stream",
     "text": [
      "\r2particle :  80 / 81"
     ]
    },
    {
     "name": "stdout",
     "output_type": "stream",
     "text": [
      "\r3particle :  0 / 81"
     ]
    },
    {
     "name": "stdout",
     "output_type": "stream",
     "text": [
      "\r3particle :  1 / 81"
     ]
    },
    {
     "name": "stdout",
     "output_type": "stream",
     "text": [
      "\r3particle :  2 / 81"
     ]
    },
    {
     "name": "stdout",
     "output_type": "stream",
     "text": [
      "\r3particle :  3 / 81"
     ]
    },
    {
     "name": "stdout",
     "output_type": "stream",
     "text": [
      "\r3particle :  4 / 81"
     ]
    },
    {
     "name": "stdout",
     "output_type": "stream",
     "text": [
      "\r3particle :  5 / 81"
     ]
    },
    {
     "name": "stdout",
     "output_type": "stream",
     "text": [
      "\r3particle :  6 / 81"
     ]
    },
    {
     "name": "stdout",
     "output_type": "stream",
     "text": [
      "\r3particle :  7 / 81"
     ]
    },
    {
     "name": "stdout",
     "output_type": "stream",
     "text": [
      "\r3particle :  8 / 81"
     ]
    },
    {
     "name": "stdout",
     "output_type": "stream",
     "text": [
      "\r3particle :  9 / 81"
     ]
    },
    {
     "name": "stdout",
     "output_type": "stream",
     "text": [
      "\r3particle :  10 / 81"
     ]
    },
    {
     "name": "stdout",
     "output_type": "stream",
     "text": [
      "\r3particle :  11 / 81"
     ]
    },
    {
     "name": "stdout",
     "output_type": "stream",
     "text": [
      "\r3particle :  12 / 81"
     ]
    },
    {
     "name": "stdout",
     "output_type": "stream",
     "text": [
      "\r3particle :  13 / 81"
     ]
    },
    {
     "name": "stdout",
     "output_type": "stream",
     "text": [
      "\r3particle :  14 / 81"
     ]
    },
    {
     "name": "stdout",
     "output_type": "stream",
     "text": [
      "\r3particle :  15 / 81"
     ]
    },
    {
     "name": "stdout",
     "output_type": "stream",
     "text": [
      "\r3particle :  16 / 81"
     ]
    },
    {
     "name": "stdout",
     "output_type": "stream",
     "text": [
      "\r3particle :  17 / 81"
     ]
    },
    {
     "name": "stdout",
     "output_type": "stream",
     "text": [
      "\r3particle :  18 / 81"
     ]
    },
    {
     "name": "stdout",
     "output_type": "stream",
     "text": [
      "\r3particle :  19 / 81"
     ]
    },
    {
     "name": "stdout",
     "output_type": "stream",
     "text": [
      "\r3particle :  20 / 81"
     ]
    },
    {
     "name": "stdout",
     "output_type": "stream",
     "text": [
      "\r3particle :  21 / 81"
     ]
    },
    {
     "name": "stdout",
     "output_type": "stream",
     "text": [
      "\r3particle :  22 / 81"
     ]
    },
    {
     "name": "stdout",
     "output_type": "stream",
     "text": [
      "\r3particle :  23 / 81"
     ]
    },
    {
     "name": "stdout",
     "output_type": "stream",
     "text": [
      "\r3particle :  24 / 81"
     ]
    },
    {
     "name": "stdout",
     "output_type": "stream",
     "text": [
      "\r3particle :  25 / 81"
     ]
    },
    {
     "name": "stdout",
     "output_type": "stream",
     "text": [
      "\r3particle :  26 / 81"
     ]
    },
    {
     "name": "stdout",
     "output_type": "stream",
     "text": [
      "\r3particle :  27 / 81"
     ]
    },
    {
     "name": "stdout",
     "output_type": "stream",
     "text": [
      "\r3particle :  28 / 81"
     ]
    },
    {
     "name": "stdout",
     "output_type": "stream",
     "text": [
      "\r3particle :  29 / 81"
     ]
    },
    {
     "name": "stdout",
     "output_type": "stream",
     "text": [
      "\r3particle :  30 / 81"
     ]
    },
    {
     "name": "stdout",
     "output_type": "stream",
     "text": [
      "\r3particle :  31 / 81"
     ]
    },
    {
     "name": "stdout",
     "output_type": "stream",
     "text": [
      "\r3particle :  32 / 81"
     ]
    },
    {
     "name": "stdout",
     "output_type": "stream",
     "text": [
      "\r3particle :  33 / 81"
     ]
    },
    {
     "name": "stdout",
     "output_type": "stream",
     "text": [
      "\r3particle :  34 / 81"
     ]
    },
    {
     "name": "stdout",
     "output_type": "stream",
     "text": [
      "\r3particle :  35 / 81"
     ]
    },
    {
     "name": "stdout",
     "output_type": "stream",
     "text": [
      "\r3particle :  36 / 81"
     ]
    },
    {
     "name": "stdout",
     "output_type": "stream",
     "text": [
      "\r3particle :  37 / 81"
     ]
    },
    {
     "name": "stdout",
     "output_type": "stream",
     "text": [
      "\r3particle :  38 / 81"
     ]
    },
    {
     "name": "stdout",
     "output_type": "stream",
     "text": [
      "\r3particle :  39 / 81"
     ]
    },
    {
     "name": "stdout",
     "output_type": "stream",
     "text": [
      "\r3particle :  40 / 81"
     ]
    },
    {
     "name": "stdout",
     "output_type": "stream",
     "text": [
      "\r3particle :  41 / 81"
     ]
    },
    {
     "name": "stdout",
     "output_type": "stream",
     "text": [
      "\r3particle :  42 / 81"
     ]
    },
    {
     "name": "stdout",
     "output_type": "stream",
     "text": [
      "\r3particle :  43 / 81"
     ]
    },
    {
     "name": "stdout",
     "output_type": "stream",
     "text": [
      "\r3particle :  44 / 81"
     ]
    },
    {
     "name": "stdout",
     "output_type": "stream",
     "text": [
      "\r3particle :  45 / 81"
     ]
    },
    {
     "name": "stdout",
     "output_type": "stream",
     "text": [
      "\r3particle :  46 / 81"
     ]
    },
    {
     "name": "stdout",
     "output_type": "stream",
     "text": [
      "\r3particle :  47 / 81"
     ]
    },
    {
     "name": "stdout",
     "output_type": "stream",
     "text": [
      "\r3particle :  48 / 81"
     ]
    },
    {
     "name": "stdout",
     "output_type": "stream",
     "text": [
      "\r3particle :  49 / 81"
     ]
    },
    {
     "name": "stdout",
     "output_type": "stream",
     "text": [
      "\r3particle :  50 / 81"
     ]
    },
    {
     "name": "stdout",
     "output_type": "stream",
     "text": [
      "\r3particle :  51 / 81"
     ]
    },
    {
     "name": "stdout",
     "output_type": "stream",
     "text": [
      "\r3particle :  52 / 81"
     ]
    },
    {
     "name": "stdout",
     "output_type": "stream",
     "text": [
      "\r3particle :  53 / 81"
     ]
    },
    {
     "name": "stdout",
     "output_type": "stream",
     "text": [
      "\r3particle :  54 / 81"
     ]
    },
    {
     "name": "stdout",
     "output_type": "stream",
     "text": [
      "\r3particle :  55 / 81"
     ]
    },
    {
     "name": "stdout",
     "output_type": "stream",
     "text": [
      "\r3particle :  56 / 81"
     ]
    },
    {
     "name": "stdout",
     "output_type": "stream",
     "text": [
      "\r3particle :  57 / 81"
     ]
    },
    {
     "name": "stdout",
     "output_type": "stream",
     "text": [
      "\r3particle :  58 / 81"
     ]
    },
    {
     "name": "stdout",
     "output_type": "stream",
     "text": [
      "\r3particle :  59 / 81"
     ]
    },
    {
     "name": "stdout",
     "output_type": "stream",
     "text": [
      "\r3particle :  60 / 81"
     ]
    },
    {
     "name": "stdout",
     "output_type": "stream",
     "text": [
      "\r3particle :  61 / 81"
     ]
    },
    {
     "name": "stdout",
     "output_type": "stream",
     "text": [
      "\r3particle :  62 / 81"
     ]
    },
    {
     "name": "stdout",
     "output_type": "stream",
     "text": [
      "\r3particle :  63 / 81"
     ]
    },
    {
     "name": "stdout",
     "output_type": "stream",
     "text": [
      "\r3particle :  64 / 81"
     ]
    },
    {
     "name": "stdout",
     "output_type": "stream",
     "text": [
      "\r3particle :  65 / 81"
     ]
    },
    {
     "name": "stdout",
     "output_type": "stream",
     "text": [
      "\r3particle :  66 / 81"
     ]
    },
    {
     "name": "stdout",
     "output_type": "stream",
     "text": [
      "\r3particle :  67 / 81"
     ]
    },
    {
     "name": "stdout",
     "output_type": "stream",
     "text": [
      "\r3particle :  68 / 81"
     ]
    },
    {
     "name": "stdout",
     "output_type": "stream",
     "text": [
      "\r3particle :  69 / 81"
     ]
    },
    {
     "name": "stdout",
     "output_type": "stream",
     "text": [
      "\r3particle :  70 / 81"
     ]
    },
    {
     "name": "stdout",
     "output_type": "stream",
     "text": [
      "\r3particle :  71 / 81"
     ]
    },
    {
     "name": "stdout",
     "output_type": "stream",
     "text": [
      "\r3particle :  72 / 81"
     ]
    },
    {
     "name": "stdout",
     "output_type": "stream",
     "text": [
      "\r3particle :  73 / 81"
     ]
    },
    {
     "name": "stdout",
     "output_type": "stream",
     "text": [
      "\r3particle :  74 / 81"
     ]
    },
    {
     "name": "stdout",
     "output_type": "stream",
     "text": [
      "\r3particle :  75 / 81"
     ]
    },
    {
     "name": "stdout",
     "output_type": "stream",
     "text": [
      "\r3particle :  76 / 81"
     ]
    },
    {
     "name": "stdout",
     "output_type": "stream",
     "text": [
      "\r3particle :  77 / 81"
     ]
    },
    {
     "name": "stdout",
     "output_type": "stream",
     "text": [
      "\r3particle :  78 / 81"
     ]
    },
    {
     "name": "stdout",
     "output_type": "stream",
     "text": [
      "\r3particle :  79 / 81"
     ]
    },
    {
     "name": "stdout",
     "output_type": "stream",
     "text": [
      "\r3particle :  80 / 81"
     ]
    },
    {
     "name": "stdout",
     "output_type": "stream",
     "text": [
      "\r4particle :  0 / 81"
     ]
    },
    {
     "name": "stdout",
     "output_type": "stream",
     "text": [
      "\r4particle :  1 / 81"
     ]
    },
    {
     "name": "stdout",
     "output_type": "stream",
     "text": [
      "\r4particle :  2 / 81"
     ]
    },
    {
     "name": "stdout",
     "output_type": "stream",
     "text": [
      "\r4particle :  3 / 81"
     ]
    },
    {
     "name": "stdout",
     "output_type": "stream",
     "text": [
      "\r4particle :  4 / 81"
     ]
    },
    {
     "name": "stdout",
     "output_type": "stream",
     "text": [
      "\r4particle :  5 / 81"
     ]
    },
    {
     "name": "stdout",
     "output_type": "stream",
     "text": [
      "\r4particle :  6 / 81"
     ]
    },
    {
     "name": "stdout",
     "output_type": "stream",
     "text": [
      "\r4particle :  7 / 81"
     ]
    },
    {
     "name": "stdout",
     "output_type": "stream",
     "text": [
      "\r4particle :  8 / 81"
     ]
    },
    {
     "name": "stdout",
     "output_type": "stream",
     "text": [
      "\r4particle :  9 / 81"
     ]
    },
    {
     "name": "stdout",
     "output_type": "stream",
     "text": [
      "\r4particle :  10 / 81"
     ]
    },
    {
     "name": "stdout",
     "output_type": "stream",
     "text": [
      "\r4particle :  11 / 81"
     ]
    },
    {
     "name": "stdout",
     "output_type": "stream",
     "text": [
      "\r4particle :  12 / 81"
     ]
    },
    {
     "name": "stdout",
     "output_type": "stream",
     "text": [
      "\r4particle :  13 / 81"
     ]
    },
    {
     "name": "stdout",
     "output_type": "stream",
     "text": [
      "\r4particle :  14 / 81"
     ]
    },
    {
     "name": "stdout",
     "output_type": "stream",
     "text": [
      "\r4particle :  15 / 81"
     ]
    },
    {
     "name": "stdout",
     "output_type": "stream",
     "text": [
      "\r4particle :  16 / 81"
     ]
    },
    {
     "name": "stdout",
     "output_type": "stream",
     "text": [
      "\r4particle :  17 / 81"
     ]
    },
    {
     "name": "stdout",
     "output_type": "stream",
     "text": [
      "\r4particle :  18 / 81"
     ]
    },
    {
     "name": "stdout",
     "output_type": "stream",
     "text": [
      "\r4particle :  19 / 81"
     ]
    },
    {
     "name": "stdout",
     "output_type": "stream",
     "text": [
      "\r4particle :  20 / 81"
     ]
    },
    {
     "name": "stdout",
     "output_type": "stream",
     "text": [
      "\r4particle :  21 / 81"
     ]
    },
    {
     "name": "stdout",
     "output_type": "stream",
     "text": [
      "\r4particle :  22 / 81"
     ]
    },
    {
     "name": "stdout",
     "output_type": "stream",
     "text": [
      "\r4particle :  23 / 81"
     ]
    },
    {
     "name": "stdout",
     "output_type": "stream",
     "text": [
      "\r4particle :  24 / 81"
     ]
    },
    {
     "name": "stdout",
     "output_type": "stream",
     "text": [
      "\r4particle :  25 / 81"
     ]
    },
    {
     "name": "stdout",
     "output_type": "stream",
     "text": [
      "\r4particle :  26 / 81"
     ]
    },
    {
     "name": "stdout",
     "output_type": "stream",
     "text": [
      "\r4particle :  27 / 81"
     ]
    },
    {
     "name": "stdout",
     "output_type": "stream",
     "text": [
      "\r4particle :  28 / 81"
     ]
    },
    {
     "name": "stdout",
     "output_type": "stream",
     "text": [
      "\r4particle :  29 / 81"
     ]
    },
    {
     "name": "stdout",
     "output_type": "stream",
     "text": [
      "\r4particle :  30 / 81"
     ]
    },
    {
     "name": "stdout",
     "output_type": "stream",
     "text": [
      "\r4particle :  31 / 81"
     ]
    },
    {
     "name": "stdout",
     "output_type": "stream",
     "text": [
      "\r4particle :  32 / 81"
     ]
    },
    {
     "name": "stdout",
     "output_type": "stream",
     "text": [
      "\r4particle :  33 / 81"
     ]
    },
    {
     "name": "stdout",
     "output_type": "stream",
     "text": [
      "\r4particle :  34 / 81"
     ]
    },
    {
     "name": "stdout",
     "output_type": "stream",
     "text": [
      "\r4particle :  35 / 81"
     ]
    },
    {
     "name": "stdout",
     "output_type": "stream",
     "text": [
      "\r4particle :  36 / 81"
     ]
    },
    {
     "name": "stdout",
     "output_type": "stream",
     "text": [
      "\r4particle :  37 / 81"
     ]
    },
    {
     "name": "stdout",
     "output_type": "stream",
     "text": [
      "\r4particle :  38 / 81"
     ]
    },
    {
     "name": "stdout",
     "output_type": "stream",
     "text": [
      "\r4particle :  39 / 81"
     ]
    },
    {
     "name": "stdout",
     "output_type": "stream",
     "text": [
      "\r4particle :  40 / 81"
     ]
    },
    {
     "name": "stdout",
     "output_type": "stream",
     "text": [
      "\r4particle :  41 / 81"
     ]
    },
    {
     "name": "stdout",
     "output_type": "stream",
     "text": [
      "\r4particle :  42 / 81"
     ]
    },
    {
     "name": "stdout",
     "output_type": "stream",
     "text": [
      "\r4particle :  43 / 81"
     ]
    },
    {
     "name": "stdout",
     "output_type": "stream",
     "text": [
      "\r4particle :  44 / 81"
     ]
    },
    {
     "name": "stdout",
     "output_type": "stream",
     "text": [
      "\r4particle :  45 / 81"
     ]
    },
    {
     "name": "stdout",
     "output_type": "stream",
     "text": [
      "\r4particle :  46 / 81"
     ]
    },
    {
     "name": "stdout",
     "output_type": "stream",
     "text": [
      "\r4particle :  47 / 81"
     ]
    },
    {
     "name": "stdout",
     "output_type": "stream",
     "text": [
      "\r4particle :  48 / 81"
     ]
    },
    {
     "name": "stdout",
     "output_type": "stream",
     "text": [
      "\r4particle :  49 / 81"
     ]
    },
    {
     "name": "stdout",
     "output_type": "stream",
     "text": [
      "\r4particle :  50 / 81"
     ]
    },
    {
     "name": "stdout",
     "output_type": "stream",
     "text": [
      "\r4particle :  51 / 81"
     ]
    },
    {
     "name": "stdout",
     "output_type": "stream",
     "text": [
      "\r4particle :  52 / 81"
     ]
    },
    {
     "name": "stdout",
     "output_type": "stream",
     "text": [
      "\r4particle :  53 / 81"
     ]
    },
    {
     "name": "stdout",
     "output_type": "stream",
     "text": [
      "\r4particle :  54 / 81"
     ]
    },
    {
     "name": "stdout",
     "output_type": "stream",
     "text": [
      "\r4particle :  55 / 81"
     ]
    },
    {
     "name": "stdout",
     "output_type": "stream",
     "text": [
      "\r4particle :  56 / 81"
     ]
    },
    {
     "name": "stdout",
     "output_type": "stream",
     "text": [
      "\r4particle :  57 / 81"
     ]
    },
    {
     "name": "stdout",
     "output_type": "stream",
     "text": [
      "\r4particle :  58 / 81"
     ]
    },
    {
     "name": "stdout",
     "output_type": "stream",
     "text": [
      "\r4particle :  59 / 81"
     ]
    },
    {
     "name": "stdout",
     "output_type": "stream",
     "text": [
      "\r4particle :  60 / 81"
     ]
    },
    {
     "name": "stdout",
     "output_type": "stream",
     "text": [
      "\r4particle :  61 / 81"
     ]
    },
    {
     "name": "stdout",
     "output_type": "stream",
     "text": [
      "\r4particle :  62 / 81"
     ]
    },
    {
     "name": "stdout",
     "output_type": "stream",
     "text": [
      "\r4particle :  63 / 81"
     ]
    },
    {
     "name": "stdout",
     "output_type": "stream",
     "text": [
      "\r4particle :  64 / 81"
     ]
    },
    {
     "name": "stdout",
     "output_type": "stream",
     "text": [
      "\r4particle :  65 / 81"
     ]
    },
    {
     "name": "stdout",
     "output_type": "stream",
     "text": [
      "\r4particle :  66 / 81"
     ]
    },
    {
     "name": "stdout",
     "output_type": "stream",
     "text": [
      "\r4particle :  67 / 81"
     ]
    },
    {
     "name": "stdout",
     "output_type": "stream",
     "text": [
      "\r4particle :  68 / 81"
     ]
    },
    {
     "name": "stdout",
     "output_type": "stream",
     "text": [
      "\r4particle :  69 / 81"
     ]
    },
    {
     "name": "stdout",
     "output_type": "stream",
     "text": [
      "\r4particle :  70 / 81"
     ]
    },
    {
     "name": "stdout",
     "output_type": "stream",
     "text": [
      "\r4particle :  71 / 81"
     ]
    },
    {
     "name": "stdout",
     "output_type": "stream",
     "text": [
      "\r4particle :  72 / 81"
     ]
    },
    {
     "name": "stdout",
     "output_type": "stream",
     "text": [
      "\r4particle :  73 / 81"
     ]
    },
    {
     "name": "stdout",
     "output_type": "stream",
     "text": [
      "\r4particle :  74 / 81"
     ]
    },
    {
     "name": "stdout",
     "output_type": "stream",
     "text": [
      "\r4particle :  75 / 81"
     ]
    },
    {
     "name": "stdout",
     "output_type": "stream",
     "text": [
      "\r4particle :  76 / 81"
     ]
    },
    {
     "name": "stdout",
     "output_type": "stream",
     "text": [
      "\r4particle :  77 / 81"
     ]
    },
    {
     "name": "stdout",
     "output_type": "stream",
     "text": [
      "\r4particle :  78 / 81"
     ]
    },
    {
     "name": "stdout",
     "output_type": "stream",
     "text": [
      "\r4particle :  79 / 81"
     ]
    },
    {
     "name": "stdout",
     "output_type": "stream",
     "text": [
      "\r4particle :  80 / 81"
     ]
    },
    {
     "name": "stdout",
     "output_type": "stream",
     "text": [
      "\r5particle :  0 / 81"
     ]
    },
    {
     "name": "stdout",
     "output_type": "stream",
     "text": [
      "\r5particle :  1 / 81"
     ]
    },
    {
     "name": "stdout",
     "output_type": "stream",
     "text": [
      "\r5particle :  2 / 81"
     ]
    },
    {
     "name": "stdout",
     "output_type": "stream",
     "text": [
      "\r5particle :  3 / 81"
     ]
    },
    {
     "name": "stdout",
     "output_type": "stream",
     "text": [
      "\r5particle :  4 / 81"
     ]
    },
    {
     "name": "stdout",
     "output_type": "stream",
     "text": [
      "\r5particle :  5 / 81"
     ]
    },
    {
     "name": "stdout",
     "output_type": "stream",
     "text": [
      "\r5particle :  6 / 81"
     ]
    },
    {
     "name": "stdout",
     "output_type": "stream",
     "text": [
      "\r5particle :  7 / 81"
     ]
    },
    {
     "name": "stdout",
     "output_type": "stream",
     "text": [
      "\r5particle :  8 / 81"
     ]
    },
    {
     "name": "stdout",
     "output_type": "stream",
     "text": [
      "\r5particle :  9 / 81"
     ]
    },
    {
     "name": "stdout",
     "output_type": "stream",
     "text": [
      "\r5particle :  10 / 81"
     ]
    },
    {
     "name": "stdout",
     "output_type": "stream",
     "text": [
      "\r5particle :  11 / 81"
     ]
    },
    {
     "name": "stdout",
     "output_type": "stream",
     "text": [
      "\r5particle :  12 / 81"
     ]
    },
    {
     "name": "stdout",
     "output_type": "stream",
     "text": [
      "\r5particle :  13 / 81"
     ]
    },
    {
     "name": "stdout",
     "output_type": "stream",
     "text": [
      "\r5particle :  14 / 81"
     ]
    },
    {
     "name": "stdout",
     "output_type": "stream",
     "text": [
      "\r5particle :  15 / 81"
     ]
    },
    {
     "name": "stdout",
     "output_type": "stream",
     "text": [
      "\r5particle :  16 / 81"
     ]
    },
    {
     "name": "stdout",
     "output_type": "stream",
     "text": [
      "\r5particle :  17 / 81"
     ]
    },
    {
     "name": "stdout",
     "output_type": "stream",
     "text": [
      "\r5particle :  18 / 81"
     ]
    },
    {
     "name": "stdout",
     "output_type": "stream",
     "text": [
      "\r5particle :  19 / 81"
     ]
    },
    {
     "name": "stdout",
     "output_type": "stream",
     "text": [
      "\r5particle :  20 / 81"
     ]
    },
    {
     "name": "stdout",
     "output_type": "stream",
     "text": [
      "\r5particle :  21 / 81"
     ]
    },
    {
     "name": "stdout",
     "output_type": "stream",
     "text": [
      "\r5particle :  22 / 81"
     ]
    },
    {
     "name": "stdout",
     "output_type": "stream",
     "text": [
      "\r5particle :  23 / 81"
     ]
    },
    {
     "name": "stdout",
     "output_type": "stream",
     "text": [
      "\r5particle :  24 / 81"
     ]
    },
    {
     "name": "stdout",
     "output_type": "stream",
     "text": [
      "\r5particle :  25 / 81"
     ]
    },
    {
     "name": "stdout",
     "output_type": "stream",
     "text": [
      "\r5particle :  26 / 81"
     ]
    },
    {
     "name": "stdout",
     "output_type": "stream",
     "text": [
      "\r5particle :  27 / 81"
     ]
    },
    {
     "name": "stdout",
     "output_type": "stream",
     "text": [
      "\r5particle :  28 / 81"
     ]
    },
    {
     "name": "stdout",
     "output_type": "stream",
     "text": [
      "\r5particle :  29 / 81"
     ]
    },
    {
     "name": "stdout",
     "output_type": "stream",
     "text": [
      "\r5particle :  30 / 81"
     ]
    },
    {
     "name": "stdout",
     "output_type": "stream",
     "text": [
      "\r5particle :  31 / 81"
     ]
    },
    {
     "name": "stdout",
     "output_type": "stream",
     "text": [
      "\r5particle :  32 / 81"
     ]
    },
    {
     "name": "stdout",
     "output_type": "stream",
     "text": [
      "\r5particle :  33 / 81"
     ]
    },
    {
     "name": "stdout",
     "output_type": "stream",
     "text": [
      "\r5particle :  34 / 81"
     ]
    },
    {
     "name": "stdout",
     "output_type": "stream",
     "text": [
      "\r5particle :  35 / 81"
     ]
    },
    {
     "name": "stdout",
     "output_type": "stream",
     "text": [
      "\r5particle :  36 / 81"
     ]
    },
    {
     "name": "stdout",
     "output_type": "stream",
     "text": [
      "\r5particle :  37 / 81"
     ]
    },
    {
     "name": "stdout",
     "output_type": "stream",
     "text": [
      "\r5particle :  38 / 81"
     ]
    },
    {
     "name": "stdout",
     "output_type": "stream",
     "text": [
      "\r5particle :  39 / 81"
     ]
    },
    {
     "name": "stdout",
     "output_type": "stream",
     "text": [
      "\r5particle :  40 / 81"
     ]
    },
    {
     "name": "stdout",
     "output_type": "stream",
     "text": [
      "\r5particle :  41 / 81"
     ]
    },
    {
     "name": "stdout",
     "output_type": "stream",
     "text": [
      "\r5particle :  42 / 81"
     ]
    },
    {
     "name": "stdout",
     "output_type": "stream",
     "text": [
      "\r5particle :  43 / 81"
     ]
    },
    {
     "name": "stdout",
     "output_type": "stream",
     "text": [
      "\r5particle :  44 / 81"
     ]
    },
    {
     "name": "stdout",
     "output_type": "stream",
     "text": [
      "\r5particle :  45 / 81"
     ]
    },
    {
     "name": "stdout",
     "output_type": "stream",
     "text": [
      "\r5particle :  46 / 81"
     ]
    },
    {
     "name": "stdout",
     "output_type": "stream",
     "text": [
      "\r5particle :  47 / 81"
     ]
    },
    {
     "name": "stdout",
     "output_type": "stream",
     "text": [
      "\r5particle :  48 / 81"
     ]
    },
    {
     "name": "stdout",
     "output_type": "stream",
     "text": [
      "\r5particle :  49 / 81"
     ]
    },
    {
     "name": "stdout",
     "output_type": "stream",
     "text": [
      "\r5particle :  50 / 81"
     ]
    },
    {
     "name": "stdout",
     "output_type": "stream",
     "text": [
      "\r5particle :  51 / 81"
     ]
    },
    {
     "name": "stdout",
     "output_type": "stream",
     "text": [
      "\r5particle :  52 / 81"
     ]
    },
    {
     "name": "stdout",
     "output_type": "stream",
     "text": [
      "\r5particle :  53 / 81"
     ]
    },
    {
     "name": "stdout",
     "output_type": "stream",
     "text": [
      "\r5particle :  54 / 81"
     ]
    },
    {
     "name": "stdout",
     "output_type": "stream",
     "text": [
      "\r5particle :  55 / 81"
     ]
    },
    {
     "name": "stdout",
     "output_type": "stream",
     "text": [
      "\r5particle :  56 / 81"
     ]
    },
    {
     "name": "stdout",
     "output_type": "stream",
     "text": [
      "\r5particle :  57 / 81"
     ]
    },
    {
     "name": "stdout",
     "output_type": "stream",
     "text": [
      "\r5particle :  58 / 81"
     ]
    },
    {
     "name": "stdout",
     "output_type": "stream",
     "text": [
      "\r5particle :  59 / 81"
     ]
    },
    {
     "name": "stdout",
     "output_type": "stream",
     "text": [
      "\r5particle :  60 / 81"
     ]
    },
    {
     "name": "stdout",
     "output_type": "stream",
     "text": [
      "\r5particle :  61 / 81"
     ]
    },
    {
     "name": "stdout",
     "output_type": "stream",
     "text": [
      "\r5particle :  62 / 81"
     ]
    },
    {
     "name": "stdout",
     "output_type": "stream",
     "text": [
      "\r5particle :  63 / 81"
     ]
    },
    {
     "name": "stdout",
     "output_type": "stream",
     "text": [
      "\r5particle :  64 / 81"
     ]
    },
    {
     "name": "stdout",
     "output_type": "stream",
     "text": [
      "\r5particle :  65 / 81"
     ]
    },
    {
     "name": "stdout",
     "output_type": "stream",
     "text": [
      "\r5particle :  66 / 81"
     ]
    },
    {
     "name": "stdout",
     "output_type": "stream",
     "text": [
      "\r5particle :  67 / 81"
     ]
    },
    {
     "name": "stdout",
     "output_type": "stream",
     "text": [
      "\r5particle :  68 / 81"
     ]
    },
    {
     "name": "stdout",
     "output_type": "stream",
     "text": [
      "\r5particle :  69 / 81"
     ]
    },
    {
     "name": "stdout",
     "output_type": "stream",
     "text": [
      "\r5particle :  70 / 81"
     ]
    },
    {
     "name": "stdout",
     "output_type": "stream",
     "text": [
      "\r5particle :  71 / 81"
     ]
    },
    {
     "name": "stdout",
     "output_type": "stream",
     "text": [
      "\r5particle :  72 / 81"
     ]
    },
    {
     "name": "stdout",
     "output_type": "stream",
     "text": [
      "\r5particle :  73 / 81"
     ]
    },
    {
     "name": "stdout",
     "output_type": "stream",
     "text": [
      "\r5particle :  74 / 81"
     ]
    },
    {
     "name": "stdout",
     "output_type": "stream",
     "text": [
      "\r5particle :  75 / 81"
     ]
    },
    {
     "name": "stdout",
     "output_type": "stream",
     "text": [
      "\r5particle :  76 / 81"
     ]
    },
    {
     "name": "stdout",
     "output_type": "stream",
     "text": [
      "\r5particle :  77 / 81"
     ]
    },
    {
     "name": "stdout",
     "output_type": "stream",
     "text": [
      "\r5particle :  78 / 81"
     ]
    },
    {
     "name": "stdout",
     "output_type": "stream",
     "text": [
      "\r5particle :  79 / 81"
     ]
    },
    {
     "name": "stdout",
     "output_type": "stream",
     "text": [
      "\r5particle :  80 / 81"
     ]
    },
    {
     "name": "stdout",
     "output_type": "stream",
     "text": [
      "\r6particle :  0 / 81"
     ]
    },
    {
     "name": "stdout",
     "output_type": "stream",
     "text": [
      "\r6particle :  1 / 81"
     ]
    },
    {
     "name": "stdout",
     "output_type": "stream",
     "text": [
      "\r6particle :  2 / 81"
     ]
    },
    {
     "name": "stdout",
     "output_type": "stream",
     "text": [
      "\r6particle :  3 / 81"
     ]
    },
    {
     "name": "stdout",
     "output_type": "stream",
     "text": [
      "\r6particle :  4 / 81"
     ]
    },
    {
     "name": "stdout",
     "output_type": "stream",
     "text": [
      "\r6particle :  5 / 81"
     ]
    },
    {
     "name": "stdout",
     "output_type": "stream",
     "text": [
      "\r6particle :  6 / 81"
     ]
    },
    {
     "name": "stdout",
     "output_type": "stream",
     "text": [
      "\r6particle :  7 / 81"
     ]
    },
    {
     "name": "stdout",
     "output_type": "stream",
     "text": [
      "\r6particle :  8 / 81"
     ]
    },
    {
     "name": "stdout",
     "output_type": "stream",
     "text": [
      "\r6particle :  9 / 81"
     ]
    },
    {
     "name": "stdout",
     "output_type": "stream",
     "text": [
      "\r6particle :  10 / 81"
     ]
    },
    {
     "name": "stdout",
     "output_type": "stream",
     "text": [
      "\r6particle :  11 / 81"
     ]
    },
    {
     "name": "stdout",
     "output_type": "stream",
     "text": [
      "\r6particle :  12 / 81"
     ]
    },
    {
     "name": "stdout",
     "output_type": "stream",
     "text": [
      "\r6particle :  13 / 81"
     ]
    },
    {
     "name": "stdout",
     "output_type": "stream",
     "text": [
      "\r6particle :  14 / 81"
     ]
    },
    {
     "name": "stdout",
     "output_type": "stream",
     "text": [
      "\r6particle :  15 / 81"
     ]
    },
    {
     "name": "stdout",
     "output_type": "stream",
     "text": [
      "\r6particle :  16 / 81"
     ]
    },
    {
     "name": "stdout",
     "output_type": "stream",
     "text": [
      "\r6particle :  17 / 81"
     ]
    },
    {
     "name": "stdout",
     "output_type": "stream",
     "text": [
      "\r6particle :  18 / 81"
     ]
    },
    {
     "name": "stdout",
     "output_type": "stream",
     "text": [
      "\r6particle :  19 / 81"
     ]
    },
    {
     "name": "stdout",
     "output_type": "stream",
     "text": [
      "\r6particle :  20 / 81"
     ]
    },
    {
     "name": "stdout",
     "output_type": "stream",
     "text": [
      "\r6particle :  21 / 81"
     ]
    },
    {
     "name": "stdout",
     "output_type": "stream",
     "text": [
      "\r6particle :  22 / 81"
     ]
    },
    {
     "name": "stdout",
     "output_type": "stream",
     "text": [
      "\r6particle :  23 / 81"
     ]
    },
    {
     "name": "stdout",
     "output_type": "stream",
     "text": [
      "\r6particle :  24 / 81"
     ]
    },
    {
     "name": "stdout",
     "output_type": "stream",
     "text": [
      "\r6particle :  25 / 81"
     ]
    },
    {
     "name": "stdout",
     "output_type": "stream",
     "text": [
      "\r6particle :  26 / 81"
     ]
    },
    {
     "name": "stdout",
     "output_type": "stream",
     "text": [
      "\r6particle :  27 / 81"
     ]
    },
    {
     "name": "stdout",
     "output_type": "stream",
     "text": [
      "\r6particle :  28 / 81"
     ]
    },
    {
     "name": "stdout",
     "output_type": "stream",
     "text": [
      "\r6particle :  29 / 81"
     ]
    },
    {
     "name": "stdout",
     "output_type": "stream",
     "text": [
      "\r6particle :  30 / 81"
     ]
    },
    {
     "name": "stdout",
     "output_type": "stream",
     "text": [
      "\r6particle :  31 / 81"
     ]
    },
    {
     "name": "stdout",
     "output_type": "stream",
     "text": [
      "\r6particle :  32 / 81"
     ]
    },
    {
     "name": "stdout",
     "output_type": "stream",
     "text": [
      "\r6particle :  33 / 81"
     ]
    },
    {
     "name": "stdout",
     "output_type": "stream",
     "text": [
      "\r6particle :  34 / 81"
     ]
    },
    {
     "name": "stdout",
     "output_type": "stream",
     "text": [
      "\r6particle :  35 / 81"
     ]
    },
    {
     "name": "stdout",
     "output_type": "stream",
     "text": [
      "\r6particle :  36 / 81"
     ]
    },
    {
     "name": "stdout",
     "output_type": "stream",
     "text": [
      "\r6particle :  37 / 81"
     ]
    },
    {
     "name": "stdout",
     "output_type": "stream",
     "text": [
      "\r6particle :  38 / 81"
     ]
    },
    {
     "name": "stdout",
     "output_type": "stream",
     "text": [
      "\r6particle :  39 / 81"
     ]
    },
    {
     "name": "stdout",
     "output_type": "stream",
     "text": [
      "\r6particle :  40 / 81"
     ]
    },
    {
     "name": "stdout",
     "output_type": "stream",
     "text": [
      "\r6particle :  41 / 81"
     ]
    },
    {
     "name": "stdout",
     "output_type": "stream",
     "text": [
      "\r6particle :  42 / 81"
     ]
    },
    {
     "name": "stdout",
     "output_type": "stream",
     "text": [
      "\r6particle :  43 / 81"
     ]
    },
    {
     "name": "stdout",
     "output_type": "stream",
     "text": [
      "\r6particle :  44 / 81"
     ]
    },
    {
     "name": "stdout",
     "output_type": "stream",
     "text": [
      "\r6particle :  45 / 81"
     ]
    },
    {
     "name": "stdout",
     "output_type": "stream",
     "text": [
      "\r6particle :  46 / 81"
     ]
    },
    {
     "name": "stdout",
     "output_type": "stream",
     "text": [
      "\r6particle :  47 / 81"
     ]
    },
    {
     "name": "stdout",
     "output_type": "stream",
     "text": [
      "\r6particle :  48 / 81"
     ]
    },
    {
     "name": "stdout",
     "output_type": "stream",
     "text": [
      "\r6particle :  49 / 81"
     ]
    },
    {
     "name": "stdout",
     "output_type": "stream",
     "text": [
      "\r6particle :  50 / 81"
     ]
    },
    {
     "name": "stdout",
     "output_type": "stream",
     "text": [
      "\r6particle :  51 / 81"
     ]
    },
    {
     "name": "stdout",
     "output_type": "stream",
     "text": [
      "\r6particle :  52 / 81"
     ]
    },
    {
     "name": "stdout",
     "output_type": "stream",
     "text": [
      "\r6particle :  53 / 81"
     ]
    },
    {
     "name": "stdout",
     "output_type": "stream",
     "text": [
      "\r6particle :  54 / 81"
     ]
    },
    {
     "name": "stdout",
     "output_type": "stream",
     "text": [
      "\r6particle :  55 / 81"
     ]
    },
    {
     "name": "stdout",
     "output_type": "stream",
     "text": [
      "\r6particle :  56 / 81"
     ]
    },
    {
     "name": "stdout",
     "output_type": "stream",
     "text": [
      "\r6particle :  57 / 81"
     ]
    },
    {
     "name": "stdout",
     "output_type": "stream",
     "text": [
      "\r6particle :  58 / 81"
     ]
    },
    {
     "name": "stdout",
     "output_type": "stream",
     "text": [
      "\r6particle :  59 / 81"
     ]
    },
    {
     "name": "stdout",
     "output_type": "stream",
     "text": [
      "\r6particle :  60 / 81"
     ]
    },
    {
     "name": "stdout",
     "output_type": "stream",
     "text": [
      "\r6particle :  61 / 81"
     ]
    },
    {
     "name": "stdout",
     "output_type": "stream",
     "text": [
      "\r6particle :  62 / 81"
     ]
    },
    {
     "name": "stdout",
     "output_type": "stream",
     "text": [
      "\r6particle :  63 / 81"
     ]
    },
    {
     "name": "stdout",
     "output_type": "stream",
     "text": [
      "\r6particle :  64 / 81"
     ]
    },
    {
     "name": "stdout",
     "output_type": "stream",
     "text": [
      "\r6particle :  65 / 81"
     ]
    },
    {
     "name": "stdout",
     "output_type": "stream",
     "text": [
      "\r6particle :  66 / 81"
     ]
    },
    {
     "name": "stdout",
     "output_type": "stream",
     "text": [
      "\r6particle :  67 / 81"
     ]
    },
    {
     "name": "stdout",
     "output_type": "stream",
     "text": [
      "\r6particle :  68 / 81"
     ]
    },
    {
     "name": "stdout",
     "output_type": "stream",
     "text": [
      "\r6particle :  69 / 81"
     ]
    },
    {
     "name": "stdout",
     "output_type": "stream",
     "text": [
      "\r6particle :  70 / 81"
     ]
    },
    {
     "name": "stdout",
     "output_type": "stream",
     "text": [
      "\r6particle :  71 / 81"
     ]
    },
    {
     "name": "stdout",
     "output_type": "stream",
     "text": [
      "\r6particle :  72 / 81"
     ]
    },
    {
     "name": "stdout",
     "output_type": "stream",
     "text": [
      "\r6particle :  73 / 81"
     ]
    },
    {
     "name": "stdout",
     "output_type": "stream",
     "text": [
      "\r6particle :  74 / 81"
     ]
    },
    {
     "name": "stdout",
     "output_type": "stream",
     "text": [
      "\r6particle :  75 / 81"
     ]
    },
    {
     "name": "stdout",
     "output_type": "stream",
     "text": [
      "\r6particle :  76 / 81"
     ]
    },
    {
     "name": "stdout",
     "output_type": "stream",
     "text": [
      "\r6particle :  77 / 81"
     ]
    },
    {
     "name": "stdout",
     "output_type": "stream",
     "text": [
      "\r6particle :  78 / 81"
     ]
    },
    {
     "name": "stdout",
     "output_type": "stream",
     "text": [
      "\r6particle :  79 / 81"
     ]
    },
    {
     "name": "stdout",
     "output_type": "stream",
     "text": [
      "\r6particle :  80 / 81"
     ]
    },
    {
     "name": "stdout",
     "output_type": "stream",
     "text": [
      "\r7particle :  0 / 81"
     ]
    },
    {
     "name": "stdout",
     "output_type": "stream",
     "text": [
      "\r7particle :  1 / 81"
     ]
    },
    {
     "name": "stdout",
     "output_type": "stream",
     "text": [
      "\r7particle :  2 / 81"
     ]
    },
    {
     "name": "stdout",
     "output_type": "stream",
     "text": [
      "\r7particle :  3 / 81"
     ]
    },
    {
     "name": "stdout",
     "output_type": "stream",
     "text": [
      "\r7particle :  4 / 81"
     ]
    },
    {
     "name": "stdout",
     "output_type": "stream",
     "text": [
      "\r7particle :  5 / 81"
     ]
    },
    {
     "name": "stdout",
     "output_type": "stream",
     "text": [
      "\r7particle :  6 / 81"
     ]
    },
    {
     "name": "stdout",
     "output_type": "stream",
     "text": [
      "\r7particle :  7 / 81"
     ]
    },
    {
     "name": "stdout",
     "output_type": "stream",
     "text": [
      "\r7particle :  8 / 81"
     ]
    },
    {
     "name": "stdout",
     "output_type": "stream",
     "text": [
      "\r7particle :  9 / 81"
     ]
    },
    {
     "name": "stdout",
     "output_type": "stream",
     "text": [
      "\r7particle :  10 / 81"
     ]
    },
    {
     "name": "stdout",
     "output_type": "stream",
     "text": [
      "\r7particle :  11 / 81"
     ]
    },
    {
     "name": "stdout",
     "output_type": "stream",
     "text": [
      "\r7particle :  12 / 81"
     ]
    },
    {
     "name": "stdout",
     "output_type": "stream",
     "text": [
      "\r7particle :  13 / 81"
     ]
    },
    {
     "name": "stdout",
     "output_type": "stream",
     "text": [
      "\r7particle :  14 / 81"
     ]
    },
    {
     "name": "stdout",
     "output_type": "stream",
     "text": [
      "\r7particle :  15 / 81"
     ]
    },
    {
     "name": "stdout",
     "output_type": "stream",
     "text": [
      "\r7particle :  16 / 81"
     ]
    },
    {
     "name": "stdout",
     "output_type": "stream",
     "text": [
      "\r7particle :  17 / 81"
     ]
    },
    {
     "name": "stdout",
     "output_type": "stream",
     "text": [
      "\r7particle :  18 / 81"
     ]
    },
    {
     "name": "stdout",
     "output_type": "stream",
     "text": [
      "\r7particle :  19 / 81"
     ]
    },
    {
     "name": "stdout",
     "output_type": "stream",
     "text": [
      "\r7particle :  20 / 81"
     ]
    },
    {
     "name": "stdout",
     "output_type": "stream",
     "text": [
      "\r7particle :  21 / 81"
     ]
    },
    {
     "name": "stdout",
     "output_type": "stream",
     "text": [
      "\r7particle :  22 / 81"
     ]
    },
    {
     "name": "stdout",
     "output_type": "stream",
     "text": [
      "\r7particle :  23 / 81"
     ]
    },
    {
     "name": "stdout",
     "output_type": "stream",
     "text": [
      "\r7particle :  24 / 81"
     ]
    },
    {
     "name": "stdout",
     "output_type": "stream",
     "text": [
      "\r7particle :  25 / 81"
     ]
    },
    {
     "name": "stdout",
     "output_type": "stream",
     "text": [
      "\r7particle :  26 / 81"
     ]
    },
    {
     "name": "stdout",
     "output_type": "stream",
     "text": [
      "\r7particle :  27 / 81"
     ]
    },
    {
     "name": "stdout",
     "output_type": "stream",
     "text": [
      "\r7particle :  28 / 81"
     ]
    },
    {
     "name": "stdout",
     "output_type": "stream",
     "text": [
      "\r7particle :  29 / 81"
     ]
    },
    {
     "name": "stdout",
     "output_type": "stream",
     "text": [
      "\r7particle :  30 / 81"
     ]
    },
    {
     "name": "stdout",
     "output_type": "stream",
     "text": [
      "\r7particle :  31 / 81"
     ]
    },
    {
     "name": "stdout",
     "output_type": "stream",
     "text": [
      "\r7particle :  32 / 81"
     ]
    },
    {
     "name": "stdout",
     "output_type": "stream",
     "text": [
      "\r7particle :  33 / 81"
     ]
    },
    {
     "name": "stdout",
     "output_type": "stream",
     "text": [
      "\r7particle :  34 / 81"
     ]
    },
    {
     "name": "stdout",
     "output_type": "stream",
     "text": [
      "\r7particle :  35 / 81"
     ]
    },
    {
     "name": "stdout",
     "output_type": "stream",
     "text": [
      "\r7particle :  36 / 81"
     ]
    },
    {
     "name": "stdout",
     "output_type": "stream",
     "text": [
      "\r7particle :  37 / 81"
     ]
    },
    {
     "name": "stdout",
     "output_type": "stream",
     "text": [
      "\r7particle :  38 / 81"
     ]
    },
    {
     "name": "stdout",
     "output_type": "stream",
     "text": [
      "\r7particle :  39 / 81"
     ]
    },
    {
     "name": "stdout",
     "output_type": "stream",
     "text": [
      "\r7particle :  40 / 81"
     ]
    },
    {
     "name": "stdout",
     "output_type": "stream",
     "text": [
      "\r7particle :  41 / 81"
     ]
    },
    {
     "name": "stdout",
     "output_type": "stream",
     "text": [
      "\r7particle :  42 / 81"
     ]
    },
    {
     "name": "stdout",
     "output_type": "stream",
     "text": [
      "\r7particle :  43 / 81"
     ]
    },
    {
     "name": "stdout",
     "output_type": "stream",
     "text": [
      "\r7particle :  44 / 81"
     ]
    },
    {
     "name": "stdout",
     "output_type": "stream",
     "text": [
      "\r7particle :  45 / 81"
     ]
    },
    {
     "name": "stdout",
     "output_type": "stream",
     "text": [
      "\r7particle :  46 / 81"
     ]
    },
    {
     "name": "stdout",
     "output_type": "stream",
     "text": [
      "\r7particle :  47 / 81"
     ]
    },
    {
     "name": "stdout",
     "output_type": "stream",
     "text": [
      "\r7particle :  48 / 81"
     ]
    },
    {
     "name": "stdout",
     "output_type": "stream",
     "text": [
      "\r7particle :  49 / 81"
     ]
    },
    {
     "name": "stdout",
     "output_type": "stream",
     "text": [
      "\r7particle :  50 / 81"
     ]
    },
    {
     "name": "stdout",
     "output_type": "stream",
     "text": [
      "\r7particle :  51 / 81"
     ]
    },
    {
     "name": "stdout",
     "output_type": "stream",
     "text": [
      "\r7particle :  52 / 81"
     ]
    },
    {
     "name": "stdout",
     "output_type": "stream",
     "text": [
      "\r7particle :  53 / 81"
     ]
    },
    {
     "name": "stdout",
     "output_type": "stream",
     "text": [
      "\r7particle :  54 / 81"
     ]
    },
    {
     "name": "stdout",
     "output_type": "stream",
     "text": [
      "\r7particle :  55 / 81"
     ]
    },
    {
     "name": "stdout",
     "output_type": "stream",
     "text": [
      "\r7particle :  56 / 81"
     ]
    },
    {
     "name": "stdout",
     "output_type": "stream",
     "text": [
      "\r7particle :  57 / 81"
     ]
    },
    {
     "name": "stdout",
     "output_type": "stream",
     "text": [
      "\r7particle :  58 / 81"
     ]
    },
    {
     "name": "stdout",
     "output_type": "stream",
     "text": [
      "\r7particle :  59 / 81"
     ]
    },
    {
     "name": "stdout",
     "output_type": "stream",
     "text": [
      "\r7particle :  60 / 81"
     ]
    },
    {
     "name": "stdout",
     "output_type": "stream",
     "text": [
      "\r7particle :  61 / 81"
     ]
    },
    {
     "name": "stdout",
     "output_type": "stream",
     "text": [
      "\r7particle :  62 / 81"
     ]
    },
    {
     "name": "stdout",
     "output_type": "stream",
     "text": [
      "\r7particle :  63 / 81"
     ]
    },
    {
     "name": "stdout",
     "output_type": "stream",
     "text": [
      "\r7particle :  64 / 81"
     ]
    },
    {
     "name": "stdout",
     "output_type": "stream",
     "text": [
      "\r7particle :  65 / 81"
     ]
    },
    {
     "name": "stdout",
     "output_type": "stream",
     "text": [
      "\r7particle :  66 / 81"
     ]
    },
    {
     "name": "stdout",
     "output_type": "stream",
     "text": [
      "\r7particle :  67 / 81"
     ]
    },
    {
     "name": "stdout",
     "output_type": "stream",
     "text": [
      "\r7particle :  68 / 81"
     ]
    },
    {
     "name": "stdout",
     "output_type": "stream",
     "text": [
      "\r7particle :  69 / 81"
     ]
    },
    {
     "name": "stdout",
     "output_type": "stream",
     "text": [
      "\r7particle :  70 / 81"
     ]
    },
    {
     "name": "stdout",
     "output_type": "stream",
     "text": [
      "\r7particle :  71 / 81"
     ]
    },
    {
     "name": "stdout",
     "output_type": "stream",
     "text": [
      "\r7particle :  72 / 81"
     ]
    },
    {
     "name": "stdout",
     "output_type": "stream",
     "text": [
      "\r7particle :  73 / 81"
     ]
    },
    {
     "name": "stdout",
     "output_type": "stream",
     "text": [
      "\r7particle :  74 / 81"
     ]
    },
    {
     "name": "stdout",
     "output_type": "stream",
     "text": [
      "\r7particle :  75 / 81"
     ]
    },
    {
     "name": "stdout",
     "output_type": "stream",
     "text": [
      "\r7particle :  76 / 81"
     ]
    },
    {
     "name": "stdout",
     "output_type": "stream",
     "text": [
      "\r7particle :  77 / 81"
     ]
    },
    {
     "name": "stdout",
     "output_type": "stream",
     "text": [
      "\r7particle :  78 / 81"
     ]
    },
    {
     "name": "stdout",
     "output_type": "stream",
     "text": [
      "\r7particle :  79 / 81"
     ]
    },
    {
     "name": "stdout",
     "output_type": "stream",
     "text": [
      "\r7particle :  80 / 81"
     ]
    },
    {
     "name": "stdout",
     "output_type": "stream",
     "text": [
      "\r8particle :  0 / 81"
     ]
    },
    {
     "name": "stdout",
     "output_type": "stream",
     "text": [
      "\r8particle :  1 / 81"
     ]
    },
    {
     "name": "stdout",
     "output_type": "stream",
     "text": [
      "\r8particle :  2 / 81"
     ]
    },
    {
     "name": "stdout",
     "output_type": "stream",
     "text": [
      "\r8particle :  3 / 81"
     ]
    },
    {
     "name": "stdout",
     "output_type": "stream",
     "text": [
      "\r8particle :  4 / 81"
     ]
    },
    {
     "name": "stdout",
     "output_type": "stream",
     "text": [
      "\r8particle :  5 / 81"
     ]
    },
    {
     "name": "stdout",
     "output_type": "stream",
     "text": [
      "\r8particle :  6 / 81"
     ]
    },
    {
     "name": "stdout",
     "output_type": "stream",
     "text": [
      "\r8particle :  7 / 81"
     ]
    },
    {
     "name": "stdout",
     "output_type": "stream",
     "text": [
      "\r8particle :  8 / 81"
     ]
    },
    {
     "name": "stdout",
     "output_type": "stream",
     "text": [
      "\r8particle :  9 / 81"
     ]
    },
    {
     "name": "stdout",
     "output_type": "stream",
     "text": [
      "\r8particle :  10 / 81"
     ]
    },
    {
     "name": "stdout",
     "output_type": "stream",
     "text": [
      "\r8particle :  11 / 81"
     ]
    },
    {
     "name": "stdout",
     "output_type": "stream",
     "text": [
      "\r8particle :  12 / 81"
     ]
    },
    {
     "name": "stdout",
     "output_type": "stream",
     "text": [
      "\r8particle :  13 / 81"
     ]
    },
    {
     "name": "stdout",
     "output_type": "stream",
     "text": [
      "\r8particle :  14 / 81"
     ]
    },
    {
     "name": "stdout",
     "output_type": "stream",
     "text": [
      "\r8particle :  15 / 81"
     ]
    },
    {
     "name": "stdout",
     "output_type": "stream",
     "text": [
      "\r8particle :  16 / 81"
     ]
    },
    {
     "name": "stdout",
     "output_type": "stream",
     "text": [
      "\r8particle :  17 / 81"
     ]
    },
    {
     "name": "stdout",
     "output_type": "stream",
     "text": [
      "\r8particle :  18 / 81"
     ]
    },
    {
     "name": "stdout",
     "output_type": "stream",
     "text": [
      "\r8particle :  19 / 81"
     ]
    },
    {
     "name": "stdout",
     "output_type": "stream",
     "text": [
      "\r8particle :  20 / 81"
     ]
    },
    {
     "name": "stdout",
     "output_type": "stream",
     "text": [
      "\r8particle :  21 / 81"
     ]
    },
    {
     "name": "stdout",
     "output_type": "stream",
     "text": [
      "\r8particle :  22 / 81"
     ]
    },
    {
     "name": "stdout",
     "output_type": "stream",
     "text": [
      "\r8particle :  23 / 81"
     ]
    },
    {
     "name": "stdout",
     "output_type": "stream",
     "text": [
      "\r8particle :  24 / 81"
     ]
    },
    {
     "name": "stdout",
     "output_type": "stream",
     "text": [
      "\r8particle :  25 / 81"
     ]
    },
    {
     "name": "stdout",
     "output_type": "stream",
     "text": [
      "\r8particle :  26 / 81"
     ]
    },
    {
     "name": "stdout",
     "output_type": "stream",
     "text": [
      "\r8particle :  27 / 81"
     ]
    },
    {
     "name": "stdout",
     "output_type": "stream",
     "text": [
      "\r8particle :  28 / 81"
     ]
    },
    {
     "name": "stdout",
     "output_type": "stream",
     "text": [
      "\r8particle :  29 / 81"
     ]
    },
    {
     "name": "stdout",
     "output_type": "stream",
     "text": [
      "\r8particle :  30 / 81"
     ]
    },
    {
     "name": "stdout",
     "output_type": "stream",
     "text": [
      "\r8particle :  31 / 81"
     ]
    },
    {
     "name": "stdout",
     "output_type": "stream",
     "text": [
      "\r8particle :  32 / 81"
     ]
    },
    {
     "name": "stdout",
     "output_type": "stream",
     "text": [
      "\r8particle :  33 / 81"
     ]
    },
    {
     "name": "stdout",
     "output_type": "stream",
     "text": [
      "\r8particle :  34 / 81"
     ]
    },
    {
     "name": "stdout",
     "output_type": "stream",
     "text": [
      "\r8particle :  35 / 81"
     ]
    },
    {
     "name": "stdout",
     "output_type": "stream",
     "text": [
      "\r8particle :  36 / 81"
     ]
    },
    {
     "name": "stdout",
     "output_type": "stream",
     "text": [
      "\r8particle :  37 / 81"
     ]
    },
    {
     "name": "stdout",
     "output_type": "stream",
     "text": [
      "\r8particle :  38 / 81"
     ]
    },
    {
     "name": "stdout",
     "output_type": "stream",
     "text": [
      "\r8particle :  39 / 81"
     ]
    },
    {
     "name": "stdout",
     "output_type": "stream",
     "text": [
      "\r8particle :  40 / 81"
     ]
    },
    {
     "name": "stdout",
     "output_type": "stream",
     "text": [
      "\r8particle :  41 / 81"
     ]
    },
    {
     "name": "stdout",
     "output_type": "stream",
     "text": [
      "\r8particle :  42 / 81"
     ]
    },
    {
     "name": "stdout",
     "output_type": "stream",
     "text": [
      "\r8particle :  43 / 81"
     ]
    },
    {
     "name": "stdout",
     "output_type": "stream",
     "text": [
      "\r8particle :  44 / 81"
     ]
    },
    {
     "name": "stdout",
     "output_type": "stream",
     "text": [
      "\r8particle :  45 / 81"
     ]
    },
    {
     "name": "stdout",
     "output_type": "stream",
     "text": [
      "\r8particle :  46 / 81"
     ]
    },
    {
     "name": "stdout",
     "output_type": "stream",
     "text": [
      "\r8particle :  47 / 81"
     ]
    },
    {
     "name": "stdout",
     "output_type": "stream",
     "text": [
      "\r8particle :  48 / 81"
     ]
    },
    {
     "name": "stdout",
     "output_type": "stream",
     "text": [
      "\r8particle :  49 / 81"
     ]
    },
    {
     "name": "stdout",
     "output_type": "stream",
     "text": [
      "\r8particle :  50 / 81"
     ]
    },
    {
     "name": "stdout",
     "output_type": "stream",
     "text": [
      "\r8particle :  51 / 81"
     ]
    },
    {
     "name": "stdout",
     "output_type": "stream",
     "text": [
      "\r8particle :  52 / 81"
     ]
    },
    {
     "name": "stdout",
     "output_type": "stream",
     "text": [
      "\r8particle :  53 / 81"
     ]
    },
    {
     "name": "stdout",
     "output_type": "stream",
     "text": [
      "\r8particle :  54 / 81"
     ]
    },
    {
     "name": "stdout",
     "output_type": "stream",
     "text": [
      "\r8particle :  55 / 81"
     ]
    },
    {
     "name": "stdout",
     "output_type": "stream",
     "text": [
      "\r8particle :  56 / 81"
     ]
    },
    {
     "name": "stdout",
     "output_type": "stream",
     "text": [
      "\r8particle :  57 / 81"
     ]
    },
    {
     "name": "stdout",
     "output_type": "stream",
     "text": [
      "\r8particle :  58 / 81"
     ]
    },
    {
     "name": "stdout",
     "output_type": "stream",
     "text": [
      "\r8particle :  59 / 81"
     ]
    },
    {
     "name": "stdout",
     "output_type": "stream",
     "text": [
      "\r8particle :  60 / 81"
     ]
    },
    {
     "name": "stdout",
     "output_type": "stream",
     "text": [
      "\r8particle :  61 / 81"
     ]
    },
    {
     "name": "stdout",
     "output_type": "stream",
     "text": [
      "\r8particle :  62 / 81"
     ]
    },
    {
     "name": "stdout",
     "output_type": "stream",
     "text": [
      "\r8particle :  63 / 81"
     ]
    },
    {
     "name": "stdout",
     "output_type": "stream",
     "text": [
      "\r8particle :  64 / 81"
     ]
    },
    {
     "name": "stdout",
     "output_type": "stream",
     "text": [
      "\r8particle :  65 / 81"
     ]
    },
    {
     "name": "stdout",
     "output_type": "stream",
     "text": [
      "\r8particle :  66 / 81"
     ]
    },
    {
     "name": "stdout",
     "output_type": "stream",
     "text": [
      "\r8particle :  67 / 81"
     ]
    },
    {
     "name": "stdout",
     "output_type": "stream",
     "text": [
      "\r8particle :  68 / 81"
     ]
    },
    {
     "name": "stdout",
     "output_type": "stream",
     "text": [
      "\r8particle :  69 / 81"
     ]
    },
    {
     "name": "stdout",
     "output_type": "stream",
     "text": [
      "\r8particle :  70 / 81"
     ]
    },
    {
     "name": "stdout",
     "output_type": "stream",
     "text": [
      "\r8particle :  71 / 81"
     ]
    },
    {
     "name": "stdout",
     "output_type": "stream",
     "text": [
      "\r8particle :  72 / 81"
     ]
    },
    {
     "name": "stdout",
     "output_type": "stream",
     "text": [
      "\r8particle :  73 / 81"
     ]
    },
    {
     "name": "stdout",
     "output_type": "stream",
     "text": [
      "\r8particle :  74 / 81"
     ]
    },
    {
     "name": "stdout",
     "output_type": "stream",
     "text": [
      "\r8particle :  75 / 81"
     ]
    },
    {
     "name": "stdout",
     "output_type": "stream",
     "text": [
      "\r8particle :  76 / 81"
     ]
    },
    {
     "name": "stdout",
     "output_type": "stream",
     "text": [
      "\r8particle :  77 / 81"
     ]
    },
    {
     "name": "stdout",
     "output_type": "stream",
     "text": [
      "\r8particle :  78 / 81"
     ]
    },
    {
     "name": "stdout",
     "output_type": "stream",
     "text": [
      "\r8particle :  79 / 81"
     ]
    },
    {
     "name": "stdout",
     "output_type": "stream",
     "text": [
      "\r8particle :  80 / 81"
     ]
    },
    {
     "name": "stdout",
     "output_type": "stream",
     "text": [
      "\r9particle :  0 / 81"
     ]
    },
    {
     "name": "stdout",
     "output_type": "stream",
     "text": [
      "\r9particle :  1 / 81"
     ]
    },
    {
     "name": "stdout",
     "output_type": "stream",
     "text": [
      "\r9particle :  2 / 81"
     ]
    },
    {
     "name": "stdout",
     "output_type": "stream",
     "text": [
      "\r9particle :  3 / 81"
     ]
    },
    {
     "name": "stdout",
     "output_type": "stream",
     "text": [
      "\r9particle :  4 / 81"
     ]
    },
    {
     "name": "stdout",
     "output_type": "stream",
     "text": [
      "\r9particle :  5 / 81"
     ]
    },
    {
     "name": "stdout",
     "output_type": "stream",
     "text": [
      "\r9particle :  6 / 81"
     ]
    },
    {
     "name": "stdout",
     "output_type": "stream",
     "text": [
      "\r9particle :  7 / 81"
     ]
    },
    {
     "name": "stdout",
     "output_type": "stream",
     "text": [
      "\r9particle :  8 / 81"
     ]
    },
    {
     "name": "stdout",
     "output_type": "stream",
     "text": [
      "\r9particle :  9 / 81"
     ]
    },
    {
     "name": "stdout",
     "output_type": "stream",
     "text": [
      "\r9particle :  10 / 81"
     ]
    },
    {
     "name": "stdout",
     "output_type": "stream",
     "text": [
      "\r9particle :  11 / 81"
     ]
    },
    {
     "name": "stdout",
     "output_type": "stream",
     "text": [
      "\r9particle :  12 / 81"
     ]
    },
    {
     "name": "stdout",
     "output_type": "stream",
     "text": [
      "\r9particle :  13 / 81"
     ]
    },
    {
     "name": "stdout",
     "output_type": "stream",
     "text": [
      "\r9particle :  14 / 81"
     ]
    },
    {
     "name": "stdout",
     "output_type": "stream",
     "text": [
      "\r9particle :  15 / 81"
     ]
    },
    {
     "name": "stdout",
     "output_type": "stream",
     "text": [
      "\r9particle :  16 / 81"
     ]
    },
    {
     "name": "stdout",
     "output_type": "stream",
     "text": [
      "\r9particle :  17 / 81"
     ]
    },
    {
     "name": "stdout",
     "output_type": "stream",
     "text": [
      "\r9particle :  18 / 81"
     ]
    },
    {
     "name": "stdout",
     "output_type": "stream",
     "text": [
      "\r9particle :  19 / 81"
     ]
    },
    {
     "name": "stdout",
     "output_type": "stream",
     "text": [
      "\r9particle :  20 / 81"
     ]
    },
    {
     "name": "stdout",
     "output_type": "stream",
     "text": [
      "\r9particle :  21 / 81"
     ]
    },
    {
     "name": "stdout",
     "output_type": "stream",
     "text": [
      "\r9particle :  22 / 81"
     ]
    },
    {
     "name": "stdout",
     "output_type": "stream",
     "text": [
      "\r9particle :  23 / 81"
     ]
    },
    {
     "name": "stdout",
     "output_type": "stream",
     "text": [
      "\r9particle :  24 / 81"
     ]
    },
    {
     "name": "stdout",
     "output_type": "stream",
     "text": [
      "\r9particle :  25 / 81"
     ]
    },
    {
     "name": "stdout",
     "output_type": "stream",
     "text": [
      "\r9particle :  26 / 81"
     ]
    },
    {
     "name": "stdout",
     "output_type": "stream",
     "text": [
      "\r9particle :  27 / 81"
     ]
    },
    {
     "name": "stdout",
     "output_type": "stream",
     "text": [
      "\r9particle :  28 / 81"
     ]
    },
    {
     "name": "stdout",
     "output_type": "stream",
     "text": [
      "\r9particle :  29 / 81"
     ]
    },
    {
     "name": "stdout",
     "output_type": "stream",
     "text": [
      "\r9particle :  30 / 81"
     ]
    },
    {
     "name": "stdout",
     "output_type": "stream",
     "text": [
      "\r9particle :  31 / 81"
     ]
    },
    {
     "name": "stdout",
     "output_type": "stream",
     "text": [
      "\r9particle :  32 / 81"
     ]
    },
    {
     "name": "stdout",
     "output_type": "stream",
     "text": [
      "\r9particle :  33 / 81"
     ]
    },
    {
     "name": "stdout",
     "output_type": "stream",
     "text": [
      "\r9particle :  34 / 81"
     ]
    },
    {
     "name": "stdout",
     "output_type": "stream",
     "text": [
      "\r9particle :  35 / 81"
     ]
    },
    {
     "name": "stdout",
     "output_type": "stream",
     "text": [
      "\r9particle :  36 / 81"
     ]
    },
    {
     "name": "stdout",
     "output_type": "stream",
     "text": [
      "\r9particle :  37 / 81"
     ]
    },
    {
     "name": "stdout",
     "output_type": "stream",
     "text": [
      "\r9particle :  38 / 81"
     ]
    },
    {
     "name": "stdout",
     "output_type": "stream",
     "text": [
      "\r9particle :  39 / 81"
     ]
    },
    {
     "name": "stdout",
     "output_type": "stream",
     "text": [
      "\r9particle :  40 / 81"
     ]
    },
    {
     "name": "stdout",
     "output_type": "stream",
     "text": [
      "\r9particle :  41 / 81"
     ]
    },
    {
     "name": "stdout",
     "output_type": "stream",
     "text": [
      "\r9particle :  42 / 81"
     ]
    },
    {
     "name": "stdout",
     "output_type": "stream",
     "text": [
      "\r9particle :  43 / 81"
     ]
    },
    {
     "name": "stdout",
     "output_type": "stream",
     "text": [
      "\r9particle :  44 / 81"
     ]
    },
    {
     "name": "stdout",
     "output_type": "stream",
     "text": [
      "\r9particle :  45 / 81"
     ]
    },
    {
     "name": "stdout",
     "output_type": "stream",
     "text": [
      "\r9particle :  46 / 81"
     ]
    },
    {
     "name": "stdout",
     "output_type": "stream",
     "text": [
      "\r9particle :  47 / 81"
     ]
    },
    {
     "name": "stdout",
     "output_type": "stream",
     "text": [
      "\r9particle :  48 / 81"
     ]
    },
    {
     "name": "stdout",
     "output_type": "stream",
     "text": [
      "\r9particle :  49 / 81"
     ]
    },
    {
     "name": "stdout",
     "output_type": "stream",
     "text": [
      "\r9particle :  50 / 81"
     ]
    },
    {
     "name": "stdout",
     "output_type": "stream",
     "text": [
      "\r9particle :  51 / 81"
     ]
    },
    {
     "name": "stdout",
     "output_type": "stream",
     "text": [
      "\r9particle :  52 / 81"
     ]
    },
    {
     "name": "stdout",
     "output_type": "stream",
     "text": [
      "\r9particle :  53 / 81"
     ]
    },
    {
     "name": "stdout",
     "output_type": "stream",
     "text": [
      "\r9particle :  54 / 81"
     ]
    },
    {
     "name": "stdout",
     "output_type": "stream",
     "text": [
      "\r9particle :  55 / 81"
     ]
    },
    {
     "name": "stdout",
     "output_type": "stream",
     "text": [
      "\r9particle :  56 / 81"
     ]
    },
    {
     "name": "stdout",
     "output_type": "stream",
     "text": [
      "\r9particle :  57 / 81"
     ]
    },
    {
     "name": "stdout",
     "output_type": "stream",
     "text": [
      "\r9particle :  58 / 81"
     ]
    },
    {
     "name": "stdout",
     "output_type": "stream",
     "text": [
      "\r9particle :  59 / 81"
     ]
    },
    {
     "name": "stdout",
     "output_type": "stream",
     "text": [
      "\r9particle :  60 / 81"
     ]
    },
    {
     "name": "stdout",
     "output_type": "stream",
     "text": [
      "\r9particle :  61 / 81"
     ]
    },
    {
     "name": "stdout",
     "output_type": "stream",
     "text": [
      "\r9particle :  62 / 81"
     ]
    },
    {
     "name": "stdout",
     "output_type": "stream",
     "text": [
      "\r9particle :  63 / 81"
     ]
    },
    {
     "name": "stdout",
     "output_type": "stream",
     "text": [
      "\r9particle :  64 / 81"
     ]
    },
    {
     "name": "stdout",
     "output_type": "stream",
     "text": [
      "\r9particle :  65 / 81"
     ]
    },
    {
     "name": "stdout",
     "output_type": "stream",
     "text": [
      "\r9particle :  66 / 81"
     ]
    },
    {
     "name": "stdout",
     "output_type": "stream",
     "text": [
      "\r9particle :  67 / 81"
     ]
    },
    {
     "name": "stdout",
     "output_type": "stream",
     "text": [
      "\r9particle :  68 / 81"
     ]
    },
    {
     "name": "stdout",
     "output_type": "stream",
     "text": [
      "\r9particle :  69 / 81"
     ]
    },
    {
     "name": "stdout",
     "output_type": "stream",
     "text": [
      "\r9particle :  70 / 81"
     ]
    },
    {
     "name": "stdout",
     "output_type": "stream",
     "text": [
      "\r9particle :  71 / 81"
     ]
    },
    {
     "name": "stdout",
     "output_type": "stream",
     "text": [
      "\r9particle :  72 / 81"
     ]
    },
    {
     "name": "stdout",
     "output_type": "stream",
     "text": [
      "\r9particle :  73 / 81"
     ]
    },
    {
     "name": "stdout",
     "output_type": "stream",
     "text": [
      "\r9particle :  74 / 81"
     ]
    },
    {
     "name": "stdout",
     "output_type": "stream",
     "text": [
      "\r9particle :  75 / 81"
     ]
    },
    {
     "name": "stdout",
     "output_type": "stream",
     "text": [
      "\r9particle :  76 / 81"
     ]
    },
    {
     "name": "stdout",
     "output_type": "stream",
     "text": [
      "\r9particle :  77 / 81"
     ]
    },
    {
     "name": "stdout",
     "output_type": "stream",
     "text": [
      "\r9particle :  78 / 81"
     ]
    },
    {
     "name": "stdout",
     "output_type": "stream",
     "text": [
      "\r9particle :  79 / 81"
     ]
    },
    {
     "name": "stdout",
     "output_type": "stream",
     "text": [
      "\r9particle :  80 / 81"
     ]
    },
    {
     "name": "stdout",
     "output_type": "stream",
     "text": [
      "\r10particle :  0 / 81"
     ]
    },
    {
     "name": "stdout",
     "output_type": "stream",
     "text": [
      "\r10particle :  1 / 81"
     ]
    },
    {
     "name": "stdout",
     "output_type": "stream",
     "text": [
      "\r10particle :  2 / 81"
     ]
    },
    {
     "name": "stdout",
     "output_type": "stream",
     "text": [
      "\r10particle :  3 / 81"
     ]
    },
    {
     "name": "stdout",
     "output_type": "stream",
     "text": [
      "\r10particle :  4 / 81"
     ]
    },
    {
     "name": "stdout",
     "output_type": "stream",
     "text": [
      "\r10particle :  5 / 81"
     ]
    },
    {
     "name": "stdout",
     "output_type": "stream",
     "text": [
      "\r10particle :  6 / 81"
     ]
    },
    {
     "name": "stdout",
     "output_type": "stream",
     "text": [
      "\r10particle :  7 / 81"
     ]
    },
    {
     "name": "stdout",
     "output_type": "stream",
     "text": [
      "\r10particle :  8 / 81"
     ]
    },
    {
     "name": "stdout",
     "output_type": "stream",
     "text": [
      "\r10particle :  9 / 81"
     ]
    },
    {
     "name": "stdout",
     "output_type": "stream",
     "text": [
      "\r10particle :  10 / 81"
     ]
    },
    {
     "name": "stdout",
     "output_type": "stream",
     "text": [
      "\r10particle :  11 / 81"
     ]
    },
    {
     "name": "stdout",
     "output_type": "stream",
     "text": [
      "\r10particle :  12 / 81"
     ]
    },
    {
     "name": "stdout",
     "output_type": "stream",
     "text": [
      "\r10particle :  13 / 81"
     ]
    },
    {
     "name": "stdout",
     "output_type": "stream",
     "text": [
      "\r10particle :  14 / 81"
     ]
    },
    {
     "name": "stdout",
     "output_type": "stream",
     "text": [
      "\r10particle :  15 / 81"
     ]
    },
    {
     "name": "stdout",
     "output_type": "stream",
     "text": [
      "\r10particle :  16 / 81"
     ]
    },
    {
     "name": "stdout",
     "output_type": "stream",
     "text": [
      "\r10particle :  17 / 81"
     ]
    },
    {
     "name": "stdout",
     "output_type": "stream",
     "text": [
      "\r10particle :  18 / 81"
     ]
    },
    {
     "name": "stdout",
     "output_type": "stream",
     "text": [
      "\r10particle :  19 / 81"
     ]
    },
    {
     "name": "stdout",
     "output_type": "stream",
     "text": [
      "\r10particle :  20 / 81"
     ]
    },
    {
     "name": "stdout",
     "output_type": "stream",
     "text": [
      "\r10particle :  21 / 81"
     ]
    },
    {
     "name": "stdout",
     "output_type": "stream",
     "text": [
      "\r10particle :  22 / 81"
     ]
    },
    {
     "name": "stdout",
     "output_type": "stream",
     "text": [
      "\r10particle :  23 / 81"
     ]
    },
    {
     "name": "stdout",
     "output_type": "stream",
     "text": [
      "\r10particle :  24 / 81"
     ]
    },
    {
     "name": "stdout",
     "output_type": "stream",
     "text": [
      "\r10particle :  25 / 81"
     ]
    },
    {
     "name": "stdout",
     "output_type": "stream",
     "text": [
      "\r10particle :  26 / 81"
     ]
    },
    {
     "name": "stdout",
     "output_type": "stream",
     "text": [
      "\r10particle :  27 / 81"
     ]
    },
    {
     "name": "stdout",
     "output_type": "stream",
     "text": [
      "\r10particle :  28 / 81"
     ]
    },
    {
     "name": "stdout",
     "output_type": "stream",
     "text": [
      "\r10particle :  29 / 81"
     ]
    },
    {
     "name": "stdout",
     "output_type": "stream",
     "text": [
      "\r10particle :  30 / 81"
     ]
    },
    {
     "name": "stdout",
     "output_type": "stream",
     "text": [
      "\r10particle :  31 / 81"
     ]
    },
    {
     "name": "stdout",
     "output_type": "stream",
     "text": [
      "\r10particle :  32 / 81"
     ]
    },
    {
     "name": "stdout",
     "output_type": "stream",
     "text": [
      "\r10particle :  33 / 81"
     ]
    },
    {
     "name": "stdout",
     "output_type": "stream",
     "text": [
      "\r10particle :  34 / 81"
     ]
    },
    {
     "name": "stdout",
     "output_type": "stream",
     "text": [
      "\r10particle :  35 / 81"
     ]
    },
    {
     "name": "stdout",
     "output_type": "stream",
     "text": [
      "\r10particle :  36 / 81"
     ]
    },
    {
     "name": "stdout",
     "output_type": "stream",
     "text": [
      "\r10particle :  37 / 81"
     ]
    },
    {
     "name": "stdout",
     "output_type": "stream",
     "text": [
      "\r10particle :  38 / 81"
     ]
    },
    {
     "name": "stdout",
     "output_type": "stream",
     "text": [
      "\r10particle :  39 / 81"
     ]
    },
    {
     "name": "stdout",
     "output_type": "stream",
     "text": [
      "\r10particle :  40 / 81"
     ]
    },
    {
     "name": "stdout",
     "output_type": "stream",
     "text": [
      "\r10particle :  41 / 81"
     ]
    },
    {
     "name": "stdout",
     "output_type": "stream",
     "text": [
      "\r10particle :  42 / 81"
     ]
    },
    {
     "name": "stdout",
     "output_type": "stream",
     "text": [
      "\r10particle :  43 / 81"
     ]
    },
    {
     "name": "stdout",
     "output_type": "stream",
     "text": [
      "\r10particle :  44 / 81"
     ]
    },
    {
     "name": "stdout",
     "output_type": "stream",
     "text": [
      "\r10particle :  45 / 81"
     ]
    },
    {
     "name": "stdout",
     "output_type": "stream",
     "text": [
      "\r10particle :  46 / 81"
     ]
    },
    {
     "name": "stdout",
     "output_type": "stream",
     "text": [
      "\r10particle :  47 / 81"
     ]
    },
    {
     "name": "stdout",
     "output_type": "stream",
     "text": [
      "\r10particle :  48 / 81"
     ]
    },
    {
     "name": "stdout",
     "output_type": "stream",
     "text": [
      "\r10particle :  49 / 81"
     ]
    },
    {
     "name": "stdout",
     "output_type": "stream",
     "text": [
      "\r10particle :  50 / 81"
     ]
    },
    {
     "name": "stdout",
     "output_type": "stream",
     "text": [
      "\r10particle :  51 / 81"
     ]
    },
    {
     "name": "stdout",
     "output_type": "stream",
     "text": [
      "\r10particle :  52 / 81"
     ]
    },
    {
     "name": "stdout",
     "output_type": "stream",
     "text": [
      "\r10particle :  53 / 81"
     ]
    },
    {
     "name": "stdout",
     "output_type": "stream",
     "text": [
      "\r10particle :  54 / 81"
     ]
    },
    {
     "name": "stdout",
     "output_type": "stream",
     "text": [
      "\r10particle :  55 / 81"
     ]
    },
    {
     "name": "stdout",
     "output_type": "stream",
     "text": [
      "\r10particle :  56 / 81"
     ]
    },
    {
     "name": "stdout",
     "output_type": "stream",
     "text": [
      "\r10particle :  57 / 81"
     ]
    },
    {
     "name": "stdout",
     "output_type": "stream",
     "text": [
      "\r10particle :  58 / 81"
     ]
    },
    {
     "name": "stdout",
     "output_type": "stream",
     "text": [
      "\r10particle :  59 / 81"
     ]
    },
    {
     "name": "stdout",
     "output_type": "stream",
     "text": [
      "\r10particle :  60 / 81"
     ]
    },
    {
     "name": "stdout",
     "output_type": "stream",
     "text": [
      "\r10particle :  61 / 81"
     ]
    },
    {
     "name": "stdout",
     "output_type": "stream",
     "text": [
      "\r10particle :  62 / 81"
     ]
    },
    {
     "name": "stdout",
     "output_type": "stream",
     "text": [
      "\r10particle :  63 / 81"
     ]
    },
    {
     "name": "stdout",
     "output_type": "stream",
     "text": [
      "\r10particle :  64 / 81"
     ]
    },
    {
     "name": "stdout",
     "output_type": "stream",
     "text": [
      "\r10particle :  65 / 81"
     ]
    },
    {
     "name": "stdout",
     "output_type": "stream",
     "text": [
      "\r10particle :  66 / 81"
     ]
    },
    {
     "name": "stdout",
     "output_type": "stream",
     "text": [
      "\r10particle :  67 / 81"
     ]
    },
    {
     "name": "stdout",
     "output_type": "stream",
     "text": [
      "\r10particle :  68 / 81"
     ]
    },
    {
     "name": "stdout",
     "output_type": "stream",
     "text": [
      "\r10particle :  69 / 81"
     ]
    },
    {
     "name": "stdout",
     "output_type": "stream",
     "text": [
      "\r10particle :  70 / 81"
     ]
    },
    {
     "name": "stdout",
     "output_type": "stream",
     "text": [
      "\r10particle :  71 / 81"
     ]
    },
    {
     "name": "stdout",
     "output_type": "stream",
     "text": [
      "\r10particle :  72 / 81"
     ]
    },
    {
     "name": "stdout",
     "output_type": "stream",
     "text": [
      "\r10particle :  73 / 81"
     ]
    },
    {
     "name": "stdout",
     "output_type": "stream",
     "text": [
      "\r10particle :  74 / 81"
     ]
    },
    {
     "name": "stdout",
     "output_type": "stream",
     "text": [
      "\r10particle :  75 / 81"
     ]
    },
    {
     "name": "stdout",
     "output_type": "stream",
     "text": [
      "\r10particle :  76 / 81"
     ]
    },
    {
     "name": "stdout",
     "output_type": "stream",
     "text": [
      "\r10particle :  77 / 81"
     ]
    },
    {
     "name": "stdout",
     "output_type": "stream",
     "text": [
      "\r10particle :  78 / 81"
     ]
    },
    {
     "name": "stdout",
     "output_type": "stream",
     "text": [
      "\r10particle :  79 / 81"
     ]
    },
    {
     "name": "stdout",
     "output_type": "stream",
     "text": [
      "\r10particle :  80 / 81"
     ]
    },
    {
     "name": "stdout",
     "output_type": "stream",
     "text": [
      "\r11particle :  0 / 81"
     ]
    },
    {
     "name": "stdout",
     "output_type": "stream",
     "text": [
      "\r11particle :  1 / 81"
     ]
    },
    {
     "name": "stdout",
     "output_type": "stream",
     "text": [
      "\r11particle :  2 / 81"
     ]
    },
    {
     "name": "stdout",
     "output_type": "stream",
     "text": [
      "\r11particle :  3 / 81"
     ]
    },
    {
     "name": "stdout",
     "output_type": "stream",
     "text": [
      "\r11particle :  4 / 81"
     ]
    },
    {
     "name": "stdout",
     "output_type": "stream",
     "text": [
      "\r11particle :  5 / 81"
     ]
    },
    {
     "name": "stdout",
     "output_type": "stream",
     "text": [
      "\r11particle :  6 / 81"
     ]
    },
    {
     "name": "stdout",
     "output_type": "stream",
     "text": [
      "\r11particle :  7 / 81"
     ]
    },
    {
     "name": "stdout",
     "output_type": "stream",
     "text": [
      "\r11particle :  8 / 81"
     ]
    },
    {
     "name": "stdout",
     "output_type": "stream",
     "text": [
      "\r11particle :  9 / 81"
     ]
    },
    {
     "name": "stdout",
     "output_type": "stream",
     "text": [
      "\r11particle :  10 / 81"
     ]
    },
    {
     "name": "stdout",
     "output_type": "stream",
     "text": [
      "\r11particle :  11 / 81"
     ]
    },
    {
     "name": "stdout",
     "output_type": "stream",
     "text": [
      "\r11particle :  12 / 81"
     ]
    },
    {
     "name": "stdout",
     "output_type": "stream",
     "text": [
      "\r11particle :  13 / 81"
     ]
    },
    {
     "name": "stdout",
     "output_type": "stream",
     "text": [
      "\r11particle :  14 / 81"
     ]
    },
    {
     "name": "stdout",
     "output_type": "stream",
     "text": [
      "\r11particle :  15 / 81"
     ]
    },
    {
     "name": "stdout",
     "output_type": "stream",
     "text": [
      "\r11particle :  16 / 81"
     ]
    },
    {
     "name": "stdout",
     "output_type": "stream",
     "text": [
      "\r11particle :  17 / 81"
     ]
    },
    {
     "name": "stdout",
     "output_type": "stream",
     "text": [
      "\r11particle :  18 / 81"
     ]
    },
    {
     "name": "stdout",
     "output_type": "stream",
     "text": [
      "\r11particle :  19 / 81"
     ]
    },
    {
     "name": "stdout",
     "output_type": "stream",
     "text": [
      "\r11particle :  20 / 81"
     ]
    },
    {
     "name": "stdout",
     "output_type": "stream",
     "text": [
      "\r11particle :  21 / 81"
     ]
    },
    {
     "name": "stdout",
     "output_type": "stream",
     "text": [
      "\r11particle :  22 / 81"
     ]
    },
    {
     "name": "stdout",
     "output_type": "stream",
     "text": [
      "\r11particle :  23 / 81"
     ]
    },
    {
     "name": "stdout",
     "output_type": "stream",
     "text": [
      "\r11particle :  24 / 81"
     ]
    },
    {
     "name": "stdout",
     "output_type": "stream",
     "text": [
      "\r11particle :  25 / 81"
     ]
    },
    {
     "name": "stdout",
     "output_type": "stream",
     "text": [
      "\r11particle :  26 / 81"
     ]
    },
    {
     "name": "stdout",
     "output_type": "stream",
     "text": [
      "\r11particle :  27 / 81"
     ]
    },
    {
     "name": "stdout",
     "output_type": "stream",
     "text": [
      "\r11particle :  28 / 81"
     ]
    },
    {
     "name": "stdout",
     "output_type": "stream",
     "text": [
      "\r11particle :  29 / 81"
     ]
    },
    {
     "name": "stdout",
     "output_type": "stream",
     "text": [
      "\r11particle :  30 / 81"
     ]
    },
    {
     "name": "stdout",
     "output_type": "stream",
     "text": [
      "\r11particle :  31 / 81"
     ]
    },
    {
     "name": "stdout",
     "output_type": "stream",
     "text": [
      "\r11particle :  32 / 81"
     ]
    },
    {
     "name": "stdout",
     "output_type": "stream",
     "text": [
      "\r11particle :  33 / 81"
     ]
    },
    {
     "name": "stdout",
     "output_type": "stream",
     "text": [
      "\r11particle :  34 / 81"
     ]
    },
    {
     "name": "stdout",
     "output_type": "stream",
     "text": [
      "\r11particle :  35 / 81"
     ]
    },
    {
     "name": "stdout",
     "output_type": "stream",
     "text": [
      "\r11particle :  36 / 81"
     ]
    },
    {
     "name": "stdout",
     "output_type": "stream",
     "text": [
      "\r11particle :  37 / 81"
     ]
    },
    {
     "name": "stdout",
     "output_type": "stream",
     "text": [
      "\r11particle :  38 / 81"
     ]
    },
    {
     "name": "stdout",
     "output_type": "stream",
     "text": [
      "\r11particle :  39 / 81"
     ]
    },
    {
     "name": "stdout",
     "output_type": "stream",
     "text": [
      "\r11particle :  40 / 81"
     ]
    },
    {
     "name": "stdout",
     "output_type": "stream",
     "text": [
      "\r11particle :  41 / 81"
     ]
    },
    {
     "name": "stdout",
     "output_type": "stream",
     "text": [
      "\r11particle :  42 / 81"
     ]
    },
    {
     "name": "stdout",
     "output_type": "stream",
     "text": [
      "\r11particle :  43 / 81"
     ]
    },
    {
     "name": "stdout",
     "output_type": "stream",
     "text": [
      "\r11particle :  44 / 81"
     ]
    },
    {
     "name": "stdout",
     "output_type": "stream",
     "text": [
      "\r11particle :  45 / 81"
     ]
    },
    {
     "name": "stdout",
     "output_type": "stream",
     "text": [
      "\r11particle :  46 / 81"
     ]
    },
    {
     "name": "stdout",
     "output_type": "stream",
     "text": [
      "\r11particle :  47 / 81"
     ]
    },
    {
     "name": "stdout",
     "output_type": "stream",
     "text": [
      "\r11particle :  48 / 81"
     ]
    },
    {
     "name": "stdout",
     "output_type": "stream",
     "text": [
      "\r11particle :  49 / 81"
     ]
    },
    {
     "name": "stdout",
     "output_type": "stream",
     "text": [
      "\r11particle :  50 / 81"
     ]
    },
    {
     "name": "stdout",
     "output_type": "stream",
     "text": [
      "\r11particle :  51 / 81"
     ]
    },
    {
     "name": "stdout",
     "output_type": "stream",
     "text": [
      "\r11particle :  52 / 81"
     ]
    },
    {
     "name": "stdout",
     "output_type": "stream",
     "text": [
      "\r11particle :  53 / 81"
     ]
    },
    {
     "name": "stdout",
     "output_type": "stream",
     "text": [
      "\r11particle :  54 / 81"
     ]
    },
    {
     "name": "stdout",
     "output_type": "stream",
     "text": [
      "\r11particle :  55 / 81"
     ]
    },
    {
     "name": "stdout",
     "output_type": "stream",
     "text": [
      "\r11particle :  56 / 81"
     ]
    },
    {
     "name": "stdout",
     "output_type": "stream",
     "text": [
      "\r11particle :  57 / 81"
     ]
    },
    {
     "name": "stdout",
     "output_type": "stream",
     "text": [
      "\r11particle :  58 / 81"
     ]
    },
    {
     "name": "stdout",
     "output_type": "stream",
     "text": [
      "\r11particle :  59 / 81"
     ]
    },
    {
     "name": "stdout",
     "output_type": "stream",
     "text": [
      "\r11particle :  60 / 81"
     ]
    },
    {
     "name": "stdout",
     "output_type": "stream",
     "text": [
      "\r11particle :  61 / 81"
     ]
    },
    {
     "name": "stdout",
     "output_type": "stream",
     "text": [
      "\r11particle :  62 / 81"
     ]
    },
    {
     "name": "stdout",
     "output_type": "stream",
     "text": [
      "\r11particle :  63 / 81"
     ]
    },
    {
     "name": "stdout",
     "output_type": "stream",
     "text": [
      "\r11particle :  64 / 81"
     ]
    },
    {
     "name": "stdout",
     "output_type": "stream",
     "text": [
      "\r11particle :  65 / 81"
     ]
    },
    {
     "name": "stdout",
     "output_type": "stream",
     "text": [
      "\r11particle :  66 / 81"
     ]
    },
    {
     "name": "stdout",
     "output_type": "stream",
     "text": [
      "\r11particle :  67 / 81"
     ]
    },
    {
     "name": "stdout",
     "output_type": "stream",
     "text": [
      "\r11particle :  68 / 81"
     ]
    },
    {
     "name": "stdout",
     "output_type": "stream",
     "text": [
      "\r11particle :  69 / 81"
     ]
    },
    {
     "name": "stdout",
     "output_type": "stream",
     "text": [
      "\r11particle :  70 / 81"
     ]
    },
    {
     "name": "stdout",
     "output_type": "stream",
     "text": [
      "\r11particle :  71 / 81"
     ]
    },
    {
     "name": "stdout",
     "output_type": "stream",
     "text": [
      "\r11particle :  72 / 81"
     ]
    },
    {
     "name": "stdout",
     "output_type": "stream",
     "text": [
      "\r11particle :  73 / 81"
     ]
    },
    {
     "name": "stdout",
     "output_type": "stream",
     "text": [
      "\r11particle :  74 / 81"
     ]
    },
    {
     "name": "stdout",
     "output_type": "stream",
     "text": [
      "\r11particle :  75 / 81"
     ]
    },
    {
     "name": "stdout",
     "output_type": "stream",
     "text": [
      "\r11particle :  76 / 81"
     ]
    },
    {
     "name": "stdout",
     "output_type": "stream",
     "text": [
      "\r11particle :  77 / 81"
     ]
    },
    {
     "name": "stdout",
     "output_type": "stream",
     "text": [
      "\r11particle :  78 / 81"
     ]
    },
    {
     "name": "stdout",
     "output_type": "stream",
     "text": [
      "\r11particle :  79 / 81"
     ]
    },
    {
     "name": "stdout",
     "output_type": "stream",
     "text": [
      "\r11particle :  80 / 81"
     ]
    },
    {
     "name": "stdout",
     "output_type": "stream",
     "text": [
      "\r12particle :  0 / 81"
     ]
    },
    {
     "name": "stdout",
     "output_type": "stream",
     "text": [
      "\r12particle :  1 / 81"
     ]
    },
    {
     "name": "stdout",
     "output_type": "stream",
     "text": [
      "\r12particle :  2 / 81"
     ]
    },
    {
     "name": "stdout",
     "output_type": "stream",
     "text": [
      "\r12particle :  3 / 81"
     ]
    },
    {
     "name": "stdout",
     "output_type": "stream",
     "text": [
      "\r12particle :  4 / 81"
     ]
    },
    {
     "name": "stdout",
     "output_type": "stream",
     "text": [
      "\r12particle :  5 / 81"
     ]
    },
    {
     "name": "stdout",
     "output_type": "stream",
     "text": [
      "\r12particle :  6 / 81"
     ]
    },
    {
     "name": "stdout",
     "output_type": "stream",
     "text": [
      "\r12particle :  7 / 81"
     ]
    },
    {
     "name": "stdout",
     "output_type": "stream",
     "text": [
      "\r12particle :  8 / 81"
     ]
    },
    {
     "name": "stdout",
     "output_type": "stream",
     "text": [
      "\r12particle :  9 / 81"
     ]
    },
    {
     "name": "stdout",
     "output_type": "stream",
     "text": [
      "\r12particle :  10 / 81"
     ]
    },
    {
     "name": "stdout",
     "output_type": "stream",
     "text": [
      "\r12particle :  11 / 81"
     ]
    },
    {
     "name": "stdout",
     "output_type": "stream",
     "text": [
      "\r12particle :  12 / 81"
     ]
    },
    {
     "name": "stdout",
     "output_type": "stream",
     "text": [
      "\r12particle :  13 / 81"
     ]
    },
    {
     "name": "stdout",
     "output_type": "stream",
     "text": [
      "\r12particle :  14 / 81"
     ]
    },
    {
     "name": "stdout",
     "output_type": "stream",
     "text": [
      "\r12particle :  15 / 81"
     ]
    },
    {
     "name": "stdout",
     "output_type": "stream",
     "text": [
      "\r12particle :  16 / 81"
     ]
    },
    {
     "name": "stdout",
     "output_type": "stream",
     "text": [
      "\r12particle :  17 / 81"
     ]
    },
    {
     "name": "stdout",
     "output_type": "stream",
     "text": [
      "\r12particle :  18 / 81"
     ]
    },
    {
     "name": "stdout",
     "output_type": "stream",
     "text": [
      "\r12particle :  19 / 81"
     ]
    },
    {
     "name": "stdout",
     "output_type": "stream",
     "text": [
      "\r12particle :  20 / 81"
     ]
    },
    {
     "name": "stdout",
     "output_type": "stream",
     "text": [
      "\r12particle :  21 / 81"
     ]
    },
    {
     "name": "stdout",
     "output_type": "stream",
     "text": [
      "\r12particle :  22 / 81"
     ]
    },
    {
     "name": "stdout",
     "output_type": "stream",
     "text": [
      "\r12particle :  23 / 81"
     ]
    },
    {
     "name": "stdout",
     "output_type": "stream",
     "text": [
      "\r12particle :  24 / 81"
     ]
    },
    {
     "name": "stdout",
     "output_type": "stream",
     "text": [
      "\r12particle :  25 / 81"
     ]
    },
    {
     "name": "stdout",
     "output_type": "stream",
     "text": [
      "\r12particle :  26 / 81"
     ]
    },
    {
     "name": "stdout",
     "output_type": "stream",
     "text": [
      "\r12particle :  27 / 81"
     ]
    },
    {
     "name": "stdout",
     "output_type": "stream",
     "text": [
      "\r12particle :  28 / 81"
     ]
    },
    {
     "name": "stdout",
     "output_type": "stream",
     "text": [
      "\r12particle :  29 / 81"
     ]
    },
    {
     "name": "stdout",
     "output_type": "stream",
     "text": [
      "\r12particle :  30 / 81"
     ]
    },
    {
     "name": "stdout",
     "output_type": "stream",
     "text": [
      "\r12particle :  31 / 81"
     ]
    },
    {
     "name": "stdout",
     "output_type": "stream",
     "text": [
      "\r12particle :  32 / 81"
     ]
    },
    {
     "name": "stdout",
     "output_type": "stream",
     "text": [
      "\r12particle :  33 / 81"
     ]
    },
    {
     "name": "stdout",
     "output_type": "stream",
     "text": [
      "\r12particle :  34 / 81"
     ]
    },
    {
     "name": "stdout",
     "output_type": "stream",
     "text": [
      "\r12particle :  35 / 81"
     ]
    },
    {
     "name": "stdout",
     "output_type": "stream",
     "text": [
      "\r12particle :  36 / 81"
     ]
    },
    {
     "name": "stdout",
     "output_type": "stream",
     "text": [
      "\r12particle :  37 / 81"
     ]
    },
    {
     "name": "stdout",
     "output_type": "stream",
     "text": [
      "\r12particle :  38 / 81"
     ]
    },
    {
     "name": "stdout",
     "output_type": "stream",
     "text": [
      "\r12particle :  39 / 81"
     ]
    },
    {
     "name": "stdout",
     "output_type": "stream",
     "text": [
      "\r12particle :  40 / 81"
     ]
    },
    {
     "name": "stdout",
     "output_type": "stream",
     "text": [
      "\r12particle :  41 / 81"
     ]
    },
    {
     "name": "stdout",
     "output_type": "stream",
     "text": [
      "\r12particle :  42 / 81"
     ]
    },
    {
     "name": "stdout",
     "output_type": "stream",
     "text": [
      "\r12particle :  43 / 81"
     ]
    },
    {
     "name": "stdout",
     "output_type": "stream",
     "text": [
      "\r12particle :  44 / 81"
     ]
    },
    {
     "name": "stdout",
     "output_type": "stream",
     "text": [
      "\r12particle :  45 / 81"
     ]
    },
    {
     "name": "stdout",
     "output_type": "stream",
     "text": [
      "\r12particle :  46 / 81"
     ]
    },
    {
     "name": "stdout",
     "output_type": "stream",
     "text": [
      "\r12particle :  47 / 81"
     ]
    },
    {
     "name": "stdout",
     "output_type": "stream",
     "text": [
      "\r12particle :  48 / 81"
     ]
    },
    {
     "name": "stdout",
     "output_type": "stream",
     "text": [
      "\r12particle :  49 / 81"
     ]
    },
    {
     "name": "stdout",
     "output_type": "stream",
     "text": [
      "\r12particle :  50 / 81"
     ]
    },
    {
     "name": "stdout",
     "output_type": "stream",
     "text": [
      "\r12particle :  51 / 81"
     ]
    },
    {
     "name": "stdout",
     "output_type": "stream",
     "text": [
      "\r12particle :  52 / 81"
     ]
    },
    {
     "name": "stdout",
     "output_type": "stream",
     "text": [
      "\r12particle :  53 / 81"
     ]
    },
    {
     "name": "stdout",
     "output_type": "stream",
     "text": [
      "\r12particle :  54 / 81"
     ]
    },
    {
     "name": "stdout",
     "output_type": "stream",
     "text": [
      "\r12particle :  55 / 81"
     ]
    },
    {
     "name": "stdout",
     "output_type": "stream",
     "text": [
      "\r12particle :  56 / 81"
     ]
    },
    {
     "name": "stdout",
     "output_type": "stream",
     "text": [
      "\r12particle :  57 / 81"
     ]
    },
    {
     "name": "stdout",
     "output_type": "stream",
     "text": [
      "\r12particle :  58 / 81"
     ]
    },
    {
     "name": "stdout",
     "output_type": "stream",
     "text": [
      "\r12particle :  59 / 81"
     ]
    },
    {
     "name": "stdout",
     "output_type": "stream",
     "text": [
      "\r12particle :  60 / 81"
     ]
    },
    {
     "name": "stdout",
     "output_type": "stream",
     "text": [
      "\r12particle :  61 / 81"
     ]
    },
    {
     "name": "stdout",
     "output_type": "stream",
     "text": [
      "\r12particle :  62 / 81"
     ]
    },
    {
     "name": "stdout",
     "output_type": "stream",
     "text": [
      "\r12particle :  63 / 81"
     ]
    },
    {
     "name": "stdout",
     "output_type": "stream",
     "text": [
      "\r12particle :  64 / 81"
     ]
    },
    {
     "name": "stdout",
     "output_type": "stream",
     "text": [
      "\r12particle :  65 / 81"
     ]
    },
    {
     "name": "stdout",
     "output_type": "stream",
     "text": [
      "\r12particle :  66 / 81"
     ]
    },
    {
     "name": "stdout",
     "output_type": "stream",
     "text": [
      "\r12particle :  67 / 81"
     ]
    },
    {
     "name": "stdout",
     "output_type": "stream",
     "text": [
      "\r12particle :  68 / 81"
     ]
    },
    {
     "name": "stdout",
     "output_type": "stream",
     "text": [
      "\r12particle :  69 / 81"
     ]
    },
    {
     "name": "stdout",
     "output_type": "stream",
     "text": [
      "\r12particle :  70 / 81"
     ]
    },
    {
     "name": "stdout",
     "output_type": "stream",
     "text": [
      "\r12particle :  71 / 81"
     ]
    },
    {
     "name": "stdout",
     "output_type": "stream",
     "text": [
      "\r12particle :  72 / 81"
     ]
    },
    {
     "name": "stdout",
     "output_type": "stream",
     "text": [
      "\r12particle :  73 / 81"
     ]
    },
    {
     "name": "stdout",
     "output_type": "stream",
     "text": [
      "\r12particle :  74 / 81"
     ]
    },
    {
     "name": "stdout",
     "output_type": "stream",
     "text": [
      "\r12particle :  75 / 81"
     ]
    },
    {
     "name": "stdout",
     "output_type": "stream",
     "text": [
      "\r12particle :  76 / 81"
     ]
    },
    {
     "name": "stdout",
     "output_type": "stream",
     "text": [
      "\r12particle :  77 / 81"
     ]
    },
    {
     "name": "stdout",
     "output_type": "stream",
     "text": [
      "\r12particle :  78 / 81"
     ]
    },
    {
     "name": "stdout",
     "output_type": "stream",
     "text": [
      "\r12particle :  79 / 81"
     ]
    },
    {
     "name": "stdout",
     "output_type": "stream",
     "text": [
      "\r12particle :  80 / 81"
     ]
    },
    {
     "name": "stdout",
     "output_type": "stream",
     "text": [
      "\r13particle :  0 / 81"
     ]
    },
    {
     "name": "stdout",
     "output_type": "stream",
     "text": [
      "\r13particle :  1 / 81"
     ]
    },
    {
     "name": "stdout",
     "output_type": "stream",
     "text": [
      "\r13particle :  2 / 81"
     ]
    },
    {
     "name": "stdout",
     "output_type": "stream",
     "text": [
      "\r13particle :  3 / 81"
     ]
    },
    {
     "name": "stdout",
     "output_type": "stream",
     "text": [
      "\r13particle :  4 / 81"
     ]
    },
    {
     "name": "stdout",
     "output_type": "stream",
     "text": [
      "\r13particle :  5 / 81"
     ]
    },
    {
     "name": "stdout",
     "output_type": "stream",
     "text": [
      "\r13particle :  6 / 81"
     ]
    },
    {
     "name": "stdout",
     "output_type": "stream",
     "text": [
      "\r13particle :  7 / 81"
     ]
    },
    {
     "name": "stdout",
     "output_type": "stream",
     "text": [
      "\r13particle :  8 / 81"
     ]
    },
    {
     "name": "stdout",
     "output_type": "stream",
     "text": [
      "\r13particle :  9 / 81"
     ]
    },
    {
     "name": "stdout",
     "output_type": "stream",
     "text": [
      "\r13particle :  10 / 81"
     ]
    },
    {
     "name": "stdout",
     "output_type": "stream",
     "text": [
      "\r13particle :  11 / 81"
     ]
    },
    {
     "name": "stdout",
     "output_type": "stream",
     "text": [
      "\r13particle :  12 / 81"
     ]
    },
    {
     "name": "stdout",
     "output_type": "stream",
     "text": [
      "\r13particle :  13 / 81"
     ]
    },
    {
     "name": "stdout",
     "output_type": "stream",
     "text": [
      "\r13particle :  14 / 81"
     ]
    },
    {
     "name": "stdout",
     "output_type": "stream",
     "text": [
      "\r13particle :  15 / 81"
     ]
    },
    {
     "name": "stdout",
     "output_type": "stream",
     "text": [
      "\r13particle :  16 / 81"
     ]
    },
    {
     "name": "stdout",
     "output_type": "stream",
     "text": [
      "\r13particle :  17 / 81"
     ]
    },
    {
     "name": "stdout",
     "output_type": "stream",
     "text": [
      "\r13particle :  18 / 81"
     ]
    },
    {
     "name": "stdout",
     "output_type": "stream",
     "text": [
      "\r13particle :  19 / 81"
     ]
    },
    {
     "name": "stdout",
     "output_type": "stream",
     "text": [
      "\r13particle :  20 / 81"
     ]
    },
    {
     "name": "stdout",
     "output_type": "stream",
     "text": [
      "\r13particle :  21 / 81"
     ]
    },
    {
     "name": "stdout",
     "output_type": "stream",
     "text": [
      "\r13particle :  22 / 81"
     ]
    },
    {
     "name": "stdout",
     "output_type": "stream",
     "text": [
      "\r13particle :  23 / 81"
     ]
    },
    {
     "name": "stdout",
     "output_type": "stream",
     "text": [
      "\r13particle :  24 / 81"
     ]
    },
    {
     "name": "stdout",
     "output_type": "stream",
     "text": [
      "\r13particle :  25 / 81"
     ]
    },
    {
     "name": "stdout",
     "output_type": "stream",
     "text": [
      "\r13particle :  26 / 81"
     ]
    },
    {
     "name": "stdout",
     "output_type": "stream",
     "text": [
      "\r13particle :  27 / 81"
     ]
    },
    {
     "name": "stdout",
     "output_type": "stream",
     "text": [
      "\r13particle :  28 / 81"
     ]
    },
    {
     "name": "stdout",
     "output_type": "stream",
     "text": [
      "\r13particle :  29 / 81"
     ]
    },
    {
     "name": "stdout",
     "output_type": "stream",
     "text": [
      "\r13particle :  30 / 81"
     ]
    },
    {
     "name": "stdout",
     "output_type": "stream",
     "text": [
      "\r13particle :  31 / 81"
     ]
    },
    {
     "name": "stdout",
     "output_type": "stream",
     "text": [
      "\r13particle :  32 / 81"
     ]
    },
    {
     "name": "stdout",
     "output_type": "stream",
     "text": [
      "\r13particle :  33 / 81"
     ]
    },
    {
     "name": "stdout",
     "output_type": "stream",
     "text": [
      "\r13particle :  34 / 81"
     ]
    },
    {
     "name": "stdout",
     "output_type": "stream",
     "text": [
      "\r13particle :  35 / 81"
     ]
    },
    {
     "name": "stdout",
     "output_type": "stream",
     "text": [
      "\r13particle :  36 / 81"
     ]
    },
    {
     "name": "stdout",
     "output_type": "stream",
     "text": [
      "\r13particle :  37 / 81"
     ]
    },
    {
     "name": "stdout",
     "output_type": "stream",
     "text": [
      "\r13particle :  38 / 81"
     ]
    },
    {
     "name": "stdout",
     "output_type": "stream",
     "text": [
      "\r13particle :  39 / 81"
     ]
    },
    {
     "name": "stdout",
     "output_type": "stream",
     "text": [
      "\r13particle :  40 / 81"
     ]
    },
    {
     "name": "stdout",
     "output_type": "stream",
     "text": [
      "\r13particle :  41 / 81"
     ]
    },
    {
     "name": "stdout",
     "output_type": "stream",
     "text": [
      "\r13particle :  42 / 81"
     ]
    },
    {
     "name": "stdout",
     "output_type": "stream",
     "text": [
      "\r13particle :  43 / 81"
     ]
    },
    {
     "name": "stdout",
     "output_type": "stream",
     "text": [
      "\r13particle :  44 / 81"
     ]
    },
    {
     "name": "stdout",
     "output_type": "stream",
     "text": [
      "\r13particle :  45 / 81"
     ]
    },
    {
     "name": "stdout",
     "output_type": "stream",
     "text": [
      "\r13particle :  46 / 81"
     ]
    },
    {
     "name": "stdout",
     "output_type": "stream",
     "text": [
      "\r13particle :  47 / 81"
     ]
    },
    {
     "name": "stdout",
     "output_type": "stream",
     "text": [
      "\r13particle :  48 / 81"
     ]
    },
    {
     "name": "stdout",
     "output_type": "stream",
     "text": [
      "\r13particle :  49 / 81"
     ]
    },
    {
     "name": "stdout",
     "output_type": "stream",
     "text": [
      "\r13particle :  50 / 81"
     ]
    },
    {
     "name": "stdout",
     "output_type": "stream",
     "text": [
      "\r13particle :  51 / 81"
     ]
    },
    {
     "name": "stdout",
     "output_type": "stream",
     "text": [
      "\r13particle :  52 / 81"
     ]
    },
    {
     "name": "stdout",
     "output_type": "stream",
     "text": [
      "\r13particle :  53 / 81"
     ]
    },
    {
     "name": "stdout",
     "output_type": "stream",
     "text": [
      "\r13particle :  54 / 81"
     ]
    },
    {
     "name": "stdout",
     "output_type": "stream",
     "text": [
      "\r13particle :  55 / 81"
     ]
    },
    {
     "name": "stdout",
     "output_type": "stream",
     "text": [
      "\r13particle :  56 / 81"
     ]
    },
    {
     "name": "stdout",
     "output_type": "stream",
     "text": [
      "\r13particle :  57 / 81"
     ]
    },
    {
     "name": "stdout",
     "output_type": "stream",
     "text": [
      "\r13particle :  58 / 81"
     ]
    },
    {
     "name": "stdout",
     "output_type": "stream",
     "text": [
      "\r13particle :  59 / 81"
     ]
    },
    {
     "name": "stdout",
     "output_type": "stream",
     "text": [
      "\r13particle :  60 / 81"
     ]
    },
    {
     "name": "stdout",
     "output_type": "stream",
     "text": [
      "\r13particle :  61 / 81"
     ]
    },
    {
     "name": "stdout",
     "output_type": "stream",
     "text": [
      "\r13particle :  62 / 81"
     ]
    },
    {
     "name": "stdout",
     "output_type": "stream",
     "text": [
      "\r13particle :  63 / 81"
     ]
    },
    {
     "name": "stdout",
     "output_type": "stream",
     "text": [
      "\r13particle :  64 / 81"
     ]
    },
    {
     "name": "stdout",
     "output_type": "stream",
     "text": [
      "\r13particle :  65 / 81"
     ]
    },
    {
     "name": "stdout",
     "output_type": "stream",
     "text": [
      "\r13particle :  66 / 81"
     ]
    },
    {
     "name": "stdout",
     "output_type": "stream",
     "text": [
      "\r13particle :  67 / 81"
     ]
    },
    {
     "name": "stdout",
     "output_type": "stream",
     "text": [
      "\r13particle :  68 / 81"
     ]
    },
    {
     "name": "stdout",
     "output_type": "stream",
     "text": [
      "\r13particle :  69 / 81"
     ]
    },
    {
     "name": "stdout",
     "output_type": "stream",
     "text": [
      "\r13particle :  70 / 81"
     ]
    },
    {
     "name": "stdout",
     "output_type": "stream",
     "text": [
      "\r13particle :  71 / 81"
     ]
    },
    {
     "name": "stdout",
     "output_type": "stream",
     "text": [
      "\r13particle :  72 / 81"
     ]
    },
    {
     "name": "stdout",
     "output_type": "stream",
     "text": [
      "\r13particle :  73 / 81"
     ]
    },
    {
     "name": "stdout",
     "output_type": "stream",
     "text": [
      "\r13particle :  74 / 81"
     ]
    },
    {
     "name": "stdout",
     "output_type": "stream",
     "text": [
      "\r13particle :  75 / 81"
     ]
    },
    {
     "name": "stdout",
     "output_type": "stream",
     "text": [
      "\r13particle :  76 / 81"
     ]
    },
    {
     "name": "stdout",
     "output_type": "stream",
     "text": [
      "\r13particle :  77 / 81"
     ]
    },
    {
     "name": "stdout",
     "output_type": "stream",
     "text": [
      "\r13particle :  78 / 81"
     ]
    },
    {
     "name": "stdout",
     "output_type": "stream",
     "text": [
      "\r13particle :  79 / 81"
     ]
    },
    {
     "name": "stdout",
     "output_type": "stream",
     "text": [
      "\r13particle :  80 / 81"
     ]
    },
    {
     "name": "stdout",
     "output_type": "stream",
     "text": [
      "\r14particle :  0 / 81"
     ]
    },
    {
     "name": "stdout",
     "output_type": "stream",
     "text": [
      "\r14particle :  1 / 81"
     ]
    },
    {
     "name": "stdout",
     "output_type": "stream",
     "text": [
      "\r14particle :  2 / 81"
     ]
    },
    {
     "name": "stdout",
     "output_type": "stream",
     "text": [
      "\r14particle :  3 / 81"
     ]
    },
    {
     "name": "stdout",
     "output_type": "stream",
     "text": [
      "\r14particle :  4 / 81"
     ]
    },
    {
     "name": "stdout",
     "output_type": "stream",
     "text": [
      "\r14particle :  5 / 81"
     ]
    },
    {
     "name": "stdout",
     "output_type": "stream",
     "text": [
      "\r14particle :  6 / 81"
     ]
    },
    {
     "name": "stdout",
     "output_type": "stream",
     "text": [
      "\r14particle :  7 / 81"
     ]
    },
    {
     "name": "stdout",
     "output_type": "stream",
     "text": [
      "\r14particle :  8 / 81"
     ]
    },
    {
     "name": "stdout",
     "output_type": "stream",
     "text": [
      "\r14particle :  9 / 81"
     ]
    },
    {
     "name": "stdout",
     "output_type": "stream",
     "text": [
      "\r14particle :  10 / 81"
     ]
    },
    {
     "name": "stdout",
     "output_type": "stream",
     "text": [
      "\r14particle :  11 / 81"
     ]
    },
    {
     "name": "stdout",
     "output_type": "stream",
     "text": [
      "\r14particle :  12 / 81"
     ]
    },
    {
     "name": "stdout",
     "output_type": "stream",
     "text": [
      "\r14particle :  13 / 81"
     ]
    },
    {
     "name": "stdout",
     "output_type": "stream",
     "text": [
      "\r14particle :  14 / 81"
     ]
    },
    {
     "name": "stdout",
     "output_type": "stream",
     "text": [
      "\r14particle :  15 / 81"
     ]
    },
    {
     "name": "stdout",
     "output_type": "stream",
     "text": [
      "\r14particle :  16 / 81"
     ]
    },
    {
     "name": "stdout",
     "output_type": "stream",
     "text": [
      "\r14particle :  17 / 81"
     ]
    },
    {
     "name": "stdout",
     "output_type": "stream",
     "text": [
      "\r14particle :  18 / 81"
     ]
    },
    {
     "name": "stdout",
     "output_type": "stream",
     "text": [
      "\r14particle :  19 / 81"
     ]
    },
    {
     "name": "stdout",
     "output_type": "stream",
     "text": [
      "\r14particle :  20 / 81"
     ]
    },
    {
     "name": "stdout",
     "output_type": "stream",
     "text": [
      "\r14particle :  21 / 81"
     ]
    },
    {
     "name": "stdout",
     "output_type": "stream",
     "text": [
      "\r14particle :  22 / 81"
     ]
    },
    {
     "name": "stdout",
     "output_type": "stream",
     "text": [
      "\r14particle :  23 / 81"
     ]
    },
    {
     "name": "stdout",
     "output_type": "stream",
     "text": [
      "\r14particle :  24 / 81"
     ]
    },
    {
     "name": "stdout",
     "output_type": "stream",
     "text": [
      "\r14particle :  25 / 81"
     ]
    },
    {
     "name": "stdout",
     "output_type": "stream",
     "text": [
      "\r14particle :  26 / 81"
     ]
    },
    {
     "name": "stdout",
     "output_type": "stream",
     "text": [
      "\r14particle :  27 / 81"
     ]
    },
    {
     "name": "stdout",
     "output_type": "stream",
     "text": [
      "\r14particle :  28 / 81"
     ]
    },
    {
     "name": "stdout",
     "output_type": "stream",
     "text": [
      "\r14particle :  29 / 81"
     ]
    },
    {
     "name": "stdout",
     "output_type": "stream",
     "text": [
      "\r14particle :  30 / 81"
     ]
    },
    {
     "name": "stdout",
     "output_type": "stream",
     "text": [
      "\r14particle :  31 / 81"
     ]
    },
    {
     "name": "stdout",
     "output_type": "stream",
     "text": [
      "\r14particle :  32 / 81"
     ]
    },
    {
     "name": "stdout",
     "output_type": "stream",
     "text": [
      "\r14particle :  33 / 81"
     ]
    },
    {
     "name": "stdout",
     "output_type": "stream",
     "text": [
      "\r14particle :  34 / 81"
     ]
    },
    {
     "name": "stdout",
     "output_type": "stream",
     "text": [
      "\r14particle :  35 / 81"
     ]
    },
    {
     "name": "stdout",
     "output_type": "stream",
     "text": [
      "\r14particle :  36 / 81"
     ]
    },
    {
     "name": "stdout",
     "output_type": "stream",
     "text": [
      "\r14particle :  37 / 81"
     ]
    },
    {
     "name": "stdout",
     "output_type": "stream",
     "text": [
      "\r14particle :  38 / 81"
     ]
    },
    {
     "name": "stdout",
     "output_type": "stream",
     "text": [
      "\r14particle :  39 / 81"
     ]
    },
    {
     "name": "stdout",
     "output_type": "stream",
     "text": [
      "\r14particle :  40 / 81"
     ]
    },
    {
     "name": "stdout",
     "output_type": "stream",
     "text": [
      "\r14particle :  41 / 81"
     ]
    },
    {
     "name": "stdout",
     "output_type": "stream",
     "text": [
      "\r14particle :  42 / 81"
     ]
    },
    {
     "name": "stdout",
     "output_type": "stream",
     "text": [
      "\r14particle :  43 / 81"
     ]
    },
    {
     "name": "stdout",
     "output_type": "stream",
     "text": [
      "\r14particle :  44 / 81"
     ]
    },
    {
     "name": "stdout",
     "output_type": "stream",
     "text": [
      "\r14particle :  45 / 81"
     ]
    },
    {
     "name": "stdout",
     "output_type": "stream",
     "text": [
      "\r14particle :  46 / 81"
     ]
    },
    {
     "name": "stdout",
     "output_type": "stream",
     "text": [
      "\r14particle :  47 / 81"
     ]
    },
    {
     "name": "stdout",
     "output_type": "stream",
     "text": [
      "\r14particle :  48 / 81"
     ]
    },
    {
     "name": "stdout",
     "output_type": "stream",
     "text": [
      "\r14particle :  49 / 81"
     ]
    },
    {
     "name": "stdout",
     "output_type": "stream",
     "text": [
      "\r14particle :  50 / 81"
     ]
    },
    {
     "name": "stdout",
     "output_type": "stream",
     "text": [
      "\r14particle :  51 / 81"
     ]
    },
    {
     "name": "stdout",
     "output_type": "stream",
     "text": [
      "\r14particle :  52 / 81"
     ]
    },
    {
     "name": "stdout",
     "output_type": "stream",
     "text": [
      "\r14particle :  53 / 81"
     ]
    },
    {
     "name": "stdout",
     "output_type": "stream",
     "text": [
      "\r14particle :  54 / 81"
     ]
    },
    {
     "name": "stdout",
     "output_type": "stream",
     "text": [
      "\r14particle :  55 / 81"
     ]
    },
    {
     "name": "stdout",
     "output_type": "stream",
     "text": [
      "\r14particle :  56 / 81"
     ]
    },
    {
     "name": "stdout",
     "output_type": "stream",
     "text": [
      "\r14particle :  57 / 81"
     ]
    },
    {
     "name": "stdout",
     "output_type": "stream",
     "text": [
      "\r14particle :  58 / 81"
     ]
    },
    {
     "name": "stdout",
     "output_type": "stream",
     "text": [
      "\r14particle :  59 / 81"
     ]
    },
    {
     "name": "stdout",
     "output_type": "stream",
     "text": [
      "\r14particle :  60 / 81"
     ]
    },
    {
     "name": "stdout",
     "output_type": "stream",
     "text": [
      "\r14particle :  61 / 81"
     ]
    },
    {
     "name": "stdout",
     "output_type": "stream",
     "text": [
      "\r14particle :  62 / 81"
     ]
    },
    {
     "name": "stdout",
     "output_type": "stream",
     "text": [
      "\r14particle :  63 / 81"
     ]
    },
    {
     "name": "stdout",
     "output_type": "stream",
     "text": [
      "\r14particle :  64 / 81"
     ]
    },
    {
     "name": "stdout",
     "output_type": "stream",
     "text": [
      "\r14particle :  65 / 81"
     ]
    },
    {
     "name": "stdout",
     "output_type": "stream",
     "text": [
      "\r14particle :  66 / 81"
     ]
    },
    {
     "name": "stdout",
     "output_type": "stream",
     "text": [
      "\r14particle :  67 / 81"
     ]
    },
    {
     "name": "stdout",
     "output_type": "stream",
     "text": [
      "\r14particle :  68 / 81"
     ]
    },
    {
     "name": "stdout",
     "output_type": "stream",
     "text": [
      "\r14particle :  69 / 81"
     ]
    },
    {
     "name": "stdout",
     "output_type": "stream",
     "text": [
      "\r14particle :  70 / 81"
     ]
    },
    {
     "name": "stdout",
     "output_type": "stream",
     "text": [
      "\r14particle :  71 / 81"
     ]
    },
    {
     "name": "stdout",
     "output_type": "stream",
     "text": [
      "\r14particle :  72 / 81"
     ]
    },
    {
     "name": "stdout",
     "output_type": "stream",
     "text": [
      "\r14particle :  73 / 81"
     ]
    },
    {
     "name": "stdout",
     "output_type": "stream",
     "text": [
      "\r14particle :  74 / 81"
     ]
    },
    {
     "name": "stdout",
     "output_type": "stream",
     "text": [
      "\r14particle :  75 / 81"
     ]
    },
    {
     "name": "stdout",
     "output_type": "stream",
     "text": [
      "\r14particle :  76 / 81"
     ]
    },
    {
     "name": "stdout",
     "output_type": "stream",
     "text": [
      "\r14particle :  77 / 81"
     ]
    },
    {
     "name": "stdout",
     "output_type": "stream",
     "text": [
      "\r14particle :  78 / 81"
     ]
    },
    {
     "name": "stdout",
     "output_type": "stream",
     "text": [
      "\r14particle :  79 / 81"
     ]
    },
    {
     "name": "stdout",
     "output_type": "stream",
     "text": [
      "\r14particle :  80 / 81"
     ]
    },
    {
     "name": "stdout",
     "output_type": "stream",
     "text": [
      "\r15particle :  0 / 81"
     ]
    },
    {
     "name": "stdout",
     "output_type": "stream",
     "text": [
      "\r15particle :  1 / 81"
     ]
    },
    {
     "name": "stdout",
     "output_type": "stream",
     "text": [
      "\r15particle :  2 / 81"
     ]
    },
    {
     "name": "stdout",
     "output_type": "stream",
     "text": [
      "\r15particle :  3 / 81"
     ]
    },
    {
     "name": "stdout",
     "output_type": "stream",
     "text": [
      "\r15particle :  4 / 81"
     ]
    },
    {
     "name": "stdout",
     "output_type": "stream",
     "text": [
      "\r15particle :  5 / 81"
     ]
    },
    {
     "name": "stdout",
     "output_type": "stream",
     "text": [
      "\r15particle :  6 / 81"
     ]
    },
    {
     "name": "stdout",
     "output_type": "stream",
     "text": [
      "\r15particle :  7 / 81"
     ]
    },
    {
     "name": "stdout",
     "output_type": "stream",
     "text": [
      "\r15particle :  8 / 81"
     ]
    },
    {
     "name": "stdout",
     "output_type": "stream",
     "text": [
      "\r15particle :  9 / 81"
     ]
    },
    {
     "name": "stdout",
     "output_type": "stream",
     "text": [
      "\r15particle :  10 / 81"
     ]
    },
    {
     "name": "stdout",
     "output_type": "stream",
     "text": [
      "\r15particle :  11 / 81"
     ]
    },
    {
     "name": "stdout",
     "output_type": "stream",
     "text": [
      "\r15particle :  12 / 81"
     ]
    },
    {
     "name": "stdout",
     "output_type": "stream",
     "text": [
      "\r15particle :  13 / 81"
     ]
    },
    {
     "name": "stdout",
     "output_type": "stream",
     "text": [
      "\r15particle :  14 / 81"
     ]
    },
    {
     "name": "stdout",
     "output_type": "stream",
     "text": [
      "\r15particle :  15 / 81"
     ]
    },
    {
     "name": "stdout",
     "output_type": "stream",
     "text": [
      "\r15particle :  16 / 81"
     ]
    },
    {
     "name": "stdout",
     "output_type": "stream",
     "text": [
      "\r15particle :  17 / 81"
     ]
    },
    {
     "name": "stdout",
     "output_type": "stream",
     "text": [
      "\r15particle :  18 / 81"
     ]
    },
    {
     "name": "stdout",
     "output_type": "stream",
     "text": [
      "\r15particle :  19 / 81"
     ]
    },
    {
     "name": "stdout",
     "output_type": "stream",
     "text": [
      "\r15particle :  20 / 81"
     ]
    },
    {
     "name": "stdout",
     "output_type": "stream",
     "text": [
      "\r15particle :  21 / 81"
     ]
    },
    {
     "name": "stdout",
     "output_type": "stream",
     "text": [
      "\r15particle :  22 / 81"
     ]
    },
    {
     "name": "stdout",
     "output_type": "stream",
     "text": [
      "\r15particle :  23 / 81"
     ]
    },
    {
     "name": "stdout",
     "output_type": "stream",
     "text": [
      "\r15particle :  24 / 81"
     ]
    },
    {
     "name": "stdout",
     "output_type": "stream",
     "text": [
      "\r15particle :  25 / 81"
     ]
    },
    {
     "name": "stdout",
     "output_type": "stream",
     "text": [
      "\r15particle :  26 / 81"
     ]
    },
    {
     "name": "stdout",
     "output_type": "stream",
     "text": [
      "\r15particle :  27 / 81"
     ]
    },
    {
     "name": "stdout",
     "output_type": "stream",
     "text": [
      "\r15particle :  28 / 81"
     ]
    },
    {
     "name": "stdout",
     "output_type": "stream",
     "text": [
      "\r15particle :  29 / 81"
     ]
    },
    {
     "name": "stdout",
     "output_type": "stream",
     "text": [
      "\r15particle :  30 / 81"
     ]
    },
    {
     "name": "stdout",
     "output_type": "stream",
     "text": [
      "\r15particle :  31 / 81"
     ]
    },
    {
     "name": "stdout",
     "output_type": "stream",
     "text": [
      "\r15particle :  32 / 81"
     ]
    },
    {
     "name": "stdout",
     "output_type": "stream",
     "text": [
      "\r15particle :  33 / 81"
     ]
    },
    {
     "name": "stdout",
     "output_type": "stream",
     "text": [
      "\r15particle :  34 / 81"
     ]
    },
    {
     "name": "stdout",
     "output_type": "stream",
     "text": [
      "\r15particle :  35 / 81"
     ]
    },
    {
     "name": "stdout",
     "output_type": "stream",
     "text": [
      "\r15particle :  36 / 81"
     ]
    },
    {
     "name": "stdout",
     "output_type": "stream",
     "text": [
      "\r15particle :  37 / 81"
     ]
    },
    {
     "name": "stdout",
     "output_type": "stream",
     "text": [
      "\r15particle :  38 / 81"
     ]
    },
    {
     "name": "stdout",
     "output_type": "stream",
     "text": [
      "\r15particle :  39 / 81"
     ]
    },
    {
     "name": "stdout",
     "output_type": "stream",
     "text": [
      "\r15particle :  40 / 81"
     ]
    },
    {
     "name": "stdout",
     "output_type": "stream",
     "text": [
      "\r15particle :  41 / 81"
     ]
    },
    {
     "name": "stdout",
     "output_type": "stream",
     "text": [
      "\r15particle :  42 / 81"
     ]
    },
    {
     "name": "stdout",
     "output_type": "stream",
     "text": [
      "\r15particle :  43 / 81"
     ]
    },
    {
     "name": "stdout",
     "output_type": "stream",
     "text": [
      "\r15particle :  44 / 81"
     ]
    },
    {
     "name": "stdout",
     "output_type": "stream",
     "text": [
      "\r15particle :  45 / 81"
     ]
    },
    {
     "name": "stdout",
     "output_type": "stream",
     "text": [
      "\r15particle :  46 / 81"
     ]
    },
    {
     "name": "stdout",
     "output_type": "stream",
     "text": [
      "\r15particle :  47 / 81"
     ]
    },
    {
     "name": "stdout",
     "output_type": "stream",
     "text": [
      "\r15particle :  48 / 81"
     ]
    },
    {
     "name": "stdout",
     "output_type": "stream",
     "text": [
      "\r15particle :  49 / 81"
     ]
    },
    {
     "name": "stdout",
     "output_type": "stream",
     "text": [
      "\r15particle :  50 / 81"
     ]
    },
    {
     "name": "stdout",
     "output_type": "stream",
     "text": [
      "\r15particle :  51 / 81"
     ]
    },
    {
     "name": "stdout",
     "output_type": "stream",
     "text": [
      "\r15particle :  52 / 81"
     ]
    },
    {
     "name": "stdout",
     "output_type": "stream",
     "text": [
      "\r15particle :  53 / 81"
     ]
    },
    {
     "name": "stdout",
     "output_type": "stream",
     "text": [
      "\r15particle :  54 / 81"
     ]
    },
    {
     "name": "stdout",
     "output_type": "stream",
     "text": [
      "\r15particle :  55 / 81"
     ]
    },
    {
     "name": "stdout",
     "output_type": "stream",
     "text": [
      "\r15particle :  56 / 81"
     ]
    },
    {
     "name": "stdout",
     "output_type": "stream",
     "text": [
      "\r15particle :  57 / 81"
     ]
    },
    {
     "name": "stdout",
     "output_type": "stream",
     "text": [
      "\r15particle :  58 / 81"
     ]
    },
    {
     "name": "stdout",
     "output_type": "stream",
     "text": [
      "\r15particle :  59 / 81"
     ]
    },
    {
     "name": "stdout",
     "output_type": "stream",
     "text": [
      "\r15particle :  60 / 81"
     ]
    },
    {
     "name": "stdout",
     "output_type": "stream",
     "text": [
      "\r15particle :  61 / 81"
     ]
    },
    {
     "name": "stdout",
     "output_type": "stream",
     "text": [
      "\r15particle :  62 / 81"
     ]
    },
    {
     "name": "stdout",
     "output_type": "stream",
     "text": [
      "\r15particle :  63 / 81"
     ]
    },
    {
     "name": "stdout",
     "output_type": "stream",
     "text": [
      "\r15particle :  64 / 81"
     ]
    },
    {
     "name": "stdout",
     "output_type": "stream",
     "text": [
      "\r15particle :  65 / 81"
     ]
    },
    {
     "name": "stdout",
     "output_type": "stream",
     "text": [
      "\r15particle :  66 / 81"
     ]
    },
    {
     "name": "stdout",
     "output_type": "stream",
     "text": [
      "\r15particle :  67 / 81"
     ]
    },
    {
     "name": "stdout",
     "output_type": "stream",
     "text": [
      "\r15particle :  68 / 81"
     ]
    },
    {
     "name": "stdout",
     "output_type": "stream",
     "text": [
      "\r15particle :  69 / 81"
     ]
    },
    {
     "name": "stdout",
     "output_type": "stream",
     "text": [
      "\r15particle :  70 / 81"
     ]
    },
    {
     "name": "stdout",
     "output_type": "stream",
     "text": [
      "\r15particle :  71 / 81"
     ]
    },
    {
     "name": "stdout",
     "output_type": "stream",
     "text": [
      "\r15particle :  72 / 81"
     ]
    },
    {
     "name": "stdout",
     "output_type": "stream",
     "text": [
      "\r15particle :  73 / 81"
     ]
    },
    {
     "name": "stdout",
     "output_type": "stream",
     "text": [
      "\r15particle :  74 / 81"
     ]
    },
    {
     "name": "stdout",
     "output_type": "stream",
     "text": [
      "\r15particle :  75 / 81"
     ]
    },
    {
     "name": "stdout",
     "output_type": "stream",
     "text": [
      "\r15particle :  76 / 81"
     ]
    },
    {
     "name": "stdout",
     "output_type": "stream",
     "text": [
      "\r15particle :  77 / 81"
     ]
    },
    {
     "name": "stdout",
     "output_type": "stream",
     "text": [
      "\r15particle :  78 / 81"
     ]
    },
    {
     "name": "stdout",
     "output_type": "stream",
     "text": [
      "\r15particle :  79 / 81"
     ]
    },
    {
     "name": "stdout",
     "output_type": "stream",
     "text": [
      "\r15particle :  80 / 81"
     ]
    },
    {
     "name": "stdout",
     "output_type": "stream",
     "text": [
      "\r16particle :  0 / 81"
     ]
    },
    {
     "name": "stdout",
     "output_type": "stream",
     "text": [
      "\r16particle :  1 / 81"
     ]
    },
    {
     "name": "stdout",
     "output_type": "stream",
     "text": [
      "\r16particle :  2 / 81"
     ]
    },
    {
     "name": "stdout",
     "output_type": "stream",
     "text": [
      "\r16particle :  3 / 81"
     ]
    },
    {
     "name": "stdout",
     "output_type": "stream",
     "text": [
      "\r16particle :  4 / 81"
     ]
    },
    {
     "name": "stdout",
     "output_type": "stream",
     "text": [
      "\r16particle :  5 / 81"
     ]
    },
    {
     "name": "stdout",
     "output_type": "stream",
     "text": [
      "\r16particle :  6 / 81"
     ]
    },
    {
     "name": "stdout",
     "output_type": "stream",
     "text": [
      "\r16particle :  7 / 81"
     ]
    },
    {
     "name": "stdout",
     "output_type": "stream",
     "text": [
      "\r16particle :  8 / 81"
     ]
    },
    {
     "name": "stdout",
     "output_type": "stream",
     "text": [
      "\r16particle :  9 / 81"
     ]
    },
    {
     "name": "stdout",
     "output_type": "stream",
     "text": [
      "\r16particle :  10 / 81"
     ]
    },
    {
     "name": "stdout",
     "output_type": "stream",
     "text": [
      "\r16particle :  11 / 81"
     ]
    },
    {
     "name": "stdout",
     "output_type": "stream",
     "text": [
      "\r16particle :  12 / 81"
     ]
    },
    {
     "name": "stdout",
     "output_type": "stream",
     "text": [
      "\r16particle :  13 / 81"
     ]
    },
    {
     "name": "stdout",
     "output_type": "stream",
     "text": [
      "\r16particle :  14 / 81"
     ]
    },
    {
     "name": "stdout",
     "output_type": "stream",
     "text": [
      "\r16particle :  15 / 81"
     ]
    },
    {
     "name": "stdout",
     "output_type": "stream",
     "text": [
      "\r16particle :  16 / 81"
     ]
    },
    {
     "name": "stdout",
     "output_type": "stream",
     "text": [
      "\r16particle :  17 / 81"
     ]
    },
    {
     "name": "stdout",
     "output_type": "stream",
     "text": [
      "\r16particle :  18 / 81"
     ]
    },
    {
     "name": "stdout",
     "output_type": "stream",
     "text": [
      "\r16particle :  19 / 81"
     ]
    },
    {
     "name": "stdout",
     "output_type": "stream",
     "text": [
      "\r16particle :  20 / 81"
     ]
    },
    {
     "name": "stdout",
     "output_type": "stream",
     "text": [
      "\r16particle :  21 / 81"
     ]
    },
    {
     "name": "stdout",
     "output_type": "stream",
     "text": [
      "\r16particle :  22 / 81"
     ]
    },
    {
     "name": "stdout",
     "output_type": "stream",
     "text": [
      "\r16particle :  23 / 81"
     ]
    },
    {
     "name": "stdout",
     "output_type": "stream",
     "text": [
      "\r16particle :  24 / 81"
     ]
    },
    {
     "name": "stdout",
     "output_type": "stream",
     "text": [
      "\r16particle :  25 / 81"
     ]
    },
    {
     "name": "stdout",
     "output_type": "stream",
     "text": [
      "\r16particle :  26 / 81"
     ]
    },
    {
     "name": "stdout",
     "output_type": "stream",
     "text": [
      "\r16particle :  27 / 81"
     ]
    },
    {
     "name": "stdout",
     "output_type": "stream",
     "text": [
      "\r16particle :  28 / 81"
     ]
    },
    {
     "name": "stdout",
     "output_type": "stream",
     "text": [
      "\r16particle :  29 / 81"
     ]
    },
    {
     "name": "stdout",
     "output_type": "stream",
     "text": [
      "\r16particle :  30 / 81"
     ]
    },
    {
     "name": "stdout",
     "output_type": "stream",
     "text": [
      "\r16particle :  31 / 81"
     ]
    },
    {
     "name": "stdout",
     "output_type": "stream",
     "text": [
      "\r16particle :  32 / 81"
     ]
    },
    {
     "name": "stdout",
     "output_type": "stream",
     "text": [
      "\r16particle :  33 / 81"
     ]
    },
    {
     "name": "stdout",
     "output_type": "stream",
     "text": [
      "\r16particle :  34 / 81"
     ]
    },
    {
     "name": "stdout",
     "output_type": "stream",
     "text": [
      "\r16particle :  35 / 81"
     ]
    },
    {
     "name": "stdout",
     "output_type": "stream",
     "text": [
      "\r16particle :  36 / 81"
     ]
    },
    {
     "name": "stdout",
     "output_type": "stream",
     "text": [
      "\r16particle :  37 / 81"
     ]
    },
    {
     "name": "stdout",
     "output_type": "stream",
     "text": [
      "\r16particle :  38 / 81"
     ]
    },
    {
     "name": "stdout",
     "output_type": "stream",
     "text": [
      "\r16particle :  39 / 81"
     ]
    },
    {
     "name": "stdout",
     "output_type": "stream",
     "text": [
      "\r16particle :  40 / 81"
     ]
    },
    {
     "name": "stdout",
     "output_type": "stream",
     "text": [
      "\r16particle :  41 / 81"
     ]
    },
    {
     "name": "stdout",
     "output_type": "stream",
     "text": [
      "\r16particle :  42 / 81"
     ]
    },
    {
     "name": "stdout",
     "output_type": "stream",
     "text": [
      "\r16particle :  43 / 81"
     ]
    },
    {
     "name": "stdout",
     "output_type": "stream",
     "text": [
      "\r16particle :  44 / 81"
     ]
    },
    {
     "name": "stdout",
     "output_type": "stream",
     "text": [
      "\r16particle :  45 / 81"
     ]
    },
    {
     "name": "stdout",
     "output_type": "stream",
     "text": [
      "\r16particle :  46 / 81"
     ]
    },
    {
     "name": "stdout",
     "output_type": "stream",
     "text": [
      "\r16particle :  47 / 81"
     ]
    },
    {
     "name": "stdout",
     "output_type": "stream",
     "text": [
      "\r16particle :  48 / 81"
     ]
    },
    {
     "name": "stdout",
     "output_type": "stream",
     "text": [
      "\r16particle :  49 / 81"
     ]
    },
    {
     "name": "stdout",
     "output_type": "stream",
     "text": [
      "\r16particle :  50 / 81"
     ]
    },
    {
     "name": "stdout",
     "output_type": "stream",
     "text": [
      "\r16particle :  51 / 81"
     ]
    },
    {
     "name": "stdout",
     "output_type": "stream",
     "text": [
      "\r16particle :  52 / 81"
     ]
    },
    {
     "name": "stdout",
     "output_type": "stream",
     "text": [
      "\r16particle :  53 / 81"
     ]
    },
    {
     "name": "stdout",
     "output_type": "stream",
     "text": [
      "\r16particle :  54 / 81"
     ]
    },
    {
     "name": "stdout",
     "output_type": "stream",
     "text": [
      "\r16particle :  55 / 81"
     ]
    },
    {
     "name": "stdout",
     "output_type": "stream",
     "text": [
      "\r16particle :  56 / 81"
     ]
    },
    {
     "name": "stdout",
     "output_type": "stream",
     "text": [
      "\r16particle :  57 / 81"
     ]
    },
    {
     "name": "stdout",
     "output_type": "stream",
     "text": [
      "\r16particle :  58 / 81"
     ]
    },
    {
     "name": "stdout",
     "output_type": "stream",
     "text": [
      "\r16particle :  59 / 81"
     ]
    },
    {
     "name": "stdout",
     "output_type": "stream",
     "text": [
      "\r16particle :  60 / 81"
     ]
    },
    {
     "name": "stdout",
     "output_type": "stream",
     "text": [
      "\r16particle :  61 / 81"
     ]
    },
    {
     "name": "stdout",
     "output_type": "stream",
     "text": [
      "\r16particle :  62 / 81"
     ]
    },
    {
     "name": "stdout",
     "output_type": "stream",
     "text": [
      "\r16particle :  63 / 81"
     ]
    },
    {
     "name": "stdout",
     "output_type": "stream",
     "text": [
      "\r16particle :  64 / 81"
     ]
    },
    {
     "name": "stdout",
     "output_type": "stream",
     "text": [
      "\r16particle :  65 / 81"
     ]
    },
    {
     "name": "stdout",
     "output_type": "stream",
     "text": [
      "\r16particle :  66 / 81"
     ]
    },
    {
     "name": "stdout",
     "output_type": "stream",
     "text": [
      "\r16particle :  67 / 81"
     ]
    },
    {
     "name": "stdout",
     "output_type": "stream",
     "text": [
      "\r16particle :  68 / 81"
     ]
    },
    {
     "name": "stdout",
     "output_type": "stream",
     "text": [
      "\r16particle :  69 / 81"
     ]
    },
    {
     "name": "stdout",
     "output_type": "stream",
     "text": [
      "\r16particle :  70 / 81"
     ]
    },
    {
     "name": "stdout",
     "output_type": "stream",
     "text": [
      "\r16particle :  71 / 81"
     ]
    },
    {
     "name": "stdout",
     "output_type": "stream",
     "text": [
      "\r16particle :  72 / 81"
     ]
    },
    {
     "name": "stdout",
     "output_type": "stream",
     "text": [
      "\r16particle :  73 / 81"
     ]
    },
    {
     "name": "stdout",
     "output_type": "stream",
     "text": [
      "\r16particle :  74 / 81"
     ]
    },
    {
     "name": "stdout",
     "output_type": "stream",
     "text": [
      "\r16particle :  75 / 81"
     ]
    },
    {
     "name": "stdout",
     "output_type": "stream",
     "text": [
      "\r16particle :  76 / 81"
     ]
    },
    {
     "name": "stdout",
     "output_type": "stream",
     "text": [
      "\r16particle :  77 / 81"
     ]
    },
    {
     "name": "stdout",
     "output_type": "stream",
     "text": [
      "\r16particle :  78 / 81"
     ]
    },
    {
     "name": "stdout",
     "output_type": "stream",
     "text": [
      "\r16particle :  79 / 81"
     ]
    },
    {
     "name": "stdout",
     "output_type": "stream",
     "text": [
      "\r16particle :  80 / 81"
     ]
    },
    {
     "name": "stdout",
     "output_type": "stream",
     "text": [
      "\r17particle :  0 / 81"
     ]
    },
    {
     "name": "stdout",
     "output_type": "stream",
     "text": [
      "\r17particle :  1 / 81"
     ]
    },
    {
     "name": "stdout",
     "output_type": "stream",
     "text": [
      "\r17particle :  2 / 81"
     ]
    },
    {
     "name": "stdout",
     "output_type": "stream",
     "text": [
      "\r17particle :  3 / 81"
     ]
    },
    {
     "name": "stdout",
     "output_type": "stream",
     "text": [
      "\r17particle :  4 / 81"
     ]
    },
    {
     "name": "stdout",
     "output_type": "stream",
     "text": [
      "\r17particle :  5 / 81"
     ]
    },
    {
     "name": "stdout",
     "output_type": "stream",
     "text": [
      "\r17particle :  6 / 81"
     ]
    },
    {
     "name": "stdout",
     "output_type": "stream",
     "text": [
      "\r17particle :  7 / 81"
     ]
    },
    {
     "name": "stdout",
     "output_type": "stream",
     "text": [
      "\r17particle :  8 / 81"
     ]
    },
    {
     "name": "stdout",
     "output_type": "stream",
     "text": [
      "\r17particle :  9 / 81"
     ]
    },
    {
     "name": "stdout",
     "output_type": "stream",
     "text": [
      "\r17particle :  10 / 81"
     ]
    },
    {
     "name": "stdout",
     "output_type": "stream",
     "text": [
      "\r17particle :  11 / 81"
     ]
    },
    {
     "name": "stdout",
     "output_type": "stream",
     "text": [
      "\r17particle :  12 / 81"
     ]
    },
    {
     "name": "stdout",
     "output_type": "stream",
     "text": [
      "\r17particle :  13 / 81"
     ]
    },
    {
     "name": "stdout",
     "output_type": "stream",
     "text": [
      "\r17particle :  14 / 81"
     ]
    },
    {
     "name": "stdout",
     "output_type": "stream",
     "text": [
      "\r17particle :  15 / 81"
     ]
    },
    {
     "name": "stdout",
     "output_type": "stream",
     "text": [
      "\r17particle :  16 / 81"
     ]
    },
    {
     "name": "stdout",
     "output_type": "stream",
     "text": [
      "\r17particle :  17 / 81"
     ]
    },
    {
     "name": "stdout",
     "output_type": "stream",
     "text": [
      "\r17particle :  18 / 81"
     ]
    },
    {
     "name": "stdout",
     "output_type": "stream",
     "text": [
      "\r17particle :  19 / 81"
     ]
    },
    {
     "name": "stdout",
     "output_type": "stream",
     "text": [
      "\r17particle :  20 / 81"
     ]
    },
    {
     "name": "stdout",
     "output_type": "stream",
     "text": [
      "\r17particle :  21 / 81"
     ]
    },
    {
     "name": "stdout",
     "output_type": "stream",
     "text": [
      "\r17particle :  22 / 81"
     ]
    },
    {
     "name": "stdout",
     "output_type": "stream",
     "text": [
      "\r17particle :  23 / 81"
     ]
    },
    {
     "name": "stdout",
     "output_type": "stream",
     "text": [
      "\r17particle :  24 / 81"
     ]
    },
    {
     "name": "stdout",
     "output_type": "stream",
     "text": [
      "\r17particle :  25 / 81"
     ]
    },
    {
     "name": "stdout",
     "output_type": "stream",
     "text": [
      "\r17particle :  26 / 81"
     ]
    },
    {
     "name": "stdout",
     "output_type": "stream",
     "text": [
      "\r17particle :  27 / 81"
     ]
    },
    {
     "name": "stdout",
     "output_type": "stream",
     "text": [
      "\r17particle :  28 / 81"
     ]
    },
    {
     "name": "stdout",
     "output_type": "stream",
     "text": [
      "\r17particle :  29 / 81"
     ]
    },
    {
     "name": "stdout",
     "output_type": "stream",
     "text": [
      "\r17particle :  30 / 81"
     ]
    },
    {
     "name": "stdout",
     "output_type": "stream",
     "text": [
      "\r17particle :  31 / 81"
     ]
    },
    {
     "name": "stdout",
     "output_type": "stream",
     "text": [
      "\r17particle :  32 / 81"
     ]
    },
    {
     "name": "stdout",
     "output_type": "stream",
     "text": [
      "\r17particle :  33 / 81"
     ]
    },
    {
     "name": "stdout",
     "output_type": "stream",
     "text": [
      "\r17particle :  34 / 81"
     ]
    },
    {
     "name": "stdout",
     "output_type": "stream",
     "text": [
      "\r17particle :  35 / 81"
     ]
    },
    {
     "name": "stdout",
     "output_type": "stream",
     "text": [
      "\r17particle :  36 / 81"
     ]
    },
    {
     "name": "stdout",
     "output_type": "stream",
     "text": [
      "\r17particle :  37 / 81"
     ]
    },
    {
     "name": "stdout",
     "output_type": "stream",
     "text": [
      "\r17particle :  38 / 81"
     ]
    },
    {
     "name": "stdout",
     "output_type": "stream",
     "text": [
      "\r17particle :  39 / 81"
     ]
    },
    {
     "name": "stdout",
     "output_type": "stream",
     "text": [
      "\r17particle :  40 / 81"
     ]
    },
    {
     "name": "stdout",
     "output_type": "stream",
     "text": [
      "\r17particle :  41 / 81"
     ]
    },
    {
     "name": "stdout",
     "output_type": "stream",
     "text": [
      "\r17particle :  42 / 81"
     ]
    },
    {
     "name": "stdout",
     "output_type": "stream",
     "text": [
      "\r17particle :  43 / 81"
     ]
    },
    {
     "name": "stdout",
     "output_type": "stream",
     "text": [
      "\r17particle :  44 / 81"
     ]
    },
    {
     "name": "stdout",
     "output_type": "stream",
     "text": [
      "\r17particle :  45 / 81"
     ]
    },
    {
     "name": "stdout",
     "output_type": "stream",
     "text": [
      "\r17particle :  46 / 81"
     ]
    },
    {
     "name": "stdout",
     "output_type": "stream",
     "text": [
      "\r17particle :  47 / 81"
     ]
    },
    {
     "name": "stdout",
     "output_type": "stream",
     "text": [
      "\r17particle :  48 / 81"
     ]
    },
    {
     "name": "stdout",
     "output_type": "stream",
     "text": [
      "\r17particle :  49 / 81"
     ]
    },
    {
     "name": "stdout",
     "output_type": "stream",
     "text": [
      "\r17particle :  50 / 81"
     ]
    },
    {
     "name": "stdout",
     "output_type": "stream",
     "text": [
      "\r17particle :  51 / 81"
     ]
    },
    {
     "name": "stdout",
     "output_type": "stream",
     "text": [
      "\r17particle :  52 / 81"
     ]
    },
    {
     "name": "stdout",
     "output_type": "stream",
     "text": [
      "\r17particle :  53 / 81"
     ]
    },
    {
     "name": "stdout",
     "output_type": "stream",
     "text": [
      "\r17particle :  54 / 81"
     ]
    },
    {
     "name": "stdout",
     "output_type": "stream",
     "text": [
      "\r17particle :  55 / 81"
     ]
    },
    {
     "name": "stdout",
     "output_type": "stream",
     "text": [
      "\r17particle :  56 / 81"
     ]
    },
    {
     "name": "stdout",
     "output_type": "stream",
     "text": [
      "\r17particle :  57 / 81"
     ]
    },
    {
     "name": "stdout",
     "output_type": "stream",
     "text": [
      "\r17particle :  58 / 81"
     ]
    },
    {
     "name": "stdout",
     "output_type": "stream",
     "text": [
      "\r17particle :  59 / 81"
     ]
    },
    {
     "name": "stdout",
     "output_type": "stream",
     "text": [
      "\r17particle :  60 / 81"
     ]
    },
    {
     "name": "stdout",
     "output_type": "stream",
     "text": [
      "\r17particle :  61 / 81"
     ]
    },
    {
     "name": "stdout",
     "output_type": "stream",
     "text": [
      "\r17particle :  62 / 81"
     ]
    },
    {
     "name": "stdout",
     "output_type": "stream",
     "text": [
      "\r17particle :  63 / 81"
     ]
    },
    {
     "name": "stdout",
     "output_type": "stream",
     "text": [
      "\r17particle :  64 / 81"
     ]
    },
    {
     "name": "stdout",
     "output_type": "stream",
     "text": [
      "\r17particle :  65 / 81"
     ]
    },
    {
     "name": "stdout",
     "output_type": "stream",
     "text": [
      "\r17particle :  66 / 81"
     ]
    },
    {
     "name": "stdout",
     "output_type": "stream",
     "text": [
      "\r17particle :  67 / 81"
     ]
    },
    {
     "name": "stdout",
     "output_type": "stream",
     "text": [
      "\r17particle :  68 / 81"
     ]
    },
    {
     "name": "stdout",
     "output_type": "stream",
     "text": [
      "\r17particle :  69 / 81"
     ]
    },
    {
     "name": "stdout",
     "output_type": "stream",
     "text": [
      "\r17particle :  70 / 81"
     ]
    },
    {
     "name": "stdout",
     "output_type": "stream",
     "text": [
      "\r17particle :  71 / 81"
     ]
    },
    {
     "name": "stdout",
     "output_type": "stream",
     "text": [
      "\r17particle :  72 / 81"
     ]
    },
    {
     "name": "stdout",
     "output_type": "stream",
     "text": [
      "\r17particle :  73 / 81"
     ]
    },
    {
     "name": "stdout",
     "output_type": "stream",
     "text": [
      "\r17particle :  74 / 81"
     ]
    },
    {
     "name": "stdout",
     "output_type": "stream",
     "text": [
      "\r17particle :  75 / 81"
     ]
    },
    {
     "name": "stdout",
     "output_type": "stream",
     "text": [
      "\r17particle :  76 / 81"
     ]
    },
    {
     "name": "stdout",
     "output_type": "stream",
     "text": [
      "\r17particle :  77 / 81"
     ]
    },
    {
     "name": "stdout",
     "output_type": "stream",
     "text": [
      "\r17particle :  78 / 81"
     ]
    },
    {
     "name": "stdout",
     "output_type": "stream",
     "text": [
      "\r17particle :  79 / 81"
     ]
    },
    {
     "name": "stdout",
     "output_type": "stream",
     "text": [
      "\r17particle :  80 / 81"
     ]
    },
    {
     "name": "stdout",
     "output_type": "stream",
     "text": [
      "\r18particle :  0 / 81"
     ]
    },
    {
     "name": "stdout",
     "output_type": "stream",
     "text": [
      "\r18particle :  1 / 81"
     ]
    },
    {
     "name": "stdout",
     "output_type": "stream",
     "text": [
      "\r18particle :  2 / 81"
     ]
    },
    {
     "name": "stdout",
     "output_type": "stream",
     "text": [
      "\r18particle :  3 / 81"
     ]
    },
    {
     "name": "stdout",
     "output_type": "stream",
     "text": [
      "\r18particle :  4 / 81"
     ]
    },
    {
     "name": "stdout",
     "output_type": "stream",
     "text": [
      "\r18particle :  5 / 81"
     ]
    },
    {
     "name": "stdout",
     "output_type": "stream",
     "text": [
      "\r18particle :  6 / 81"
     ]
    },
    {
     "name": "stdout",
     "output_type": "stream",
     "text": [
      "\r18particle :  7 / 81"
     ]
    },
    {
     "name": "stdout",
     "output_type": "stream",
     "text": [
      "\r18particle :  8 / 81"
     ]
    },
    {
     "name": "stdout",
     "output_type": "stream",
     "text": [
      "\r18particle :  9 / 81"
     ]
    },
    {
     "name": "stdout",
     "output_type": "stream",
     "text": [
      "\r18particle :  10 / 81"
     ]
    },
    {
     "name": "stdout",
     "output_type": "stream",
     "text": [
      "\r18particle :  11 / 81"
     ]
    },
    {
     "name": "stdout",
     "output_type": "stream",
     "text": [
      "\r18particle :  12 / 81"
     ]
    },
    {
     "name": "stdout",
     "output_type": "stream",
     "text": [
      "\r18particle :  13 / 81"
     ]
    },
    {
     "name": "stdout",
     "output_type": "stream",
     "text": [
      "\r18particle :  14 / 81"
     ]
    },
    {
     "name": "stdout",
     "output_type": "stream",
     "text": [
      "\r18particle :  15 / 81"
     ]
    },
    {
     "name": "stdout",
     "output_type": "stream",
     "text": [
      "\r18particle :  16 / 81"
     ]
    },
    {
     "name": "stdout",
     "output_type": "stream",
     "text": [
      "\r18particle :  17 / 81"
     ]
    },
    {
     "name": "stdout",
     "output_type": "stream",
     "text": [
      "\r18particle :  18 / 81"
     ]
    },
    {
     "name": "stdout",
     "output_type": "stream",
     "text": [
      "\r18particle :  19 / 81"
     ]
    },
    {
     "name": "stdout",
     "output_type": "stream",
     "text": [
      "\r18particle :  20 / 81"
     ]
    },
    {
     "name": "stdout",
     "output_type": "stream",
     "text": [
      "\r18particle :  21 / 81"
     ]
    },
    {
     "name": "stdout",
     "output_type": "stream",
     "text": [
      "\r18particle :  22 / 81"
     ]
    },
    {
     "name": "stdout",
     "output_type": "stream",
     "text": [
      "\r18particle :  23 / 81"
     ]
    },
    {
     "name": "stdout",
     "output_type": "stream",
     "text": [
      "\r18particle :  24 / 81"
     ]
    },
    {
     "name": "stdout",
     "output_type": "stream",
     "text": [
      "\r18particle :  25 / 81"
     ]
    },
    {
     "name": "stdout",
     "output_type": "stream",
     "text": [
      "\r18particle :  26 / 81"
     ]
    },
    {
     "name": "stdout",
     "output_type": "stream",
     "text": [
      "\r18particle :  27 / 81"
     ]
    },
    {
     "name": "stdout",
     "output_type": "stream",
     "text": [
      "\r18particle :  28 / 81"
     ]
    },
    {
     "name": "stdout",
     "output_type": "stream",
     "text": [
      "\r18particle :  29 / 81"
     ]
    },
    {
     "name": "stdout",
     "output_type": "stream",
     "text": [
      "\r18particle :  30 / 81"
     ]
    },
    {
     "name": "stdout",
     "output_type": "stream",
     "text": [
      "\r18particle :  31 / 81"
     ]
    },
    {
     "name": "stdout",
     "output_type": "stream",
     "text": [
      "\r18particle :  32 / 81"
     ]
    },
    {
     "name": "stdout",
     "output_type": "stream",
     "text": [
      "\r18particle :  33 / 81"
     ]
    },
    {
     "name": "stdout",
     "output_type": "stream",
     "text": [
      "\r18particle :  34 / 81"
     ]
    },
    {
     "name": "stdout",
     "output_type": "stream",
     "text": [
      "\r18particle :  35 / 81"
     ]
    },
    {
     "name": "stdout",
     "output_type": "stream",
     "text": [
      "\r18particle :  36 / 81"
     ]
    },
    {
     "name": "stdout",
     "output_type": "stream",
     "text": [
      "\r18particle :  37 / 81"
     ]
    },
    {
     "name": "stdout",
     "output_type": "stream",
     "text": [
      "\r18particle :  38 / 81"
     ]
    },
    {
     "name": "stdout",
     "output_type": "stream",
     "text": [
      "\r18particle :  39 / 81"
     ]
    },
    {
     "name": "stdout",
     "output_type": "stream",
     "text": [
      "\r18particle :  40 / 81"
     ]
    },
    {
     "name": "stdout",
     "output_type": "stream",
     "text": [
      "\r18particle :  41 / 81"
     ]
    },
    {
     "name": "stdout",
     "output_type": "stream",
     "text": [
      "\r18particle :  42 / 81"
     ]
    },
    {
     "name": "stdout",
     "output_type": "stream",
     "text": [
      "\r18particle :  43 / 81"
     ]
    },
    {
     "name": "stdout",
     "output_type": "stream",
     "text": [
      "\r18particle :  44 / 81"
     ]
    },
    {
     "name": "stdout",
     "output_type": "stream",
     "text": [
      "\r18particle :  45 / 81"
     ]
    },
    {
     "name": "stdout",
     "output_type": "stream",
     "text": [
      "\r18particle :  46 / 81"
     ]
    },
    {
     "name": "stdout",
     "output_type": "stream",
     "text": [
      "\r18particle :  47 / 81"
     ]
    },
    {
     "name": "stdout",
     "output_type": "stream",
     "text": [
      "\r18particle :  48 / 81"
     ]
    },
    {
     "name": "stdout",
     "output_type": "stream",
     "text": [
      "\r18particle :  49 / 81"
     ]
    },
    {
     "name": "stdout",
     "output_type": "stream",
     "text": [
      "\r18particle :  50 / 81"
     ]
    },
    {
     "name": "stdout",
     "output_type": "stream",
     "text": [
      "\r18particle :  51 / 81"
     ]
    },
    {
     "name": "stdout",
     "output_type": "stream",
     "text": [
      "\r18particle :  52 / 81"
     ]
    },
    {
     "name": "stdout",
     "output_type": "stream",
     "text": [
      "\r18particle :  53 / 81"
     ]
    },
    {
     "name": "stdout",
     "output_type": "stream",
     "text": [
      "\r18particle :  54 / 81"
     ]
    },
    {
     "name": "stdout",
     "output_type": "stream",
     "text": [
      "\r18particle :  55 / 81"
     ]
    },
    {
     "name": "stdout",
     "output_type": "stream",
     "text": [
      "\r18particle :  56 / 81"
     ]
    },
    {
     "name": "stdout",
     "output_type": "stream",
     "text": [
      "\r18particle :  57 / 81"
     ]
    },
    {
     "name": "stdout",
     "output_type": "stream",
     "text": [
      "\r18particle :  58 / 81"
     ]
    },
    {
     "name": "stdout",
     "output_type": "stream",
     "text": [
      "\r18particle :  59 / 81"
     ]
    },
    {
     "name": "stdout",
     "output_type": "stream",
     "text": [
      "\r18particle :  60 / 81"
     ]
    },
    {
     "name": "stdout",
     "output_type": "stream",
     "text": [
      "\r18particle :  61 / 81"
     ]
    },
    {
     "name": "stdout",
     "output_type": "stream",
     "text": [
      "\r18particle :  62 / 81"
     ]
    },
    {
     "name": "stdout",
     "output_type": "stream",
     "text": [
      "\r18particle :  63 / 81"
     ]
    },
    {
     "name": "stdout",
     "output_type": "stream",
     "text": [
      "\r18particle :  64 / 81"
     ]
    },
    {
     "name": "stdout",
     "output_type": "stream",
     "text": [
      "\r18particle :  65 / 81"
     ]
    },
    {
     "name": "stdout",
     "output_type": "stream",
     "text": [
      "\r18particle :  66 / 81"
     ]
    },
    {
     "name": "stdout",
     "output_type": "stream",
     "text": [
      "\r18particle :  67 / 81"
     ]
    },
    {
     "name": "stdout",
     "output_type": "stream",
     "text": [
      "\r18particle :  68 / 81"
     ]
    },
    {
     "name": "stdout",
     "output_type": "stream",
     "text": [
      "\r18particle :  69 / 81"
     ]
    },
    {
     "name": "stdout",
     "output_type": "stream",
     "text": [
      "\r18particle :  70 / 81"
     ]
    },
    {
     "name": "stdout",
     "output_type": "stream",
     "text": [
      "\r18particle :  71 / 81"
     ]
    },
    {
     "name": "stdout",
     "output_type": "stream",
     "text": [
      "\r18particle :  72 / 81"
     ]
    },
    {
     "name": "stdout",
     "output_type": "stream",
     "text": [
      "\r18particle :  73 / 81"
     ]
    },
    {
     "name": "stdout",
     "output_type": "stream",
     "text": [
      "\r18particle :  74 / 81"
     ]
    },
    {
     "name": "stdout",
     "output_type": "stream",
     "text": [
      "\r18particle :  75 / 81"
     ]
    },
    {
     "name": "stdout",
     "output_type": "stream",
     "text": [
      "\r18particle :  76 / 81"
     ]
    },
    {
     "name": "stdout",
     "output_type": "stream",
     "text": [
      "\r18particle :  77 / 81"
     ]
    },
    {
     "name": "stdout",
     "output_type": "stream",
     "text": [
      "\r18particle :  78 / 81"
     ]
    },
    {
     "name": "stdout",
     "output_type": "stream",
     "text": [
      "\r18particle :  79 / 81"
     ]
    },
    {
     "name": "stdout",
     "output_type": "stream",
     "text": [
      "\r18particle :  80 / 81"
     ]
    },
    {
     "name": "stdout",
     "output_type": "stream",
     "text": [
      "\r19particle :  0 / 81"
     ]
    },
    {
     "name": "stdout",
     "output_type": "stream",
     "text": [
      "\r19particle :  1 / 81"
     ]
    },
    {
     "name": "stdout",
     "output_type": "stream",
     "text": [
      "\r19particle :  2 / 81"
     ]
    },
    {
     "name": "stdout",
     "output_type": "stream",
     "text": [
      "\r19particle :  3 / 81"
     ]
    },
    {
     "name": "stdout",
     "output_type": "stream",
     "text": [
      "\r19particle :  4 / 81"
     ]
    },
    {
     "name": "stdout",
     "output_type": "stream",
     "text": [
      "\r19particle :  5 / 81"
     ]
    },
    {
     "name": "stdout",
     "output_type": "stream",
     "text": [
      "\r19particle :  6 / 81"
     ]
    },
    {
     "name": "stdout",
     "output_type": "stream",
     "text": [
      "\r19particle :  7 / 81"
     ]
    },
    {
     "name": "stdout",
     "output_type": "stream",
     "text": [
      "\r19particle :  8 / 81"
     ]
    },
    {
     "name": "stdout",
     "output_type": "stream",
     "text": [
      "\r19particle :  9 / 81"
     ]
    },
    {
     "name": "stdout",
     "output_type": "stream",
     "text": [
      "\r19particle :  10 / 81"
     ]
    },
    {
     "name": "stdout",
     "output_type": "stream",
     "text": [
      "\r19particle :  11 / 81"
     ]
    },
    {
     "name": "stdout",
     "output_type": "stream",
     "text": [
      "\r19particle :  12 / 81"
     ]
    },
    {
     "name": "stdout",
     "output_type": "stream",
     "text": [
      "\r19particle :  13 / 81"
     ]
    },
    {
     "name": "stdout",
     "output_type": "stream",
     "text": [
      "\r19particle :  14 / 81"
     ]
    },
    {
     "name": "stdout",
     "output_type": "stream",
     "text": [
      "\r19particle :  15 / 81"
     ]
    },
    {
     "name": "stdout",
     "output_type": "stream",
     "text": [
      "\r19particle :  16 / 81"
     ]
    },
    {
     "name": "stdout",
     "output_type": "stream",
     "text": [
      "\r19particle :  17 / 81"
     ]
    },
    {
     "name": "stdout",
     "output_type": "stream",
     "text": [
      "\r19particle :  18 / 81"
     ]
    },
    {
     "name": "stdout",
     "output_type": "stream",
     "text": [
      "\r19particle :  19 / 81"
     ]
    },
    {
     "name": "stdout",
     "output_type": "stream",
     "text": [
      "\r19particle :  20 / 81"
     ]
    },
    {
     "name": "stdout",
     "output_type": "stream",
     "text": [
      "\r19particle :  21 / 81"
     ]
    },
    {
     "name": "stdout",
     "output_type": "stream",
     "text": [
      "\r19particle :  22 / 81"
     ]
    },
    {
     "name": "stdout",
     "output_type": "stream",
     "text": [
      "\r19particle :  23 / 81"
     ]
    },
    {
     "name": "stdout",
     "output_type": "stream",
     "text": [
      "\r19particle :  24 / 81"
     ]
    },
    {
     "name": "stdout",
     "output_type": "stream",
     "text": [
      "\r19particle :  25 / 81"
     ]
    },
    {
     "name": "stdout",
     "output_type": "stream",
     "text": [
      "\r19particle :  26 / 81"
     ]
    },
    {
     "name": "stdout",
     "output_type": "stream",
     "text": [
      "\r19particle :  27 / 81"
     ]
    },
    {
     "name": "stdout",
     "output_type": "stream",
     "text": [
      "\r19particle :  28 / 81"
     ]
    },
    {
     "name": "stdout",
     "output_type": "stream",
     "text": [
      "\r19particle :  29 / 81"
     ]
    },
    {
     "name": "stdout",
     "output_type": "stream",
     "text": [
      "\r19particle :  30 / 81"
     ]
    },
    {
     "name": "stdout",
     "output_type": "stream",
     "text": [
      "\r19particle :  31 / 81"
     ]
    },
    {
     "name": "stdout",
     "output_type": "stream",
     "text": [
      "\r19particle :  32 / 81"
     ]
    },
    {
     "name": "stdout",
     "output_type": "stream",
     "text": [
      "\r19particle :  33 / 81"
     ]
    },
    {
     "name": "stdout",
     "output_type": "stream",
     "text": [
      "\r19particle :  34 / 81"
     ]
    },
    {
     "name": "stdout",
     "output_type": "stream",
     "text": [
      "\r19particle :  35 / 81"
     ]
    },
    {
     "name": "stdout",
     "output_type": "stream",
     "text": [
      "\r19particle :  36 / 81"
     ]
    },
    {
     "name": "stdout",
     "output_type": "stream",
     "text": [
      "\r19particle :  37 / 81"
     ]
    },
    {
     "name": "stdout",
     "output_type": "stream",
     "text": [
      "\r19particle :  38 / 81"
     ]
    },
    {
     "name": "stdout",
     "output_type": "stream",
     "text": [
      "\r19particle :  39 / 81"
     ]
    },
    {
     "name": "stdout",
     "output_type": "stream",
     "text": [
      "\r19particle :  40 / 81"
     ]
    },
    {
     "name": "stdout",
     "output_type": "stream",
     "text": [
      "\r19particle :  41 / 81"
     ]
    },
    {
     "name": "stdout",
     "output_type": "stream",
     "text": [
      "\r19particle :  42 / 81"
     ]
    },
    {
     "name": "stdout",
     "output_type": "stream",
     "text": [
      "\r19particle :  43 / 81"
     ]
    },
    {
     "name": "stdout",
     "output_type": "stream",
     "text": [
      "\r19particle :  44 / 81"
     ]
    },
    {
     "name": "stdout",
     "output_type": "stream",
     "text": [
      "\r19particle :  45 / 81"
     ]
    },
    {
     "name": "stdout",
     "output_type": "stream",
     "text": [
      "\r19particle :  46 / 81"
     ]
    },
    {
     "name": "stdout",
     "output_type": "stream",
     "text": [
      "\r19particle :  47 / 81"
     ]
    },
    {
     "name": "stdout",
     "output_type": "stream",
     "text": [
      "\r19particle :  48 / 81"
     ]
    },
    {
     "name": "stdout",
     "output_type": "stream",
     "text": [
      "\r19particle :  49 / 81"
     ]
    },
    {
     "name": "stdout",
     "output_type": "stream",
     "text": [
      "\r19particle :  50 / 81"
     ]
    },
    {
     "name": "stdout",
     "output_type": "stream",
     "text": [
      "\r19particle :  51 / 81"
     ]
    },
    {
     "name": "stdout",
     "output_type": "stream",
     "text": [
      "\r19particle :  52 / 81"
     ]
    },
    {
     "name": "stdout",
     "output_type": "stream",
     "text": [
      "\r19particle :  53 / 81"
     ]
    },
    {
     "name": "stdout",
     "output_type": "stream",
     "text": [
      "\r19particle :  54 / 81"
     ]
    },
    {
     "name": "stdout",
     "output_type": "stream",
     "text": [
      "\r19particle :  55 / 81"
     ]
    },
    {
     "name": "stdout",
     "output_type": "stream",
     "text": [
      "\r19particle :  56 / 81"
     ]
    },
    {
     "name": "stdout",
     "output_type": "stream",
     "text": [
      "\r19particle :  57 / 81"
     ]
    },
    {
     "name": "stdout",
     "output_type": "stream",
     "text": [
      "\r19particle :  58 / 81"
     ]
    },
    {
     "name": "stdout",
     "output_type": "stream",
     "text": [
      "\r19particle :  59 / 81"
     ]
    },
    {
     "name": "stdout",
     "output_type": "stream",
     "text": [
      "\r19particle :  60 / 81"
     ]
    },
    {
     "name": "stdout",
     "output_type": "stream",
     "text": [
      "\r19particle :  61 / 81"
     ]
    },
    {
     "name": "stdout",
     "output_type": "stream",
     "text": [
      "\r19particle :  62 / 81"
     ]
    },
    {
     "name": "stdout",
     "output_type": "stream",
     "text": [
      "\r19particle :  63 / 81"
     ]
    },
    {
     "name": "stdout",
     "output_type": "stream",
     "text": [
      "\r19particle :  64 / 81"
     ]
    },
    {
     "name": "stdout",
     "output_type": "stream",
     "text": [
      "\r19particle :  65 / 81"
     ]
    },
    {
     "name": "stdout",
     "output_type": "stream",
     "text": [
      "\r19particle :  66 / 81"
     ]
    },
    {
     "name": "stdout",
     "output_type": "stream",
     "text": [
      "\r19particle :  67 / 81"
     ]
    },
    {
     "name": "stdout",
     "output_type": "stream",
     "text": [
      "\r19particle :  68 / 81"
     ]
    },
    {
     "name": "stdout",
     "output_type": "stream",
     "text": [
      "\r19particle :  69 / 81"
     ]
    },
    {
     "name": "stdout",
     "output_type": "stream",
     "text": [
      "\r19particle :  70 / 81"
     ]
    },
    {
     "name": "stdout",
     "output_type": "stream",
     "text": [
      "\r19particle :  71 / 81"
     ]
    },
    {
     "name": "stdout",
     "output_type": "stream",
     "text": [
      "\r19particle :  72 / 81"
     ]
    },
    {
     "name": "stdout",
     "output_type": "stream",
     "text": [
      "\r19particle :  73 / 81"
     ]
    },
    {
     "name": "stdout",
     "output_type": "stream",
     "text": [
      "\r19particle :  74 / 81"
     ]
    },
    {
     "name": "stdout",
     "output_type": "stream",
     "text": [
      "\r19particle :  75 / 81"
     ]
    },
    {
     "name": "stdout",
     "output_type": "stream",
     "text": [
      "\r19particle :  76 / 81"
     ]
    },
    {
     "name": "stdout",
     "output_type": "stream",
     "text": [
      "\r19particle :  77 / 81"
     ]
    },
    {
     "name": "stdout",
     "output_type": "stream",
     "text": [
      "\r19particle :  78 / 81"
     ]
    },
    {
     "name": "stdout",
     "output_type": "stream",
     "text": [
      "\r19particle :  79 / 81"
     ]
    },
    {
     "name": "stdout",
     "output_type": "stream",
     "text": [
      "\r19particle :  80 / 81"
     ]
    },
    {
     "name": "stdout",
     "output_type": "stream",
     "text": [
      "\r20particle :  0 / 81"
     ]
    },
    {
     "name": "stdout",
     "output_type": "stream",
     "text": [
      "\r20particle :  1 / 81"
     ]
    },
    {
     "name": "stdout",
     "output_type": "stream",
     "text": [
      "\r20particle :  2 / 81"
     ]
    },
    {
     "name": "stdout",
     "output_type": "stream",
     "text": [
      "\r20particle :  3 / 81"
     ]
    },
    {
     "name": "stdout",
     "output_type": "stream",
     "text": [
      "\r20particle :  4 / 81"
     ]
    },
    {
     "name": "stdout",
     "output_type": "stream",
     "text": [
      "\r20particle :  5 / 81"
     ]
    },
    {
     "name": "stdout",
     "output_type": "stream",
     "text": [
      "\r20particle :  6 / 81"
     ]
    },
    {
     "name": "stdout",
     "output_type": "stream",
     "text": [
      "\r20particle :  7 / 81"
     ]
    },
    {
     "name": "stdout",
     "output_type": "stream",
     "text": [
      "\r20particle :  8 / 81"
     ]
    },
    {
     "name": "stdout",
     "output_type": "stream",
     "text": [
      "\r20particle :  9 / 81"
     ]
    },
    {
     "name": "stdout",
     "output_type": "stream",
     "text": [
      "\r20particle :  10 / 81"
     ]
    },
    {
     "name": "stdout",
     "output_type": "stream",
     "text": [
      "\r20particle :  11 / 81"
     ]
    },
    {
     "name": "stdout",
     "output_type": "stream",
     "text": [
      "\r20particle :  12 / 81"
     ]
    },
    {
     "name": "stdout",
     "output_type": "stream",
     "text": [
      "\r20particle :  13 / 81"
     ]
    },
    {
     "name": "stdout",
     "output_type": "stream",
     "text": [
      "\r20particle :  14 / 81"
     ]
    },
    {
     "name": "stdout",
     "output_type": "stream",
     "text": [
      "\r20particle :  15 / 81"
     ]
    },
    {
     "name": "stdout",
     "output_type": "stream",
     "text": [
      "\r20particle :  16 / 81"
     ]
    },
    {
     "name": "stdout",
     "output_type": "stream",
     "text": [
      "\r20particle :  17 / 81"
     ]
    },
    {
     "name": "stdout",
     "output_type": "stream",
     "text": [
      "\r20particle :  18 / 81"
     ]
    },
    {
     "name": "stdout",
     "output_type": "stream",
     "text": [
      "\r20particle :  19 / 81"
     ]
    },
    {
     "name": "stdout",
     "output_type": "stream",
     "text": [
      "\r20particle :  20 / 81"
     ]
    },
    {
     "name": "stdout",
     "output_type": "stream",
     "text": [
      "\r20particle :  21 / 81"
     ]
    },
    {
     "name": "stdout",
     "output_type": "stream",
     "text": [
      "\r20particle :  22 / 81"
     ]
    },
    {
     "name": "stdout",
     "output_type": "stream",
     "text": [
      "\r20particle :  23 / 81"
     ]
    },
    {
     "name": "stdout",
     "output_type": "stream",
     "text": [
      "\r20particle :  24 / 81"
     ]
    },
    {
     "name": "stdout",
     "output_type": "stream",
     "text": [
      "\r20particle :  25 / 81"
     ]
    },
    {
     "name": "stdout",
     "output_type": "stream",
     "text": [
      "\r20particle :  26 / 81"
     ]
    },
    {
     "name": "stdout",
     "output_type": "stream",
     "text": [
      "\r20particle :  27 / 81"
     ]
    },
    {
     "name": "stdout",
     "output_type": "stream",
     "text": [
      "\r20particle :  28 / 81"
     ]
    },
    {
     "name": "stdout",
     "output_type": "stream",
     "text": [
      "\r20particle :  29 / 81"
     ]
    },
    {
     "name": "stdout",
     "output_type": "stream",
     "text": [
      "\r20particle :  30 / 81"
     ]
    },
    {
     "name": "stdout",
     "output_type": "stream",
     "text": [
      "\r20particle :  31 / 81"
     ]
    },
    {
     "name": "stdout",
     "output_type": "stream",
     "text": [
      "\r20particle :  32 / 81"
     ]
    },
    {
     "name": "stdout",
     "output_type": "stream",
     "text": [
      "\r20particle :  33 / 81"
     ]
    },
    {
     "name": "stdout",
     "output_type": "stream",
     "text": [
      "\r20particle :  34 / 81"
     ]
    },
    {
     "name": "stdout",
     "output_type": "stream",
     "text": [
      "\r20particle :  35 / 81"
     ]
    },
    {
     "name": "stdout",
     "output_type": "stream",
     "text": [
      "\r20particle :  36 / 81"
     ]
    },
    {
     "name": "stdout",
     "output_type": "stream",
     "text": [
      "\r20particle :  37 / 81"
     ]
    },
    {
     "name": "stdout",
     "output_type": "stream",
     "text": [
      "\r20particle :  38 / 81"
     ]
    },
    {
     "name": "stdout",
     "output_type": "stream",
     "text": [
      "\r20particle :  39 / 81"
     ]
    },
    {
     "name": "stdout",
     "output_type": "stream",
     "text": [
      "\r20particle :  40 / 81"
     ]
    },
    {
     "name": "stdout",
     "output_type": "stream",
     "text": [
      "\r20particle :  41 / 81"
     ]
    },
    {
     "name": "stdout",
     "output_type": "stream",
     "text": [
      "\r20particle :  42 / 81"
     ]
    },
    {
     "name": "stdout",
     "output_type": "stream",
     "text": [
      "\r20particle :  43 / 81"
     ]
    },
    {
     "name": "stdout",
     "output_type": "stream",
     "text": [
      "\r20particle :  44 / 81"
     ]
    },
    {
     "name": "stdout",
     "output_type": "stream",
     "text": [
      "\r20particle :  45 / 81"
     ]
    },
    {
     "name": "stdout",
     "output_type": "stream",
     "text": [
      "\r20particle :  46 / 81"
     ]
    },
    {
     "name": "stdout",
     "output_type": "stream",
     "text": [
      "\r20particle :  47 / 81"
     ]
    },
    {
     "name": "stdout",
     "output_type": "stream",
     "text": [
      "\r20particle :  48 / 81"
     ]
    },
    {
     "name": "stdout",
     "output_type": "stream",
     "text": [
      "\r20particle :  49 / 81"
     ]
    },
    {
     "name": "stdout",
     "output_type": "stream",
     "text": [
      "\r20particle :  50 / 81"
     ]
    },
    {
     "name": "stdout",
     "output_type": "stream",
     "text": [
      "\r20particle :  51 / 81"
     ]
    },
    {
     "name": "stdout",
     "output_type": "stream",
     "text": [
      "\r20particle :  52 / 81"
     ]
    },
    {
     "name": "stdout",
     "output_type": "stream",
     "text": [
      "\r20particle :  53 / 81"
     ]
    },
    {
     "name": "stdout",
     "output_type": "stream",
     "text": [
      "\r20particle :  54 / 81"
     ]
    },
    {
     "name": "stdout",
     "output_type": "stream",
     "text": [
      "\r20particle :  55 / 81"
     ]
    },
    {
     "name": "stdout",
     "output_type": "stream",
     "text": [
      "\r20particle :  56 / 81"
     ]
    },
    {
     "name": "stdout",
     "output_type": "stream",
     "text": [
      "\r20particle :  57 / 81"
     ]
    },
    {
     "name": "stdout",
     "output_type": "stream",
     "text": [
      "\r20particle :  58 / 81"
     ]
    },
    {
     "name": "stdout",
     "output_type": "stream",
     "text": [
      "\r20particle :  59 / 81"
     ]
    },
    {
     "name": "stdout",
     "output_type": "stream",
     "text": [
      "\r20particle :  60 / 81"
     ]
    },
    {
     "name": "stdout",
     "output_type": "stream",
     "text": [
      "\r20particle :  61 / 81"
     ]
    },
    {
     "name": "stdout",
     "output_type": "stream",
     "text": [
      "\r20particle :  62 / 81"
     ]
    },
    {
     "name": "stdout",
     "output_type": "stream",
     "text": [
      "\r20particle :  63 / 81"
     ]
    },
    {
     "name": "stdout",
     "output_type": "stream",
     "text": [
      "\r20particle :  64 / 81"
     ]
    },
    {
     "name": "stdout",
     "output_type": "stream",
     "text": [
      "\r20particle :  65 / 81"
     ]
    },
    {
     "name": "stdout",
     "output_type": "stream",
     "text": [
      "\r20particle :  66 / 81"
     ]
    },
    {
     "name": "stdout",
     "output_type": "stream",
     "text": [
      "\r20particle :  67 / 81"
     ]
    },
    {
     "name": "stdout",
     "output_type": "stream",
     "text": [
      "\r20particle :  68 / 81"
     ]
    },
    {
     "name": "stdout",
     "output_type": "stream",
     "text": [
      "\r20particle :  69 / 81"
     ]
    },
    {
     "name": "stdout",
     "output_type": "stream",
     "text": [
      "\r20particle :  70 / 81"
     ]
    },
    {
     "name": "stdout",
     "output_type": "stream",
     "text": [
      "\r20particle :  71 / 81"
     ]
    },
    {
     "name": "stdout",
     "output_type": "stream",
     "text": [
      "\r20particle :  72 / 81"
     ]
    },
    {
     "name": "stdout",
     "output_type": "stream",
     "text": [
      "\r20particle :  73 / 81"
     ]
    },
    {
     "name": "stdout",
     "output_type": "stream",
     "text": [
      "\r20particle :  74 / 81"
     ]
    },
    {
     "name": "stdout",
     "output_type": "stream",
     "text": [
      "\r20particle :  75 / 81"
     ]
    },
    {
     "name": "stdout",
     "output_type": "stream",
     "text": [
      "\r20particle :  76 / 81"
     ]
    },
    {
     "name": "stdout",
     "output_type": "stream",
     "text": [
      "\r20particle :  77 / 81"
     ]
    },
    {
     "name": "stdout",
     "output_type": "stream",
     "text": [
      "\r20particle :  78 / 81"
     ]
    },
    {
     "name": "stdout",
     "output_type": "stream",
     "text": [
      "\r20particle :  79 / 81"
     ]
    },
    {
     "name": "stdout",
     "output_type": "stream",
     "text": [
      "\r20particle :  80 / 81"
     ]
    },
    {
     "name": "stdout",
     "output_type": "stream",
     "text": [
      "\r21particle :  0 / 81"
     ]
    },
    {
     "name": "stdout",
     "output_type": "stream",
     "text": [
      "\r21particle :  1 / 81"
     ]
    },
    {
     "name": "stdout",
     "output_type": "stream",
     "text": [
      "\r21particle :  2 / 81"
     ]
    },
    {
     "name": "stdout",
     "output_type": "stream",
     "text": [
      "\r21particle :  3 / 81"
     ]
    },
    {
     "name": "stdout",
     "output_type": "stream",
     "text": [
      "\r21particle :  4 / 81"
     ]
    },
    {
     "name": "stdout",
     "output_type": "stream",
     "text": [
      "\r21particle :  5 / 81"
     ]
    },
    {
     "name": "stdout",
     "output_type": "stream",
     "text": [
      "\r21particle :  6 / 81"
     ]
    },
    {
     "name": "stdout",
     "output_type": "stream",
     "text": [
      "\r21particle :  7 / 81"
     ]
    },
    {
     "name": "stdout",
     "output_type": "stream",
     "text": [
      "\r21particle :  8 / 81"
     ]
    },
    {
     "name": "stdout",
     "output_type": "stream",
     "text": [
      "\r21particle :  9 / 81"
     ]
    },
    {
     "name": "stdout",
     "output_type": "stream",
     "text": [
      "\r21particle :  10 / 81"
     ]
    },
    {
     "name": "stdout",
     "output_type": "stream",
     "text": [
      "\r21particle :  11 / 81"
     ]
    },
    {
     "name": "stdout",
     "output_type": "stream",
     "text": [
      "\r21particle :  12 / 81"
     ]
    },
    {
     "name": "stdout",
     "output_type": "stream",
     "text": [
      "\r21particle :  13 / 81"
     ]
    },
    {
     "name": "stdout",
     "output_type": "stream",
     "text": [
      "\r21particle :  14 / 81"
     ]
    },
    {
     "name": "stdout",
     "output_type": "stream",
     "text": [
      "\r21particle :  15 / 81"
     ]
    },
    {
     "name": "stdout",
     "output_type": "stream",
     "text": [
      "\r21particle :  16 / 81"
     ]
    },
    {
     "name": "stdout",
     "output_type": "stream",
     "text": [
      "\r21particle :  17 / 81"
     ]
    },
    {
     "name": "stdout",
     "output_type": "stream",
     "text": [
      "\r21particle :  18 / 81"
     ]
    },
    {
     "name": "stdout",
     "output_type": "stream",
     "text": [
      "\r21particle :  19 / 81"
     ]
    },
    {
     "name": "stdout",
     "output_type": "stream",
     "text": [
      "\r21particle :  20 / 81"
     ]
    },
    {
     "name": "stdout",
     "output_type": "stream",
     "text": [
      "\r21particle :  21 / 81"
     ]
    },
    {
     "name": "stdout",
     "output_type": "stream",
     "text": [
      "\r21particle :  22 / 81"
     ]
    },
    {
     "name": "stdout",
     "output_type": "stream",
     "text": [
      "\r21particle :  23 / 81"
     ]
    },
    {
     "name": "stdout",
     "output_type": "stream",
     "text": [
      "\r21particle :  24 / 81"
     ]
    },
    {
     "name": "stdout",
     "output_type": "stream",
     "text": [
      "\r21particle :  25 / 81"
     ]
    },
    {
     "name": "stdout",
     "output_type": "stream",
     "text": [
      "\r21particle :  26 / 81"
     ]
    },
    {
     "name": "stdout",
     "output_type": "stream",
     "text": [
      "\r21particle :  27 / 81"
     ]
    },
    {
     "name": "stdout",
     "output_type": "stream",
     "text": [
      "\r21particle :  28 / 81"
     ]
    },
    {
     "name": "stdout",
     "output_type": "stream",
     "text": [
      "\r21particle :  29 / 81"
     ]
    },
    {
     "name": "stdout",
     "output_type": "stream",
     "text": [
      "\r21particle :  30 / 81"
     ]
    },
    {
     "name": "stdout",
     "output_type": "stream",
     "text": [
      "\r21particle :  31 / 81"
     ]
    },
    {
     "name": "stdout",
     "output_type": "stream",
     "text": [
      "\r21particle :  32 / 81"
     ]
    },
    {
     "name": "stdout",
     "output_type": "stream",
     "text": [
      "\r21particle :  33 / 81"
     ]
    },
    {
     "name": "stdout",
     "output_type": "stream",
     "text": [
      "\r21particle :  34 / 81"
     ]
    },
    {
     "name": "stdout",
     "output_type": "stream",
     "text": [
      "\r21particle :  35 / 81"
     ]
    },
    {
     "name": "stdout",
     "output_type": "stream",
     "text": [
      "\r21particle :  36 / 81"
     ]
    },
    {
     "name": "stdout",
     "output_type": "stream",
     "text": [
      "\r21particle :  37 / 81"
     ]
    },
    {
     "name": "stdout",
     "output_type": "stream",
     "text": [
      "\r21particle :  38 / 81"
     ]
    },
    {
     "name": "stdout",
     "output_type": "stream",
     "text": [
      "\r21particle :  39 / 81"
     ]
    },
    {
     "name": "stdout",
     "output_type": "stream",
     "text": [
      "\r21particle :  40 / 81"
     ]
    },
    {
     "name": "stdout",
     "output_type": "stream",
     "text": [
      "\r21particle :  41 / 81"
     ]
    },
    {
     "name": "stdout",
     "output_type": "stream",
     "text": [
      "\r21particle :  42 / 81"
     ]
    },
    {
     "name": "stdout",
     "output_type": "stream",
     "text": [
      "\r21particle :  43 / 81"
     ]
    },
    {
     "name": "stdout",
     "output_type": "stream",
     "text": [
      "\r21particle :  44 / 81"
     ]
    },
    {
     "name": "stdout",
     "output_type": "stream",
     "text": [
      "\r21particle :  45 / 81"
     ]
    },
    {
     "name": "stdout",
     "output_type": "stream",
     "text": [
      "\r21particle :  46 / 81"
     ]
    },
    {
     "name": "stdout",
     "output_type": "stream",
     "text": [
      "\r21particle :  47 / 81"
     ]
    },
    {
     "name": "stdout",
     "output_type": "stream",
     "text": [
      "\r21particle :  48 / 81"
     ]
    },
    {
     "name": "stdout",
     "output_type": "stream",
     "text": [
      "\r21particle :  49 / 81"
     ]
    },
    {
     "name": "stdout",
     "output_type": "stream",
     "text": [
      "\r21particle :  50 / 81"
     ]
    },
    {
     "name": "stdout",
     "output_type": "stream",
     "text": [
      "\r21particle :  51 / 81"
     ]
    },
    {
     "name": "stdout",
     "output_type": "stream",
     "text": [
      "\r21particle :  52 / 81"
     ]
    },
    {
     "name": "stdout",
     "output_type": "stream",
     "text": [
      "\r21particle :  53 / 81"
     ]
    },
    {
     "name": "stdout",
     "output_type": "stream",
     "text": [
      "\r21particle :  54 / 81"
     ]
    },
    {
     "name": "stdout",
     "output_type": "stream",
     "text": [
      "\r21particle :  55 / 81"
     ]
    },
    {
     "name": "stdout",
     "output_type": "stream",
     "text": [
      "\r21particle :  56 / 81"
     ]
    },
    {
     "name": "stdout",
     "output_type": "stream",
     "text": [
      "\r21particle :  57 / 81"
     ]
    },
    {
     "name": "stdout",
     "output_type": "stream",
     "text": [
      "\r21particle :  58 / 81"
     ]
    },
    {
     "name": "stdout",
     "output_type": "stream",
     "text": [
      "\r21particle :  59 / 81"
     ]
    },
    {
     "name": "stdout",
     "output_type": "stream",
     "text": [
      "\r21particle :  60 / 81"
     ]
    },
    {
     "name": "stdout",
     "output_type": "stream",
     "text": [
      "\r21particle :  61 / 81"
     ]
    },
    {
     "name": "stdout",
     "output_type": "stream",
     "text": [
      "\r21particle :  62 / 81"
     ]
    },
    {
     "name": "stdout",
     "output_type": "stream",
     "text": [
      "\r21particle :  63 / 81"
     ]
    },
    {
     "name": "stdout",
     "output_type": "stream",
     "text": [
      "\r21particle :  64 / 81"
     ]
    },
    {
     "name": "stdout",
     "output_type": "stream",
     "text": [
      "\r21particle :  65 / 81"
     ]
    },
    {
     "name": "stdout",
     "output_type": "stream",
     "text": [
      "\r21particle :  66 / 81"
     ]
    },
    {
     "name": "stdout",
     "output_type": "stream",
     "text": [
      "\r21particle :  67 / 81"
     ]
    },
    {
     "name": "stdout",
     "output_type": "stream",
     "text": [
      "\r21particle :  68 / 81"
     ]
    },
    {
     "name": "stdout",
     "output_type": "stream",
     "text": [
      "\r21particle :  69 / 81"
     ]
    },
    {
     "name": "stdout",
     "output_type": "stream",
     "text": [
      "\r21particle :  70 / 81"
     ]
    },
    {
     "name": "stdout",
     "output_type": "stream",
     "text": [
      "\r21particle :  71 / 81"
     ]
    },
    {
     "name": "stdout",
     "output_type": "stream",
     "text": [
      "\r21particle :  72 / 81"
     ]
    },
    {
     "name": "stdout",
     "output_type": "stream",
     "text": [
      "\r21particle :  73 / 81"
     ]
    },
    {
     "name": "stdout",
     "output_type": "stream",
     "text": [
      "\r21particle :  74 / 81"
     ]
    },
    {
     "name": "stdout",
     "output_type": "stream",
     "text": [
      "\r21particle :  75 / 81"
     ]
    },
    {
     "name": "stdout",
     "output_type": "stream",
     "text": [
      "\r21particle :  76 / 81"
     ]
    },
    {
     "name": "stdout",
     "output_type": "stream",
     "text": [
      "\r21particle :  77 / 81"
     ]
    },
    {
     "name": "stdout",
     "output_type": "stream",
     "text": [
      "\r21particle :  78 / 81"
     ]
    },
    {
     "name": "stdout",
     "output_type": "stream",
     "text": [
      "\r21particle :  79 / 81"
     ]
    },
    {
     "name": "stdout",
     "output_type": "stream",
     "text": [
      "\r21particle :  80 / 81"
     ]
    },
    {
     "name": "stdout",
     "output_type": "stream",
     "text": [
      "\r22particle :  0 / 81"
     ]
    },
    {
     "name": "stdout",
     "output_type": "stream",
     "text": [
      "\r22particle :  1 / 81"
     ]
    },
    {
     "name": "stdout",
     "output_type": "stream",
     "text": [
      "\r22particle :  2 / 81"
     ]
    },
    {
     "name": "stdout",
     "output_type": "stream",
     "text": [
      "\r22particle :  3 / 81"
     ]
    },
    {
     "name": "stdout",
     "output_type": "stream",
     "text": [
      "\r22particle :  4 / 81"
     ]
    },
    {
     "name": "stdout",
     "output_type": "stream",
     "text": [
      "\r22particle :  5 / 81"
     ]
    },
    {
     "name": "stdout",
     "output_type": "stream",
     "text": [
      "\r22particle :  6 / 81"
     ]
    },
    {
     "name": "stdout",
     "output_type": "stream",
     "text": [
      "\r22particle :  7 / 81"
     ]
    },
    {
     "name": "stdout",
     "output_type": "stream",
     "text": [
      "\r22particle :  8 / 81"
     ]
    },
    {
     "name": "stdout",
     "output_type": "stream",
     "text": [
      "\r22particle :  9 / 81"
     ]
    },
    {
     "name": "stdout",
     "output_type": "stream",
     "text": [
      "\r22particle :  10 / 81"
     ]
    },
    {
     "name": "stdout",
     "output_type": "stream",
     "text": [
      "\r22particle :  11 / 81"
     ]
    },
    {
     "name": "stdout",
     "output_type": "stream",
     "text": [
      "\r22particle :  12 / 81"
     ]
    },
    {
     "name": "stdout",
     "output_type": "stream",
     "text": [
      "\r22particle :  13 / 81"
     ]
    },
    {
     "name": "stdout",
     "output_type": "stream",
     "text": [
      "\r22particle :  14 / 81"
     ]
    },
    {
     "name": "stdout",
     "output_type": "stream",
     "text": [
      "\r22particle :  15 / 81"
     ]
    },
    {
     "name": "stdout",
     "output_type": "stream",
     "text": [
      "\r22particle :  16 / 81"
     ]
    },
    {
     "name": "stdout",
     "output_type": "stream",
     "text": [
      "\r22particle :  17 / 81"
     ]
    },
    {
     "name": "stdout",
     "output_type": "stream",
     "text": [
      "\r22particle :  18 / 81"
     ]
    },
    {
     "name": "stdout",
     "output_type": "stream",
     "text": [
      "\r22particle :  19 / 81"
     ]
    },
    {
     "name": "stdout",
     "output_type": "stream",
     "text": [
      "\r22particle :  20 / 81"
     ]
    },
    {
     "name": "stdout",
     "output_type": "stream",
     "text": [
      "\r22particle :  21 / 81"
     ]
    },
    {
     "name": "stdout",
     "output_type": "stream",
     "text": [
      "\r22particle :  22 / 81"
     ]
    },
    {
     "name": "stdout",
     "output_type": "stream",
     "text": [
      "\r22particle :  23 / 81"
     ]
    },
    {
     "name": "stdout",
     "output_type": "stream",
     "text": [
      "\r22particle :  24 / 81"
     ]
    },
    {
     "name": "stdout",
     "output_type": "stream",
     "text": [
      "\r22particle :  25 / 81"
     ]
    },
    {
     "name": "stdout",
     "output_type": "stream",
     "text": [
      "\r22particle :  26 / 81"
     ]
    },
    {
     "name": "stdout",
     "output_type": "stream",
     "text": [
      "\r22particle :  27 / 81"
     ]
    },
    {
     "name": "stdout",
     "output_type": "stream",
     "text": [
      "\r22particle :  28 / 81"
     ]
    },
    {
     "name": "stdout",
     "output_type": "stream",
     "text": [
      "\r22particle :  29 / 81"
     ]
    },
    {
     "name": "stdout",
     "output_type": "stream",
     "text": [
      "\r22particle :  30 / 81"
     ]
    },
    {
     "name": "stdout",
     "output_type": "stream",
     "text": [
      "\r22particle :  31 / 81"
     ]
    },
    {
     "name": "stdout",
     "output_type": "stream",
     "text": [
      "\r22particle :  32 / 81"
     ]
    },
    {
     "name": "stdout",
     "output_type": "stream",
     "text": [
      "\r22particle :  33 / 81"
     ]
    },
    {
     "name": "stdout",
     "output_type": "stream",
     "text": [
      "\r22particle :  34 / 81"
     ]
    },
    {
     "name": "stdout",
     "output_type": "stream",
     "text": [
      "\r22particle :  35 / 81"
     ]
    },
    {
     "name": "stdout",
     "output_type": "stream",
     "text": [
      "\r22particle :  36 / 81"
     ]
    },
    {
     "name": "stdout",
     "output_type": "stream",
     "text": [
      "\r22particle :  37 / 81"
     ]
    },
    {
     "name": "stdout",
     "output_type": "stream",
     "text": [
      "\r22particle :  38 / 81"
     ]
    },
    {
     "name": "stdout",
     "output_type": "stream",
     "text": [
      "\r22particle :  39 / 81"
     ]
    },
    {
     "name": "stdout",
     "output_type": "stream",
     "text": [
      "\r22particle :  40 / 81"
     ]
    },
    {
     "name": "stdout",
     "output_type": "stream",
     "text": [
      "\r22particle :  41 / 81"
     ]
    },
    {
     "name": "stdout",
     "output_type": "stream",
     "text": [
      "\r22particle :  42 / 81"
     ]
    },
    {
     "name": "stdout",
     "output_type": "stream",
     "text": [
      "\r22particle :  43 / 81"
     ]
    },
    {
     "name": "stdout",
     "output_type": "stream",
     "text": [
      "\r22particle :  44 / 81"
     ]
    },
    {
     "name": "stdout",
     "output_type": "stream",
     "text": [
      "\r22particle :  45 / 81"
     ]
    },
    {
     "name": "stdout",
     "output_type": "stream",
     "text": [
      "\r22particle :  46 / 81"
     ]
    },
    {
     "name": "stdout",
     "output_type": "stream",
     "text": [
      "\r22particle :  47 / 81"
     ]
    },
    {
     "name": "stdout",
     "output_type": "stream",
     "text": [
      "\r22particle :  48 / 81"
     ]
    },
    {
     "name": "stdout",
     "output_type": "stream",
     "text": [
      "\r22particle :  49 / 81"
     ]
    },
    {
     "name": "stdout",
     "output_type": "stream",
     "text": [
      "\r22particle :  50 / 81"
     ]
    },
    {
     "name": "stdout",
     "output_type": "stream",
     "text": [
      "\r22particle :  51 / 81"
     ]
    },
    {
     "name": "stdout",
     "output_type": "stream",
     "text": [
      "\r22particle :  52 / 81"
     ]
    },
    {
     "name": "stdout",
     "output_type": "stream",
     "text": [
      "\r22particle :  53 / 81"
     ]
    },
    {
     "name": "stdout",
     "output_type": "stream",
     "text": [
      "\r22particle :  54 / 81"
     ]
    },
    {
     "name": "stdout",
     "output_type": "stream",
     "text": [
      "\r22particle :  55 / 81"
     ]
    },
    {
     "name": "stdout",
     "output_type": "stream",
     "text": [
      "\r22particle :  56 / 81"
     ]
    },
    {
     "name": "stdout",
     "output_type": "stream",
     "text": [
      "\r22particle :  57 / 81"
     ]
    },
    {
     "name": "stdout",
     "output_type": "stream",
     "text": [
      "\r22particle :  58 / 81"
     ]
    },
    {
     "name": "stdout",
     "output_type": "stream",
     "text": [
      "\r22particle :  59 / 81"
     ]
    },
    {
     "name": "stdout",
     "output_type": "stream",
     "text": [
      "\r22particle :  60 / 81"
     ]
    },
    {
     "name": "stdout",
     "output_type": "stream",
     "text": [
      "\r22particle :  61 / 81"
     ]
    },
    {
     "name": "stdout",
     "output_type": "stream",
     "text": [
      "\r22particle :  62 / 81"
     ]
    },
    {
     "name": "stdout",
     "output_type": "stream",
     "text": [
      "\r22particle :  63 / 81"
     ]
    },
    {
     "name": "stdout",
     "output_type": "stream",
     "text": [
      "\r22particle :  64 / 81"
     ]
    },
    {
     "name": "stdout",
     "output_type": "stream",
     "text": [
      "\r22particle :  65 / 81"
     ]
    },
    {
     "name": "stdout",
     "output_type": "stream",
     "text": [
      "\r22particle :  66 / 81"
     ]
    },
    {
     "name": "stdout",
     "output_type": "stream",
     "text": [
      "\r22particle :  67 / 81"
     ]
    },
    {
     "name": "stdout",
     "output_type": "stream",
     "text": [
      "\r22particle :  68 / 81"
     ]
    },
    {
     "name": "stdout",
     "output_type": "stream",
     "text": [
      "\r22particle :  69 / 81"
     ]
    },
    {
     "name": "stdout",
     "output_type": "stream",
     "text": [
      "\r22particle :  70 / 81"
     ]
    },
    {
     "name": "stdout",
     "output_type": "stream",
     "text": [
      "\r22particle :  71 / 81"
     ]
    },
    {
     "name": "stdout",
     "output_type": "stream",
     "text": [
      "\r22particle :  72 / 81"
     ]
    },
    {
     "name": "stdout",
     "output_type": "stream",
     "text": [
      "\r22particle :  73 / 81"
     ]
    },
    {
     "name": "stdout",
     "output_type": "stream",
     "text": [
      "\r22particle :  74 / 81"
     ]
    },
    {
     "name": "stdout",
     "output_type": "stream",
     "text": [
      "\r22particle :  75 / 81"
     ]
    },
    {
     "name": "stdout",
     "output_type": "stream",
     "text": [
      "\r22particle :  76 / 81"
     ]
    },
    {
     "name": "stdout",
     "output_type": "stream",
     "text": [
      "\r22particle :  77 / 81"
     ]
    },
    {
     "name": "stdout",
     "output_type": "stream",
     "text": [
      "\r22particle :  78 / 81"
     ]
    },
    {
     "name": "stdout",
     "output_type": "stream",
     "text": [
      "\r22particle :  79 / 81"
     ]
    },
    {
     "name": "stdout",
     "output_type": "stream",
     "text": [
      "\r22particle :  80 / 81"
     ]
    },
    {
     "name": "stdout",
     "output_type": "stream",
     "text": [
      "\r23particle :  0 / 81"
     ]
    },
    {
     "name": "stdout",
     "output_type": "stream",
     "text": [
      "\r23particle :  1 / 81"
     ]
    },
    {
     "name": "stdout",
     "output_type": "stream",
     "text": [
      "\r23particle :  2 / 81"
     ]
    },
    {
     "name": "stdout",
     "output_type": "stream",
     "text": [
      "\r23particle :  3 / 81"
     ]
    },
    {
     "name": "stdout",
     "output_type": "stream",
     "text": [
      "\r23particle :  4 / 81"
     ]
    },
    {
     "name": "stdout",
     "output_type": "stream",
     "text": [
      "\r23particle :  5 / 81"
     ]
    },
    {
     "name": "stdout",
     "output_type": "stream",
     "text": [
      "\r23particle :  6 / 81"
     ]
    },
    {
     "name": "stdout",
     "output_type": "stream",
     "text": [
      "\r23particle :  7 / 81"
     ]
    },
    {
     "name": "stdout",
     "output_type": "stream",
     "text": [
      "\r23particle :  8 / 81"
     ]
    },
    {
     "name": "stdout",
     "output_type": "stream",
     "text": [
      "\r23particle :  9 / 81"
     ]
    },
    {
     "name": "stdout",
     "output_type": "stream",
     "text": [
      "\r23particle :  10 / 81"
     ]
    },
    {
     "name": "stdout",
     "output_type": "stream",
     "text": [
      "\r23particle :  11 / 81"
     ]
    },
    {
     "name": "stdout",
     "output_type": "stream",
     "text": [
      "\r23particle :  12 / 81"
     ]
    },
    {
     "name": "stdout",
     "output_type": "stream",
     "text": [
      "\r23particle :  13 / 81"
     ]
    },
    {
     "name": "stdout",
     "output_type": "stream",
     "text": [
      "\r23particle :  14 / 81"
     ]
    },
    {
     "name": "stdout",
     "output_type": "stream",
     "text": [
      "\r23particle :  15 / 81"
     ]
    },
    {
     "name": "stdout",
     "output_type": "stream",
     "text": [
      "\r23particle :  16 / 81"
     ]
    },
    {
     "name": "stdout",
     "output_type": "stream",
     "text": [
      "\r23particle :  17 / 81"
     ]
    },
    {
     "name": "stdout",
     "output_type": "stream",
     "text": [
      "\r23particle :  18 / 81"
     ]
    },
    {
     "name": "stdout",
     "output_type": "stream",
     "text": [
      "\r23particle :  19 / 81"
     ]
    },
    {
     "name": "stdout",
     "output_type": "stream",
     "text": [
      "\r23particle :  20 / 81"
     ]
    },
    {
     "name": "stdout",
     "output_type": "stream",
     "text": [
      "\r23particle :  21 / 81"
     ]
    },
    {
     "name": "stdout",
     "output_type": "stream",
     "text": [
      "\r23particle :  22 / 81"
     ]
    },
    {
     "name": "stdout",
     "output_type": "stream",
     "text": [
      "\r23particle :  23 / 81"
     ]
    },
    {
     "name": "stdout",
     "output_type": "stream",
     "text": [
      "\r23particle :  24 / 81"
     ]
    },
    {
     "name": "stdout",
     "output_type": "stream",
     "text": [
      "\r23particle :  25 / 81"
     ]
    },
    {
     "name": "stdout",
     "output_type": "stream",
     "text": [
      "\r23particle :  26 / 81"
     ]
    },
    {
     "name": "stdout",
     "output_type": "stream",
     "text": [
      "\r23particle :  27 / 81"
     ]
    },
    {
     "name": "stdout",
     "output_type": "stream",
     "text": [
      "\r23particle :  28 / 81"
     ]
    },
    {
     "name": "stdout",
     "output_type": "stream",
     "text": [
      "\r23particle :  29 / 81"
     ]
    },
    {
     "name": "stdout",
     "output_type": "stream",
     "text": [
      "\r23particle :  30 / 81"
     ]
    },
    {
     "name": "stdout",
     "output_type": "stream",
     "text": [
      "\r23particle :  31 / 81"
     ]
    },
    {
     "name": "stdout",
     "output_type": "stream",
     "text": [
      "\r23particle :  32 / 81"
     ]
    },
    {
     "name": "stdout",
     "output_type": "stream",
     "text": [
      "\r23particle :  33 / 81"
     ]
    },
    {
     "name": "stdout",
     "output_type": "stream",
     "text": [
      "\r23particle :  34 / 81"
     ]
    },
    {
     "name": "stdout",
     "output_type": "stream",
     "text": [
      "\r23particle :  35 / 81"
     ]
    },
    {
     "name": "stdout",
     "output_type": "stream",
     "text": [
      "\r23particle :  36 / 81"
     ]
    },
    {
     "name": "stdout",
     "output_type": "stream",
     "text": [
      "\r23particle :  37 / 81"
     ]
    },
    {
     "name": "stdout",
     "output_type": "stream",
     "text": [
      "\r23particle :  38 / 81"
     ]
    },
    {
     "name": "stdout",
     "output_type": "stream",
     "text": [
      "\r23particle :  39 / 81"
     ]
    },
    {
     "name": "stdout",
     "output_type": "stream",
     "text": [
      "\r23particle :  40 / 81"
     ]
    },
    {
     "name": "stdout",
     "output_type": "stream",
     "text": [
      "\r23particle :  41 / 81"
     ]
    },
    {
     "name": "stdout",
     "output_type": "stream",
     "text": [
      "\r23particle :  42 / 81"
     ]
    },
    {
     "name": "stdout",
     "output_type": "stream",
     "text": [
      "\r23particle :  43 / 81"
     ]
    },
    {
     "name": "stdout",
     "output_type": "stream",
     "text": [
      "\r23particle :  44 / 81"
     ]
    },
    {
     "name": "stdout",
     "output_type": "stream",
     "text": [
      "\r23particle :  45 / 81"
     ]
    },
    {
     "name": "stdout",
     "output_type": "stream",
     "text": [
      "\r23particle :  46 / 81"
     ]
    },
    {
     "name": "stdout",
     "output_type": "stream",
     "text": [
      "\r23particle :  47 / 81"
     ]
    },
    {
     "name": "stdout",
     "output_type": "stream",
     "text": [
      "\r23particle :  48 / 81"
     ]
    },
    {
     "name": "stdout",
     "output_type": "stream",
     "text": [
      "\r23particle :  49 / 81"
     ]
    },
    {
     "name": "stdout",
     "output_type": "stream",
     "text": [
      "\r23particle :  50 / 81"
     ]
    },
    {
     "name": "stdout",
     "output_type": "stream",
     "text": [
      "\r23particle :  51 / 81"
     ]
    },
    {
     "name": "stdout",
     "output_type": "stream",
     "text": [
      "\r23particle :  52 / 81"
     ]
    },
    {
     "name": "stdout",
     "output_type": "stream",
     "text": [
      "\r23particle :  53 / 81"
     ]
    },
    {
     "name": "stdout",
     "output_type": "stream",
     "text": [
      "\r23particle :  54 / 81"
     ]
    },
    {
     "name": "stdout",
     "output_type": "stream",
     "text": [
      "\r23particle :  55 / 81"
     ]
    },
    {
     "name": "stdout",
     "output_type": "stream",
     "text": [
      "\r23particle :  56 / 81"
     ]
    },
    {
     "name": "stdout",
     "output_type": "stream",
     "text": [
      "\r23particle :  57 / 81"
     ]
    },
    {
     "name": "stdout",
     "output_type": "stream",
     "text": [
      "\r23particle :  58 / 81"
     ]
    },
    {
     "name": "stdout",
     "output_type": "stream",
     "text": [
      "\r23particle :  59 / 81"
     ]
    },
    {
     "name": "stdout",
     "output_type": "stream",
     "text": [
      "\r23particle :  60 / 81"
     ]
    },
    {
     "name": "stdout",
     "output_type": "stream",
     "text": [
      "\r23particle :  61 / 81"
     ]
    },
    {
     "name": "stdout",
     "output_type": "stream",
     "text": [
      "\r23particle :  62 / 81"
     ]
    },
    {
     "name": "stdout",
     "output_type": "stream",
     "text": [
      "\r23particle :  63 / 81"
     ]
    },
    {
     "name": "stdout",
     "output_type": "stream",
     "text": [
      "\r23particle :  64 / 81"
     ]
    },
    {
     "name": "stdout",
     "output_type": "stream",
     "text": [
      "\r23particle :  65 / 81"
     ]
    },
    {
     "name": "stdout",
     "output_type": "stream",
     "text": [
      "\r23particle :  66 / 81"
     ]
    },
    {
     "name": "stdout",
     "output_type": "stream",
     "text": [
      "\r23particle :  67 / 81"
     ]
    },
    {
     "name": "stdout",
     "output_type": "stream",
     "text": [
      "\r23particle :  68 / 81"
     ]
    },
    {
     "name": "stdout",
     "output_type": "stream",
     "text": [
      "\r23particle :  69 / 81"
     ]
    },
    {
     "name": "stdout",
     "output_type": "stream",
     "text": [
      "\r23particle :  70 / 81"
     ]
    },
    {
     "name": "stdout",
     "output_type": "stream",
     "text": [
      "\r23particle :  71 / 81"
     ]
    },
    {
     "name": "stdout",
     "output_type": "stream",
     "text": [
      "\r23particle :  72 / 81"
     ]
    },
    {
     "name": "stdout",
     "output_type": "stream",
     "text": [
      "\r23particle :  73 / 81"
     ]
    },
    {
     "name": "stdout",
     "output_type": "stream",
     "text": [
      "\r23particle :  74 / 81"
     ]
    },
    {
     "name": "stdout",
     "output_type": "stream",
     "text": [
      "\r23particle :  75 / 81"
     ]
    },
    {
     "name": "stdout",
     "output_type": "stream",
     "text": [
      "\r23particle :  76 / 81"
     ]
    },
    {
     "name": "stdout",
     "output_type": "stream",
     "text": [
      "\r23particle :  77 / 81"
     ]
    },
    {
     "name": "stdout",
     "output_type": "stream",
     "text": [
      "\r23particle :  78 / 81"
     ]
    },
    {
     "name": "stdout",
     "output_type": "stream",
     "text": [
      "\r23particle :  79 / 81"
     ]
    },
    {
     "name": "stdout",
     "output_type": "stream",
     "text": [
      "\r23particle :  80 / 81"
     ]
    },
    {
     "name": "stdout",
     "output_type": "stream",
     "text": [
      "\r24particle :  0 / 81"
     ]
    },
    {
     "name": "stdout",
     "output_type": "stream",
     "text": [
      "\r24particle :  1 / 81"
     ]
    },
    {
     "name": "stdout",
     "output_type": "stream",
     "text": [
      "\r24particle :  2 / 81"
     ]
    },
    {
     "name": "stdout",
     "output_type": "stream",
     "text": [
      "\r24particle :  3 / 81"
     ]
    },
    {
     "name": "stdout",
     "output_type": "stream",
     "text": [
      "\r24particle :  4 / 81"
     ]
    },
    {
     "name": "stdout",
     "output_type": "stream",
     "text": [
      "\r24particle :  5 / 81"
     ]
    },
    {
     "name": "stdout",
     "output_type": "stream",
     "text": [
      "\r24particle :  6 / 81"
     ]
    },
    {
     "name": "stdout",
     "output_type": "stream",
     "text": [
      "\r24particle :  7 / 81"
     ]
    },
    {
     "name": "stdout",
     "output_type": "stream",
     "text": [
      "\r24particle :  8 / 81"
     ]
    },
    {
     "name": "stdout",
     "output_type": "stream",
     "text": [
      "\r24particle :  9 / 81"
     ]
    },
    {
     "name": "stdout",
     "output_type": "stream",
     "text": [
      "\r24particle :  10 / 81"
     ]
    },
    {
     "name": "stdout",
     "output_type": "stream",
     "text": [
      "\r24particle :  11 / 81"
     ]
    },
    {
     "name": "stdout",
     "output_type": "stream",
     "text": [
      "\r24particle :  12 / 81"
     ]
    },
    {
     "name": "stdout",
     "output_type": "stream",
     "text": [
      "\r24particle :  13 / 81"
     ]
    },
    {
     "name": "stdout",
     "output_type": "stream",
     "text": [
      "\r24particle :  14 / 81"
     ]
    },
    {
     "name": "stdout",
     "output_type": "stream",
     "text": [
      "\r24particle :  15 / 81"
     ]
    },
    {
     "name": "stdout",
     "output_type": "stream",
     "text": [
      "\r24particle :  16 / 81"
     ]
    },
    {
     "name": "stdout",
     "output_type": "stream",
     "text": [
      "\r24particle :  17 / 81"
     ]
    },
    {
     "name": "stdout",
     "output_type": "stream",
     "text": [
      "\r24particle :  18 / 81"
     ]
    },
    {
     "name": "stdout",
     "output_type": "stream",
     "text": [
      "\r24particle :  19 / 81"
     ]
    },
    {
     "name": "stdout",
     "output_type": "stream",
     "text": [
      "\r24particle :  20 / 81"
     ]
    },
    {
     "name": "stdout",
     "output_type": "stream",
     "text": [
      "\r24particle :  21 / 81"
     ]
    },
    {
     "name": "stdout",
     "output_type": "stream",
     "text": [
      "\r24particle :  22 / 81"
     ]
    },
    {
     "name": "stdout",
     "output_type": "stream",
     "text": [
      "\r24particle :  23 / 81"
     ]
    },
    {
     "name": "stdout",
     "output_type": "stream",
     "text": [
      "\r24particle :  24 / 81"
     ]
    },
    {
     "name": "stdout",
     "output_type": "stream",
     "text": [
      "\r24particle :  25 / 81"
     ]
    },
    {
     "name": "stdout",
     "output_type": "stream",
     "text": [
      "\r24particle :  26 / 81"
     ]
    },
    {
     "name": "stdout",
     "output_type": "stream",
     "text": [
      "\r24particle :  27 / 81"
     ]
    },
    {
     "name": "stdout",
     "output_type": "stream",
     "text": [
      "\r24particle :  28 / 81"
     ]
    },
    {
     "name": "stdout",
     "output_type": "stream",
     "text": [
      "\r24particle :  29 / 81"
     ]
    },
    {
     "name": "stdout",
     "output_type": "stream",
     "text": [
      "\r24particle :  30 / 81"
     ]
    },
    {
     "name": "stdout",
     "output_type": "stream",
     "text": [
      "\r24particle :  31 / 81"
     ]
    },
    {
     "name": "stdout",
     "output_type": "stream",
     "text": [
      "\r24particle :  32 / 81"
     ]
    },
    {
     "name": "stdout",
     "output_type": "stream",
     "text": [
      "\r24particle :  33 / 81"
     ]
    },
    {
     "name": "stdout",
     "output_type": "stream",
     "text": [
      "\r24particle :  34 / 81"
     ]
    },
    {
     "name": "stdout",
     "output_type": "stream",
     "text": [
      "\r24particle :  35 / 81"
     ]
    },
    {
     "name": "stdout",
     "output_type": "stream",
     "text": [
      "\r24particle :  36 / 81"
     ]
    },
    {
     "name": "stdout",
     "output_type": "stream",
     "text": [
      "\r24particle :  37 / 81"
     ]
    },
    {
     "name": "stdout",
     "output_type": "stream",
     "text": [
      "\r24particle :  38 / 81"
     ]
    },
    {
     "name": "stdout",
     "output_type": "stream",
     "text": [
      "\r24particle :  39 / 81"
     ]
    },
    {
     "name": "stdout",
     "output_type": "stream",
     "text": [
      "\r24particle :  40 / 81"
     ]
    },
    {
     "name": "stdout",
     "output_type": "stream",
     "text": [
      "\r24particle :  41 / 81"
     ]
    },
    {
     "name": "stdout",
     "output_type": "stream",
     "text": [
      "\r24particle :  42 / 81"
     ]
    },
    {
     "name": "stdout",
     "output_type": "stream",
     "text": [
      "\r24particle :  43 / 81"
     ]
    },
    {
     "name": "stdout",
     "output_type": "stream",
     "text": [
      "\r24particle :  44 / 81"
     ]
    },
    {
     "name": "stdout",
     "output_type": "stream",
     "text": [
      "\r24particle :  45 / 81"
     ]
    },
    {
     "name": "stdout",
     "output_type": "stream",
     "text": [
      "\r24particle :  46 / 81"
     ]
    },
    {
     "name": "stdout",
     "output_type": "stream",
     "text": [
      "\r24particle :  47 / 81"
     ]
    },
    {
     "name": "stdout",
     "output_type": "stream",
     "text": [
      "\r24particle :  48 / 81"
     ]
    },
    {
     "name": "stdout",
     "output_type": "stream",
     "text": [
      "\r24particle :  49 / 81"
     ]
    },
    {
     "name": "stdout",
     "output_type": "stream",
     "text": [
      "\r24particle :  50 / 81"
     ]
    },
    {
     "name": "stdout",
     "output_type": "stream",
     "text": [
      "\r24particle :  51 / 81"
     ]
    },
    {
     "name": "stdout",
     "output_type": "stream",
     "text": [
      "\r24particle :  52 / 81"
     ]
    },
    {
     "name": "stdout",
     "output_type": "stream",
     "text": [
      "\r24particle :  53 / 81"
     ]
    },
    {
     "name": "stdout",
     "output_type": "stream",
     "text": [
      "\r24particle :  54 / 81"
     ]
    },
    {
     "name": "stdout",
     "output_type": "stream",
     "text": [
      "\r24particle :  55 / 81"
     ]
    },
    {
     "name": "stdout",
     "output_type": "stream",
     "text": [
      "\r24particle :  56 / 81"
     ]
    },
    {
     "name": "stdout",
     "output_type": "stream",
     "text": [
      "\r24particle :  57 / 81"
     ]
    },
    {
     "name": "stdout",
     "output_type": "stream",
     "text": [
      "\r24particle :  58 / 81"
     ]
    },
    {
     "name": "stdout",
     "output_type": "stream",
     "text": [
      "\r24particle :  59 / 81"
     ]
    },
    {
     "name": "stdout",
     "output_type": "stream",
     "text": [
      "\r24particle :  60 / 81"
     ]
    },
    {
     "name": "stdout",
     "output_type": "stream",
     "text": [
      "\r24particle :  61 / 81"
     ]
    },
    {
     "name": "stdout",
     "output_type": "stream",
     "text": [
      "\r24particle :  62 / 81"
     ]
    },
    {
     "name": "stdout",
     "output_type": "stream",
     "text": [
      "\r24particle :  63 / 81"
     ]
    },
    {
     "name": "stdout",
     "output_type": "stream",
     "text": [
      "\r24particle :  64 / 81"
     ]
    },
    {
     "name": "stdout",
     "output_type": "stream",
     "text": [
      "\r24particle :  65 / 81"
     ]
    },
    {
     "name": "stdout",
     "output_type": "stream",
     "text": [
      "\r24particle :  66 / 81"
     ]
    },
    {
     "name": "stdout",
     "output_type": "stream",
     "text": [
      "\r24particle :  67 / 81"
     ]
    },
    {
     "name": "stdout",
     "output_type": "stream",
     "text": [
      "\r24particle :  68 / 81"
     ]
    },
    {
     "name": "stdout",
     "output_type": "stream",
     "text": [
      "\r24particle :  69 / 81"
     ]
    },
    {
     "name": "stdout",
     "output_type": "stream",
     "text": [
      "\r24particle :  70 / 81"
     ]
    },
    {
     "name": "stdout",
     "output_type": "stream",
     "text": [
      "\r24particle :  71 / 81"
     ]
    },
    {
     "name": "stdout",
     "output_type": "stream",
     "text": [
      "\r24particle :  72 / 81"
     ]
    },
    {
     "name": "stdout",
     "output_type": "stream",
     "text": [
      "\r24particle :  73 / 81"
     ]
    },
    {
     "name": "stdout",
     "output_type": "stream",
     "text": [
      "\r24particle :  74 / 81"
     ]
    },
    {
     "name": "stdout",
     "output_type": "stream",
     "text": [
      "\r24particle :  75 / 81"
     ]
    },
    {
     "name": "stdout",
     "output_type": "stream",
     "text": [
      "\r24particle :  76 / 81"
     ]
    },
    {
     "name": "stdout",
     "output_type": "stream",
     "text": [
      "\r24particle :  77 / 81"
     ]
    },
    {
     "name": "stdout",
     "output_type": "stream",
     "text": [
      "\r24particle :  78 / 81"
     ]
    },
    {
     "name": "stdout",
     "output_type": "stream",
     "text": [
      "\r24particle :  79 / 81"
     ]
    },
    {
     "name": "stdout",
     "output_type": "stream",
     "text": [
      "\r24particle :  80 / 81"
     ]
    },
    {
     "name": "stdout",
     "output_type": "stream",
     "text": [
      "\r25particle :  0 / 81"
     ]
    },
    {
     "name": "stdout",
     "output_type": "stream",
     "text": [
      "\r25particle :  1 / 81"
     ]
    },
    {
     "name": "stdout",
     "output_type": "stream",
     "text": [
      "\r25particle :  2 / 81"
     ]
    },
    {
     "name": "stdout",
     "output_type": "stream",
     "text": [
      "\r25particle :  3 / 81"
     ]
    },
    {
     "name": "stdout",
     "output_type": "stream",
     "text": [
      "\r25particle :  4 / 81"
     ]
    },
    {
     "name": "stdout",
     "output_type": "stream",
     "text": [
      "\r25particle :  5 / 81"
     ]
    },
    {
     "name": "stdout",
     "output_type": "stream",
     "text": [
      "\r25particle :  6 / 81"
     ]
    },
    {
     "name": "stdout",
     "output_type": "stream",
     "text": [
      "\r25particle :  7 / 81"
     ]
    },
    {
     "name": "stdout",
     "output_type": "stream",
     "text": [
      "\r25particle :  8 / 81"
     ]
    },
    {
     "name": "stdout",
     "output_type": "stream",
     "text": [
      "\r25particle :  9 / 81"
     ]
    },
    {
     "name": "stdout",
     "output_type": "stream",
     "text": [
      "\r25particle :  10 / 81"
     ]
    },
    {
     "name": "stdout",
     "output_type": "stream",
     "text": [
      "\r25particle :  11 / 81"
     ]
    },
    {
     "name": "stdout",
     "output_type": "stream",
     "text": [
      "\r25particle :  12 / 81"
     ]
    },
    {
     "name": "stdout",
     "output_type": "stream",
     "text": [
      "\r25particle :  13 / 81"
     ]
    },
    {
     "name": "stdout",
     "output_type": "stream",
     "text": [
      "\r25particle :  14 / 81"
     ]
    },
    {
     "name": "stdout",
     "output_type": "stream",
     "text": [
      "\r25particle :  15 / 81"
     ]
    },
    {
     "name": "stdout",
     "output_type": "stream",
     "text": [
      "\r25particle :  16 / 81"
     ]
    },
    {
     "name": "stdout",
     "output_type": "stream",
     "text": [
      "\r25particle :  17 / 81"
     ]
    },
    {
     "name": "stdout",
     "output_type": "stream",
     "text": [
      "\r25particle :  18 / 81"
     ]
    },
    {
     "name": "stdout",
     "output_type": "stream",
     "text": [
      "\r25particle :  19 / 81"
     ]
    },
    {
     "name": "stdout",
     "output_type": "stream",
     "text": [
      "\r25particle :  20 / 81"
     ]
    },
    {
     "name": "stdout",
     "output_type": "stream",
     "text": [
      "\r25particle :  21 / 81"
     ]
    },
    {
     "name": "stdout",
     "output_type": "stream",
     "text": [
      "\r25particle :  22 / 81"
     ]
    },
    {
     "name": "stdout",
     "output_type": "stream",
     "text": [
      "\r25particle :  23 / 81"
     ]
    },
    {
     "name": "stdout",
     "output_type": "stream",
     "text": [
      "\r25particle :  24 / 81"
     ]
    },
    {
     "name": "stdout",
     "output_type": "stream",
     "text": [
      "\r25particle :  25 / 81"
     ]
    },
    {
     "name": "stdout",
     "output_type": "stream",
     "text": [
      "\r25particle :  26 / 81"
     ]
    },
    {
     "name": "stdout",
     "output_type": "stream",
     "text": [
      "\r25particle :  27 / 81"
     ]
    },
    {
     "name": "stdout",
     "output_type": "stream",
     "text": [
      "\r25particle :  28 / 81"
     ]
    },
    {
     "name": "stdout",
     "output_type": "stream",
     "text": [
      "\r25particle :  29 / 81"
     ]
    },
    {
     "name": "stdout",
     "output_type": "stream",
     "text": [
      "\r25particle :  30 / 81"
     ]
    },
    {
     "name": "stdout",
     "output_type": "stream",
     "text": [
      "\r25particle :  31 / 81"
     ]
    },
    {
     "name": "stdout",
     "output_type": "stream",
     "text": [
      "\r25particle :  32 / 81"
     ]
    },
    {
     "name": "stdout",
     "output_type": "stream",
     "text": [
      "\r25particle :  33 / 81"
     ]
    },
    {
     "name": "stdout",
     "output_type": "stream",
     "text": [
      "\r25particle :  34 / 81"
     ]
    },
    {
     "name": "stdout",
     "output_type": "stream",
     "text": [
      "\r25particle :  35 / 81"
     ]
    },
    {
     "name": "stdout",
     "output_type": "stream",
     "text": [
      "\r25particle :  36 / 81"
     ]
    },
    {
     "name": "stdout",
     "output_type": "stream",
     "text": [
      "\r25particle :  37 / 81"
     ]
    },
    {
     "name": "stdout",
     "output_type": "stream",
     "text": [
      "\r25particle :  38 / 81"
     ]
    },
    {
     "name": "stdout",
     "output_type": "stream",
     "text": [
      "\r25particle :  39 / 81"
     ]
    },
    {
     "name": "stdout",
     "output_type": "stream",
     "text": [
      "\r25particle :  40 / 81"
     ]
    },
    {
     "name": "stdout",
     "output_type": "stream",
     "text": [
      "\r25particle :  41 / 81"
     ]
    },
    {
     "name": "stdout",
     "output_type": "stream",
     "text": [
      "\r25particle :  42 / 81"
     ]
    },
    {
     "name": "stdout",
     "output_type": "stream",
     "text": [
      "\r25particle :  43 / 81"
     ]
    },
    {
     "name": "stdout",
     "output_type": "stream",
     "text": [
      "\r25particle :  44 / 81"
     ]
    },
    {
     "name": "stdout",
     "output_type": "stream",
     "text": [
      "\r25particle :  45 / 81"
     ]
    },
    {
     "name": "stdout",
     "output_type": "stream",
     "text": [
      "\r25particle :  46 / 81"
     ]
    },
    {
     "name": "stdout",
     "output_type": "stream",
     "text": [
      "\r25particle :  47 / 81"
     ]
    },
    {
     "name": "stdout",
     "output_type": "stream",
     "text": [
      "\r25particle :  48 / 81"
     ]
    },
    {
     "name": "stdout",
     "output_type": "stream",
     "text": [
      "\r25particle :  49 / 81"
     ]
    },
    {
     "name": "stdout",
     "output_type": "stream",
     "text": [
      "\r25particle :  50 / 81"
     ]
    },
    {
     "name": "stdout",
     "output_type": "stream",
     "text": [
      "\r25particle :  51 / 81"
     ]
    },
    {
     "name": "stdout",
     "output_type": "stream",
     "text": [
      "\r25particle :  52 / 81"
     ]
    },
    {
     "name": "stdout",
     "output_type": "stream",
     "text": [
      "\r25particle :  53 / 81"
     ]
    },
    {
     "name": "stdout",
     "output_type": "stream",
     "text": [
      "\r25particle :  54 / 81"
     ]
    },
    {
     "name": "stdout",
     "output_type": "stream",
     "text": [
      "\r25particle :  55 / 81"
     ]
    },
    {
     "name": "stdout",
     "output_type": "stream",
     "text": [
      "\r25particle :  56 / 81"
     ]
    },
    {
     "name": "stdout",
     "output_type": "stream",
     "text": [
      "\r25particle :  57 / 81"
     ]
    },
    {
     "name": "stdout",
     "output_type": "stream",
     "text": [
      "\r25particle :  58 / 81"
     ]
    },
    {
     "name": "stdout",
     "output_type": "stream",
     "text": [
      "\r25particle :  59 / 81"
     ]
    },
    {
     "name": "stdout",
     "output_type": "stream",
     "text": [
      "\r25particle :  60 / 81"
     ]
    },
    {
     "name": "stdout",
     "output_type": "stream",
     "text": [
      "\r25particle :  61 / 81"
     ]
    },
    {
     "name": "stdout",
     "output_type": "stream",
     "text": [
      "\r25particle :  62 / 81"
     ]
    },
    {
     "name": "stdout",
     "output_type": "stream",
     "text": [
      "\r25particle :  63 / 81"
     ]
    },
    {
     "name": "stdout",
     "output_type": "stream",
     "text": [
      "\r25particle :  64 / 81"
     ]
    },
    {
     "name": "stdout",
     "output_type": "stream",
     "text": [
      "\r25particle :  65 / 81"
     ]
    },
    {
     "name": "stdout",
     "output_type": "stream",
     "text": [
      "\r25particle :  66 / 81"
     ]
    },
    {
     "name": "stdout",
     "output_type": "stream",
     "text": [
      "\r25particle :  67 / 81"
     ]
    },
    {
     "name": "stdout",
     "output_type": "stream",
     "text": [
      "\r25particle :  68 / 81"
     ]
    },
    {
     "name": "stdout",
     "output_type": "stream",
     "text": [
      "\r25particle :  69 / 81"
     ]
    },
    {
     "name": "stdout",
     "output_type": "stream",
     "text": [
      "\r25particle :  70 / 81"
     ]
    },
    {
     "name": "stdout",
     "output_type": "stream",
     "text": [
      "\r25particle :  71 / 81"
     ]
    },
    {
     "name": "stdout",
     "output_type": "stream",
     "text": [
      "\r25particle :  72 / 81"
     ]
    },
    {
     "name": "stdout",
     "output_type": "stream",
     "text": [
      "\r25particle :  73 / 81"
     ]
    },
    {
     "name": "stdout",
     "output_type": "stream",
     "text": [
      "\r25particle :  74 / 81"
     ]
    },
    {
     "name": "stdout",
     "output_type": "stream",
     "text": [
      "\r25particle :  75 / 81"
     ]
    },
    {
     "name": "stdout",
     "output_type": "stream",
     "text": [
      "\r25particle :  76 / 81"
     ]
    },
    {
     "name": "stdout",
     "output_type": "stream",
     "text": [
      "\r25particle :  77 / 81"
     ]
    },
    {
     "name": "stdout",
     "output_type": "stream",
     "text": [
      "\r25particle :  78 / 81"
     ]
    },
    {
     "name": "stdout",
     "output_type": "stream",
     "text": [
      "\r25particle :  79 / 81"
     ]
    },
    {
     "name": "stdout",
     "output_type": "stream",
     "text": [
      "\r25particle :  80 / 81"
     ]
    },
    {
     "name": "stdout",
     "output_type": "stream",
     "text": [
      "\r26particle :  0 / 81"
     ]
    },
    {
     "name": "stdout",
     "output_type": "stream",
     "text": [
      "\r26particle :  1 / 81"
     ]
    },
    {
     "name": "stdout",
     "output_type": "stream",
     "text": [
      "\r26particle :  2 / 81"
     ]
    },
    {
     "name": "stdout",
     "output_type": "stream",
     "text": [
      "\r26particle :  3 / 81"
     ]
    },
    {
     "name": "stdout",
     "output_type": "stream",
     "text": [
      "\r26particle :  4 / 81"
     ]
    },
    {
     "name": "stdout",
     "output_type": "stream",
     "text": [
      "\r26particle :  5 / 81"
     ]
    },
    {
     "name": "stdout",
     "output_type": "stream",
     "text": [
      "\r26particle :  6 / 81"
     ]
    },
    {
     "name": "stdout",
     "output_type": "stream",
     "text": [
      "\r26particle :  7 / 81"
     ]
    },
    {
     "name": "stdout",
     "output_type": "stream",
     "text": [
      "\r26particle :  8 / 81"
     ]
    },
    {
     "name": "stdout",
     "output_type": "stream",
     "text": [
      "\r26particle :  9 / 81"
     ]
    },
    {
     "name": "stdout",
     "output_type": "stream",
     "text": [
      "\r26particle :  10 / 81"
     ]
    },
    {
     "name": "stdout",
     "output_type": "stream",
     "text": [
      "\r26particle :  11 / 81"
     ]
    },
    {
     "name": "stdout",
     "output_type": "stream",
     "text": [
      "\r26particle :  12 / 81"
     ]
    },
    {
     "name": "stdout",
     "output_type": "stream",
     "text": [
      "\r26particle :  13 / 81"
     ]
    },
    {
     "name": "stdout",
     "output_type": "stream",
     "text": [
      "\r26particle :  14 / 81"
     ]
    },
    {
     "name": "stdout",
     "output_type": "stream",
     "text": [
      "\r26particle :  15 / 81"
     ]
    },
    {
     "name": "stdout",
     "output_type": "stream",
     "text": [
      "\r26particle :  16 / 81"
     ]
    },
    {
     "name": "stdout",
     "output_type": "stream",
     "text": [
      "\r26particle :  17 / 81"
     ]
    },
    {
     "name": "stdout",
     "output_type": "stream",
     "text": [
      "\r26particle :  18 / 81"
     ]
    },
    {
     "name": "stdout",
     "output_type": "stream",
     "text": [
      "\r26particle :  19 / 81"
     ]
    },
    {
     "name": "stdout",
     "output_type": "stream",
     "text": [
      "\r26particle :  20 / 81"
     ]
    },
    {
     "name": "stdout",
     "output_type": "stream",
     "text": [
      "\r26particle :  21 / 81"
     ]
    },
    {
     "name": "stdout",
     "output_type": "stream",
     "text": [
      "\r26particle :  22 / 81"
     ]
    },
    {
     "name": "stdout",
     "output_type": "stream",
     "text": [
      "\r26particle :  23 / 81"
     ]
    },
    {
     "name": "stdout",
     "output_type": "stream",
     "text": [
      "\r26particle :  24 / 81"
     ]
    },
    {
     "name": "stdout",
     "output_type": "stream",
     "text": [
      "\r26particle :  25 / 81"
     ]
    },
    {
     "name": "stdout",
     "output_type": "stream",
     "text": [
      "\r26particle :  26 / 81"
     ]
    },
    {
     "name": "stdout",
     "output_type": "stream",
     "text": [
      "\r26particle :  27 / 81"
     ]
    },
    {
     "name": "stdout",
     "output_type": "stream",
     "text": [
      "\r26particle :  28 / 81"
     ]
    },
    {
     "name": "stdout",
     "output_type": "stream",
     "text": [
      "\r26particle :  29 / 81"
     ]
    },
    {
     "name": "stdout",
     "output_type": "stream",
     "text": [
      "\r26particle :  30 / 81"
     ]
    },
    {
     "name": "stdout",
     "output_type": "stream",
     "text": [
      "\r26particle :  31 / 81"
     ]
    },
    {
     "name": "stdout",
     "output_type": "stream",
     "text": [
      "\r26particle :  32 / 81"
     ]
    },
    {
     "name": "stdout",
     "output_type": "stream",
     "text": [
      "\r26particle :  33 / 81"
     ]
    },
    {
     "name": "stdout",
     "output_type": "stream",
     "text": [
      "\r26particle :  34 / 81"
     ]
    },
    {
     "name": "stdout",
     "output_type": "stream",
     "text": [
      "\r26particle :  35 / 81"
     ]
    },
    {
     "name": "stdout",
     "output_type": "stream",
     "text": [
      "\r26particle :  36 / 81"
     ]
    },
    {
     "name": "stdout",
     "output_type": "stream",
     "text": [
      "\r26particle :  37 / 81"
     ]
    },
    {
     "name": "stdout",
     "output_type": "stream",
     "text": [
      "\r26particle :  38 / 81"
     ]
    },
    {
     "name": "stdout",
     "output_type": "stream",
     "text": [
      "\r26particle :  39 / 81"
     ]
    },
    {
     "name": "stdout",
     "output_type": "stream",
     "text": [
      "\r26particle :  40 / 81"
     ]
    },
    {
     "name": "stdout",
     "output_type": "stream",
     "text": [
      "\r26particle :  41 / 81"
     ]
    },
    {
     "name": "stdout",
     "output_type": "stream",
     "text": [
      "\r26particle :  42 / 81"
     ]
    },
    {
     "name": "stdout",
     "output_type": "stream",
     "text": [
      "\r26particle :  43 / 81"
     ]
    },
    {
     "name": "stdout",
     "output_type": "stream",
     "text": [
      "\r26particle :  44 / 81"
     ]
    },
    {
     "name": "stdout",
     "output_type": "stream",
     "text": [
      "\r26particle :  45 / 81"
     ]
    },
    {
     "name": "stdout",
     "output_type": "stream",
     "text": [
      "\r26particle :  46 / 81"
     ]
    },
    {
     "name": "stdout",
     "output_type": "stream",
     "text": [
      "\r26particle :  47 / 81"
     ]
    },
    {
     "name": "stdout",
     "output_type": "stream",
     "text": [
      "\r26particle :  48 / 81"
     ]
    },
    {
     "name": "stdout",
     "output_type": "stream",
     "text": [
      "\r26particle :  49 / 81"
     ]
    },
    {
     "name": "stdout",
     "output_type": "stream",
     "text": [
      "\r26particle :  50 / 81"
     ]
    },
    {
     "name": "stdout",
     "output_type": "stream",
     "text": [
      "\r26particle :  51 / 81"
     ]
    },
    {
     "name": "stdout",
     "output_type": "stream",
     "text": [
      "\r26particle :  52 / 81"
     ]
    },
    {
     "name": "stdout",
     "output_type": "stream",
     "text": [
      "\r26particle :  53 / 81"
     ]
    },
    {
     "name": "stdout",
     "output_type": "stream",
     "text": [
      "\r26particle :  54 / 81"
     ]
    },
    {
     "name": "stdout",
     "output_type": "stream",
     "text": [
      "\r26particle :  55 / 81"
     ]
    },
    {
     "name": "stdout",
     "output_type": "stream",
     "text": [
      "\r26particle :  56 / 81"
     ]
    },
    {
     "name": "stdout",
     "output_type": "stream",
     "text": [
      "\r26particle :  57 / 81"
     ]
    },
    {
     "name": "stdout",
     "output_type": "stream",
     "text": [
      "\r26particle :  58 / 81"
     ]
    },
    {
     "name": "stdout",
     "output_type": "stream",
     "text": [
      "\r26particle :  59 / 81"
     ]
    },
    {
     "name": "stdout",
     "output_type": "stream",
     "text": [
      "\r26particle :  60 / 81"
     ]
    },
    {
     "name": "stdout",
     "output_type": "stream",
     "text": [
      "\r26particle :  61 / 81"
     ]
    },
    {
     "name": "stdout",
     "output_type": "stream",
     "text": [
      "\r26particle :  62 / 81"
     ]
    },
    {
     "name": "stdout",
     "output_type": "stream",
     "text": [
      "\r26particle :  63 / 81"
     ]
    },
    {
     "name": "stdout",
     "output_type": "stream",
     "text": [
      "\r26particle :  64 / 81"
     ]
    },
    {
     "name": "stdout",
     "output_type": "stream",
     "text": [
      "\r26particle :  65 / 81"
     ]
    },
    {
     "name": "stdout",
     "output_type": "stream",
     "text": [
      "\r26particle :  66 / 81"
     ]
    },
    {
     "name": "stdout",
     "output_type": "stream",
     "text": [
      "\r26particle :  67 / 81"
     ]
    },
    {
     "name": "stdout",
     "output_type": "stream",
     "text": [
      "\r26particle :  68 / 81"
     ]
    },
    {
     "name": "stdout",
     "output_type": "stream",
     "text": [
      "\r26particle :  69 / 81"
     ]
    },
    {
     "name": "stdout",
     "output_type": "stream",
     "text": [
      "\r26particle :  70 / 81"
     ]
    },
    {
     "name": "stdout",
     "output_type": "stream",
     "text": [
      "\r26particle :  71 / 81"
     ]
    },
    {
     "name": "stdout",
     "output_type": "stream",
     "text": [
      "\r26particle :  72 / 81"
     ]
    },
    {
     "name": "stdout",
     "output_type": "stream",
     "text": [
      "\r26particle :  73 / 81"
     ]
    },
    {
     "name": "stdout",
     "output_type": "stream",
     "text": [
      "\r26particle :  74 / 81"
     ]
    },
    {
     "name": "stdout",
     "output_type": "stream",
     "text": [
      "\r26particle :  75 / 81"
     ]
    },
    {
     "name": "stdout",
     "output_type": "stream",
     "text": [
      "\r26particle :  76 / 81"
     ]
    },
    {
     "name": "stdout",
     "output_type": "stream",
     "text": [
      "\r26particle :  77 / 81"
     ]
    },
    {
     "name": "stdout",
     "output_type": "stream",
     "text": [
      "\r26particle :  78 / 81"
     ]
    },
    {
     "name": "stdout",
     "output_type": "stream",
     "text": [
      "\r26particle :  79 / 81"
     ]
    },
    {
     "name": "stdout",
     "output_type": "stream",
     "text": [
      "\r26particle :  80 / 81"
     ]
    },
    {
     "name": "stdout",
     "output_type": "stream",
     "text": [
      "\r27particle :  0 / 81"
     ]
    },
    {
     "name": "stdout",
     "output_type": "stream",
     "text": [
      "\r27particle :  1 / 81"
     ]
    },
    {
     "name": "stdout",
     "output_type": "stream",
     "text": [
      "\r27particle :  2 / 81"
     ]
    },
    {
     "name": "stdout",
     "output_type": "stream",
     "text": [
      "\r27particle :  3 / 81"
     ]
    },
    {
     "name": "stdout",
     "output_type": "stream",
     "text": [
      "\r27particle :  4 / 81"
     ]
    },
    {
     "name": "stdout",
     "output_type": "stream",
     "text": [
      "\r27particle :  5 / 81"
     ]
    },
    {
     "name": "stdout",
     "output_type": "stream",
     "text": [
      "\r27particle :  6 / 81"
     ]
    },
    {
     "name": "stdout",
     "output_type": "stream",
     "text": [
      "\r27particle :  7 / 81"
     ]
    },
    {
     "name": "stdout",
     "output_type": "stream",
     "text": [
      "\r27particle :  8 / 81"
     ]
    },
    {
     "name": "stdout",
     "output_type": "stream",
     "text": [
      "\r27particle :  9 / 81"
     ]
    },
    {
     "name": "stdout",
     "output_type": "stream",
     "text": [
      "\r27particle :  10 / 81"
     ]
    },
    {
     "name": "stdout",
     "output_type": "stream",
     "text": [
      "\r27particle :  11 / 81"
     ]
    },
    {
     "name": "stdout",
     "output_type": "stream",
     "text": [
      "\r27particle :  12 / 81"
     ]
    },
    {
     "name": "stdout",
     "output_type": "stream",
     "text": [
      "\r27particle :  13 / 81"
     ]
    },
    {
     "name": "stdout",
     "output_type": "stream",
     "text": [
      "\r27particle :  14 / 81"
     ]
    },
    {
     "name": "stdout",
     "output_type": "stream",
     "text": [
      "\r27particle :  15 / 81"
     ]
    },
    {
     "name": "stdout",
     "output_type": "stream",
     "text": [
      "\r27particle :  16 / 81"
     ]
    },
    {
     "name": "stdout",
     "output_type": "stream",
     "text": [
      "\r27particle :  17 / 81"
     ]
    },
    {
     "name": "stdout",
     "output_type": "stream",
     "text": [
      "\r27particle :  18 / 81"
     ]
    },
    {
     "name": "stdout",
     "output_type": "stream",
     "text": [
      "\r27particle :  19 / 81"
     ]
    },
    {
     "name": "stdout",
     "output_type": "stream",
     "text": [
      "\r27particle :  20 / 81"
     ]
    },
    {
     "name": "stdout",
     "output_type": "stream",
     "text": [
      "\r27particle :  21 / 81"
     ]
    },
    {
     "name": "stdout",
     "output_type": "stream",
     "text": [
      "\r27particle :  22 / 81"
     ]
    },
    {
     "name": "stdout",
     "output_type": "stream",
     "text": [
      "\r27particle :  23 / 81"
     ]
    },
    {
     "name": "stdout",
     "output_type": "stream",
     "text": [
      "\r27particle :  24 / 81"
     ]
    },
    {
     "name": "stdout",
     "output_type": "stream",
     "text": [
      "\r27particle :  25 / 81"
     ]
    },
    {
     "name": "stdout",
     "output_type": "stream",
     "text": [
      "\r27particle :  26 / 81"
     ]
    },
    {
     "name": "stdout",
     "output_type": "stream",
     "text": [
      "\r27particle :  27 / 81"
     ]
    },
    {
     "name": "stdout",
     "output_type": "stream",
     "text": [
      "\r27particle :  28 / 81"
     ]
    },
    {
     "name": "stdout",
     "output_type": "stream",
     "text": [
      "\r27particle :  29 / 81"
     ]
    },
    {
     "name": "stdout",
     "output_type": "stream",
     "text": [
      "\r27particle :  30 / 81"
     ]
    },
    {
     "name": "stdout",
     "output_type": "stream",
     "text": [
      "\r27particle :  31 / 81"
     ]
    },
    {
     "name": "stdout",
     "output_type": "stream",
     "text": [
      "\r27particle :  32 / 81"
     ]
    },
    {
     "name": "stdout",
     "output_type": "stream",
     "text": [
      "\r27particle :  33 / 81"
     ]
    },
    {
     "name": "stdout",
     "output_type": "stream",
     "text": [
      "\r27particle :  34 / 81"
     ]
    },
    {
     "name": "stdout",
     "output_type": "stream",
     "text": [
      "\r27particle :  35 / 81"
     ]
    },
    {
     "name": "stdout",
     "output_type": "stream",
     "text": [
      "\r27particle :  36 / 81"
     ]
    },
    {
     "name": "stdout",
     "output_type": "stream",
     "text": [
      "\r27particle :  37 / 81"
     ]
    },
    {
     "name": "stdout",
     "output_type": "stream",
     "text": [
      "\r27particle :  38 / 81"
     ]
    },
    {
     "name": "stdout",
     "output_type": "stream",
     "text": [
      "\r27particle :  39 / 81"
     ]
    },
    {
     "name": "stdout",
     "output_type": "stream",
     "text": [
      "\r27particle :  40 / 81"
     ]
    },
    {
     "name": "stdout",
     "output_type": "stream",
     "text": [
      "\r27particle :  41 / 81"
     ]
    },
    {
     "name": "stdout",
     "output_type": "stream",
     "text": [
      "\r27particle :  42 / 81"
     ]
    },
    {
     "name": "stdout",
     "output_type": "stream",
     "text": [
      "\r27particle :  43 / 81"
     ]
    },
    {
     "name": "stdout",
     "output_type": "stream",
     "text": [
      "\r27particle :  44 / 81"
     ]
    },
    {
     "name": "stdout",
     "output_type": "stream",
     "text": [
      "\r27particle :  45 / 81"
     ]
    },
    {
     "name": "stdout",
     "output_type": "stream",
     "text": [
      "\r27particle :  46 / 81"
     ]
    },
    {
     "name": "stdout",
     "output_type": "stream",
     "text": [
      "\r27particle :  47 / 81"
     ]
    },
    {
     "name": "stdout",
     "output_type": "stream",
     "text": [
      "\r27particle :  48 / 81"
     ]
    },
    {
     "name": "stdout",
     "output_type": "stream",
     "text": [
      "\r27particle :  49 / 81"
     ]
    },
    {
     "name": "stdout",
     "output_type": "stream",
     "text": [
      "\r27particle :  50 / 81"
     ]
    },
    {
     "name": "stdout",
     "output_type": "stream",
     "text": [
      "\r27particle :  51 / 81"
     ]
    },
    {
     "name": "stdout",
     "output_type": "stream",
     "text": [
      "\r27particle :  52 / 81"
     ]
    },
    {
     "name": "stdout",
     "output_type": "stream",
     "text": [
      "\r27particle :  53 / 81"
     ]
    },
    {
     "name": "stdout",
     "output_type": "stream",
     "text": [
      "\r27particle :  54 / 81"
     ]
    },
    {
     "name": "stdout",
     "output_type": "stream",
     "text": [
      "\r27particle :  55 / 81"
     ]
    },
    {
     "name": "stdout",
     "output_type": "stream",
     "text": [
      "\r27particle :  56 / 81"
     ]
    },
    {
     "name": "stdout",
     "output_type": "stream",
     "text": [
      "\r27particle :  57 / 81"
     ]
    },
    {
     "name": "stdout",
     "output_type": "stream",
     "text": [
      "\r27particle :  58 / 81"
     ]
    },
    {
     "name": "stdout",
     "output_type": "stream",
     "text": [
      "\r27particle :  59 / 81"
     ]
    },
    {
     "name": "stdout",
     "output_type": "stream",
     "text": [
      "\r27particle :  60 / 81"
     ]
    },
    {
     "name": "stdout",
     "output_type": "stream",
     "text": [
      "\r27particle :  61 / 81"
     ]
    },
    {
     "name": "stdout",
     "output_type": "stream",
     "text": [
      "\r27particle :  62 / 81"
     ]
    },
    {
     "name": "stdout",
     "output_type": "stream",
     "text": [
      "\r27particle :  63 / 81"
     ]
    },
    {
     "name": "stdout",
     "output_type": "stream",
     "text": [
      "\r27particle :  64 / 81"
     ]
    },
    {
     "name": "stdout",
     "output_type": "stream",
     "text": [
      "\r27particle :  65 / 81"
     ]
    },
    {
     "name": "stdout",
     "output_type": "stream",
     "text": [
      "\r27particle :  66 / 81"
     ]
    },
    {
     "name": "stdout",
     "output_type": "stream",
     "text": [
      "\r27particle :  67 / 81"
     ]
    },
    {
     "name": "stdout",
     "output_type": "stream",
     "text": [
      "\r27particle :  68 / 81"
     ]
    },
    {
     "name": "stdout",
     "output_type": "stream",
     "text": [
      "\r27particle :  69 / 81"
     ]
    },
    {
     "name": "stdout",
     "output_type": "stream",
     "text": [
      "\r27particle :  70 / 81"
     ]
    },
    {
     "name": "stdout",
     "output_type": "stream",
     "text": [
      "\r27particle :  71 / 81"
     ]
    },
    {
     "name": "stdout",
     "output_type": "stream",
     "text": [
      "\r27particle :  72 / 81"
     ]
    },
    {
     "name": "stdout",
     "output_type": "stream",
     "text": [
      "\r27particle :  73 / 81"
     ]
    },
    {
     "name": "stdout",
     "output_type": "stream",
     "text": [
      "\r27particle :  74 / 81"
     ]
    },
    {
     "name": "stdout",
     "output_type": "stream",
     "text": [
      "\r27particle :  75 / 81"
     ]
    },
    {
     "name": "stdout",
     "output_type": "stream",
     "text": [
      "\r27particle :  76 / 81"
     ]
    },
    {
     "name": "stdout",
     "output_type": "stream",
     "text": [
      "\r27particle :  77 / 81"
     ]
    },
    {
     "name": "stdout",
     "output_type": "stream",
     "text": [
      "\r27particle :  78 / 81"
     ]
    },
    {
     "name": "stdout",
     "output_type": "stream",
     "text": [
      "\r27particle :  79 / 81"
     ]
    },
    {
     "name": "stdout",
     "output_type": "stream",
     "text": [
      "\r27particle :  80 / 81"
     ]
    },
    {
     "name": "stdout",
     "output_type": "stream",
     "text": [
      "\r28particle :  0 / 81"
     ]
    },
    {
     "name": "stdout",
     "output_type": "stream",
     "text": [
      "\r28particle :  1 / 81"
     ]
    },
    {
     "name": "stdout",
     "output_type": "stream",
     "text": [
      "\r28particle :  2 / 81"
     ]
    },
    {
     "name": "stdout",
     "output_type": "stream",
     "text": [
      "\r28particle :  3 / 81"
     ]
    },
    {
     "name": "stdout",
     "output_type": "stream",
     "text": [
      "\r28particle :  4 / 81"
     ]
    },
    {
     "name": "stdout",
     "output_type": "stream",
     "text": [
      "\r28particle :  5 / 81"
     ]
    },
    {
     "name": "stdout",
     "output_type": "stream",
     "text": [
      "\r28particle :  6 / 81"
     ]
    },
    {
     "name": "stdout",
     "output_type": "stream",
     "text": [
      "\r28particle :  7 / 81"
     ]
    },
    {
     "name": "stdout",
     "output_type": "stream",
     "text": [
      "\r28particle :  8 / 81"
     ]
    },
    {
     "name": "stdout",
     "output_type": "stream",
     "text": [
      "\r28particle :  9 / 81"
     ]
    },
    {
     "name": "stdout",
     "output_type": "stream",
     "text": [
      "\r28particle :  10 / 81"
     ]
    },
    {
     "name": "stdout",
     "output_type": "stream",
     "text": [
      "\r28particle :  11 / 81"
     ]
    },
    {
     "name": "stdout",
     "output_type": "stream",
     "text": [
      "\r28particle :  12 / 81"
     ]
    },
    {
     "name": "stdout",
     "output_type": "stream",
     "text": [
      "\r28particle :  13 / 81"
     ]
    },
    {
     "name": "stdout",
     "output_type": "stream",
     "text": [
      "\r28particle :  14 / 81"
     ]
    },
    {
     "name": "stdout",
     "output_type": "stream",
     "text": [
      "\r28particle :  15 / 81"
     ]
    },
    {
     "name": "stdout",
     "output_type": "stream",
     "text": [
      "\r28particle :  16 / 81"
     ]
    },
    {
     "name": "stdout",
     "output_type": "stream",
     "text": [
      "\r28particle :  17 / 81"
     ]
    },
    {
     "name": "stdout",
     "output_type": "stream",
     "text": [
      "\r28particle :  18 / 81"
     ]
    },
    {
     "name": "stdout",
     "output_type": "stream",
     "text": [
      "\r28particle :  19 / 81"
     ]
    },
    {
     "name": "stdout",
     "output_type": "stream",
     "text": [
      "\r28particle :  20 / 81"
     ]
    },
    {
     "name": "stdout",
     "output_type": "stream",
     "text": [
      "\r28particle :  21 / 81"
     ]
    },
    {
     "name": "stdout",
     "output_type": "stream",
     "text": [
      "\r28particle :  22 / 81"
     ]
    },
    {
     "name": "stdout",
     "output_type": "stream",
     "text": [
      "\r28particle :  23 / 81"
     ]
    },
    {
     "name": "stdout",
     "output_type": "stream",
     "text": [
      "\r28particle :  24 / 81"
     ]
    },
    {
     "name": "stdout",
     "output_type": "stream",
     "text": [
      "\r28particle :  25 / 81"
     ]
    },
    {
     "name": "stdout",
     "output_type": "stream",
     "text": [
      "\r28particle :  26 / 81"
     ]
    },
    {
     "name": "stdout",
     "output_type": "stream",
     "text": [
      "\r28particle :  27 / 81"
     ]
    },
    {
     "name": "stdout",
     "output_type": "stream",
     "text": [
      "\r28particle :  28 / 81"
     ]
    },
    {
     "name": "stdout",
     "output_type": "stream",
     "text": [
      "\r28particle :  29 / 81"
     ]
    },
    {
     "name": "stdout",
     "output_type": "stream",
     "text": [
      "\r28particle :  30 / 81"
     ]
    },
    {
     "name": "stdout",
     "output_type": "stream",
     "text": [
      "\r28particle :  31 / 81"
     ]
    },
    {
     "name": "stdout",
     "output_type": "stream",
     "text": [
      "\r28particle :  32 / 81"
     ]
    },
    {
     "name": "stdout",
     "output_type": "stream",
     "text": [
      "\r28particle :  33 / 81"
     ]
    },
    {
     "name": "stdout",
     "output_type": "stream",
     "text": [
      "\r28particle :  34 / 81"
     ]
    },
    {
     "name": "stdout",
     "output_type": "stream",
     "text": [
      "\r28particle :  35 / 81"
     ]
    },
    {
     "name": "stdout",
     "output_type": "stream",
     "text": [
      "\r28particle :  36 / 81"
     ]
    },
    {
     "name": "stdout",
     "output_type": "stream",
     "text": [
      "\r28particle :  37 / 81"
     ]
    },
    {
     "name": "stdout",
     "output_type": "stream",
     "text": [
      "\r28particle :  38 / 81"
     ]
    },
    {
     "name": "stdout",
     "output_type": "stream",
     "text": [
      "\r28particle :  39 / 81"
     ]
    },
    {
     "name": "stdout",
     "output_type": "stream",
     "text": [
      "\r28particle :  40 / 81"
     ]
    },
    {
     "name": "stdout",
     "output_type": "stream",
     "text": [
      "\r28particle :  41 / 81"
     ]
    },
    {
     "name": "stdout",
     "output_type": "stream",
     "text": [
      "\r28particle :  42 / 81"
     ]
    },
    {
     "name": "stdout",
     "output_type": "stream",
     "text": [
      "\r28particle :  43 / 81"
     ]
    },
    {
     "name": "stdout",
     "output_type": "stream",
     "text": [
      "\r28particle :  44 / 81"
     ]
    },
    {
     "name": "stdout",
     "output_type": "stream",
     "text": [
      "\r28particle :  45 / 81"
     ]
    },
    {
     "name": "stdout",
     "output_type": "stream",
     "text": [
      "\r28particle :  46 / 81"
     ]
    },
    {
     "name": "stdout",
     "output_type": "stream",
     "text": [
      "\r28particle :  47 / 81"
     ]
    },
    {
     "name": "stdout",
     "output_type": "stream",
     "text": [
      "\r28particle :  48 / 81"
     ]
    },
    {
     "name": "stdout",
     "output_type": "stream",
     "text": [
      "\r28particle :  49 / 81"
     ]
    },
    {
     "name": "stdout",
     "output_type": "stream",
     "text": [
      "\r28particle :  50 / 81"
     ]
    },
    {
     "name": "stdout",
     "output_type": "stream",
     "text": [
      "\r28particle :  51 / 81"
     ]
    },
    {
     "name": "stdout",
     "output_type": "stream",
     "text": [
      "\r28particle :  52 / 81"
     ]
    },
    {
     "name": "stdout",
     "output_type": "stream",
     "text": [
      "\r28particle :  53 / 81"
     ]
    },
    {
     "name": "stdout",
     "output_type": "stream",
     "text": [
      "\r28particle :  54 / 81"
     ]
    },
    {
     "name": "stdout",
     "output_type": "stream",
     "text": [
      "\r28particle :  55 / 81"
     ]
    },
    {
     "name": "stdout",
     "output_type": "stream",
     "text": [
      "\r28particle :  56 / 81"
     ]
    },
    {
     "name": "stdout",
     "output_type": "stream",
     "text": [
      "\r28particle :  57 / 81"
     ]
    },
    {
     "name": "stdout",
     "output_type": "stream",
     "text": [
      "\r28particle :  58 / 81"
     ]
    },
    {
     "name": "stdout",
     "output_type": "stream",
     "text": [
      "\r28particle :  59 / 81"
     ]
    },
    {
     "name": "stdout",
     "output_type": "stream",
     "text": [
      "\r28particle :  60 / 81"
     ]
    },
    {
     "name": "stdout",
     "output_type": "stream",
     "text": [
      "\r28particle :  61 / 81"
     ]
    },
    {
     "name": "stdout",
     "output_type": "stream",
     "text": [
      "\r28particle :  62 / 81"
     ]
    },
    {
     "name": "stdout",
     "output_type": "stream",
     "text": [
      "\r28particle :  63 / 81"
     ]
    },
    {
     "name": "stdout",
     "output_type": "stream",
     "text": [
      "\r28particle :  64 / 81"
     ]
    },
    {
     "name": "stdout",
     "output_type": "stream",
     "text": [
      "\r28particle :  65 / 81"
     ]
    },
    {
     "name": "stdout",
     "output_type": "stream",
     "text": [
      "\r28particle :  66 / 81"
     ]
    },
    {
     "name": "stdout",
     "output_type": "stream",
     "text": [
      "\r28particle :  67 / 81"
     ]
    },
    {
     "name": "stdout",
     "output_type": "stream",
     "text": [
      "\r28particle :  68 / 81"
     ]
    },
    {
     "name": "stdout",
     "output_type": "stream",
     "text": [
      "\r28particle :  69 / 81"
     ]
    },
    {
     "name": "stdout",
     "output_type": "stream",
     "text": [
      "\r28particle :  70 / 81"
     ]
    },
    {
     "name": "stdout",
     "output_type": "stream",
     "text": [
      "\r28particle :  71 / 81"
     ]
    },
    {
     "name": "stdout",
     "output_type": "stream",
     "text": [
      "\r28particle :  72 / 81"
     ]
    },
    {
     "name": "stdout",
     "output_type": "stream",
     "text": [
      "\r28particle :  73 / 81"
     ]
    },
    {
     "name": "stdout",
     "output_type": "stream",
     "text": [
      "\r28particle :  74 / 81"
     ]
    },
    {
     "name": "stdout",
     "output_type": "stream",
     "text": [
      "\r28particle :  75 / 81"
     ]
    },
    {
     "name": "stdout",
     "output_type": "stream",
     "text": [
      "\r28particle :  76 / 81"
     ]
    },
    {
     "name": "stdout",
     "output_type": "stream",
     "text": [
      "\r28particle :  77 / 81"
     ]
    },
    {
     "name": "stdout",
     "output_type": "stream",
     "text": [
      "\r28particle :  78 / 81"
     ]
    },
    {
     "name": "stdout",
     "output_type": "stream",
     "text": [
      "\r28particle :  79 / 81"
     ]
    },
    {
     "name": "stdout",
     "output_type": "stream",
     "text": [
      "\r28particle :  80 / 81"
     ]
    },
    {
     "name": "stdout",
     "output_type": "stream",
     "text": [
      "\r29particle :  0 / 81"
     ]
    },
    {
     "name": "stdout",
     "output_type": "stream",
     "text": [
      "\r29particle :  1 / 81"
     ]
    },
    {
     "name": "stdout",
     "output_type": "stream",
     "text": [
      "\r29particle :  2 / 81"
     ]
    },
    {
     "name": "stdout",
     "output_type": "stream",
     "text": [
      "\r29particle :  3 / 81"
     ]
    },
    {
     "name": "stdout",
     "output_type": "stream",
     "text": [
      "\r29particle :  4 / 81"
     ]
    },
    {
     "name": "stdout",
     "output_type": "stream",
     "text": [
      "\r29particle :  5 / 81"
     ]
    },
    {
     "name": "stdout",
     "output_type": "stream",
     "text": [
      "\r29particle :  6 / 81"
     ]
    },
    {
     "name": "stdout",
     "output_type": "stream",
     "text": [
      "\r29particle :  7 / 81"
     ]
    },
    {
     "name": "stdout",
     "output_type": "stream",
     "text": [
      "\r29particle :  8 / 81"
     ]
    },
    {
     "name": "stdout",
     "output_type": "stream",
     "text": [
      "\r29particle :  9 / 81"
     ]
    },
    {
     "name": "stdout",
     "output_type": "stream",
     "text": [
      "\r29particle :  10 / 81"
     ]
    },
    {
     "name": "stdout",
     "output_type": "stream",
     "text": [
      "\r29particle :  11 / 81"
     ]
    },
    {
     "name": "stdout",
     "output_type": "stream",
     "text": [
      "\r29particle :  12 / 81"
     ]
    },
    {
     "name": "stdout",
     "output_type": "stream",
     "text": [
      "\r29particle :  13 / 81"
     ]
    },
    {
     "name": "stdout",
     "output_type": "stream",
     "text": [
      "\r29particle :  14 / 81"
     ]
    },
    {
     "name": "stdout",
     "output_type": "stream",
     "text": [
      "\r29particle :  15 / 81"
     ]
    },
    {
     "name": "stdout",
     "output_type": "stream",
     "text": [
      "\r29particle :  16 / 81"
     ]
    },
    {
     "name": "stdout",
     "output_type": "stream",
     "text": [
      "\r29particle :  17 / 81"
     ]
    },
    {
     "name": "stdout",
     "output_type": "stream",
     "text": [
      "\r29particle :  18 / 81"
     ]
    },
    {
     "name": "stdout",
     "output_type": "stream",
     "text": [
      "\r29particle :  19 / 81"
     ]
    },
    {
     "name": "stdout",
     "output_type": "stream",
     "text": [
      "\r29particle :  20 / 81"
     ]
    },
    {
     "name": "stdout",
     "output_type": "stream",
     "text": [
      "\r29particle :  21 / 81"
     ]
    },
    {
     "name": "stdout",
     "output_type": "stream",
     "text": [
      "\r29particle :  22 / 81"
     ]
    },
    {
     "name": "stdout",
     "output_type": "stream",
     "text": [
      "\r29particle :  23 / 81"
     ]
    },
    {
     "name": "stdout",
     "output_type": "stream",
     "text": [
      "\r29particle :  24 / 81"
     ]
    },
    {
     "name": "stdout",
     "output_type": "stream",
     "text": [
      "\r29particle :  25 / 81"
     ]
    },
    {
     "name": "stdout",
     "output_type": "stream",
     "text": [
      "\r29particle :  26 / 81"
     ]
    },
    {
     "name": "stdout",
     "output_type": "stream",
     "text": [
      "\r29particle :  27 / 81"
     ]
    },
    {
     "name": "stdout",
     "output_type": "stream",
     "text": [
      "\r29particle :  28 / 81"
     ]
    },
    {
     "name": "stdout",
     "output_type": "stream",
     "text": [
      "\r29particle :  29 / 81"
     ]
    },
    {
     "name": "stdout",
     "output_type": "stream",
     "text": [
      "\r29particle :  30 / 81"
     ]
    },
    {
     "name": "stdout",
     "output_type": "stream",
     "text": [
      "\r29particle :  31 / 81"
     ]
    },
    {
     "name": "stdout",
     "output_type": "stream",
     "text": [
      "\r29particle :  32 / 81"
     ]
    },
    {
     "name": "stdout",
     "output_type": "stream",
     "text": [
      "\r29particle :  33 / 81"
     ]
    },
    {
     "name": "stdout",
     "output_type": "stream",
     "text": [
      "\r29particle :  34 / 81"
     ]
    },
    {
     "name": "stdout",
     "output_type": "stream",
     "text": [
      "\r29particle :  35 / 81"
     ]
    },
    {
     "name": "stdout",
     "output_type": "stream",
     "text": [
      "\r29particle :  36 / 81"
     ]
    },
    {
     "name": "stdout",
     "output_type": "stream",
     "text": [
      "\r29particle :  37 / 81"
     ]
    },
    {
     "name": "stdout",
     "output_type": "stream",
     "text": [
      "\r29particle :  38 / 81"
     ]
    },
    {
     "name": "stdout",
     "output_type": "stream",
     "text": [
      "\r29particle :  39 / 81"
     ]
    },
    {
     "name": "stdout",
     "output_type": "stream",
     "text": [
      "\r29particle :  40 / 81"
     ]
    },
    {
     "name": "stdout",
     "output_type": "stream",
     "text": [
      "\r29particle :  41 / 81"
     ]
    },
    {
     "name": "stdout",
     "output_type": "stream",
     "text": [
      "\r29particle :  42 / 81"
     ]
    },
    {
     "name": "stdout",
     "output_type": "stream",
     "text": [
      "\r29particle :  43 / 81"
     ]
    },
    {
     "name": "stdout",
     "output_type": "stream",
     "text": [
      "\r29particle :  44 / 81"
     ]
    },
    {
     "name": "stdout",
     "output_type": "stream",
     "text": [
      "\r29particle :  45 / 81"
     ]
    },
    {
     "name": "stdout",
     "output_type": "stream",
     "text": [
      "\r29particle :  46 / 81"
     ]
    },
    {
     "name": "stdout",
     "output_type": "stream",
     "text": [
      "\r29particle :  47 / 81"
     ]
    },
    {
     "name": "stdout",
     "output_type": "stream",
     "text": [
      "\r29particle :  48 / 81"
     ]
    },
    {
     "name": "stdout",
     "output_type": "stream",
     "text": [
      "\r29particle :  49 / 81"
     ]
    },
    {
     "name": "stdout",
     "output_type": "stream",
     "text": [
      "\r29particle :  50 / 81"
     ]
    },
    {
     "name": "stdout",
     "output_type": "stream",
     "text": [
      "\r29particle :  51 / 81"
     ]
    },
    {
     "name": "stdout",
     "output_type": "stream",
     "text": [
      "\r29particle :  52 / 81"
     ]
    },
    {
     "name": "stdout",
     "output_type": "stream",
     "text": [
      "\r29particle :  53 / 81"
     ]
    },
    {
     "name": "stdout",
     "output_type": "stream",
     "text": [
      "\r29particle :  54 / 81"
     ]
    },
    {
     "name": "stdout",
     "output_type": "stream",
     "text": [
      "\r29particle :  55 / 81"
     ]
    },
    {
     "name": "stdout",
     "output_type": "stream",
     "text": [
      "\r29particle :  56 / 81"
     ]
    },
    {
     "name": "stdout",
     "output_type": "stream",
     "text": [
      "\r29particle :  57 / 81"
     ]
    },
    {
     "name": "stdout",
     "output_type": "stream",
     "text": [
      "\r29particle :  58 / 81"
     ]
    },
    {
     "name": "stdout",
     "output_type": "stream",
     "text": [
      "\r29particle :  59 / 81"
     ]
    },
    {
     "name": "stdout",
     "output_type": "stream",
     "text": [
      "\r29particle :  60 / 81"
     ]
    },
    {
     "name": "stdout",
     "output_type": "stream",
     "text": [
      "\r29particle :  61 / 81"
     ]
    },
    {
     "name": "stdout",
     "output_type": "stream",
     "text": [
      "\r29particle :  62 / 81"
     ]
    },
    {
     "name": "stdout",
     "output_type": "stream",
     "text": [
      "\r29particle :  63 / 81"
     ]
    },
    {
     "name": "stdout",
     "output_type": "stream",
     "text": [
      "\r29particle :  64 / 81"
     ]
    },
    {
     "name": "stdout",
     "output_type": "stream",
     "text": [
      "\r29particle :  65 / 81"
     ]
    },
    {
     "name": "stdout",
     "output_type": "stream",
     "text": [
      "\r29particle :  66 / 81"
     ]
    },
    {
     "name": "stdout",
     "output_type": "stream",
     "text": [
      "\r29particle :  67 / 81"
     ]
    },
    {
     "name": "stdout",
     "output_type": "stream",
     "text": [
      "\r29particle :  68 / 81"
     ]
    },
    {
     "name": "stdout",
     "output_type": "stream",
     "text": [
      "\r29particle :  69 / 81"
     ]
    },
    {
     "name": "stdout",
     "output_type": "stream",
     "text": [
      "\r29particle :  70 / 81"
     ]
    },
    {
     "name": "stdout",
     "output_type": "stream",
     "text": [
      "\r29particle :  71 / 81"
     ]
    },
    {
     "name": "stdout",
     "output_type": "stream",
     "text": [
      "\r29particle :  72 / 81"
     ]
    },
    {
     "name": "stdout",
     "output_type": "stream",
     "text": [
      "\r29particle :  73 / 81"
     ]
    },
    {
     "name": "stdout",
     "output_type": "stream",
     "text": [
      "\r29particle :  74 / 81"
     ]
    },
    {
     "name": "stdout",
     "output_type": "stream",
     "text": [
      "\r29particle :  75 / 81"
     ]
    },
    {
     "name": "stdout",
     "output_type": "stream",
     "text": [
      "\r29particle :  76 / 81"
     ]
    },
    {
     "name": "stdout",
     "output_type": "stream",
     "text": [
      "\r29particle :  77 / 81"
     ]
    },
    {
     "name": "stdout",
     "output_type": "stream",
     "text": [
      "\r29particle :  78 / 81"
     ]
    },
    {
     "name": "stdout",
     "output_type": "stream",
     "text": [
      "\r29particle :  79 / 81"
     ]
    },
    {
     "name": "stdout",
     "output_type": "stream",
     "text": [
      "\r29particle :  80 / 81"
     ]
    },
    {
     "name": "stdout",
     "output_type": "stream",
     "text": [
      "\r30particle :  0 / 81"
     ]
    },
    {
     "name": "stdout",
     "output_type": "stream",
     "text": [
      "\r30particle :  1 / 81"
     ]
    },
    {
     "name": "stdout",
     "output_type": "stream",
     "text": [
      "\r30particle :  2 / 81"
     ]
    },
    {
     "name": "stdout",
     "output_type": "stream",
     "text": [
      "\r30particle :  3 / 81"
     ]
    },
    {
     "name": "stdout",
     "output_type": "stream",
     "text": [
      "\r30particle :  4 / 81"
     ]
    },
    {
     "name": "stdout",
     "output_type": "stream",
     "text": [
      "\r30particle :  5 / 81"
     ]
    },
    {
     "name": "stdout",
     "output_type": "stream",
     "text": [
      "\r30particle :  6 / 81"
     ]
    },
    {
     "name": "stdout",
     "output_type": "stream",
     "text": [
      "\r30particle :  7 / 81"
     ]
    },
    {
     "name": "stdout",
     "output_type": "stream",
     "text": [
      "\r30particle :  8 / 81"
     ]
    },
    {
     "name": "stdout",
     "output_type": "stream",
     "text": [
      "\r30particle :  9 / 81"
     ]
    },
    {
     "name": "stdout",
     "output_type": "stream",
     "text": [
      "\r30particle :  10 / 81"
     ]
    },
    {
     "name": "stdout",
     "output_type": "stream",
     "text": [
      "\r30particle :  11 / 81"
     ]
    },
    {
     "name": "stdout",
     "output_type": "stream",
     "text": [
      "\r30particle :  12 / 81"
     ]
    },
    {
     "name": "stdout",
     "output_type": "stream",
     "text": [
      "\r30particle :  13 / 81"
     ]
    },
    {
     "name": "stdout",
     "output_type": "stream",
     "text": [
      "\r30particle :  14 / 81"
     ]
    },
    {
     "name": "stdout",
     "output_type": "stream",
     "text": [
      "\r30particle :  15 / 81"
     ]
    },
    {
     "name": "stdout",
     "output_type": "stream",
     "text": [
      "\r30particle :  16 / 81"
     ]
    },
    {
     "name": "stdout",
     "output_type": "stream",
     "text": [
      "\r30particle :  17 / 81"
     ]
    },
    {
     "name": "stdout",
     "output_type": "stream",
     "text": [
      "\r30particle :  18 / 81"
     ]
    },
    {
     "name": "stdout",
     "output_type": "stream",
     "text": [
      "\r30particle :  19 / 81"
     ]
    },
    {
     "name": "stdout",
     "output_type": "stream",
     "text": [
      "\r30particle :  20 / 81"
     ]
    },
    {
     "name": "stdout",
     "output_type": "stream",
     "text": [
      "\r30particle :  21 / 81"
     ]
    },
    {
     "name": "stdout",
     "output_type": "stream",
     "text": [
      "\r30particle :  22 / 81"
     ]
    },
    {
     "name": "stdout",
     "output_type": "stream",
     "text": [
      "\r30particle :  23 / 81"
     ]
    },
    {
     "name": "stdout",
     "output_type": "stream",
     "text": [
      "\r30particle :  24 / 81"
     ]
    },
    {
     "name": "stdout",
     "output_type": "stream",
     "text": [
      "\r30particle :  25 / 81"
     ]
    },
    {
     "name": "stdout",
     "output_type": "stream",
     "text": [
      "\r30particle :  26 / 81"
     ]
    },
    {
     "name": "stdout",
     "output_type": "stream",
     "text": [
      "\r30particle :  27 / 81"
     ]
    },
    {
     "name": "stdout",
     "output_type": "stream",
     "text": [
      "\r30particle :  28 / 81"
     ]
    },
    {
     "name": "stdout",
     "output_type": "stream",
     "text": [
      "\r30particle :  29 / 81"
     ]
    },
    {
     "name": "stdout",
     "output_type": "stream",
     "text": [
      "\r30particle :  30 / 81"
     ]
    },
    {
     "name": "stdout",
     "output_type": "stream",
     "text": [
      "\r30particle :  31 / 81"
     ]
    },
    {
     "name": "stdout",
     "output_type": "stream",
     "text": [
      "\r30particle :  32 / 81"
     ]
    },
    {
     "name": "stdout",
     "output_type": "stream",
     "text": [
      "\r30particle :  33 / 81"
     ]
    },
    {
     "name": "stdout",
     "output_type": "stream",
     "text": [
      "\r30particle :  34 / 81"
     ]
    },
    {
     "name": "stdout",
     "output_type": "stream",
     "text": [
      "\r30particle :  35 / 81"
     ]
    },
    {
     "name": "stdout",
     "output_type": "stream",
     "text": [
      "\r30particle :  36 / 81"
     ]
    },
    {
     "name": "stdout",
     "output_type": "stream",
     "text": [
      "\r30particle :  37 / 81"
     ]
    },
    {
     "name": "stdout",
     "output_type": "stream",
     "text": [
      "\r30particle :  38 / 81"
     ]
    },
    {
     "name": "stdout",
     "output_type": "stream",
     "text": [
      "\r30particle :  39 / 81"
     ]
    },
    {
     "name": "stdout",
     "output_type": "stream",
     "text": [
      "\r30particle :  40 / 81"
     ]
    },
    {
     "name": "stdout",
     "output_type": "stream",
     "text": [
      "\r30particle :  41 / 81"
     ]
    },
    {
     "name": "stdout",
     "output_type": "stream",
     "text": [
      "\r30particle :  42 / 81"
     ]
    },
    {
     "name": "stdout",
     "output_type": "stream",
     "text": [
      "\r30particle :  43 / 81"
     ]
    },
    {
     "name": "stdout",
     "output_type": "stream",
     "text": [
      "\r30particle :  44 / 81"
     ]
    },
    {
     "name": "stdout",
     "output_type": "stream",
     "text": [
      "\r30particle :  45 / 81"
     ]
    },
    {
     "name": "stdout",
     "output_type": "stream",
     "text": [
      "\r30particle :  46 / 81"
     ]
    },
    {
     "name": "stdout",
     "output_type": "stream",
     "text": [
      "\r30particle :  47 / 81"
     ]
    },
    {
     "name": "stdout",
     "output_type": "stream",
     "text": [
      "\r30particle :  48 / 81"
     ]
    },
    {
     "name": "stdout",
     "output_type": "stream",
     "text": [
      "\r30particle :  49 / 81"
     ]
    },
    {
     "name": "stdout",
     "output_type": "stream",
     "text": [
      "\r30particle :  50 / 81"
     ]
    },
    {
     "name": "stdout",
     "output_type": "stream",
     "text": [
      "\r30particle :  51 / 81"
     ]
    },
    {
     "name": "stdout",
     "output_type": "stream",
     "text": [
      "\r30particle :  52 / 81"
     ]
    },
    {
     "name": "stdout",
     "output_type": "stream",
     "text": [
      "\r30particle :  53 / 81"
     ]
    },
    {
     "name": "stdout",
     "output_type": "stream",
     "text": [
      "\r30particle :  54 / 81"
     ]
    },
    {
     "name": "stdout",
     "output_type": "stream",
     "text": [
      "\r30particle :  55 / 81"
     ]
    },
    {
     "name": "stdout",
     "output_type": "stream",
     "text": [
      "\r30particle :  56 / 81"
     ]
    },
    {
     "name": "stdout",
     "output_type": "stream",
     "text": [
      "\r30particle :  57 / 81"
     ]
    },
    {
     "name": "stdout",
     "output_type": "stream",
     "text": [
      "\r30particle :  58 / 81"
     ]
    },
    {
     "name": "stdout",
     "output_type": "stream",
     "text": [
      "\r30particle :  59 / 81"
     ]
    },
    {
     "name": "stdout",
     "output_type": "stream",
     "text": [
      "\r30particle :  60 / 81"
     ]
    },
    {
     "name": "stdout",
     "output_type": "stream",
     "text": [
      "\r30particle :  61 / 81"
     ]
    },
    {
     "name": "stdout",
     "output_type": "stream",
     "text": [
      "\r30particle :  62 / 81"
     ]
    },
    {
     "name": "stdout",
     "output_type": "stream",
     "text": [
      "\r30particle :  63 / 81"
     ]
    },
    {
     "name": "stdout",
     "output_type": "stream",
     "text": [
      "\r30particle :  64 / 81"
     ]
    },
    {
     "name": "stdout",
     "output_type": "stream",
     "text": [
      "\r30particle :  65 / 81"
     ]
    },
    {
     "name": "stdout",
     "output_type": "stream",
     "text": [
      "\r30particle :  66 / 81"
     ]
    },
    {
     "name": "stdout",
     "output_type": "stream",
     "text": [
      "\r30particle :  67 / 81"
     ]
    },
    {
     "name": "stdout",
     "output_type": "stream",
     "text": [
      "\r30particle :  68 / 81"
     ]
    },
    {
     "name": "stdout",
     "output_type": "stream",
     "text": [
      "\r30particle :  69 / 81"
     ]
    },
    {
     "name": "stdout",
     "output_type": "stream",
     "text": [
      "\r30particle :  70 / 81"
     ]
    },
    {
     "name": "stdout",
     "output_type": "stream",
     "text": [
      "\r30particle :  71 / 81"
     ]
    },
    {
     "name": "stdout",
     "output_type": "stream",
     "text": [
      "\r30particle :  72 / 81"
     ]
    },
    {
     "name": "stdout",
     "output_type": "stream",
     "text": [
      "\r30particle :  73 / 81"
     ]
    },
    {
     "name": "stdout",
     "output_type": "stream",
     "text": [
      "\r30particle :  74 / 81"
     ]
    },
    {
     "name": "stdout",
     "output_type": "stream",
     "text": [
      "\r30particle :  75 / 81"
     ]
    },
    {
     "name": "stdout",
     "output_type": "stream",
     "text": [
      "\r30particle :  76 / 81"
     ]
    },
    {
     "name": "stdout",
     "output_type": "stream",
     "text": [
      "\r30particle :  77 / 81"
     ]
    },
    {
     "name": "stdout",
     "output_type": "stream",
     "text": [
      "\r30particle :  78 / 81"
     ]
    },
    {
     "name": "stdout",
     "output_type": "stream",
     "text": [
      "\r30particle :  79 / 81"
     ]
    },
    {
     "name": "stdout",
     "output_type": "stream",
     "text": [
      "\r30particle :  80 / 81"
     ]
    },
    {
     "name": "stdout",
     "output_type": "stream",
     "text": [
      "\r31particle :  0 / 81"
     ]
    },
    {
     "name": "stdout",
     "output_type": "stream",
     "text": [
      "\r31particle :  1 / 81"
     ]
    },
    {
     "name": "stdout",
     "output_type": "stream",
     "text": [
      "\r31particle :  2 / 81"
     ]
    },
    {
     "name": "stdout",
     "output_type": "stream",
     "text": [
      "\r31particle :  3 / 81"
     ]
    },
    {
     "name": "stdout",
     "output_type": "stream",
     "text": [
      "\r31particle :  4 / 81"
     ]
    },
    {
     "name": "stdout",
     "output_type": "stream",
     "text": [
      "\r31particle :  5 / 81"
     ]
    },
    {
     "name": "stdout",
     "output_type": "stream",
     "text": [
      "\r31particle :  6 / 81"
     ]
    },
    {
     "name": "stdout",
     "output_type": "stream",
     "text": [
      "\r31particle :  7 / 81"
     ]
    },
    {
     "name": "stdout",
     "output_type": "stream",
     "text": [
      "\r31particle :  8 / 81"
     ]
    },
    {
     "name": "stdout",
     "output_type": "stream",
     "text": [
      "\r31particle :  9 / 81"
     ]
    },
    {
     "name": "stdout",
     "output_type": "stream",
     "text": [
      "\r31particle :  10 / 81"
     ]
    },
    {
     "name": "stdout",
     "output_type": "stream",
     "text": [
      "\r31particle :  11 / 81"
     ]
    },
    {
     "name": "stdout",
     "output_type": "stream",
     "text": [
      "\r31particle :  12 / 81"
     ]
    },
    {
     "name": "stdout",
     "output_type": "stream",
     "text": [
      "\r31particle :  13 / 81"
     ]
    },
    {
     "name": "stdout",
     "output_type": "stream",
     "text": [
      "\r31particle :  14 / 81"
     ]
    },
    {
     "name": "stdout",
     "output_type": "stream",
     "text": [
      "\r31particle :  15 / 81"
     ]
    },
    {
     "name": "stdout",
     "output_type": "stream",
     "text": [
      "\r31particle :  16 / 81"
     ]
    },
    {
     "name": "stdout",
     "output_type": "stream",
     "text": [
      "\r31particle :  17 / 81"
     ]
    },
    {
     "name": "stdout",
     "output_type": "stream",
     "text": [
      "\r31particle :  18 / 81"
     ]
    },
    {
     "name": "stdout",
     "output_type": "stream",
     "text": [
      "\r31particle :  19 / 81"
     ]
    },
    {
     "name": "stdout",
     "output_type": "stream",
     "text": [
      "\r31particle :  20 / 81"
     ]
    },
    {
     "name": "stdout",
     "output_type": "stream",
     "text": [
      "\r31particle :  21 / 81"
     ]
    },
    {
     "name": "stdout",
     "output_type": "stream",
     "text": [
      "\r31particle :  22 / 81"
     ]
    },
    {
     "name": "stdout",
     "output_type": "stream",
     "text": [
      "\r31particle :  23 / 81"
     ]
    },
    {
     "name": "stdout",
     "output_type": "stream",
     "text": [
      "\r31particle :  24 / 81"
     ]
    },
    {
     "name": "stdout",
     "output_type": "stream",
     "text": [
      "\r31particle :  25 / 81"
     ]
    },
    {
     "name": "stdout",
     "output_type": "stream",
     "text": [
      "\r31particle :  26 / 81"
     ]
    },
    {
     "name": "stdout",
     "output_type": "stream",
     "text": [
      "\r31particle :  27 / 81"
     ]
    },
    {
     "name": "stdout",
     "output_type": "stream",
     "text": [
      "\r31particle :  28 / 81"
     ]
    },
    {
     "name": "stdout",
     "output_type": "stream",
     "text": [
      "\r31particle :  29 / 81"
     ]
    },
    {
     "name": "stdout",
     "output_type": "stream",
     "text": [
      "\r31particle :  30 / 81"
     ]
    },
    {
     "name": "stdout",
     "output_type": "stream",
     "text": [
      "\r31particle :  31 / 81"
     ]
    },
    {
     "name": "stdout",
     "output_type": "stream",
     "text": [
      "\r31particle :  32 / 81"
     ]
    },
    {
     "name": "stdout",
     "output_type": "stream",
     "text": [
      "\r31particle :  33 / 81"
     ]
    },
    {
     "name": "stdout",
     "output_type": "stream",
     "text": [
      "\r31particle :  34 / 81"
     ]
    },
    {
     "name": "stdout",
     "output_type": "stream",
     "text": [
      "\r31particle :  35 / 81"
     ]
    },
    {
     "name": "stdout",
     "output_type": "stream",
     "text": [
      "\r31particle :  36 / 81"
     ]
    },
    {
     "name": "stdout",
     "output_type": "stream",
     "text": [
      "\r31particle :  37 / 81"
     ]
    },
    {
     "name": "stdout",
     "output_type": "stream",
     "text": [
      "\r31particle :  38 / 81"
     ]
    },
    {
     "name": "stdout",
     "output_type": "stream",
     "text": [
      "\r31particle :  39 / 81"
     ]
    },
    {
     "name": "stdout",
     "output_type": "stream",
     "text": [
      "\r31particle :  40 / 81"
     ]
    },
    {
     "name": "stdout",
     "output_type": "stream",
     "text": [
      "\r31particle :  41 / 81"
     ]
    },
    {
     "name": "stdout",
     "output_type": "stream",
     "text": [
      "\r31particle :  42 / 81"
     ]
    },
    {
     "name": "stdout",
     "output_type": "stream",
     "text": [
      "\r31particle :  43 / 81"
     ]
    },
    {
     "name": "stdout",
     "output_type": "stream",
     "text": [
      "\r31particle :  44 / 81"
     ]
    },
    {
     "name": "stdout",
     "output_type": "stream",
     "text": [
      "\r31particle :  45 / 81"
     ]
    },
    {
     "name": "stdout",
     "output_type": "stream",
     "text": [
      "\r31particle :  46 / 81"
     ]
    },
    {
     "name": "stdout",
     "output_type": "stream",
     "text": [
      "\r31particle :  47 / 81"
     ]
    },
    {
     "name": "stdout",
     "output_type": "stream",
     "text": [
      "\r31particle :  48 / 81"
     ]
    },
    {
     "name": "stdout",
     "output_type": "stream",
     "text": [
      "\r31particle :  49 / 81"
     ]
    },
    {
     "name": "stdout",
     "output_type": "stream",
     "text": [
      "\r31particle :  50 / 81"
     ]
    },
    {
     "name": "stdout",
     "output_type": "stream",
     "text": [
      "\r31particle :  51 / 81"
     ]
    },
    {
     "name": "stdout",
     "output_type": "stream",
     "text": [
      "\r31particle :  52 / 81"
     ]
    },
    {
     "name": "stdout",
     "output_type": "stream",
     "text": [
      "\r31particle :  53 / 81"
     ]
    },
    {
     "name": "stdout",
     "output_type": "stream",
     "text": [
      "\r31particle :  54 / 81"
     ]
    },
    {
     "name": "stdout",
     "output_type": "stream",
     "text": [
      "\r31particle :  55 / 81"
     ]
    },
    {
     "name": "stdout",
     "output_type": "stream",
     "text": [
      "\r31particle :  56 / 81"
     ]
    },
    {
     "name": "stdout",
     "output_type": "stream",
     "text": [
      "\r31particle :  57 / 81"
     ]
    },
    {
     "name": "stdout",
     "output_type": "stream",
     "text": [
      "\r31particle :  58 / 81"
     ]
    },
    {
     "name": "stdout",
     "output_type": "stream",
     "text": [
      "\r31particle :  59 / 81"
     ]
    },
    {
     "name": "stdout",
     "output_type": "stream",
     "text": [
      "\r31particle :  60 / 81"
     ]
    },
    {
     "name": "stdout",
     "output_type": "stream",
     "text": [
      "\r31particle :  61 / 81"
     ]
    },
    {
     "name": "stdout",
     "output_type": "stream",
     "text": [
      "\r31particle :  62 / 81"
     ]
    },
    {
     "name": "stdout",
     "output_type": "stream",
     "text": [
      "\r31particle :  63 / 81"
     ]
    },
    {
     "name": "stdout",
     "output_type": "stream",
     "text": [
      "\r31particle :  64 / 81"
     ]
    },
    {
     "name": "stdout",
     "output_type": "stream",
     "text": [
      "\r31particle :  65 / 81"
     ]
    },
    {
     "name": "stdout",
     "output_type": "stream",
     "text": [
      "\r31particle :  66 / 81"
     ]
    },
    {
     "name": "stdout",
     "output_type": "stream",
     "text": [
      "\r31particle :  67 / 81"
     ]
    },
    {
     "name": "stdout",
     "output_type": "stream",
     "text": [
      "\r31particle :  68 / 81"
     ]
    },
    {
     "name": "stdout",
     "output_type": "stream",
     "text": [
      "\r31particle :  69 / 81"
     ]
    },
    {
     "name": "stdout",
     "output_type": "stream",
     "text": [
      "\r31particle :  70 / 81"
     ]
    },
    {
     "name": "stdout",
     "output_type": "stream",
     "text": [
      "\r31particle :  71 / 81"
     ]
    },
    {
     "name": "stdout",
     "output_type": "stream",
     "text": [
      "\r31particle :  72 / 81"
     ]
    },
    {
     "name": "stdout",
     "output_type": "stream",
     "text": [
      "\r31particle :  73 / 81"
     ]
    },
    {
     "name": "stdout",
     "output_type": "stream",
     "text": [
      "\r31particle :  74 / 81"
     ]
    },
    {
     "name": "stdout",
     "output_type": "stream",
     "text": [
      "\r31particle :  75 / 81"
     ]
    },
    {
     "name": "stdout",
     "output_type": "stream",
     "text": [
      "\r31particle :  76 / 81"
     ]
    },
    {
     "name": "stdout",
     "output_type": "stream",
     "text": [
      "\r31particle :  77 / 81"
     ]
    },
    {
     "name": "stdout",
     "output_type": "stream",
     "text": [
      "\r31particle :  78 / 81"
     ]
    },
    {
     "name": "stdout",
     "output_type": "stream",
     "text": [
      "\r31particle :  79 / 81"
     ]
    },
    {
     "name": "stdout",
     "output_type": "stream",
     "text": [
      "\r31particle :  80 / 81"
     ]
    },
    {
     "name": "stdout",
     "output_type": "stream",
     "text": [
      "\r32particle :  0 / 81"
     ]
    },
    {
     "name": "stdout",
     "output_type": "stream",
     "text": [
      "\r32particle :  1 / 81"
     ]
    },
    {
     "name": "stdout",
     "output_type": "stream",
     "text": [
      "\r32particle :  2 / 81"
     ]
    },
    {
     "name": "stdout",
     "output_type": "stream",
     "text": [
      "\r32particle :  3 / 81"
     ]
    },
    {
     "name": "stdout",
     "output_type": "stream",
     "text": [
      "\r32particle :  4 / 81"
     ]
    },
    {
     "name": "stdout",
     "output_type": "stream",
     "text": [
      "\r32particle :  5 / 81"
     ]
    },
    {
     "name": "stdout",
     "output_type": "stream",
     "text": [
      "\r32particle :  6 / 81"
     ]
    },
    {
     "name": "stdout",
     "output_type": "stream",
     "text": [
      "\r32particle :  7 / 81"
     ]
    },
    {
     "name": "stdout",
     "output_type": "stream",
     "text": [
      "\r32particle :  8 / 81"
     ]
    },
    {
     "name": "stdout",
     "output_type": "stream",
     "text": [
      "\r32particle :  9 / 81"
     ]
    },
    {
     "name": "stdout",
     "output_type": "stream",
     "text": [
      "\r32particle :  10 / 81"
     ]
    },
    {
     "name": "stdout",
     "output_type": "stream",
     "text": [
      "\r32particle :  11 / 81"
     ]
    },
    {
     "name": "stdout",
     "output_type": "stream",
     "text": [
      "\r32particle :  12 / 81"
     ]
    },
    {
     "name": "stdout",
     "output_type": "stream",
     "text": [
      "\r32particle :  13 / 81"
     ]
    },
    {
     "name": "stdout",
     "output_type": "stream",
     "text": [
      "\r32particle :  14 / 81"
     ]
    },
    {
     "name": "stdout",
     "output_type": "stream",
     "text": [
      "\r32particle :  15 / 81"
     ]
    },
    {
     "name": "stdout",
     "output_type": "stream",
     "text": [
      "\r32particle :  16 / 81"
     ]
    },
    {
     "name": "stdout",
     "output_type": "stream",
     "text": [
      "\r32particle :  17 / 81"
     ]
    },
    {
     "name": "stdout",
     "output_type": "stream",
     "text": [
      "\r32particle :  18 / 81"
     ]
    },
    {
     "name": "stdout",
     "output_type": "stream",
     "text": [
      "\r32particle :  19 / 81"
     ]
    },
    {
     "name": "stdout",
     "output_type": "stream",
     "text": [
      "\r32particle :  20 / 81"
     ]
    },
    {
     "name": "stdout",
     "output_type": "stream",
     "text": [
      "\r32particle :  21 / 81"
     ]
    },
    {
     "name": "stdout",
     "output_type": "stream",
     "text": [
      "\r32particle :  22 / 81"
     ]
    },
    {
     "name": "stdout",
     "output_type": "stream",
     "text": [
      "\r32particle :  23 / 81"
     ]
    },
    {
     "name": "stdout",
     "output_type": "stream",
     "text": [
      "\r32particle :  24 / 81"
     ]
    },
    {
     "name": "stdout",
     "output_type": "stream",
     "text": [
      "\r32particle :  25 / 81"
     ]
    },
    {
     "name": "stdout",
     "output_type": "stream",
     "text": [
      "\r32particle :  26 / 81"
     ]
    },
    {
     "name": "stdout",
     "output_type": "stream",
     "text": [
      "\r32particle :  27 / 81"
     ]
    },
    {
     "name": "stdout",
     "output_type": "stream",
     "text": [
      "\r32particle :  28 / 81"
     ]
    },
    {
     "name": "stdout",
     "output_type": "stream",
     "text": [
      "\r32particle :  29 / 81"
     ]
    },
    {
     "name": "stdout",
     "output_type": "stream",
     "text": [
      "\r32particle :  30 / 81"
     ]
    },
    {
     "name": "stdout",
     "output_type": "stream",
     "text": [
      "\r32particle :  31 / 81"
     ]
    },
    {
     "name": "stdout",
     "output_type": "stream",
     "text": [
      "\r32particle :  32 / 81"
     ]
    },
    {
     "name": "stdout",
     "output_type": "stream",
     "text": [
      "\r32particle :  33 / 81"
     ]
    },
    {
     "name": "stdout",
     "output_type": "stream",
     "text": [
      "\r32particle :  34 / 81"
     ]
    },
    {
     "name": "stdout",
     "output_type": "stream",
     "text": [
      "\r32particle :  35 / 81"
     ]
    },
    {
     "name": "stdout",
     "output_type": "stream",
     "text": [
      "\r32particle :  36 / 81"
     ]
    },
    {
     "name": "stdout",
     "output_type": "stream",
     "text": [
      "\r32particle :  37 / 81"
     ]
    },
    {
     "name": "stdout",
     "output_type": "stream",
     "text": [
      "\r32particle :  38 / 81"
     ]
    },
    {
     "name": "stdout",
     "output_type": "stream",
     "text": [
      "\r32particle :  39 / 81"
     ]
    },
    {
     "name": "stdout",
     "output_type": "stream",
     "text": [
      "\r32particle :  40 / 81"
     ]
    },
    {
     "name": "stdout",
     "output_type": "stream",
     "text": [
      "\r32particle :  41 / 81"
     ]
    },
    {
     "name": "stdout",
     "output_type": "stream",
     "text": [
      "\r32particle :  42 / 81"
     ]
    },
    {
     "name": "stdout",
     "output_type": "stream",
     "text": [
      "\r32particle :  43 / 81"
     ]
    },
    {
     "name": "stdout",
     "output_type": "stream",
     "text": [
      "\r32particle :  44 / 81"
     ]
    },
    {
     "name": "stdout",
     "output_type": "stream",
     "text": [
      "\r32particle :  45 / 81"
     ]
    },
    {
     "name": "stdout",
     "output_type": "stream",
     "text": [
      "\r32particle :  46 / 81"
     ]
    },
    {
     "name": "stdout",
     "output_type": "stream",
     "text": [
      "\r32particle :  47 / 81"
     ]
    },
    {
     "name": "stdout",
     "output_type": "stream",
     "text": [
      "\r32particle :  48 / 81"
     ]
    },
    {
     "name": "stdout",
     "output_type": "stream",
     "text": [
      "\r32particle :  49 / 81"
     ]
    },
    {
     "name": "stdout",
     "output_type": "stream",
     "text": [
      "\r32particle :  50 / 81"
     ]
    },
    {
     "name": "stdout",
     "output_type": "stream",
     "text": [
      "\r32particle :  51 / 81"
     ]
    },
    {
     "name": "stdout",
     "output_type": "stream",
     "text": [
      "\r32particle :  52 / 81"
     ]
    },
    {
     "name": "stdout",
     "output_type": "stream",
     "text": [
      "\r32particle :  53 / 81"
     ]
    },
    {
     "name": "stdout",
     "output_type": "stream",
     "text": [
      "\r32particle :  54 / 81"
     ]
    },
    {
     "name": "stdout",
     "output_type": "stream",
     "text": [
      "\r32particle :  55 / 81"
     ]
    },
    {
     "name": "stdout",
     "output_type": "stream",
     "text": [
      "\r32particle :  56 / 81"
     ]
    },
    {
     "name": "stdout",
     "output_type": "stream",
     "text": [
      "\r32particle :  57 / 81"
     ]
    },
    {
     "name": "stdout",
     "output_type": "stream",
     "text": [
      "\r32particle :  58 / 81"
     ]
    },
    {
     "name": "stdout",
     "output_type": "stream",
     "text": [
      "\r32particle :  59 / 81"
     ]
    },
    {
     "name": "stdout",
     "output_type": "stream",
     "text": [
      "\r32particle :  60 / 81"
     ]
    },
    {
     "name": "stdout",
     "output_type": "stream",
     "text": [
      "\r32particle :  61 / 81"
     ]
    },
    {
     "name": "stdout",
     "output_type": "stream",
     "text": [
      "\r32particle :  62 / 81"
     ]
    },
    {
     "name": "stdout",
     "output_type": "stream",
     "text": [
      "\r32particle :  63 / 81"
     ]
    },
    {
     "name": "stdout",
     "output_type": "stream",
     "text": [
      "\r32particle :  64 / 81"
     ]
    },
    {
     "name": "stdout",
     "output_type": "stream",
     "text": [
      "\r32particle :  65 / 81"
     ]
    },
    {
     "name": "stdout",
     "output_type": "stream",
     "text": [
      "\r32particle :  66 / 81"
     ]
    },
    {
     "name": "stdout",
     "output_type": "stream",
     "text": [
      "\r32particle :  67 / 81"
     ]
    },
    {
     "name": "stdout",
     "output_type": "stream",
     "text": [
      "\r32particle :  68 / 81"
     ]
    },
    {
     "name": "stdout",
     "output_type": "stream",
     "text": [
      "\r32particle :  69 / 81"
     ]
    },
    {
     "name": "stdout",
     "output_type": "stream",
     "text": [
      "\r32particle :  70 / 81"
     ]
    },
    {
     "name": "stdout",
     "output_type": "stream",
     "text": [
      "\r32particle :  71 / 81"
     ]
    },
    {
     "name": "stdout",
     "output_type": "stream",
     "text": [
      "\r32particle :  72 / 81"
     ]
    },
    {
     "name": "stdout",
     "output_type": "stream",
     "text": [
      "\r32particle :  73 / 81"
     ]
    },
    {
     "name": "stdout",
     "output_type": "stream",
     "text": [
      "\r32particle :  74 / 81"
     ]
    },
    {
     "name": "stdout",
     "output_type": "stream",
     "text": [
      "\r32particle :  75 / 81"
     ]
    },
    {
     "name": "stdout",
     "output_type": "stream",
     "text": [
      "\r32particle :  76 / 81"
     ]
    },
    {
     "name": "stdout",
     "output_type": "stream",
     "text": [
      "\r32particle :  77 / 81"
     ]
    },
    {
     "name": "stdout",
     "output_type": "stream",
     "text": [
      "\r32particle :  78 / 81"
     ]
    },
    {
     "name": "stdout",
     "output_type": "stream",
     "text": [
      "\r32particle :  79 / 81"
     ]
    },
    {
     "name": "stdout",
     "output_type": "stream",
     "text": [
      "\r32particle :  80 / 81"
     ]
    },
    {
     "name": "stdout",
     "output_type": "stream",
     "text": [
      "\r33particle :  0 / 81"
     ]
    },
    {
     "name": "stdout",
     "output_type": "stream",
     "text": [
      "\r33particle :  1 / 81"
     ]
    },
    {
     "name": "stdout",
     "output_type": "stream",
     "text": [
      "\r33particle :  2 / 81"
     ]
    },
    {
     "name": "stdout",
     "output_type": "stream",
     "text": [
      "\r33particle :  3 / 81"
     ]
    },
    {
     "name": "stdout",
     "output_type": "stream",
     "text": [
      "\r33particle :  4 / 81"
     ]
    },
    {
     "name": "stdout",
     "output_type": "stream",
     "text": [
      "\r33particle :  5 / 81"
     ]
    },
    {
     "name": "stdout",
     "output_type": "stream",
     "text": [
      "\r33particle :  6 / 81"
     ]
    },
    {
     "name": "stdout",
     "output_type": "stream",
     "text": [
      "\r33particle :  7 / 81"
     ]
    },
    {
     "name": "stdout",
     "output_type": "stream",
     "text": [
      "\r33particle :  8 / 81"
     ]
    },
    {
     "name": "stdout",
     "output_type": "stream",
     "text": [
      "\r33particle :  9 / 81"
     ]
    },
    {
     "name": "stdout",
     "output_type": "stream",
     "text": [
      "\r33particle :  10 / 81"
     ]
    },
    {
     "name": "stdout",
     "output_type": "stream",
     "text": [
      "\r33particle :  11 / 81"
     ]
    },
    {
     "name": "stdout",
     "output_type": "stream",
     "text": [
      "\r33particle :  12 / 81"
     ]
    },
    {
     "name": "stdout",
     "output_type": "stream",
     "text": [
      "\r33particle :  13 / 81"
     ]
    },
    {
     "name": "stdout",
     "output_type": "stream",
     "text": [
      "\r33particle :  14 / 81"
     ]
    },
    {
     "name": "stdout",
     "output_type": "stream",
     "text": [
      "\r33particle :  15 / 81"
     ]
    },
    {
     "name": "stdout",
     "output_type": "stream",
     "text": [
      "\r33particle :  16 / 81"
     ]
    },
    {
     "name": "stdout",
     "output_type": "stream",
     "text": [
      "\r33particle :  17 / 81"
     ]
    },
    {
     "name": "stdout",
     "output_type": "stream",
     "text": [
      "\r33particle :  18 / 81"
     ]
    },
    {
     "name": "stdout",
     "output_type": "stream",
     "text": [
      "\r33particle :  19 / 81"
     ]
    },
    {
     "name": "stdout",
     "output_type": "stream",
     "text": [
      "\r33particle :  20 / 81"
     ]
    },
    {
     "name": "stdout",
     "output_type": "stream",
     "text": [
      "\r33particle :  21 / 81"
     ]
    },
    {
     "name": "stdout",
     "output_type": "stream",
     "text": [
      "\r33particle :  22 / 81"
     ]
    },
    {
     "name": "stdout",
     "output_type": "stream",
     "text": [
      "\r33particle :  23 / 81"
     ]
    },
    {
     "name": "stdout",
     "output_type": "stream",
     "text": [
      "\r33particle :  24 / 81"
     ]
    },
    {
     "name": "stdout",
     "output_type": "stream",
     "text": [
      "\r33particle :  25 / 81"
     ]
    },
    {
     "name": "stdout",
     "output_type": "stream",
     "text": [
      "\r33particle :  26 / 81"
     ]
    },
    {
     "name": "stdout",
     "output_type": "stream",
     "text": [
      "\r33particle :  27 / 81"
     ]
    },
    {
     "name": "stdout",
     "output_type": "stream",
     "text": [
      "\r33particle :  28 / 81"
     ]
    },
    {
     "name": "stdout",
     "output_type": "stream",
     "text": [
      "\r33particle :  29 / 81"
     ]
    },
    {
     "name": "stdout",
     "output_type": "stream",
     "text": [
      "\r33particle :  30 / 81"
     ]
    },
    {
     "name": "stdout",
     "output_type": "stream",
     "text": [
      "\r33particle :  31 / 81"
     ]
    },
    {
     "name": "stdout",
     "output_type": "stream",
     "text": [
      "\r33particle :  32 / 81"
     ]
    },
    {
     "name": "stdout",
     "output_type": "stream",
     "text": [
      "\r33particle :  33 / 81"
     ]
    },
    {
     "name": "stdout",
     "output_type": "stream",
     "text": [
      "\r33particle :  34 / 81"
     ]
    },
    {
     "name": "stdout",
     "output_type": "stream",
     "text": [
      "\r33particle :  35 / 81"
     ]
    },
    {
     "name": "stdout",
     "output_type": "stream",
     "text": [
      "\r33particle :  36 / 81"
     ]
    },
    {
     "name": "stdout",
     "output_type": "stream",
     "text": [
      "\r33particle :  37 / 81"
     ]
    },
    {
     "name": "stdout",
     "output_type": "stream",
     "text": [
      "\r33particle :  38 / 81"
     ]
    },
    {
     "name": "stdout",
     "output_type": "stream",
     "text": [
      "\r33particle :  39 / 81"
     ]
    },
    {
     "name": "stdout",
     "output_type": "stream",
     "text": [
      "\r33particle :  40 / 81"
     ]
    },
    {
     "name": "stdout",
     "output_type": "stream",
     "text": [
      "\r33particle :  41 / 81"
     ]
    },
    {
     "name": "stdout",
     "output_type": "stream",
     "text": [
      "\r33particle :  42 / 81"
     ]
    },
    {
     "name": "stdout",
     "output_type": "stream",
     "text": [
      "\r33particle :  43 / 81"
     ]
    },
    {
     "name": "stdout",
     "output_type": "stream",
     "text": [
      "\r33particle :  44 / 81"
     ]
    },
    {
     "name": "stdout",
     "output_type": "stream",
     "text": [
      "\r33particle :  45 / 81"
     ]
    },
    {
     "name": "stdout",
     "output_type": "stream",
     "text": [
      "\r33particle :  46 / 81"
     ]
    },
    {
     "name": "stdout",
     "output_type": "stream",
     "text": [
      "\r33particle :  47 / 81"
     ]
    },
    {
     "name": "stdout",
     "output_type": "stream",
     "text": [
      "\r33particle :  48 / 81"
     ]
    },
    {
     "name": "stdout",
     "output_type": "stream",
     "text": [
      "\r33particle :  49 / 81"
     ]
    },
    {
     "name": "stdout",
     "output_type": "stream",
     "text": [
      "\r33particle :  50 / 81"
     ]
    },
    {
     "name": "stdout",
     "output_type": "stream",
     "text": [
      "\r33particle :  51 / 81"
     ]
    },
    {
     "name": "stdout",
     "output_type": "stream",
     "text": [
      "\r33particle :  52 / 81"
     ]
    },
    {
     "name": "stdout",
     "output_type": "stream",
     "text": [
      "\r33particle :  53 / 81"
     ]
    },
    {
     "name": "stdout",
     "output_type": "stream",
     "text": [
      "\r33particle :  54 / 81"
     ]
    },
    {
     "name": "stdout",
     "output_type": "stream",
     "text": [
      "\r33particle :  55 / 81"
     ]
    },
    {
     "name": "stdout",
     "output_type": "stream",
     "text": [
      "\r33particle :  56 / 81"
     ]
    },
    {
     "name": "stdout",
     "output_type": "stream",
     "text": [
      "\r33particle :  57 / 81"
     ]
    },
    {
     "name": "stdout",
     "output_type": "stream",
     "text": [
      "\r33particle :  58 / 81"
     ]
    },
    {
     "name": "stdout",
     "output_type": "stream",
     "text": [
      "\r33particle :  59 / 81"
     ]
    },
    {
     "name": "stdout",
     "output_type": "stream",
     "text": [
      "\r33particle :  60 / 81"
     ]
    },
    {
     "name": "stdout",
     "output_type": "stream",
     "text": [
      "\r33particle :  61 / 81"
     ]
    },
    {
     "name": "stdout",
     "output_type": "stream",
     "text": [
      "\r33particle :  62 / 81"
     ]
    },
    {
     "name": "stdout",
     "output_type": "stream",
     "text": [
      "\r33particle :  63 / 81"
     ]
    },
    {
     "name": "stdout",
     "output_type": "stream",
     "text": [
      "\r33particle :  64 / 81"
     ]
    },
    {
     "name": "stdout",
     "output_type": "stream",
     "text": [
      "\r33particle :  65 / 81"
     ]
    },
    {
     "name": "stdout",
     "output_type": "stream",
     "text": [
      "\r33particle :  66 / 81"
     ]
    },
    {
     "name": "stdout",
     "output_type": "stream",
     "text": [
      "\r33particle :  67 / 81"
     ]
    },
    {
     "name": "stdout",
     "output_type": "stream",
     "text": [
      "\r33particle :  68 / 81"
     ]
    },
    {
     "name": "stdout",
     "output_type": "stream",
     "text": [
      "\r33particle :  69 / 81"
     ]
    },
    {
     "name": "stdout",
     "output_type": "stream",
     "text": [
      "\r33particle :  70 / 81"
     ]
    },
    {
     "name": "stdout",
     "output_type": "stream",
     "text": [
      "\r33particle :  71 / 81"
     ]
    },
    {
     "name": "stdout",
     "output_type": "stream",
     "text": [
      "\r33particle :  72 / 81"
     ]
    },
    {
     "name": "stdout",
     "output_type": "stream",
     "text": [
      "\r33particle :  73 / 81"
     ]
    },
    {
     "name": "stdout",
     "output_type": "stream",
     "text": [
      "\r33particle :  74 / 81"
     ]
    },
    {
     "name": "stdout",
     "output_type": "stream",
     "text": [
      "\r33particle :  75 / 81"
     ]
    },
    {
     "name": "stdout",
     "output_type": "stream",
     "text": [
      "\r33particle :  76 / 81"
     ]
    },
    {
     "name": "stdout",
     "output_type": "stream",
     "text": [
      "\r33particle :  77 / 81"
     ]
    },
    {
     "name": "stdout",
     "output_type": "stream",
     "text": [
      "\r33particle :  78 / 81"
     ]
    },
    {
     "name": "stdout",
     "output_type": "stream",
     "text": [
      "\r33particle :  79 / 81"
     ]
    },
    {
     "name": "stdout",
     "output_type": "stream",
     "text": [
      "\r33particle :  80 / 81"
     ]
    },
    {
     "name": "stdout",
     "output_type": "stream",
     "text": [
      "\r34particle :  0 / 81"
     ]
    },
    {
     "name": "stdout",
     "output_type": "stream",
     "text": [
      "\r34particle :  1 / 81"
     ]
    },
    {
     "name": "stdout",
     "output_type": "stream",
     "text": [
      "\r34particle :  2 / 81"
     ]
    },
    {
     "name": "stdout",
     "output_type": "stream",
     "text": [
      "\r34particle :  3 / 81"
     ]
    },
    {
     "name": "stdout",
     "output_type": "stream",
     "text": [
      "\r34particle :  4 / 81"
     ]
    },
    {
     "name": "stdout",
     "output_type": "stream",
     "text": [
      "\r34particle :  5 / 81"
     ]
    },
    {
     "name": "stdout",
     "output_type": "stream",
     "text": [
      "\r34particle :  6 / 81"
     ]
    },
    {
     "name": "stdout",
     "output_type": "stream",
     "text": [
      "\r34particle :  7 / 81"
     ]
    },
    {
     "name": "stdout",
     "output_type": "stream",
     "text": [
      "\r34particle :  8 / 81"
     ]
    },
    {
     "name": "stdout",
     "output_type": "stream",
     "text": [
      "\r34particle :  9 / 81"
     ]
    },
    {
     "name": "stdout",
     "output_type": "stream",
     "text": [
      "\r34particle :  10 / 81"
     ]
    },
    {
     "name": "stdout",
     "output_type": "stream",
     "text": [
      "\r34particle :  11 / 81"
     ]
    },
    {
     "name": "stdout",
     "output_type": "stream",
     "text": [
      "\r34particle :  12 / 81"
     ]
    },
    {
     "name": "stdout",
     "output_type": "stream",
     "text": [
      "\r34particle :  13 / 81"
     ]
    },
    {
     "name": "stdout",
     "output_type": "stream",
     "text": [
      "\r34particle :  14 / 81"
     ]
    },
    {
     "name": "stdout",
     "output_type": "stream",
     "text": [
      "\r34particle :  15 / 81"
     ]
    },
    {
     "name": "stdout",
     "output_type": "stream",
     "text": [
      "\r34particle :  16 / 81"
     ]
    },
    {
     "name": "stdout",
     "output_type": "stream",
     "text": [
      "\r34particle :  17 / 81"
     ]
    },
    {
     "name": "stdout",
     "output_type": "stream",
     "text": [
      "\r34particle :  18 / 81"
     ]
    },
    {
     "name": "stdout",
     "output_type": "stream",
     "text": [
      "\r34particle :  19 / 81"
     ]
    },
    {
     "name": "stdout",
     "output_type": "stream",
     "text": [
      "\r34particle :  20 / 81"
     ]
    },
    {
     "name": "stdout",
     "output_type": "stream",
     "text": [
      "\r34particle :  21 / 81"
     ]
    },
    {
     "name": "stdout",
     "output_type": "stream",
     "text": [
      "\r34particle :  22 / 81"
     ]
    },
    {
     "name": "stdout",
     "output_type": "stream",
     "text": [
      "\r34particle :  23 / 81"
     ]
    },
    {
     "name": "stdout",
     "output_type": "stream",
     "text": [
      "\r34particle :  24 / 81"
     ]
    },
    {
     "name": "stdout",
     "output_type": "stream",
     "text": [
      "\r34particle :  25 / 81"
     ]
    },
    {
     "name": "stdout",
     "output_type": "stream",
     "text": [
      "\r34particle :  26 / 81"
     ]
    },
    {
     "name": "stdout",
     "output_type": "stream",
     "text": [
      "\r34particle :  27 / 81"
     ]
    },
    {
     "name": "stdout",
     "output_type": "stream",
     "text": [
      "\r34particle :  28 / 81"
     ]
    },
    {
     "name": "stdout",
     "output_type": "stream",
     "text": [
      "\r34particle :  29 / 81"
     ]
    },
    {
     "name": "stdout",
     "output_type": "stream",
     "text": [
      "\r34particle :  30 / 81"
     ]
    },
    {
     "name": "stdout",
     "output_type": "stream",
     "text": [
      "\r34particle :  31 / 81"
     ]
    },
    {
     "name": "stdout",
     "output_type": "stream",
     "text": [
      "\r34particle :  32 / 81"
     ]
    },
    {
     "name": "stdout",
     "output_type": "stream",
     "text": [
      "\r34particle :  33 / 81"
     ]
    },
    {
     "name": "stdout",
     "output_type": "stream",
     "text": [
      "\r34particle :  34 / 81"
     ]
    },
    {
     "name": "stdout",
     "output_type": "stream",
     "text": [
      "\r34particle :  35 / 81"
     ]
    },
    {
     "name": "stdout",
     "output_type": "stream",
     "text": [
      "\r34particle :  36 / 81"
     ]
    },
    {
     "name": "stdout",
     "output_type": "stream",
     "text": [
      "\r34particle :  37 / 81"
     ]
    },
    {
     "name": "stdout",
     "output_type": "stream",
     "text": [
      "\r34particle :  38 / 81"
     ]
    },
    {
     "name": "stdout",
     "output_type": "stream",
     "text": [
      "\r34particle :  39 / 81"
     ]
    },
    {
     "name": "stdout",
     "output_type": "stream",
     "text": [
      "\r34particle :  40 / 81"
     ]
    },
    {
     "name": "stdout",
     "output_type": "stream",
     "text": [
      "\r34particle :  41 / 81"
     ]
    },
    {
     "name": "stdout",
     "output_type": "stream",
     "text": [
      "\r34particle :  42 / 81"
     ]
    },
    {
     "name": "stdout",
     "output_type": "stream",
     "text": [
      "\r34particle :  43 / 81"
     ]
    },
    {
     "name": "stdout",
     "output_type": "stream",
     "text": [
      "\r34particle :  44 / 81"
     ]
    },
    {
     "name": "stdout",
     "output_type": "stream",
     "text": [
      "\r34particle :  45 / 81"
     ]
    },
    {
     "name": "stdout",
     "output_type": "stream",
     "text": [
      "\r34particle :  46 / 81"
     ]
    },
    {
     "name": "stdout",
     "output_type": "stream",
     "text": [
      "\r34particle :  47 / 81"
     ]
    },
    {
     "name": "stdout",
     "output_type": "stream",
     "text": [
      "\r34particle :  48 / 81"
     ]
    },
    {
     "name": "stdout",
     "output_type": "stream",
     "text": [
      "\r34particle :  49 / 81"
     ]
    },
    {
     "name": "stdout",
     "output_type": "stream",
     "text": [
      "\r34particle :  50 / 81"
     ]
    },
    {
     "name": "stdout",
     "output_type": "stream",
     "text": [
      "\r34particle :  51 / 81"
     ]
    },
    {
     "name": "stdout",
     "output_type": "stream",
     "text": [
      "\r34particle :  52 / 81"
     ]
    },
    {
     "name": "stdout",
     "output_type": "stream",
     "text": [
      "\r34particle :  53 / 81"
     ]
    },
    {
     "name": "stdout",
     "output_type": "stream",
     "text": [
      "\r34particle :  54 / 81"
     ]
    },
    {
     "name": "stdout",
     "output_type": "stream",
     "text": [
      "\r34particle :  55 / 81"
     ]
    },
    {
     "name": "stdout",
     "output_type": "stream",
     "text": [
      "\r34particle :  56 / 81"
     ]
    },
    {
     "name": "stdout",
     "output_type": "stream",
     "text": [
      "\r34particle :  57 / 81"
     ]
    },
    {
     "name": "stdout",
     "output_type": "stream",
     "text": [
      "\r34particle :  58 / 81"
     ]
    },
    {
     "name": "stdout",
     "output_type": "stream",
     "text": [
      "\r34particle :  59 / 81"
     ]
    },
    {
     "name": "stdout",
     "output_type": "stream",
     "text": [
      "\r34particle :  60 / 81"
     ]
    },
    {
     "name": "stdout",
     "output_type": "stream",
     "text": [
      "\r34particle :  61 / 81"
     ]
    },
    {
     "name": "stdout",
     "output_type": "stream",
     "text": [
      "\r34particle :  62 / 81"
     ]
    },
    {
     "name": "stdout",
     "output_type": "stream",
     "text": [
      "\r34particle :  63 / 81"
     ]
    },
    {
     "name": "stdout",
     "output_type": "stream",
     "text": [
      "\r34particle :  64 / 81"
     ]
    },
    {
     "name": "stdout",
     "output_type": "stream",
     "text": [
      "\r34particle :  65 / 81"
     ]
    },
    {
     "name": "stdout",
     "output_type": "stream",
     "text": [
      "\r34particle :  66 / 81"
     ]
    },
    {
     "name": "stdout",
     "output_type": "stream",
     "text": [
      "\r34particle :  67 / 81"
     ]
    },
    {
     "name": "stdout",
     "output_type": "stream",
     "text": [
      "\r34particle :  68 / 81"
     ]
    },
    {
     "name": "stdout",
     "output_type": "stream",
     "text": [
      "\r34particle :  69 / 81"
     ]
    },
    {
     "name": "stdout",
     "output_type": "stream",
     "text": [
      "\r34particle :  70 / 81"
     ]
    },
    {
     "name": "stdout",
     "output_type": "stream",
     "text": [
      "\r34particle :  71 / 81"
     ]
    },
    {
     "name": "stdout",
     "output_type": "stream",
     "text": [
      "\r34particle :  72 / 81"
     ]
    },
    {
     "name": "stdout",
     "output_type": "stream",
     "text": [
      "\r34particle :  73 / 81"
     ]
    },
    {
     "name": "stdout",
     "output_type": "stream",
     "text": [
      "\r34particle :  74 / 81"
     ]
    },
    {
     "name": "stdout",
     "output_type": "stream",
     "text": [
      "\r34particle :  75 / 81"
     ]
    },
    {
     "name": "stdout",
     "output_type": "stream",
     "text": [
      "\r34particle :  76 / 81"
     ]
    },
    {
     "name": "stdout",
     "output_type": "stream",
     "text": [
      "\r34particle :  77 / 81"
     ]
    },
    {
     "name": "stdout",
     "output_type": "stream",
     "text": [
      "\r34particle :  78 / 81"
     ]
    },
    {
     "name": "stdout",
     "output_type": "stream",
     "text": [
      "\r34particle :  79 / 81"
     ]
    },
    {
     "name": "stdout",
     "output_type": "stream",
     "text": [
      "\r34particle :  80 / 81"
     ]
    },
    {
     "name": "stdout",
     "output_type": "stream",
     "text": [
      "\r35particle :  0 / 81"
     ]
    },
    {
     "name": "stdout",
     "output_type": "stream",
     "text": [
      "\r35particle :  1 / 81"
     ]
    },
    {
     "name": "stdout",
     "output_type": "stream",
     "text": [
      "\r35particle :  2 / 81"
     ]
    },
    {
     "name": "stdout",
     "output_type": "stream",
     "text": [
      "\r35particle :  3 / 81"
     ]
    },
    {
     "name": "stdout",
     "output_type": "stream",
     "text": [
      "\r35particle :  4 / 81"
     ]
    },
    {
     "name": "stdout",
     "output_type": "stream",
     "text": [
      "\r35particle :  5 / 81"
     ]
    },
    {
     "name": "stdout",
     "output_type": "stream",
     "text": [
      "\r35particle :  6 / 81"
     ]
    },
    {
     "name": "stdout",
     "output_type": "stream",
     "text": [
      "\r35particle :  7 / 81"
     ]
    },
    {
     "name": "stdout",
     "output_type": "stream",
     "text": [
      "\r35particle :  8 / 81"
     ]
    },
    {
     "name": "stdout",
     "output_type": "stream",
     "text": [
      "\r35particle :  9 / 81"
     ]
    },
    {
     "name": "stdout",
     "output_type": "stream",
     "text": [
      "\r35particle :  10 / 81"
     ]
    },
    {
     "name": "stdout",
     "output_type": "stream",
     "text": [
      "\r35particle :  11 / 81"
     ]
    },
    {
     "name": "stdout",
     "output_type": "stream",
     "text": [
      "\r35particle :  12 / 81"
     ]
    },
    {
     "name": "stdout",
     "output_type": "stream",
     "text": [
      "\r35particle :  13 / 81"
     ]
    },
    {
     "name": "stdout",
     "output_type": "stream",
     "text": [
      "\r35particle :  14 / 81"
     ]
    },
    {
     "name": "stdout",
     "output_type": "stream",
     "text": [
      "\r35particle :  15 / 81"
     ]
    },
    {
     "name": "stdout",
     "output_type": "stream",
     "text": [
      "\r35particle :  16 / 81"
     ]
    },
    {
     "name": "stdout",
     "output_type": "stream",
     "text": [
      "\r35particle :  17 / 81"
     ]
    },
    {
     "name": "stdout",
     "output_type": "stream",
     "text": [
      "\r35particle :  18 / 81"
     ]
    },
    {
     "name": "stdout",
     "output_type": "stream",
     "text": [
      "\r35particle :  19 / 81"
     ]
    },
    {
     "name": "stdout",
     "output_type": "stream",
     "text": [
      "\r35particle :  20 / 81"
     ]
    },
    {
     "name": "stdout",
     "output_type": "stream",
     "text": [
      "\r35particle :  21 / 81"
     ]
    },
    {
     "name": "stdout",
     "output_type": "stream",
     "text": [
      "\r35particle :  22 / 81"
     ]
    },
    {
     "name": "stdout",
     "output_type": "stream",
     "text": [
      "\r35particle :  23 / 81"
     ]
    },
    {
     "name": "stdout",
     "output_type": "stream",
     "text": [
      "\r35particle :  24 / 81"
     ]
    },
    {
     "name": "stdout",
     "output_type": "stream",
     "text": [
      "\r35particle :  25 / 81"
     ]
    },
    {
     "name": "stdout",
     "output_type": "stream",
     "text": [
      "\r35particle :  26 / 81"
     ]
    },
    {
     "name": "stdout",
     "output_type": "stream",
     "text": [
      "\r35particle :  27 / 81"
     ]
    },
    {
     "name": "stdout",
     "output_type": "stream",
     "text": [
      "\r35particle :  28 / 81"
     ]
    },
    {
     "name": "stdout",
     "output_type": "stream",
     "text": [
      "\r35particle :  29 / 81"
     ]
    },
    {
     "name": "stdout",
     "output_type": "stream",
     "text": [
      "\r35particle :  30 / 81"
     ]
    },
    {
     "name": "stdout",
     "output_type": "stream",
     "text": [
      "\r35particle :  31 / 81"
     ]
    },
    {
     "name": "stdout",
     "output_type": "stream",
     "text": [
      "\r35particle :  32 / 81"
     ]
    },
    {
     "name": "stdout",
     "output_type": "stream",
     "text": [
      "\r35particle :  33 / 81"
     ]
    },
    {
     "name": "stdout",
     "output_type": "stream",
     "text": [
      "\r35particle :  34 / 81"
     ]
    },
    {
     "name": "stdout",
     "output_type": "stream",
     "text": [
      "\r35particle :  35 / 81"
     ]
    },
    {
     "name": "stdout",
     "output_type": "stream",
     "text": [
      "\r35particle :  36 / 81"
     ]
    },
    {
     "name": "stdout",
     "output_type": "stream",
     "text": [
      "\r35particle :  37 / 81"
     ]
    },
    {
     "name": "stdout",
     "output_type": "stream",
     "text": [
      "\r35particle :  38 / 81"
     ]
    },
    {
     "name": "stdout",
     "output_type": "stream",
     "text": [
      "\r35particle :  39 / 81"
     ]
    },
    {
     "name": "stdout",
     "output_type": "stream",
     "text": [
      "\r35particle :  40 / 81"
     ]
    },
    {
     "name": "stdout",
     "output_type": "stream",
     "text": [
      "\r35particle :  41 / 81"
     ]
    },
    {
     "name": "stdout",
     "output_type": "stream",
     "text": [
      "\r35particle :  42 / 81"
     ]
    },
    {
     "name": "stdout",
     "output_type": "stream",
     "text": [
      "\r35particle :  43 / 81"
     ]
    },
    {
     "name": "stdout",
     "output_type": "stream",
     "text": [
      "\r35particle :  44 / 81"
     ]
    },
    {
     "name": "stdout",
     "output_type": "stream",
     "text": [
      "\r35particle :  45 / 81"
     ]
    },
    {
     "name": "stdout",
     "output_type": "stream",
     "text": [
      "\r35particle :  46 / 81"
     ]
    },
    {
     "name": "stdout",
     "output_type": "stream",
     "text": [
      "\r35particle :  47 / 81"
     ]
    },
    {
     "name": "stdout",
     "output_type": "stream",
     "text": [
      "\r35particle :  48 / 81"
     ]
    },
    {
     "name": "stdout",
     "output_type": "stream",
     "text": [
      "\r35particle :  49 / 81"
     ]
    },
    {
     "name": "stdout",
     "output_type": "stream",
     "text": [
      "\r35particle :  50 / 81"
     ]
    },
    {
     "name": "stdout",
     "output_type": "stream",
     "text": [
      "\r35particle :  51 / 81"
     ]
    },
    {
     "name": "stdout",
     "output_type": "stream",
     "text": [
      "\r35particle :  52 / 81"
     ]
    },
    {
     "name": "stdout",
     "output_type": "stream",
     "text": [
      "\r35particle :  53 / 81"
     ]
    },
    {
     "name": "stdout",
     "output_type": "stream",
     "text": [
      "\r35particle :  54 / 81"
     ]
    },
    {
     "name": "stdout",
     "output_type": "stream",
     "text": [
      "\r35particle :  55 / 81"
     ]
    },
    {
     "name": "stdout",
     "output_type": "stream",
     "text": [
      "\r35particle :  56 / 81"
     ]
    },
    {
     "name": "stdout",
     "output_type": "stream",
     "text": [
      "\r35particle :  57 / 81"
     ]
    },
    {
     "name": "stdout",
     "output_type": "stream",
     "text": [
      "\r35particle :  58 / 81"
     ]
    },
    {
     "name": "stdout",
     "output_type": "stream",
     "text": [
      "\r35particle :  59 / 81"
     ]
    },
    {
     "name": "stdout",
     "output_type": "stream",
     "text": [
      "\r35particle :  60 / 81"
     ]
    },
    {
     "name": "stdout",
     "output_type": "stream",
     "text": [
      "\r35particle :  61 / 81"
     ]
    },
    {
     "name": "stdout",
     "output_type": "stream",
     "text": [
      "\r35particle :  62 / 81"
     ]
    },
    {
     "name": "stdout",
     "output_type": "stream",
     "text": [
      "\r35particle :  63 / 81"
     ]
    },
    {
     "name": "stdout",
     "output_type": "stream",
     "text": [
      "\r35particle :  64 / 81"
     ]
    },
    {
     "name": "stdout",
     "output_type": "stream",
     "text": [
      "\r35particle :  65 / 81"
     ]
    },
    {
     "name": "stdout",
     "output_type": "stream",
     "text": [
      "\r35particle :  66 / 81"
     ]
    },
    {
     "name": "stdout",
     "output_type": "stream",
     "text": [
      "\r35particle :  67 / 81"
     ]
    },
    {
     "name": "stdout",
     "output_type": "stream",
     "text": [
      "\r35particle :  68 / 81"
     ]
    },
    {
     "name": "stdout",
     "output_type": "stream",
     "text": [
      "\r35particle :  69 / 81"
     ]
    },
    {
     "name": "stdout",
     "output_type": "stream",
     "text": [
      "\r35particle :  70 / 81"
     ]
    },
    {
     "name": "stdout",
     "output_type": "stream",
     "text": [
      "\r35particle :  71 / 81"
     ]
    },
    {
     "name": "stdout",
     "output_type": "stream",
     "text": [
      "\r35particle :  72 / 81"
     ]
    },
    {
     "name": "stdout",
     "output_type": "stream",
     "text": [
      "\r35particle :  73 / 81"
     ]
    },
    {
     "name": "stdout",
     "output_type": "stream",
     "text": [
      "\r35particle :  74 / 81"
     ]
    },
    {
     "name": "stdout",
     "output_type": "stream",
     "text": [
      "\r35particle :  75 / 81"
     ]
    },
    {
     "name": "stdout",
     "output_type": "stream",
     "text": [
      "\r35particle :  76 / 81"
     ]
    },
    {
     "name": "stdout",
     "output_type": "stream",
     "text": [
      "\r35particle :  77 / 81"
     ]
    },
    {
     "name": "stdout",
     "output_type": "stream",
     "text": [
      "\r35particle :  78 / 81"
     ]
    },
    {
     "name": "stdout",
     "output_type": "stream",
     "text": [
      "\r35particle :  79 / 81"
     ]
    },
    {
     "name": "stdout",
     "output_type": "stream",
     "text": [
      "\r35particle :  80 / 81"
     ]
    },
    {
     "name": "stdout",
     "output_type": "stream",
     "text": [
      "\r36particle :  0 / 81"
     ]
    },
    {
     "name": "stdout",
     "output_type": "stream",
     "text": [
      "\r36particle :  1 / 81"
     ]
    },
    {
     "name": "stdout",
     "output_type": "stream",
     "text": [
      "\r36particle :  2 / 81"
     ]
    },
    {
     "name": "stdout",
     "output_type": "stream",
     "text": [
      "\r36particle :  3 / 81"
     ]
    },
    {
     "name": "stdout",
     "output_type": "stream",
     "text": [
      "\r36particle :  4 / 81"
     ]
    },
    {
     "name": "stdout",
     "output_type": "stream",
     "text": [
      "\r36particle :  5 / 81"
     ]
    },
    {
     "name": "stdout",
     "output_type": "stream",
     "text": [
      "\r36particle :  6 / 81"
     ]
    },
    {
     "name": "stdout",
     "output_type": "stream",
     "text": [
      "\r36particle :  7 / 81"
     ]
    },
    {
     "name": "stdout",
     "output_type": "stream",
     "text": [
      "\r36particle :  8 / 81"
     ]
    },
    {
     "name": "stdout",
     "output_type": "stream",
     "text": [
      "\r36particle :  9 / 81"
     ]
    },
    {
     "name": "stdout",
     "output_type": "stream",
     "text": [
      "\r36particle :  10 / 81"
     ]
    },
    {
     "name": "stdout",
     "output_type": "stream",
     "text": [
      "\r36particle :  11 / 81"
     ]
    },
    {
     "name": "stdout",
     "output_type": "stream",
     "text": [
      "\r36particle :  12 / 81"
     ]
    },
    {
     "name": "stdout",
     "output_type": "stream",
     "text": [
      "\r36particle :  13 / 81"
     ]
    },
    {
     "name": "stdout",
     "output_type": "stream",
     "text": [
      "\r36particle :  14 / 81"
     ]
    },
    {
     "name": "stdout",
     "output_type": "stream",
     "text": [
      "\r36particle :  15 / 81"
     ]
    },
    {
     "name": "stdout",
     "output_type": "stream",
     "text": [
      "\r36particle :  16 / 81"
     ]
    },
    {
     "name": "stdout",
     "output_type": "stream",
     "text": [
      "\r36particle :  17 / 81"
     ]
    },
    {
     "name": "stdout",
     "output_type": "stream",
     "text": [
      "\r36particle :  18 / 81"
     ]
    },
    {
     "name": "stdout",
     "output_type": "stream",
     "text": [
      "\r36particle :  19 / 81"
     ]
    },
    {
     "name": "stdout",
     "output_type": "stream",
     "text": [
      "\r36particle :  20 / 81"
     ]
    },
    {
     "name": "stdout",
     "output_type": "stream",
     "text": [
      "\r36particle :  21 / 81"
     ]
    },
    {
     "name": "stdout",
     "output_type": "stream",
     "text": [
      "\r36particle :  22 / 81"
     ]
    },
    {
     "name": "stdout",
     "output_type": "stream",
     "text": [
      "\r36particle :  23 / 81"
     ]
    },
    {
     "name": "stdout",
     "output_type": "stream",
     "text": [
      "\r36particle :  24 / 81"
     ]
    },
    {
     "name": "stdout",
     "output_type": "stream",
     "text": [
      "\r36particle :  25 / 81"
     ]
    },
    {
     "name": "stdout",
     "output_type": "stream",
     "text": [
      "\r36particle :  26 / 81"
     ]
    },
    {
     "name": "stdout",
     "output_type": "stream",
     "text": [
      "\r36particle :  27 / 81"
     ]
    },
    {
     "name": "stdout",
     "output_type": "stream",
     "text": [
      "\r36particle :  28 / 81"
     ]
    },
    {
     "name": "stdout",
     "output_type": "stream",
     "text": [
      "\r36particle :  29 / 81"
     ]
    },
    {
     "name": "stdout",
     "output_type": "stream",
     "text": [
      "\r36particle :  30 / 81"
     ]
    },
    {
     "name": "stdout",
     "output_type": "stream",
     "text": [
      "\r36particle :  31 / 81"
     ]
    },
    {
     "name": "stdout",
     "output_type": "stream",
     "text": [
      "\r36particle :  32 / 81"
     ]
    },
    {
     "name": "stdout",
     "output_type": "stream",
     "text": [
      "\r36particle :  33 / 81"
     ]
    },
    {
     "name": "stdout",
     "output_type": "stream",
     "text": [
      "\r36particle :  34 / 81"
     ]
    },
    {
     "name": "stdout",
     "output_type": "stream",
     "text": [
      "\r36particle :  35 / 81"
     ]
    },
    {
     "name": "stdout",
     "output_type": "stream",
     "text": [
      "\r36particle :  36 / 81"
     ]
    },
    {
     "name": "stdout",
     "output_type": "stream",
     "text": [
      "\r36particle :  37 / 81"
     ]
    },
    {
     "name": "stdout",
     "output_type": "stream",
     "text": [
      "\r36particle :  38 / 81"
     ]
    },
    {
     "name": "stdout",
     "output_type": "stream",
     "text": [
      "\r36particle :  39 / 81"
     ]
    },
    {
     "name": "stdout",
     "output_type": "stream",
     "text": [
      "\r36particle :  40 / 81"
     ]
    },
    {
     "name": "stdout",
     "output_type": "stream",
     "text": [
      "\r36particle :  41 / 81"
     ]
    },
    {
     "name": "stdout",
     "output_type": "stream",
     "text": [
      "\r36particle :  42 / 81"
     ]
    },
    {
     "name": "stdout",
     "output_type": "stream",
     "text": [
      "\r36particle :  43 / 81"
     ]
    },
    {
     "name": "stdout",
     "output_type": "stream",
     "text": [
      "\r36particle :  44 / 81"
     ]
    },
    {
     "name": "stdout",
     "output_type": "stream",
     "text": [
      "\r36particle :  45 / 81"
     ]
    },
    {
     "name": "stdout",
     "output_type": "stream",
     "text": [
      "\r36particle :  46 / 81"
     ]
    },
    {
     "name": "stdout",
     "output_type": "stream",
     "text": [
      "\r36particle :  47 / 81"
     ]
    },
    {
     "name": "stdout",
     "output_type": "stream",
     "text": [
      "\r36particle :  48 / 81"
     ]
    },
    {
     "name": "stdout",
     "output_type": "stream",
     "text": [
      "\r36particle :  49 / 81"
     ]
    },
    {
     "name": "stdout",
     "output_type": "stream",
     "text": [
      "\r36particle :  50 / 81"
     ]
    },
    {
     "name": "stdout",
     "output_type": "stream",
     "text": [
      "\r36particle :  51 / 81"
     ]
    },
    {
     "name": "stdout",
     "output_type": "stream",
     "text": [
      "\r36particle :  52 / 81"
     ]
    },
    {
     "name": "stdout",
     "output_type": "stream",
     "text": [
      "\r36particle :  53 / 81"
     ]
    },
    {
     "name": "stdout",
     "output_type": "stream",
     "text": [
      "\r36particle :  54 / 81"
     ]
    },
    {
     "name": "stdout",
     "output_type": "stream",
     "text": [
      "\r36particle :  55 / 81"
     ]
    },
    {
     "name": "stdout",
     "output_type": "stream",
     "text": [
      "\r36particle :  56 / 81"
     ]
    },
    {
     "name": "stdout",
     "output_type": "stream",
     "text": [
      "\r36particle :  57 / 81"
     ]
    },
    {
     "name": "stdout",
     "output_type": "stream",
     "text": [
      "\r36particle :  58 / 81"
     ]
    },
    {
     "name": "stdout",
     "output_type": "stream",
     "text": [
      "\r36particle :  59 / 81"
     ]
    },
    {
     "name": "stdout",
     "output_type": "stream",
     "text": [
      "\r36particle :  60 / 81"
     ]
    },
    {
     "name": "stdout",
     "output_type": "stream",
     "text": [
      "\r36particle :  61 / 81"
     ]
    },
    {
     "name": "stdout",
     "output_type": "stream",
     "text": [
      "\r36particle :  62 / 81"
     ]
    },
    {
     "name": "stdout",
     "output_type": "stream",
     "text": [
      "\r36particle :  63 / 81"
     ]
    },
    {
     "name": "stdout",
     "output_type": "stream",
     "text": [
      "\r36particle :  64 / 81"
     ]
    },
    {
     "name": "stdout",
     "output_type": "stream",
     "text": [
      "\r36particle :  65 / 81"
     ]
    },
    {
     "name": "stdout",
     "output_type": "stream",
     "text": [
      "\r36particle :  66 / 81"
     ]
    },
    {
     "name": "stdout",
     "output_type": "stream",
     "text": [
      "\r36particle :  67 / 81"
     ]
    },
    {
     "name": "stdout",
     "output_type": "stream",
     "text": [
      "\r36particle :  68 / 81"
     ]
    },
    {
     "name": "stdout",
     "output_type": "stream",
     "text": [
      "\r36particle :  69 / 81"
     ]
    },
    {
     "name": "stdout",
     "output_type": "stream",
     "text": [
      "\r36particle :  70 / 81"
     ]
    },
    {
     "name": "stdout",
     "output_type": "stream",
     "text": [
      "\r36particle :  71 / 81"
     ]
    },
    {
     "name": "stdout",
     "output_type": "stream",
     "text": [
      "\r36particle :  72 / 81"
     ]
    },
    {
     "name": "stdout",
     "output_type": "stream",
     "text": [
      "\r36particle :  73 / 81"
     ]
    },
    {
     "name": "stdout",
     "output_type": "stream",
     "text": [
      "\r36particle :  74 / 81"
     ]
    },
    {
     "name": "stdout",
     "output_type": "stream",
     "text": [
      "\r36particle :  75 / 81"
     ]
    },
    {
     "name": "stdout",
     "output_type": "stream",
     "text": [
      "\r36particle :  76 / 81"
     ]
    },
    {
     "name": "stdout",
     "output_type": "stream",
     "text": [
      "\r36particle :  77 / 81"
     ]
    },
    {
     "name": "stdout",
     "output_type": "stream",
     "text": [
      "\r36particle :  78 / 81"
     ]
    },
    {
     "name": "stdout",
     "output_type": "stream",
     "text": [
      "\r36particle :  79 / 81"
     ]
    },
    {
     "name": "stdout",
     "output_type": "stream",
     "text": [
      "\r36particle :  80 / 81"
     ]
    },
    {
     "name": "stdout",
     "output_type": "stream",
     "text": [
      "\r37particle :  0 / 81"
     ]
    },
    {
     "name": "stdout",
     "output_type": "stream",
     "text": [
      "\r37particle :  1 / 81"
     ]
    },
    {
     "name": "stdout",
     "output_type": "stream",
     "text": [
      "\r37particle :  2 / 81"
     ]
    },
    {
     "name": "stdout",
     "output_type": "stream",
     "text": [
      "\r37particle :  3 / 81"
     ]
    },
    {
     "name": "stdout",
     "output_type": "stream",
     "text": [
      "\r37particle :  4 / 81"
     ]
    },
    {
     "name": "stdout",
     "output_type": "stream",
     "text": [
      "\r37particle :  5 / 81"
     ]
    },
    {
     "name": "stdout",
     "output_type": "stream",
     "text": [
      "\r37particle :  6 / 81"
     ]
    },
    {
     "name": "stdout",
     "output_type": "stream",
     "text": [
      "\r37particle :  7 / 81"
     ]
    },
    {
     "name": "stdout",
     "output_type": "stream",
     "text": [
      "\r37particle :  8 / 81"
     ]
    },
    {
     "name": "stdout",
     "output_type": "stream",
     "text": [
      "\r37particle :  9 / 81"
     ]
    },
    {
     "name": "stdout",
     "output_type": "stream",
     "text": [
      "\r37particle :  10 / 81"
     ]
    },
    {
     "name": "stdout",
     "output_type": "stream",
     "text": [
      "\r37particle :  11 / 81"
     ]
    },
    {
     "name": "stdout",
     "output_type": "stream",
     "text": [
      "\r37particle :  12 / 81"
     ]
    },
    {
     "name": "stdout",
     "output_type": "stream",
     "text": [
      "\r37particle :  13 / 81"
     ]
    },
    {
     "name": "stdout",
     "output_type": "stream",
     "text": [
      "\r37particle :  14 / 81"
     ]
    },
    {
     "name": "stdout",
     "output_type": "stream",
     "text": [
      "\r37particle :  15 / 81"
     ]
    },
    {
     "name": "stdout",
     "output_type": "stream",
     "text": [
      "\r37particle :  16 / 81"
     ]
    },
    {
     "name": "stdout",
     "output_type": "stream",
     "text": [
      "\r37particle :  17 / 81"
     ]
    },
    {
     "name": "stdout",
     "output_type": "stream",
     "text": [
      "\r37particle :  18 / 81"
     ]
    },
    {
     "name": "stdout",
     "output_type": "stream",
     "text": [
      "\r37particle :  19 / 81"
     ]
    },
    {
     "name": "stdout",
     "output_type": "stream",
     "text": [
      "\r37particle :  20 / 81"
     ]
    },
    {
     "name": "stdout",
     "output_type": "stream",
     "text": [
      "\r37particle :  21 / 81"
     ]
    },
    {
     "name": "stdout",
     "output_type": "stream",
     "text": [
      "\r37particle :  22 / 81"
     ]
    },
    {
     "name": "stdout",
     "output_type": "stream",
     "text": [
      "\r37particle :  23 / 81"
     ]
    },
    {
     "name": "stdout",
     "output_type": "stream",
     "text": [
      "\r37particle :  24 / 81"
     ]
    },
    {
     "name": "stdout",
     "output_type": "stream",
     "text": [
      "\r37particle :  25 / 81"
     ]
    },
    {
     "name": "stdout",
     "output_type": "stream",
     "text": [
      "\r37particle :  26 / 81"
     ]
    },
    {
     "name": "stdout",
     "output_type": "stream",
     "text": [
      "\r37particle :  27 / 81"
     ]
    },
    {
     "name": "stdout",
     "output_type": "stream",
     "text": [
      "\r37particle :  28 / 81"
     ]
    },
    {
     "name": "stdout",
     "output_type": "stream",
     "text": [
      "\r37particle :  29 / 81"
     ]
    },
    {
     "name": "stdout",
     "output_type": "stream",
     "text": [
      "\r37particle :  30 / 81"
     ]
    },
    {
     "name": "stdout",
     "output_type": "stream",
     "text": [
      "\r37particle :  31 / 81"
     ]
    },
    {
     "name": "stdout",
     "output_type": "stream",
     "text": [
      "\r37particle :  32 / 81"
     ]
    },
    {
     "name": "stdout",
     "output_type": "stream",
     "text": [
      "\r37particle :  33 / 81"
     ]
    },
    {
     "name": "stdout",
     "output_type": "stream",
     "text": [
      "\r37particle :  34 / 81"
     ]
    },
    {
     "name": "stdout",
     "output_type": "stream",
     "text": [
      "\r37particle :  35 / 81"
     ]
    },
    {
     "name": "stdout",
     "output_type": "stream",
     "text": [
      "\r37particle :  36 / 81"
     ]
    },
    {
     "name": "stdout",
     "output_type": "stream",
     "text": [
      "\r37particle :  37 / 81"
     ]
    },
    {
     "name": "stdout",
     "output_type": "stream",
     "text": [
      "\r37particle :  38 / 81"
     ]
    },
    {
     "name": "stdout",
     "output_type": "stream",
     "text": [
      "\r37particle :  39 / 81"
     ]
    },
    {
     "name": "stdout",
     "output_type": "stream",
     "text": [
      "\r37particle :  40 / 81"
     ]
    },
    {
     "name": "stdout",
     "output_type": "stream",
     "text": [
      "\r37particle :  41 / 81"
     ]
    },
    {
     "name": "stdout",
     "output_type": "stream",
     "text": [
      "\r37particle :  42 / 81"
     ]
    },
    {
     "name": "stdout",
     "output_type": "stream",
     "text": [
      "\r37particle :  43 / 81"
     ]
    },
    {
     "name": "stdout",
     "output_type": "stream",
     "text": [
      "\r37particle :  44 / 81"
     ]
    },
    {
     "name": "stdout",
     "output_type": "stream",
     "text": [
      "\r37particle :  45 / 81"
     ]
    },
    {
     "name": "stdout",
     "output_type": "stream",
     "text": [
      "\r37particle :  46 / 81"
     ]
    },
    {
     "name": "stdout",
     "output_type": "stream",
     "text": [
      "\r37particle :  47 / 81"
     ]
    },
    {
     "name": "stdout",
     "output_type": "stream",
     "text": [
      "\r37particle :  48 / 81"
     ]
    },
    {
     "name": "stdout",
     "output_type": "stream",
     "text": [
      "\r37particle :  49 / 81"
     ]
    },
    {
     "name": "stdout",
     "output_type": "stream",
     "text": [
      "\r37particle :  50 / 81"
     ]
    },
    {
     "name": "stdout",
     "output_type": "stream",
     "text": [
      "\r37particle :  51 / 81"
     ]
    },
    {
     "name": "stdout",
     "output_type": "stream",
     "text": [
      "\r37particle :  52 / 81"
     ]
    },
    {
     "name": "stdout",
     "output_type": "stream",
     "text": [
      "\r37particle :  53 / 81"
     ]
    },
    {
     "name": "stdout",
     "output_type": "stream",
     "text": [
      "\r37particle :  54 / 81"
     ]
    },
    {
     "name": "stdout",
     "output_type": "stream",
     "text": [
      "\r37particle :  55 / 81"
     ]
    },
    {
     "name": "stdout",
     "output_type": "stream",
     "text": [
      "\r37particle :  56 / 81"
     ]
    },
    {
     "name": "stdout",
     "output_type": "stream",
     "text": [
      "\r37particle :  57 / 81"
     ]
    },
    {
     "name": "stdout",
     "output_type": "stream",
     "text": [
      "\r37particle :  58 / 81"
     ]
    },
    {
     "name": "stdout",
     "output_type": "stream",
     "text": [
      "\r37particle :  59 / 81"
     ]
    },
    {
     "name": "stdout",
     "output_type": "stream",
     "text": [
      "\r37particle :  60 / 81"
     ]
    },
    {
     "name": "stdout",
     "output_type": "stream",
     "text": [
      "\r37particle :  61 / 81"
     ]
    },
    {
     "name": "stdout",
     "output_type": "stream",
     "text": [
      "\r37particle :  62 / 81"
     ]
    },
    {
     "name": "stdout",
     "output_type": "stream",
     "text": [
      "\r37particle :  63 / 81"
     ]
    },
    {
     "name": "stdout",
     "output_type": "stream",
     "text": [
      "\r37particle :  64 / 81"
     ]
    },
    {
     "name": "stdout",
     "output_type": "stream",
     "text": [
      "\r37particle :  65 / 81"
     ]
    },
    {
     "name": "stdout",
     "output_type": "stream",
     "text": [
      "\r37particle :  66 / 81"
     ]
    },
    {
     "name": "stdout",
     "output_type": "stream",
     "text": [
      "\r37particle :  67 / 81"
     ]
    },
    {
     "name": "stdout",
     "output_type": "stream",
     "text": [
      "\r37particle :  68 / 81"
     ]
    },
    {
     "name": "stdout",
     "output_type": "stream",
     "text": [
      "\r37particle :  69 / 81"
     ]
    },
    {
     "name": "stdout",
     "output_type": "stream",
     "text": [
      "\r37particle :  70 / 81"
     ]
    },
    {
     "name": "stdout",
     "output_type": "stream",
     "text": [
      "\r37particle :  71 / 81"
     ]
    },
    {
     "name": "stdout",
     "output_type": "stream",
     "text": [
      "\r37particle :  72 / 81"
     ]
    },
    {
     "name": "stdout",
     "output_type": "stream",
     "text": [
      "\r37particle :  73 / 81"
     ]
    },
    {
     "name": "stdout",
     "output_type": "stream",
     "text": [
      "\r37particle :  74 / 81"
     ]
    },
    {
     "name": "stdout",
     "output_type": "stream",
     "text": [
      "\r37particle :  75 / 81"
     ]
    },
    {
     "name": "stdout",
     "output_type": "stream",
     "text": [
      "\r37particle :  76 / 81"
     ]
    },
    {
     "name": "stdout",
     "output_type": "stream",
     "text": [
      "\r37particle :  77 / 81"
     ]
    },
    {
     "name": "stdout",
     "output_type": "stream",
     "text": [
      "\r37particle :  78 / 81"
     ]
    },
    {
     "name": "stdout",
     "output_type": "stream",
     "text": [
      "\r37particle :  79 / 81"
     ]
    },
    {
     "name": "stdout",
     "output_type": "stream",
     "text": [
      "\r37particle :  80 / 81"
     ]
    },
    {
     "name": "stdout",
     "output_type": "stream",
     "text": [
      "\r38particle :  0 / 81"
     ]
    },
    {
     "name": "stdout",
     "output_type": "stream",
     "text": [
      "\r38particle :  1 / 81"
     ]
    },
    {
     "name": "stdout",
     "output_type": "stream",
     "text": [
      "\r38particle :  2 / 81"
     ]
    },
    {
     "name": "stdout",
     "output_type": "stream",
     "text": [
      "\r38particle :  3 / 81"
     ]
    },
    {
     "name": "stdout",
     "output_type": "stream",
     "text": [
      "\r38particle :  4 / 81"
     ]
    },
    {
     "name": "stdout",
     "output_type": "stream",
     "text": [
      "\r38particle :  5 / 81"
     ]
    },
    {
     "name": "stdout",
     "output_type": "stream",
     "text": [
      "\r38particle :  6 / 81"
     ]
    },
    {
     "name": "stdout",
     "output_type": "stream",
     "text": [
      "\r38particle :  7 / 81"
     ]
    },
    {
     "name": "stdout",
     "output_type": "stream",
     "text": [
      "\r38particle :  8 / 81"
     ]
    },
    {
     "name": "stdout",
     "output_type": "stream",
     "text": [
      "\r38particle :  9 / 81"
     ]
    },
    {
     "name": "stdout",
     "output_type": "stream",
     "text": [
      "\r38particle :  10 / 81"
     ]
    },
    {
     "name": "stdout",
     "output_type": "stream",
     "text": [
      "\r38particle :  11 / 81"
     ]
    },
    {
     "name": "stdout",
     "output_type": "stream",
     "text": [
      "\r38particle :  12 / 81"
     ]
    },
    {
     "name": "stdout",
     "output_type": "stream",
     "text": [
      "\r38particle :  13 / 81"
     ]
    },
    {
     "name": "stdout",
     "output_type": "stream",
     "text": [
      "\r38particle :  14 / 81"
     ]
    },
    {
     "name": "stdout",
     "output_type": "stream",
     "text": [
      "\r38particle :  15 / 81"
     ]
    },
    {
     "name": "stdout",
     "output_type": "stream",
     "text": [
      "\r38particle :  16 / 81"
     ]
    },
    {
     "name": "stdout",
     "output_type": "stream",
     "text": [
      "\r38particle :  17 / 81"
     ]
    },
    {
     "name": "stdout",
     "output_type": "stream",
     "text": [
      "\r38particle :  18 / 81"
     ]
    },
    {
     "name": "stdout",
     "output_type": "stream",
     "text": [
      "\r38particle :  19 / 81"
     ]
    },
    {
     "name": "stdout",
     "output_type": "stream",
     "text": [
      "\r38particle :  20 / 81"
     ]
    },
    {
     "name": "stdout",
     "output_type": "stream",
     "text": [
      "\r38particle :  21 / 81"
     ]
    },
    {
     "name": "stdout",
     "output_type": "stream",
     "text": [
      "\r38particle :  22 / 81"
     ]
    },
    {
     "name": "stdout",
     "output_type": "stream",
     "text": [
      "\r38particle :  23 / 81"
     ]
    },
    {
     "name": "stdout",
     "output_type": "stream",
     "text": [
      "\r38particle :  24 / 81"
     ]
    },
    {
     "name": "stdout",
     "output_type": "stream",
     "text": [
      "\r38particle :  25 / 81"
     ]
    },
    {
     "name": "stdout",
     "output_type": "stream",
     "text": [
      "\r38particle :  26 / 81"
     ]
    },
    {
     "name": "stdout",
     "output_type": "stream",
     "text": [
      "\r38particle :  27 / 81"
     ]
    },
    {
     "name": "stdout",
     "output_type": "stream",
     "text": [
      "\r38particle :  28 / 81"
     ]
    },
    {
     "name": "stdout",
     "output_type": "stream",
     "text": [
      "\r38particle :  29 / 81"
     ]
    },
    {
     "name": "stdout",
     "output_type": "stream",
     "text": [
      "\r38particle :  30 / 81"
     ]
    },
    {
     "name": "stdout",
     "output_type": "stream",
     "text": [
      "\r38particle :  31 / 81"
     ]
    },
    {
     "name": "stdout",
     "output_type": "stream",
     "text": [
      "\r38particle :  32 / 81"
     ]
    },
    {
     "name": "stdout",
     "output_type": "stream",
     "text": [
      "\r38particle :  33 / 81"
     ]
    },
    {
     "name": "stdout",
     "output_type": "stream",
     "text": [
      "\r38particle :  34 / 81"
     ]
    },
    {
     "name": "stdout",
     "output_type": "stream",
     "text": [
      "\r38particle :  35 / 81"
     ]
    },
    {
     "name": "stdout",
     "output_type": "stream",
     "text": [
      "\r38particle :  36 / 81"
     ]
    },
    {
     "name": "stdout",
     "output_type": "stream",
     "text": [
      "\r38particle :  37 / 81"
     ]
    },
    {
     "name": "stdout",
     "output_type": "stream",
     "text": [
      "\r38particle :  38 / 81"
     ]
    },
    {
     "name": "stdout",
     "output_type": "stream",
     "text": [
      "\r38particle :  39 / 81"
     ]
    },
    {
     "name": "stdout",
     "output_type": "stream",
     "text": [
      "\r38particle :  40 / 81"
     ]
    },
    {
     "name": "stdout",
     "output_type": "stream",
     "text": [
      "\r38particle :  41 / 81"
     ]
    },
    {
     "name": "stdout",
     "output_type": "stream",
     "text": [
      "\r38particle :  42 / 81"
     ]
    },
    {
     "name": "stdout",
     "output_type": "stream",
     "text": [
      "\r38particle :  43 / 81"
     ]
    },
    {
     "name": "stdout",
     "output_type": "stream",
     "text": [
      "\r38particle :  44 / 81"
     ]
    },
    {
     "name": "stdout",
     "output_type": "stream",
     "text": [
      "\r38particle :  45 / 81"
     ]
    },
    {
     "name": "stdout",
     "output_type": "stream",
     "text": [
      "\r38particle :  46 / 81"
     ]
    },
    {
     "name": "stdout",
     "output_type": "stream",
     "text": [
      "\r38particle :  47 / 81"
     ]
    },
    {
     "name": "stdout",
     "output_type": "stream",
     "text": [
      "\r38particle :  48 / 81"
     ]
    },
    {
     "name": "stdout",
     "output_type": "stream",
     "text": [
      "\r38particle :  49 / 81"
     ]
    },
    {
     "name": "stdout",
     "output_type": "stream",
     "text": [
      "\r38particle :  50 / 81"
     ]
    },
    {
     "name": "stdout",
     "output_type": "stream",
     "text": [
      "\r38particle :  51 / 81"
     ]
    },
    {
     "name": "stdout",
     "output_type": "stream",
     "text": [
      "\r38particle :  52 / 81"
     ]
    },
    {
     "name": "stdout",
     "output_type": "stream",
     "text": [
      "\r38particle :  53 / 81"
     ]
    },
    {
     "name": "stdout",
     "output_type": "stream",
     "text": [
      "\r38particle :  54 / 81"
     ]
    },
    {
     "name": "stdout",
     "output_type": "stream",
     "text": [
      "\r38particle :  55 / 81"
     ]
    },
    {
     "name": "stdout",
     "output_type": "stream",
     "text": [
      "\r38particle :  56 / 81"
     ]
    },
    {
     "name": "stdout",
     "output_type": "stream",
     "text": [
      "\r38particle :  57 / 81"
     ]
    },
    {
     "name": "stdout",
     "output_type": "stream",
     "text": [
      "\r38particle :  58 / 81"
     ]
    },
    {
     "name": "stdout",
     "output_type": "stream",
     "text": [
      "\r38particle :  59 / 81"
     ]
    },
    {
     "name": "stdout",
     "output_type": "stream",
     "text": [
      "\r38particle :  60 / 81"
     ]
    },
    {
     "name": "stdout",
     "output_type": "stream",
     "text": [
      "\r38particle :  61 / 81"
     ]
    },
    {
     "name": "stdout",
     "output_type": "stream",
     "text": [
      "\r38particle :  62 / 81"
     ]
    },
    {
     "name": "stdout",
     "output_type": "stream",
     "text": [
      "\r38particle :  63 / 81"
     ]
    },
    {
     "name": "stdout",
     "output_type": "stream",
     "text": [
      "\r38particle :  64 / 81"
     ]
    },
    {
     "name": "stdout",
     "output_type": "stream",
     "text": [
      "\r38particle :  65 / 81"
     ]
    },
    {
     "name": "stdout",
     "output_type": "stream",
     "text": [
      "\r38particle :  66 / 81"
     ]
    },
    {
     "name": "stdout",
     "output_type": "stream",
     "text": [
      "\r38particle :  67 / 81"
     ]
    },
    {
     "name": "stdout",
     "output_type": "stream",
     "text": [
      "\r38particle :  68 / 81"
     ]
    },
    {
     "name": "stdout",
     "output_type": "stream",
     "text": [
      "\r38particle :  69 / 81"
     ]
    },
    {
     "name": "stdout",
     "output_type": "stream",
     "text": [
      "\r38particle :  70 / 81"
     ]
    },
    {
     "name": "stdout",
     "output_type": "stream",
     "text": [
      "\r38particle :  71 / 81"
     ]
    },
    {
     "name": "stdout",
     "output_type": "stream",
     "text": [
      "\r38particle :  72 / 81"
     ]
    },
    {
     "name": "stdout",
     "output_type": "stream",
     "text": [
      "\r38particle :  73 / 81"
     ]
    },
    {
     "name": "stdout",
     "output_type": "stream",
     "text": [
      "\r38particle :  74 / 81"
     ]
    },
    {
     "name": "stdout",
     "output_type": "stream",
     "text": [
      "\r38particle :  75 / 81"
     ]
    },
    {
     "name": "stdout",
     "output_type": "stream",
     "text": [
      "\r38particle :  76 / 81"
     ]
    },
    {
     "name": "stdout",
     "output_type": "stream",
     "text": [
      "\r38particle :  77 / 81"
     ]
    },
    {
     "name": "stdout",
     "output_type": "stream",
     "text": [
      "\r38particle :  78 / 81"
     ]
    },
    {
     "name": "stdout",
     "output_type": "stream",
     "text": [
      "\r38particle :  79 / 81"
     ]
    },
    {
     "name": "stdout",
     "output_type": "stream",
     "text": [
      "\r38particle :  80 / 81"
     ]
    },
    {
     "name": "stdout",
     "output_type": "stream",
     "text": [
      "\r39particle :  0 / 81"
     ]
    },
    {
     "name": "stdout",
     "output_type": "stream",
     "text": [
      "\r39particle :  1 / 81"
     ]
    },
    {
     "name": "stdout",
     "output_type": "stream",
     "text": [
      "\r39particle :  2 / 81"
     ]
    },
    {
     "name": "stdout",
     "output_type": "stream",
     "text": [
      "\r39particle :  3 / 81"
     ]
    },
    {
     "name": "stdout",
     "output_type": "stream",
     "text": [
      "\r39particle :  4 / 81"
     ]
    },
    {
     "name": "stdout",
     "output_type": "stream",
     "text": [
      "\r39particle :  5 / 81"
     ]
    },
    {
     "name": "stdout",
     "output_type": "stream",
     "text": [
      "\r39particle :  6 / 81"
     ]
    },
    {
     "name": "stdout",
     "output_type": "stream",
     "text": [
      "\r39particle :  7 / 81"
     ]
    },
    {
     "name": "stdout",
     "output_type": "stream",
     "text": [
      "\r39particle :  8 / 81"
     ]
    },
    {
     "name": "stdout",
     "output_type": "stream",
     "text": [
      "\r39particle :  9 / 81"
     ]
    },
    {
     "name": "stdout",
     "output_type": "stream",
     "text": [
      "\r39particle :  10 / 81"
     ]
    },
    {
     "name": "stdout",
     "output_type": "stream",
     "text": [
      "\r39particle :  11 / 81"
     ]
    },
    {
     "name": "stdout",
     "output_type": "stream",
     "text": [
      "\r39particle :  12 / 81"
     ]
    },
    {
     "name": "stdout",
     "output_type": "stream",
     "text": [
      "\r39particle :  13 / 81"
     ]
    },
    {
     "name": "stdout",
     "output_type": "stream",
     "text": [
      "\r39particle :  14 / 81"
     ]
    },
    {
     "name": "stdout",
     "output_type": "stream",
     "text": [
      "\r39particle :  15 / 81"
     ]
    },
    {
     "name": "stdout",
     "output_type": "stream",
     "text": [
      "\r39particle :  16 / 81"
     ]
    },
    {
     "name": "stdout",
     "output_type": "stream",
     "text": [
      "\r39particle :  17 / 81"
     ]
    },
    {
     "name": "stdout",
     "output_type": "stream",
     "text": [
      "\r39particle :  18 / 81"
     ]
    },
    {
     "name": "stdout",
     "output_type": "stream",
     "text": [
      "\r39particle :  19 / 81"
     ]
    },
    {
     "name": "stdout",
     "output_type": "stream",
     "text": [
      "\r39particle :  20 / 81"
     ]
    },
    {
     "name": "stdout",
     "output_type": "stream",
     "text": [
      "\r39particle :  21 / 81"
     ]
    },
    {
     "name": "stdout",
     "output_type": "stream",
     "text": [
      "\r39particle :  22 / 81"
     ]
    },
    {
     "name": "stdout",
     "output_type": "stream",
     "text": [
      "\r39particle :  23 / 81"
     ]
    },
    {
     "name": "stdout",
     "output_type": "stream",
     "text": [
      "\r39particle :  24 / 81"
     ]
    },
    {
     "name": "stdout",
     "output_type": "stream",
     "text": [
      "\r39particle :  25 / 81"
     ]
    },
    {
     "name": "stdout",
     "output_type": "stream",
     "text": [
      "\r39particle :  26 / 81"
     ]
    },
    {
     "name": "stdout",
     "output_type": "stream",
     "text": [
      "\r39particle :  27 / 81"
     ]
    },
    {
     "name": "stdout",
     "output_type": "stream",
     "text": [
      "\r39particle :  28 / 81"
     ]
    },
    {
     "name": "stdout",
     "output_type": "stream",
     "text": [
      "\r39particle :  29 / 81"
     ]
    },
    {
     "name": "stdout",
     "output_type": "stream",
     "text": [
      "\r39particle :  30 / 81"
     ]
    },
    {
     "name": "stdout",
     "output_type": "stream",
     "text": [
      "\r39particle :  31 / 81"
     ]
    },
    {
     "name": "stdout",
     "output_type": "stream",
     "text": [
      "\r39particle :  32 / 81"
     ]
    },
    {
     "name": "stdout",
     "output_type": "stream",
     "text": [
      "\r39particle :  33 / 81"
     ]
    },
    {
     "name": "stdout",
     "output_type": "stream",
     "text": [
      "\r39particle :  34 / 81"
     ]
    },
    {
     "name": "stdout",
     "output_type": "stream",
     "text": [
      "\r39particle :  35 / 81"
     ]
    },
    {
     "name": "stdout",
     "output_type": "stream",
     "text": [
      "\r39particle :  36 / 81"
     ]
    },
    {
     "name": "stdout",
     "output_type": "stream",
     "text": [
      "\r39particle :  37 / 81"
     ]
    },
    {
     "name": "stdout",
     "output_type": "stream",
     "text": [
      "\r39particle :  38 / 81"
     ]
    },
    {
     "name": "stdout",
     "output_type": "stream",
     "text": [
      "\r39particle :  39 / 81"
     ]
    },
    {
     "name": "stdout",
     "output_type": "stream",
     "text": [
      "\r39particle :  40 / 81"
     ]
    },
    {
     "name": "stdout",
     "output_type": "stream",
     "text": [
      "\r39particle :  41 / 81"
     ]
    },
    {
     "name": "stdout",
     "output_type": "stream",
     "text": [
      "\r39particle :  42 / 81"
     ]
    },
    {
     "name": "stdout",
     "output_type": "stream",
     "text": [
      "\r39particle :  43 / 81"
     ]
    },
    {
     "name": "stdout",
     "output_type": "stream",
     "text": [
      "\r39particle :  44 / 81"
     ]
    },
    {
     "name": "stdout",
     "output_type": "stream",
     "text": [
      "\r39particle :  45 / 81"
     ]
    },
    {
     "name": "stdout",
     "output_type": "stream",
     "text": [
      "\r39particle :  46 / 81"
     ]
    },
    {
     "name": "stdout",
     "output_type": "stream",
     "text": [
      "\r39particle :  47 / 81"
     ]
    },
    {
     "name": "stdout",
     "output_type": "stream",
     "text": [
      "\r39particle :  48 / 81"
     ]
    },
    {
     "name": "stdout",
     "output_type": "stream",
     "text": [
      "\r39particle :  49 / 81"
     ]
    },
    {
     "name": "stdout",
     "output_type": "stream",
     "text": [
      "\r39particle :  50 / 81"
     ]
    },
    {
     "name": "stdout",
     "output_type": "stream",
     "text": [
      "\r39particle :  51 / 81"
     ]
    },
    {
     "name": "stdout",
     "output_type": "stream",
     "text": [
      "\r39particle :  52 / 81"
     ]
    },
    {
     "name": "stdout",
     "output_type": "stream",
     "text": [
      "\r39particle :  53 / 81"
     ]
    },
    {
     "name": "stdout",
     "output_type": "stream",
     "text": [
      "\r39particle :  54 / 81"
     ]
    },
    {
     "name": "stdout",
     "output_type": "stream",
     "text": [
      "\r39particle :  55 / 81"
     ]
    },
    {
     "name": "stdout",
     "output_type": "stream",
     "text": [
      "\r39particle :  56 / 81"
     ]
    },
    {
     "name": "stdout",
     "output_type": "stream",
     "text": [
      "\r39particle :  57 / 81"
     ]
    },
    {
     "name": "stdout",
     "output_type": "stream",
     "text": [
      "\r39particle :  58 / 81"
     ]
    },
    {
     "name": "stdout",
     "output_type": "stream",
     "text": [
      "\r39particle :  59 / 81"
     ]
    },
    {
     "name": "stdout",
     "output_type": "stream",
     "text": [
      "\r39particle :  60 / 81"
     ]
    },
    {
     "name": "stdout",
     "output_type": "stream",
     "text": [
      "\r39particle :  61 / 81"
     ]
    },
    {
     "name": "stdout",
     "output_type": "stream",
     "text": [
      "\r39particle :  62 / 81"
     ]
    },
    {
     "name": "stdout",
     "output_type": "stream",
     "text": [
      "\r39particle :  63 / 81"
     ]
    },
    {
     "name": "stdout",
     "output_type": "stream",
     "text": [
      "\r39particle :  64 / 81"
     ]
    },
    {
     "name": "stdout",
     "output_type": "stream",
     "text": [
      "\r39particle :  65 / 81"
     ]
    },
    {
     "name": "stdout",
     "output_type": "stream",
     "text": [
      "\r39particle :  66 / 81"
     ]
    },
    {
     "name": "stdout",
     "output_type": "stream",
     "text": [
      "\r39particle :  67 / 81"
     ]
    },
    {
     "name": "stdout",
     "output_type": "stream",
     "text": [
      "\r39particle :  68 / 81"
     ]
    },
    {
     "name": "stdout",
     "output_type": "stream",
     "text": [
      "\r39particle :  69 / 81"
     ]
    },
    {
     "name": "stdout",
     "output_type": "stream",
     "text": [
      "\r39particle :  70 / 81"
     ]
    },
    {
     "name": "stdout",
     "output_type": "stream",
     "text": [
      "\r39particle :  71 / 81"
     ]
    },
    {
     "name": "stdout",
     "output_type": "stream",
     "text": [
      "\r39particle :  72 / 81"
     ]
    },
    {
     "name": "stdout",
     "output_type": "stream",
     "text": [
      "\r39particle :  73 / 81"
     ]
    },
    {
     "name": "stdout",
     "output_type": "stream",
     "text": [
      "\r39particle :  74 / 81"
     ]
    },
    {
     "name": "stdout",
     "output_type": "stream",
     "text": [
      "\r39particle :  75 / 81"
     ]
    },
    {
     "name": "stdout",
     "output_type": "stream",
     "text": [
      "\r39particle :  76 / 81"
     ]
    },
    {
     "name": "stdout",
     "output_type": "stream",
     "text": [
      "\r39particle :  77 / 81"
     ]
    },
    {
     "name": "stdout",
     "output_type": "stream",
     "text": [
      "\r39particle :  78 / 81"
     ]
    },
    {
     "name": "stdout",
     "output_type": "stream",
     "text": [
      "\r39particle :  79 / 81"
     ]
    },
    {
     "name": "stdout",
     "output_type": "stream",
     "text": [
      "\r39particle :  80 / 81"
     ]
    },
    {
     "name": "stdout",
     "output_type": "stream",
     "text": [
      "\r40particle :  0 / 81"
     ]
    },
    {
     "name": "stdout",
     "output_type": "stream",
     "text": [
      "\r40particle :  1 / 81"
     ]
    },
    {
     "name": "stdout",
     "output_type": "stream",
     "text": [
      "\r40particle :  2 / 81"
     ]
    },
    {
     "name": "stdout",
     "output_type": "stream",
     "text": [
      "\r40particle :  3 / 81"
     ]
    },
    {
     "name": "stdout",
     "output_type": "stream",
     "text": [
      "\r40particle :  4 / 81"
     ]
    },
    {
     "name": "stdout",
     "output_type": "stream",
     "text": [
      "\r40particle :  5 / 81"
     ]
    },
    {
     "name": "stdout",
     "output_type": "stream",
     "text": [
      "\r40particle :  6 / 81"
     ]
    },
    {
     "name": "stdout",
     "output_type": "stream",
     "text": [
      "\r40particle :  7 / 81"
     ]
    },
    {
     "name": "stdout",
     "output_type": "stream",
     "text": [
      "\r40particle :  8 / 81"
     ]
    },
    {
     "name": "stdout",
     "output_type": "stream",
     "text": [
      "\r40particle :  9 / 81"
     ]
    },
    {
     "name": "stdout",
     "output_type": "stream",
     "text": [
      "\r40particle :  10 / 81"
     ]
    },
    {
     "name": "stdout",
     "output_type": "stream",
     "text": [
      "\r40particle :  11 / 81"
     ]
    },
    {
     "name": "stdout",
     "output_type": "stream",
     "text": [
      "\r40particle :  12 / 81"
     ]
    },
    {
     "name": "stdout",
     "output_type": "stream",
     "text": [
      "\r40particle :  13 / 81"
     ]
    },
    {
     "name": "stdout",
     "output_type": "stream",
     "text": [
      "\r40particle :  14 / 81"
     ]
    },
    {
     "name": "stdout",
     "output_type": "stream",
     "text": [
      "\r40particle :  15 / 81"
     ]
    },
    {
     "name": "stdout",
     "output_type": "stream",
     "text": [
      "\r40particle :  16 / 81"
     ]
    },
    {
     "name": "stdout",
     "output_type": "stream",
     "text": [
      "\r40particle :  17 / 81"
     ]
    },
    {
     "name": "stdout",
     "output_type": "stream",
     "text": [
      "\r40particle :  18 / 81"
     ]
    },
    {
     "name": "stdout",
     "output_type": "stream",
     "text": [
      "\r40particle :  19 / 81"
     ]
    },
    {
     "name": "stdout",
     "output_type": "stream",
     "text": [
      "\r40particle :  20 / 81"
     ]
    },
    {
     "name": "stdout",
     "output_type": "stream",
     "text": [
      "\r40particle :  21 / 81"
     ]
    },
    {
     "name": "stdout",
     "output_type": "stream",
     "text": [
      "\r40particle :  22 / 81"
     ]
    },
    {
     "name": "stdout",
     "output_type": "stream",
     "text": [
      "\r40particle :  23 / 81"
     ]
    },
    {
     "name": "stdout",
     "output_type": "stream",
     "text": [
      "\r40particle :  24 / 81"
     ]
    },
    {
     "name": "stdout",
     "output_type": "stream",
     "text": [
      "\r40particle :  25 / 81"
     ]
    },
    {
     "name": "stdout",
     "output_type": "stream",
     "text": [
      "\r40particle :  26 / 81"
     ]
    },
    {
     "name": "stdout",
     "output_type": "stream",
     "text": [
      "\r40particle :  27 / 81"
     ]
    },
    {
     "name": "stdout",
     "output_type": "stream",
     "text": [
      "\r40particle :  28 / 81"
     ]
    },
    {
     "name": "stdout",
     "output_type": "stream",
     "text": [
      "\r40particle :  29 / 81"
     ]
    },
    {
     "name": "stdout",
     "output_type": "stream",
     "text": [
      "\r40particle :  30 / 81"
     ]
    },
    {
     "name": "stdout",
     "output_type": "stream",
     "text": [
      "\r40particle :  31 / 81"
     ]
    },
    {
     "name": "stdout",
     "output_type": "stream",
     "text": [
      "\r40particle :  32 / 81"
     ]
    },
    {
     "name": "stdout",
     "output_type": "stream",
     "text": [
      "\r40particle :  33 / 81"
     ]
    },
    {
     "name": "stdout",
     "output_type": "stream",
     "text": [
      "\r40particle :  34 / 81"
     ]
    },
    {
     "name": "stdout",
     "output_type": "stream",
     "text": [
      "\r40particle :  35 / 81"
     ]
    },
    {
     "name": "stdout",
     "output_type": "stream",
     "text": [
      "\r40particle :  36 / 81"
     ]
    },
    {
     "name": "stdout",
     "output_type": "stream",
     "text": [
      "\r40particle :  37 / 81"
     ]
    },
    {
     "name": "stdout",
     "output_type": "stream",
     "text": [
      "\r40particle :  38 / 81"
     ]
    },
    {
     "name": "stdout",
     "output_type": "stream",
     "text": [
      "\r40particle :  39 / 81"
     ]
    },
    {
     "name": "stdout",
     "output_type": "stream",
     "text": [
      "\r40particle :  40 / 81"
     ]
    },
    {
     "name": "stdout",
     "output_type": "stream",
     "text": [
      "\r40particle :  41 / 81"
     ]
    },
    {
     "name": "stdout",
     "output_type": "stream",
     "text": [
      "\r40particle :  42 / 81"
     ]
    },
    {
     "name": "stdout",
     "output_type": "stream",
     "text": [
      "\r40particle :  43 / 81"
     ]
    },
    {
     "name": "stdout",
     "output_type": "stream",
     "text": [
      "\r40particle :  44 / 81"
     ]
    },
    {
     "name": "stdout",
     "output_type": "stream",
     "text": [
      "\r40particle :  45 / 81"
     ]
    },
    {
     "name": "stdout",
     "output_type": "stream",
     "text": [
      "\r40particle :  46 / 81"
     ]
    },
    {
     "name": "stdout",
     "output_type": "stream",
     "text": [
      "\r40particle :  47 / 81"
     ]
    },
    {
     "name": "stdout",
     "output_type": "stream",
     "text": [
      "\r40particle :  48 / 81"
     ]
    },
    {
     "name": "stdout",
     "output_type": "stream",
     "text": [
      "\r40particle :  49 / 81"
     ]
    },
    {
     "name": "stdout",
     "output_type": "stream",
     "text": [
      "\r40particle :  50 / 81"
     ]
    },
    {
     "name": "stdout",
     "output_type": "stream",
     "text": [
      "\r40particle :  51 / 81"
     ]
    },
    {
     "name": "stdout",
     "output_type": "stream",
     "text": [
      "\r40particle :  52 / 81"
     ]
    },
    {
     "name": "stdout",
     "output_type": "stream",
     "text": [
      "\r40particle :  53 / 81"
     ]
    },
    {
     "name": "stdout",
     "output_type": "stream",
     "text": [
      "\r40particle :  54 / 81"
     ]
    },
    {
     "name": "stdout",
     "output_type": "stream",
     "text": [
      "\r40particle :  55 / 81"
     ]
    },
    {
     "name": "stdout",
     "output_type": "stream",
     "text": [
      "\r40particle :  56 / 81"
     ]
    },
    {
     "name": "stdout",
     "output_type": "stream",
     "text": [
      "\r40particle :  57 / 81"
     ]
    },
    {
     "name": "stdout",
     "output_type": "stream",
     "text": [
      "\r40particle :  58 / 81"
     ]
    },
    {
     "name": "stdout",
     "output_type": "stream",
     "text": [
      "\r40particle :  59 / 81"
     ]
    },
    {
     "name": "stdout",
     "output_type": "stream",
     "text": [
      "\r40particle :  60 / 81"
     ]
    },
    {
     "name": "stdout",
     "output_type": "stream",
     "text": [
      "\r40particle :  61 / 81"
     ]
    },
    {
     "name": "stdout",
     "output_type": "stream",
     "text": [
      "\r40particle :  62 / 81"
     ]
    },
    {
     "name": "stdout",
     "output_type": "stream",
     "text": [
      "\r40particle :  63 / 81"
     ]
    },
    {
     "name": "stdout",
     "output_type": "stream",
     "text": [
      "\r40particle :  64 / 81"
     ]
    },
    {
     "name": "stdout",
     "output_type": "stream",
     "text": [
      "\r40particle :  65 / 81"
     ]
    },
    {
     "name": "stdout",
     "output_type": "stream",
     "text": [
      "\r40particle :  66 / 81"
     ]
    },
    {
     "name": "stdout",
     "output_type": "stream",
     "text": [
      "\r40particle :  67 / 81"
     ]
    },
    {
     "name": "stdout",
     "output_type": "stream",
     "text": [
      "\r40particle :  68 / 81"
     ]
    },
    {
     "name": "stdout",
     "output_type": "stream",
     "text": [
      "\r40particle :  69 / 81"
     ]
    },
    {
     "name": "stdout",
     "output_type": "stream",
     "text": [
      "\r40particle :  70 / 81"
     ]
    },
    {
     "name": "stdout",
     "output_type": "stream",
     "text": [
      "\r40particle :  71 / 81"
     ]
    },
    {
     "name": "stdout",
     "output_type": "stream",
     "text": [
      "\r40particle :  72 / 81"
     ]
    },
    {
     "name": "stdout",
     "output_type": "stream",
     "text": [
      "\r40particle :  73 / 81"
     ]
    },
    {
     "name": "stdout",
     "output_type": "stream",
     "text": [
      "\r40particle :  74 / 81"
     ]
    },
    {
     "name": "stdout",
     "output_type": "stream",
     "text": [
      "\r40particle :  75 / 81"
     ]
    },
    {
     "name": "stdout",
     "output_type": "stream",
     "text": [
      "\r40particle :  76 / 81"
     ]
    },
    {
     "name": "stdout",
     "output_type": "stream",
     "text": [
      "\r40particle :  77 / 81"
     ]
    },
    {
     "name": "stdout",
     "output_type": "stream",
     "text": [
      "\r40particle :  78 / 81"
     ]
    },
    {
     "name": "stdout",
     "output_type": "stream",
     "text": [
      "\r40particle :  79 / 81"
     ]
    },
    {
     "name": "stdout",
     "output_type": "stream",
     "text": [
      "\r40particle :  80 / 81"
     ]
    },
    {
     "name": "stdout",
     "output_type": "stream",
     "text": [
      "\r41particle :  0 / 81"
     ]
    },
    {
     "name": "stdout",
     "output_type": "stream",
     "text": [
      "\r41particle :  1 / 81"
     ]
    },
    {
     "name": "stdout",
     "output_type": "stream",
     "text": [
      "\r41particle :  2 / 81"
     ]
    },
    {
     "name": "stdout",
     "output_type": "stream",
     "text": [
      "\r41particle :  3 / 81"
     ]
    },
    {
     "name": "stdout",
     "output_type": "stream",
     "text": [
      "\r41particle :  4 / 81"
     ]
    },
    {
     "name": "stdout",
     "output_type": "stream",
     "text": [
      "\r41particle :  5 / 81"
     ]
    },
    {
     "name": "stdout",
     "output_type": "stream",
     "text": [
      "\r41particle :  6 / 81"
     ]
    },
    {
     "name": "stdout",
     "output_type": "stream",
     "text": [
      "\r41particle :  7 / 81"
     ]
    },
    {
     "name": "stdout",
     "output_type": "stream",
     "text": [
      "\r41particle :  8 / 81"
     ]
    },
    {
     "name": "stdout",
     "output_type": "stream",
     "text": [
      "\r41particle :  9 / 81"
     ]
    },
    {
     "name": "stdout",
     "output_type": "stream",
     "text": [
      "\r41particle :  10 / 81"
     ]
    },
    {
     "name": "stdout",
     "output_type": "stream",
     "text": [
      "\r41particle :  11 / 81"
     ]
    },
    {
     "name": "stdout",
     "output_type": "stream",
     "text": [
      "\r41particle :  12 / 81"
     ]
    },
    {
     "name": "stdout",
     "output_type": "stream",
     "text": [
      "\r41particle :  13 / 81"
     ]
    },
    {
     "name": "stdout",
     "output_type": "stream",
     "text": [
      "\r41particle :  14 / 81"
     ]
    },
    {
     "name": "stdout",
     "output_type": "stream",
     "text": [
      "\r41particle :  15 / 81"
     ]
    },
    {
     "name": "stdout",
     "output_type": "stream",
     "text": [
      "\r41particle :  16 / 81"
     ]
    },
    {
     "name": "stdout",
     "output_type": "stream",
     "text": [
      "\r41particle :  17 / 81"
     ]
    },
    {
     "name": "stdout",
     "output_type": "stream",
     "text": [
      "\r41particle :  18 / 81"
     ]
    },
    {
     "name": "stdout",
     "output_type": "stream",
     "text": [
      "\r41particle :  19 / 81"
     ]
    },
    {
     "name": "stdout",
     "output_type": "stream",
     "text": [
      "\r41particle :  20 / 81"
     ]
    },
    {
     "name": "stdout",
     "output_type": "stream",
     "text": [
      "\r41particle :  21 / 81"
     ]
    },
    {
     "name": "stdout",
     "output_type": "stream",
     "text": [
      "\r41particle :  22 / 81"
     ]
    },
    {
     "name": "stdout",
     "output_type": "stream",
     "text": [
      "\r41particle :  23 / 81"
     ]
    },
    {
     "name": "stdout",
     "output_type": "stream",
     "text": [
      "\r41particle :  24 / 81"
     ]
    },
    {
     "name": "stdout",
     "output_type": "stream",
     "text": [
      "\r41particle :  25 / 81"
     ]
    },
    {
     "name": "stdout",
     "output_type": "stream",
     "text": [
      "\r41particle :  26 / 81"
     ]
    },
    {
     "name": "stdout",
     "output_type": "stream",
     "text": [
      "\r41particle :  27 / 81"
     ]
    },
    {
     "name": "stdout",
     "output_type": "stream",
     "text": [
      "\r41particle :  28 / 81"
     ]
    },
    {
     "name": "stdout",
     "output_type": "stream",
     "text": [
      "\r41particle :  29 / 81"
     ]
    },
    {
     "name": "stdout",
     "output_type": "stream",
     "text": [
      "\r41particle :  30 / 81"
     ]
    },
    {
     "name": "stdout",
     "output_type": "stream",
     "text": [
      "\r41particle :  31 / 81"
     ]
    },
    {
     "name": "stdout",
     "output_type": "stream",
     "text": [
      "\r41particle :  32 / 81"
     ]
    },
    {
     "name": "stdout",
     "output_type": "stream",
     "text": [
      "\r41particle :  33 / 81"
     ]
    },
    {
     "name": "stdout",
     "output_type": "stream",
     "text": [
      "\r41particle :  34 / 81"
     ]
    },
    {
     "name": "stdout",
     "output_type": "stream",
     "text": [
      "\r41particle :  35 / 81"
     ]
    },
    {
     "name": "stdout",
     "output_type": "stream",
     "text": [
      "\r41particle :  36 / 81"
     ]
    },
    {
     "name": "stdout",
     "output_type": "stream",
     "text": [
      "\r41particle :  37 / 81"
     ]
    },
    {
     "name": "stdout",
     "output_type": "stream",
     "text": [
      "\r41particle :  38 / 81"
     ]
    },
    {
     "name": "stdout",
     "output_type": "stream",
     "text": [
      "\r41particle :  39 / 81"
     ]
    },
    {
     "name": "stdout",
     "output_type": "stream",
     "text": [
      "\r41particle :  40 / 81"
     ]
    },
    {
     "name": "stdout",
     "output_type": "stream",
     "text": [
      "\r41particle :  41 / 81"
     ]
    },
    {
     "name": "stdout",
     "output_type": "stream",
     "text": [
      "\r41particle :  42 / 81"
     ]
    },
    {
     "name": "stdout",
     "output_type": "stream",
     "text": [
      "\r41particle :  43 / 81"
     ]
    },
    {
     "name": "stdout",
     "output_type": "stream",
     "text": [
      "\r41particle :  44 / 81"
     ]
    },
    {
     "name": "stdout",
     "output_type": "stream",
     "text": [
      "\r41particle :  45 / 81"
     ]
    },
    {
     "name": "stdout",
     "output_type": "stream",
     "text": [
      "\r41particle :  46 / 81"
     ]
    },
    {
     "name": "stdout",
     "output_type": "stream",
     "text": [
      "\r41particle :  47 / 81"
     ]
    },
    {
     "name": "stdout",
     "output_type": "stream",
     "text": [
      "\r41particle :  48 / 81"
     ]
    },
    {
     "name": "stdout",
     "output_type": "stream",
     "text": [
      "\r41particle :  49 / 81"
     ]
    },
    {
     "name": "stdout",
     "output_type": "stream",
     "text": [
      "\r41particle :  50 / 81"
     ]
    },
    {
     "name": "stdout",
     "output_type": "stream",
     "text": [
      "\r41particle :  51 / 81"
     ]
    },
    {
     "name": "stdout",
     "output_type": "stream",
     "text": [
      "\r41particle :  52 / 81"
     ]
    },
    {
     "name": "stdout",
     "output_type": "stream",
     "text": [
      "\r41particle :  53 / 81"
     ]
    },
    {
     "name": "stdout",
     "output_type": "stream",
     "text": [
      "\r41particle :  54 / 81"
     ]
    },
    {
     "name": "stdout",
     "output_type": "stream",
     "text": [
      "\r41particle :  55 / 81"
     ]
    },
    {
     "name": "stdout",
     "output_type": "stream",
     "text": [
      "\r41particle :  56 / 81"
     ]
    },
    {
     "name": "stdout",
     "output_type": "stream",
     "text": [
      "\r41particle :  57 / 81"
     ]
    },
    {
     "name": "stdout",
     "output_type": "stream",
     "text": [
      "\r41particle :  58 / 81"
     ]
    },
    {
     "name": "stdout",
     "output_type": "stream",
     "text": [
      "\r41particle :  59 / 81"
     ]
    },
    {
     "name": "stdout",
     "output_type": "stream",
     "text": [
      "\r41particle :  60 / 81"
     ]
    },
    {
     "name": "stdout",
     "output_type": "stream",
     "text": [
      "\r41particle :  61 / 81"
     ]
    },
    {
     "name": "stdout",
     "output_type": "stream",
     "text": [
      "\r41particle :  62 / 81"
     ]
    },
    {
     "name": "stdout",
     "output_type": "stream",
     "text": [
      "\r41particle :  63 / 81"
     ]
    },
    {
     "name": "stdout",
     "output_type": "stream",
     "text": [
      "\r41particle :  64 / 81"
     ]
    },
    {
     "name": "stdout",
     "output_type": "stream",
     "text": [
      "\r41particle :  65 / 81"
     ]
    },
    {
     "name": "stdout",
     "output_type": "stream",
     "text": [
      "\r41particle :  66 / 81"
     ]
    },
    {
     "name": "stdout",
     "output_type": "stream",
     "text": [
      "\r41particle :  67 / 81"
     ]
    },
    {
     "name": "stdout",
     "output_type": "stream",
     "text": [
      "\r41particle :  68 / 81"
     ]
    },
    {
     "name": "stdout",
     "output_type": "stream",
     "text": [
      "\r41particle :  69 / 81"
     ]
    },
    {
     "name": "stdout",
     "output_type": "stream",
     "text": [
      "\r41particle :  70 / 81"
     ]
    },
    {
     "name": "stdout",
     "output_type": "stream",
     "text": [
      "\r41particle :  71 / 81"
     ]
    },
    {
     "name": "stdout",
     "output_type": "stream",
     "text": [
      "\r41particle :  72 / 81"
     ]
    },
    {
     "name": "stdout",
     "output_type": "stream",
     "text": [
      "\r41particle :  73 / 81"
     ]
    },
    {
     "name": "stdout",
     "output_type": "stream",
     "text": [
      "\r41particle :  74 / 81"
     ]
    },
    {
     "name": "stdout",
     "output_type": "stream",
     "text": [
      "\r41particle :  75 / 81"
     ]
    },
    {
     "name": "stdout",
     "output_type": "stream",
     "text": [
      "\r41particle :  76 / 81"
     ]
    },
    {
     "name": "stdout",
     "output_type": "stream",
     "text": [
      "\r41particle :  77 / 81"
     ]
    },
    {
     "name": "stdout",
     "output_type": "stream",
     "text": [
      "\r41particle :  78 / 81"
     ]
    },
    {
     "name": "stdout",
     "output_type": "stream",
     "text": [
      "\r41particle :  79 / 81"
     ]
    },
    {
     "name": "stdout",
     "output_type": "stream",
     "text": [
      "\r41particle :  80 / 81"
     ]
    },
    {
     "name": "stdout",
     "output_type": "stream",
     "text": [
      "\r42particle :  0 / 81"
     ]
    },
    {
     "name": "stdout",
     "output_type": "stream",
     "text": [
      "\r42particle :  1 / 81"
     ]
    },
    {
     "name": "stdout",
     "output_type": "stream",
     "text": [
      "\r42particle :  2 / 81"
     ]
    },
    {
     "name": "stdout",
     "output_type": "stream",
     "text": [
      "\r42particle :  3 / 81"
     ]
    },
    {
     "name": "stdout",
     "output_type": "stream",
     "text": [
      "\r42particle :  4 / 81"
     ]
    },
    {
     "name": "stdout",
     "output_type": "stream",
     "text": [
      "\r42particle :  5 / 81"
     ]
    },
    {
     "name": "stdout",
     "output_type": "stream",
     "text": [
      "\r42particle :  6 / 81"
     ]
    },
    {
     "name": "stdout",
     "output_type": "stream",
     "text": [
      "\r42particle :  7 / 81"
     ]
    },
    {
     "name": "stdout",
     "output_type": "stream",
     "text": [
      "\r42particle :  8 / 81"
     ]
    },
    {
     "name": "stdout",
     "output_type": "stream",
     "text": [
      "\r42particle :  9 / 81"
     ]
    },
    {
     "name": "stdout",
     "output_type": "stream",
     "text": [
      "\r42particle :  10 / 81"
     ]
    },
    {
     "name": "stdout",
     "output_type": "stream",
     "text": [
      "\r42particle :  11 / 81"
     ]
    },
    {
     "name": "stdout",
     "output_type": "stream",
     "text": [
      "\r42particle :  12 / 81"
     ]
    },
    {
     "name": "stdout",
     "output_type": "stream",
     "text": [
      "\r42particle :  13 / 81"
     ]
    },
    {
     "name": "stdout",
     "output_type": "stream",
     "text": [
      "\r42particle :  14 / 81"
     ]
    },
    {
     "name": "stdout",
     "output_type": "stream",
     "text": [
      "\r42particle :  15 / 81"
     ]
    },
    {
     "name": "stdout",
     "output_type": "stream",
     "text": [
      "\r42particle :  16 / 81"
     ]
    },
    {
     "name": "stdout",
     "output_type": "stream",
     "text": [
      "\r42particle :  17 / 81"
     ]
    },
    {
     "name": "stdout",
     "output_type": "stream",
     "text": [
      "\r42particle :  18 / 81"
     ]
    },
    {
     "name": "stdout",
     "output_type": "stream",
     "text": [
      "\r42particle :  19 / 81"
     ]
    },
    {
     "name": "stdout",
     "output_type": "stream",
     "text": [
      "\r42particle :  20 / 81"
     ]
    },
    {
     "name": "stdout",
     "output_type": "stream",
     "text": [
      "\r42particle :  21 / 81"
     ]
    },
    {
     "name": "stdout",
     "output_type": "stream",
     "text": [
      "\r42particle :  22 / 81"
     ]
    },
    {
     "name": "stdout",
     "output_type": "stream",
     "text": [
      "\r42particle :  23 / 81"
     ]
    },
    {
     "name": "stdout",
     "output_type": "stream",
     "text": [
      "\r42particle :  24 / 81"
     ]
    },
    {
     "name": "stdout",
     "output_type": "stream",
     "text": [
      "\r42particle :  25 / 81"
     ]
    },
    {
     "name": "stdout",
     "output_type": "stream",
     "text": [
      "\r42particle :  26 / 81"
     ]
    },
    {
     "name": "stdout",
     "output_type": "stream",
     "text": [
      "\r42particle :  27 / 81"
     ]
    },
    {
     "name": "stdout",
     "output_type": "stream",
     "text": [
      "\r42particle :  28 / 81"
     ]
    },
    {
     "name": "stdout",
     "output_type": "stream",
     "text": [
      "\r42particle :  29 / 81"
     ]
    },
    {
     "name": "stdout",
     "output_type": "stream",
     "text": [
      "\r42particle :  30 / 81"
     ]
    },
    {
     "name": "stdout",
     "output_type": "stream",
     "text": [
      "\r42particle :  31 / 81"
     ]
    },
    {
     "name": "stdout",
     "output_type": "stream",
     "text": [
      "\r42particle :  32 / 81"
     ]
    },
    {
     "name": "stdout",
     "output_type": "stream",
     "text": [
      "\r42particle :  33 / 81"
     ]
    },
    {
     "name": "stdout",
     "output_type": "stream",
     "text": [
      "\r42particle :  34 / 81"
     ]
    },
    {
     "name": "stdout",
     "output_type": "stream",
     "text": [
      "\r42particle :  35 / 81"
     ]
    },
    {
     "name": "stdout",
     "output_type": "stream",
     "text": [
      "\r42particle :  36 / 81"
     ]
    },
    {
     "name": "stdout",
     "output_type": "stream",
     "text": [
      "\r42particle :  37 / 81"
     ]
    },
    {
     "name": "stdout",
     "output_type": "stream",
     "text": [
      "\r42particle :  38 / 81"
     ]
    },
    {
     "name": "stdout",
     "output_type": "stream",
     "text": [
      "\r42particle :  39 / 81"
     ]
    },
    {
     "name": "stdout",
     "output_type": "stream",
     "text": [
      "\r42particle :  40 / 81"
     ]
    },
    {
     "name": "stdout",
     "output_type": "stream",
     "text": [
      "\r42particle :  41 / 81"
     ]
    },
    {
     "name": "stdout",
     "output_type": "stream",
     "text": [
      "\r42particle :  42 / 81"
     ]
    },
    {
     "name": "stdout",
     "output_type": "stream",
     "text": [
      "\r42particle :  43 / 81"
     ]
    },
    {
     "name": "stdout",
     "output_type": "stream",
     "text": [
      "\r42particle :  44 / 81"
     ]
    },
    {
     "name": "stdout",
     "output_type": "stream",
     "text": [
      "\r42particle :  45 / 81"
     ]
    },
    {
     "name": "stdout",
     "output_type": "stream",
     "text": [
      "\r42particle :  46 / 81"
     ]
    },
    {
     "name": "stdout",
     "output_type": "stream",
     "text": [
      "\r42particle :  47 / 81"
     ]
    },
    {
     "name": "stdout",
     "output_type": "stream",
     "text": [
      "\r42particle :  48 / 81"
     ]
    },
    {
     "name": "stdout",
     "output_type": "stream",
     "text": [
      "\r42particle :  49 / 81"
     ]
    },
    {
     "name": "stdout",
     "output_type": "stream",
     "text": [
      "\r42particle :  50 / 81"
     ]
    },
    {
     "name": "stdout",
     "output_type": "stream",
     "text": [
      "\r42particle :  51 / 81"
     ]
    },
    {
     "name": "stdout",
     "output_type": "stream",
     "text": [
      "\r42particle :  52 / 81"
     ]
    },
    {
     "name": "stdout",
     "output_type": "stream",
     "text": [
      "\r42particle :  53 / 81"
     ]
    },
    {
     "name": "stdout",
     "output_type": "stream",
     "text": [
      "\r42particle :  54 / 81"
     ]
    },
    {
     "name": "stdout",
     "output_type": "stream",
     "text": [
      "\r42particle :  55 / 81"
     ]
    },
    {
     "name": "stdout",
     "output_type": "stream",
     "text": [
      "\r42particle :  56 / 81"
     ]
    },
    {
     "name": "stdout",
     "output_type": "stream",
     "text": [
      "\r42particle :  57 / 81"
     ]
    },
    {
     "name": "stdout",
     "output_type": "stream",
     "text": [
      "\r42particle :  58 / 81"
     ]
    },
    {
     "name": "stdout",
     "output_type": "stream",
     "text": [
      "\r42particle :  59 / 81"
     ]
    },
    {
     "name": "stdout",
     "output_type": "stream",
     "text": [
      "\r42particle :  60 / 81"
     ]
    },
    {
     "name": "stdout",
     "output_type": "stream",
     "text": [
      "\r42particle :  61 / 81"
     ]
    },
    {
     "name": "stdout",
     "output_type": "stream",
     "text": [
      "\r42particle :  62 / 81"
     ]
    },
    {
     "name": "stdout",
     "output_type": "stream",
     "text": [
      "\r42particle :  63 / 81"
     ]
    },
    {
     "name": "stdout",
     "output_type": "stream",
     "text": [
      "\r42particle :  64 / 81"
     ]
    },
    {
     "name": "stdout",
     "output_type": "stream",
     "text": [
      "\r42particle :  65 / 81"
     ]
    },
    {
     "name": "stdout",
     "output_type": "stream",
     "text": [
      "\r42particle :  66 / 81"
     ]
    },
    {
     "name": "stdout",
     "output_type": "stream",
     "text": [
      "\r42particle :  67 / 81"
     ]
    },
    {
     "name": "stdout",
     "output_type": "stream",
     "text": [
      "\r42particle :  68 / 81"
     ]
    },
    {
     "name": "stdout",
     "output_type": "stream",
     "text": [
      "\r42particle :  69 / 81"
     ]
    },
    {
     "name": "stdout",
     "output_type": "stream",
     "text": [
      "\r42particle :  70 / 81"
     ]
    },
    {
     "name": "stdout",
     "output_type": "stream",
     "text": [
      "\r42particle :  71 / 81"
     ]
    },
    {
     "name": "stdout",
     "output_type": "stream",
     "text": [
      "\r42particle :  72 / 81"
     ]
    },
    {
     "name": "stdout",
     "output_type": "stream",
     "text": [
      "\r42particle :  73 / 81"
     ]
    },
    {
     "name": "stdout",
     "output_type": "stream",
     "text": [
      "\r42particle :  74 / 81"
     ]
    },
    {
     "name": "stdout",
     "output_type": "stream",
     "text": [
      "\r42particle :  75 / 81"
     ]
    },
    {
     "name": "stdout",
     "output_type": "stream",
     "text": [
      "\r42particle :  76 / 81"
     ]
    },
    {
     "name": "stdout",
     "output_type": "stream",
     "text": [
      "\r42particle :  77 / 81"
     ]
    },
    {
     "name": "stdout",
     "output_type": "stream",
     "text": [
      "\r42particle :  78 / 81"
     ]
    },
    {
     "name": "stdout",
     "output_type": "stream",
     "text": [
      "\r42particle :  79 / 81"
     ]
    },
    {
     "name": "stdout",
     "output_type": "stream",
     "text": [
      "\r42particle :  80 / 81"
     ]
    },
    {
     "name": "stdout",
     "output_type": "stream",
     "text": [
      "\r43particle :  0 / 81"
     ]
    },
    {
     "name": "stdout",
     "output_type": "stream",
     "text": [
      "\r43particle :  1 / 81"
     ]
    },
    {
     "name": "stdout",
     "output_type": "stream",
     "text": [
      "\r43particle :  2 / 81"
     ]
    },
    {
     "name": "stdout",
     "output_type": "stream",
     "text": [
      "\r43particle :  3 / 81"
     ]
    },
    {
     "name": "stdout",
     "output_type": "stream",
     "text": [
      "\r43particle :  4 / 81"
     ]
    },
    {
     "name": "stdout",
     "output_type": "stream",
     "text": [
      "\r43particle :  5 / 81"
     ]
    },
    {
     "name": "stdout",
     "output_type": "stream",
     "text": [
      "\r43particle :  6 / 81"
     ]
    },
    {
     "name": "stdout",
     "output_type": "stream",
     "text": [
      "\r43particle :  7 / 81"
     ]
    },
    {
     "name": "stdout",
     "output_type": "stream",
     "text": [
      "\r43particle :  8 / 81"
     ]
    },
    {
     "name": "stdout",
     "output_type": "stream",
     "text": [
      "\r43particle :  9 / 81"
     ]
    },
    {
     "name": "stdout",
     "output_type": "stream",
     "text": [
      "\r43particle :  10 / 81"
     ]
    },
    {
     "name": "stdout",
     "output_type": "stream",
     "text": [
      "\r43particle :  11 / 81"
     ]
    },
    {
     "name": "stdout",
     "output_type": "stream",
     "text": [
      "\r43particle :  12 / 81"
     ]
    },
    {
     "name": "stdout",
     "output_type": "stream",
     "text": [
      "\r43particle :  13 / 81"
     ]
    },
    {
     "name": "stdout",
     "output_type": "stream",
     "text": [
      "\r43particle :  14 / 81"
     ]
    },
    {
     "name": "stdout",
     "output_type": "stream",
     "text": [
      "\r43particle :  15 / 81"
     ]
    },
    {
     "name": "stdout",
     "output_type": "stream",
     "text": [
      "\r43particle :  16 / 81"
     ]
    },
    {
     "name": "stdout",
     "output_type": "stream",
     "text": [
      "\r43particle :  17 / 81"
     ]
    },
    {
     "name": "stdout",
     "output_type": "stream",
     "text": [
      "\r43particle :  18 / 81"
     ]
    },
    {
     "name": "stdout",
     "output_type": "stream",
     "text": [
      "\r43particle :  19 / 81"
     ]
    },
    {
     "name": "stdout",
     "output_type": "stream",
     "text": [
      "\r43particle :  20 / 81"
     ]
    },
    {
     "name": "stdout",
     "output_type": "stream",
     "text": [
      "\r43particle :  21 / 81"
     ]
    },
    {
     "name": "stdout",
     "output_type": "stream",
     "text": [
      "\r43particle :  22 / 81"
     ]
    },
    {
     "name": "stdout",
     "output_type": "stream",
     "text": [
      "\r43particle :  23 / 81"
     ]
    },
    {
     "name": "stdout",
     "output_type": "stream",
     "text": [
      "\r43particle :  24 / 81"
     ]
    },
    {
     "name": "stdout",
     "output_type": "stream",
     "text": [
      "\r43particle :  25 / 81"
     ]
    },
    {
     "name": "stdout",
     "output_type": "stream",
     "text": [
      "\r43particle :  26 / 81"
     ]
    },
    {
     "name": "stdout",
     "output_type": "stream",
     "text": [
      "\r43particle :  27 / 81"
     ]
    },
    {
     "name": "stdout",
     "output_type": "stream",
     "text": [
      "\r43particle :  28 / 81"
     ]
    },
    {
     "name": "stdout",
     "output_type": "stream",
     "text": [
      "\r43particle :  29 / 81"
     ]
    },
    {
     "name": "stdout",
     "output_type": "stream",
     "text": [
      "\r43particle :  30 / 81"
     ]
    },
    {
     "name": "stdout",
     "output_type": "stream",
     "text": [
      "\r43particle :  31 / 81"
     ]
    },
    {
     "name": "stdout",
     "output_type": "stream",
     "text": [
      "\r43particle :  32 / 81"
     ]
    },
    {
     "name": "stdout",
     "output_type": "stream",
     "text": [
      "\r43particle :  33 / 81"
     ]
    },
    {
     "name": "stdout",
     "output_type": "stream",
     "text": [
      "\r43particle :  34 / 81"
     ]
    },
    {
     "name": "stdout",
     "output_type": "stream",
     "text": [
      "\r43particle :  35 / 81"
     ]
    },
    {
     "name": "stdout",
     "output_type": "stream",
     "text": [
      "\r43particle :  36 / 81"
     ]
    },
    {
     "name": "stdout",
     "output_type": "stream",
     "text": [
      "\r43particle :  37 / 81"
     ]
    },
    {
     "name": "stdout",
     "output_type": "stream",
     "text": [
      "\r43particle :  38 / 81"
     ]
    },
    {
     "name": "stdout",
     "output_type": "stream",
     "text": [
      "\r43particle :  39 / 81"
     ]
    },
    {
     "name": "stdout",
     "output_type": "stream",
     "text": [
      "\r43particle :  40 / 81"
     ]
    },
    {
     "name": "stdout",
     "output_type": "stream",
     "text": [
      "\r43particle :  41 / 81"
     ]
    },
    {
     "name": "stdout",
     "output_type": "stream",
     "text": [
      "\r43particle :  42 / 81"
     ]
    },
    {
     "name": "stdout",
     "output_type": "stream",
     "text": [
      "\r43particle :  43 / 81"
     ]
    },
    {
     "name": "stdout",
     "output_type": "stream",
     "text": [
      "\r43particle :  44 / 81"
     ]
    },
    {
     "name": "stdout",
     "output_type": "stream",
     "text": [
      "\r43particle :  45 / 81"
     ]
    },
    {
     "name": "stdout",
     "output_type": "stream",
     "text": [
      "\r43particle :  46 / 81"
     ]
    },
    {
     "name": "stdout",
     "output_type": "stream",
     "text": [
      "\r43particle :  47 / 81"
     ]
    },
    {
     "name": "stdout",
     "output_type": "stream",
     "text": [
      "\r43particle :  48 / 81"
     ]
    },
    {
     "name": "stdout",
     "output_type": "stream",
     "text": [
      "\r43particle :  49 / 81"
     ]
    },
    {
     "name": "stdout",
     "output_type": "stream",
     "text": [
      "\r43particle :  50 / 81"
     ]
    },
    {
     "name": "stdout",
     "output_type": "stream",
     "text": [
      "\r43particle :  51 / 81"
     ]
    },
    {
     "name": "stdout",
     "output_type": "stream",
     "text": [
      "\r43particle :  52 / 81"
     ]
    },
    {
     "name": "stdout",
     "output_type": "stream",
     "text": [
      "\r43particle :  53 / 81"
     ]
    },
    {
     "name": "stdout",
     "output_type": "stream",
     "text": [
      "\r43particle :  54 / 81"
     ]
    },
    {
     "name": "stdout",
     "output_type": "stream",
     "text": [
      "\r43particle :  55 / 81"
     ]
    },
    {
     "name": "stdout",
     "output_type": "stream",
     "text": [
      "\r43particle :  56 / 81"
     ]
    },
    {
     "name": "stdout",
     "output_type": "stream",
     "text": [
      "\r43particle :  57 / 81"
     ]
    },
    {
     "name": "stdout",
     "output_type": "stream",
     "text": [
      "\r43particle :  58 / 81"
     ]
    },
    {
     "name": "stdout",
     "output_type": "stream",
     "text": [
      "\r43particle :  59 / 81"
     ]
    },
    {
     "name": "stdout",
     "output_type": "stream",
     "text": [
      "\r43particle :  60 / 81"
     ]
    },
    {
     "name": "stdout",
     "output_type": "stream",
     "text": [
      "\r43particle :  61 / 81"
     ]
    },
    {
     "name": "stdout",
     "output_type": "stream",
     "text": [
      "\r43particle :  62 / 81"
     ]
    },
    {
     "name": "stdout",
     "output_type": "stream",
     "text": [
      "\r43particle :  63 / 81"
     ]
    },
    {
     "name": "stdout",
     "output_type": "stream",
     "text": [
      "\r43particle :  64 / 81"
     ]
    },
    {
     "name": "stdout",
     "output_type": "stream",
     "text": [
      "\r43particle :  65 / 81"
     ]
    },
    {
     "name": "stdout",
     "output_type": "stream",
     "text": [
      "\r43particle :  66 / 81"
     ]
    },
    {
     "name": "stdout",
     "output_type": "stream",
     "text": [
      "\r43particle :  67 / 81"
     ]
    },
    {
     "name": "stdout",
     "output_type": "stream",
     "text": [
      "\r43particle :  68 / 81"
     ]
    },
    {
     "name": "stdout",
     "output_type": "stream",
     "text": [
      "\r43particle :  69 / 81"
     ]
    },
    {
     "name": "stdout",
     "output_type": "stream",
     "text": [
      "\r43particle :  70 / 81"
     ]
    },
    {
     "name": "stdout",
     "output_type": "stream",
     "text": [
      "\r43particle :  71 / 81"
     ]
    },
    {
     "name": "stdout",
     "output_type": "stream",
     "text": [
      "\r43particle :  72 / 81"
     ]
    },
    {
     "name": "stdout",
     "output_type": "stream",
     "text": [
      "\r43particle :  73 / 81"
     ]
    },
    {
     "name": "stdout",
     "output_type": "stream",
     "text": [
      "\r43particle :  74 / 81"
     ]
    },
    {
     "name": "stdout",
     "output_type": "stream",
     "text": [
      "\r43particle :  75 / 81"
     ]
    },
    {
     "name": "stdout",
     "output_type": "stream",
     "text": [
      "\r43particle :  76 / 81"
     ]
    },
    {
     "name": "stdout",
     "output_type": "stream",
     "text": [
      "\r43particle :  77 / 81"
     ]
    },
    {
     "name": "stdout",
     "output_type": "stream",
     "text": [
      "\r43particle :  78 / 81"
     ]
    },
    {
     "name": "stdout",
     "output_type": "stream",
     "text": [
      "\r43particle :  79 / 81"
     ]
    },
    {
     "name": "stdout",
     "output_type": "stream",
     "text": [
      "\r43particle :  80 / 81"
     ]
    },
    {
     "name": "stdout",
     "output_type": "stream",
     "text": [
      "\r44particle :  0 / 81"
     ]
    },
    {
     "name": "stdout",
     "output_type": "stream",
     "text": [
      "\r44particle :  1 / 81"
     ]
    },
    {
     "name": "stdout",
     "output_type": "stream",
     "text": [
      "\r44particle :  2 / 81"
     ]
    },
    {
     "name": "stdout",
     "output_type": "stream",
     "text": [
      "\r44particle :  3 / 81"
     ]
    },
    {
     "name": "stdout",
     "output_type": "stream",
     "text": [
      "\r44particle :  4 / 81"
     ]
    },
    {
     "name": "stdout",
     "output_type": "stream",
     "text": [
      "\r44particle :  5 / 81"
     ]
    },
    {
     "name": "stdout",
     "output_type": "stream",
     "text": [
      "\r44particle :  6 / 81"
     ]
    },
    {
     "name": "stdout",
     "output_type": "stream",
     "text": [
      "\r44particle :  7 / 81"
     ]
    },
    {
     "name": "stdout",
     "output_type": "stream",
     "text": [
      "\r44particle :  8 / 81"
     ]
    },
    {
     "name": "stdout",
     "output_type": "stream",
     "text": [
      "\r44particle :  9 / 81"
     ]
    },
    {
     "name": "stdout",
     "output_type": "stream",
     "text": [
      "\r44particle :  10 / 81"
     ]
    },
    {
     "name": "stdout",
     "output_type": "stream",
     "text": [
      "\r44particle :  11 / 81"
     ]
    },
    {
     "name": "stdout",
     "output_type": "stream",
     "text": [
      "\r44particle :  12 / 81"
     ]
    },
    {
     "name": "stdout",
     "output_type": "stream",
     "text": [
      "\r44particle :  13 / 81"
     ]
    },
    {
     "name": "stdout",
     "output_type": "stream",
     "text": [
      "\r44particle :  14 / 81"
     ]
    },
    {
     "name": "stdout",
     "output_type": "stream",
     "text": [
      "\r44particle :  15 / 81"
     ]
    },
    {
     "name": "stdout",
     "output_type": "stream",
     "text": [
      "\r44particle :  16 / 81"
     ]
    },
    {
     "name": "stdout",
     "output_type": "stream",
     "text": [
      "\r44particle :  17 / 81"
     ]
    },
    {
     "name": "stdout",
     "output_type": "stream",
     "text": [
      "\r44particle :  18 / 81"
     ]
    },
    {
     "name": "stdout",
     "output_type": "stream",
     "text": [
      "\r44particle :  19 / 81"
     ]
    },
    {
     "name": "stdout",
     "output_type": "stream",
     "text": [
      "\r44particle :  20 / 81"
     ]
    },
    {
     "name": "stdout",
     "output_type": "stream",
     "text": [
      "\r44particle :  21 / 81"
     ]
    },
    {
     "name": "stdout",
     "output_type": "stream",
     "text": [
      "\r44particle :  22 / 81"
     ]
    },
    {
     "name": "stdout",
     "output_type": "stream",
     "text": [
      "\r44particle :  23 / 81"
     ]
    },
    {
     "name": "stdout",
     "output_type": "stream",
     "text": [
      "\r44particle :  24 / 81"
     ]
    },
    {
     "name": "stdout",
     "output_type": "stream",
     "text": [
      "\r44particle :  25 / 81"
     ]
    },
    {
     "name": "stdout",
     "output_type": "stream",
     "text": [
      "\r44particle :  26 / 81"
     ]
    },
    {
     "name": "stdout",
     "output_type": "stream",
     "text": [
      "\r44particle :  27 / 81"
     ]
    },
    {
     "name": "stdout",
     "output_type": "stream",
     "text": [
      "\r44particle :  28 / 81"
     ]
    },
    {
     "name": "stdout",
     "output_type": "stream",
     "text": [
      "\r44particle :  29 / 81"
     ]
    },
    {
     "name": "stdout",
     "output_type": "stream",
     "text": [
      "\r44particle :  30 / 81"
     ]
    },
    {
     "name": "stdout",
     "output_type": "stream",
     "text": [
      "\r44particle :  31 / 81"
     ]
    },
    {
     "name": "stdout",
     "output_type": "stream",
     "text": [
      "\r44particle :  32 / 81"
     ]
    },
    {
     "name": "stdout",
     "output_type": "stream",
     "text": [
      "\r44particle :  33 / 81"
     ]
    },
    {
     "name": "stdout",
     "output_type": "stream",
     "text": [
      "\r44particle :  34 / 81"
     ]
    },
    {
     "name": "stdout",
     "output_type": "stream",
     "text": [
      "\r44particle :  35 / 81"
     ]
    },
    {
     "name": "stdout",
     "output_type": "stream",
     "text": [
      "\r44particle :  36 / 81"
     ]
    },
    {
     "name": "stdout",
     "output_type": "stream",
     "text": [
      "\r44particle :  37 / 81"
     ]
    },
    {
     "name": "stdout",
     "output_type": "stream",
     "text": [
      "\r44particle :  38 / 81"
     ]
    },
    {
     "name": "stdout",
     "output_type": "stream",
     "text": [
      "\r44particle :  39 / 81"
     ]
    },
    {
     "name": "stdout",
     "output_type": "stream",
     "text": [
      "\r44particle :  40 / 81"
     ]
    },
    {
     "name": "stdout",
     "output_type": "stream",
     "text": [
      "\r44particle :  41 / 81"
     ]
    },
    {
     "name": "stdout",
     "output_type": "stream",
     "text": [
      "\r44particle :  42 / 81"
     ]
    },
    {
     "name": "stdout",
     "output_type": "stream",
     "text": [
      "\r44particle :  43 / 81"
     ]
    },
    {
     "name": "stdout",
     "output_type": "stream",
     "text": [
      "\r44particle :  44 / 81"
     ]
    },
    {
     "name": "stdout",
     "output_type": "stream",
     "text": [
      "\r44particle :  45 / 81"
     ]
    },
    {
     "name": "stdout",
     "output_type": "stream",
     "text": [
      "\r44particle :  46 / 81"
     ]
    },
    {
     "name": "stdout",
     "output_type": "stream",
     "text": [
      "\r44particle :  47 / 81"
     ]
    },
    {
     "name": "stdout",
     "output_type": "stream",
     "text": [
      "\r44particle :  48 / 81"
     ]
    },
    {
     "name": "stdout",
     "output_type": "stream",
     "text": [
      "\r44particle :  49 / 81"
     ]
    },
    {
     "name": "stdout",
     "output_type": "stream",
     "text": [
      "\r44particle :  50 / 81"
     ]
    },
    {
     "name": "stdout",
     "output_type": "stream",
     "text": [
      "\r44particle :  51 / 81"
     ]
    },
    {
     "name": "stdout",
     "output_type": "stream",
     "text": [
      "\r44particle :  52 / 81"
     ]
    },
    {
     "name": "stdout",
     "output_type": "stream",
     "text": [
      "\r44particle :  53 / 81"
     ]
    },
    {
     "name": "stdout",
     "output_type": "stream",
     "text": [
      "\r44particle :  54 / 81"
     ]
    },
    {
     "name": "stdout",
     "output_type": "stream",
     "text": [
      "\r44particle :  55 / 81"
     ]
    },
    {
     "name": "stdout",
     "output_type": "stream",
     "text": [
      "\r44particle :  56 / 81"
     ]
    },
    {
     "name": "stdout",
     "output_type": "stream",
     "text": [
      "\r44particle :  57 / 81"
     ]
    },
    {
     "name": "stdout",
     "output_type": "stream",
     "text": [
      "\r44particle :  58 / 81"
     ]
    },
    {
     "name": "stdout",
     "output_type": "stream",
     "text": [
      "\r44particle :  59 / 81"
     ]
    },
    {
     "name": "stdout",
     "output_type": "stream",
     "text": [
      "\r44particle :  60 / 81"
     ]
    },
    {
     "name": "stdout",
     "output_type": "stream",
     "text": [
      "\r44particle :  61 / 81"
     ]
    },
    {
     "name": "stdout",
     "output_type": "stream",
     "text": [
      "\r44particle :  62 / 81"
     ]
    },
    {
     "name": "stdout",
     "output_type": "stream",
     "text": [
      "\r44particle :  63 / 81"
     ]
    },
    {
     "name": "stdout",
     "output_type": "stream",
     "text": [
      "\r44particle :  64 / 81"
     ]
    },
    {
     "name": "stdout",
     "output_type": "stream",
     "text": [
      "\r44particle :  65 / 81"
     ]
    },
    {
     "name": "stdout",
     "output_type": "stream",
     "text": [
      "\r44particle :  66 / 81"
     ]
    },
    {
     "name": "stdout",
     "output_type": "stream",
     "text": [
      "\r44particle :  67 / 81"
     ]
    },
    {
     "name": "stdout",
     "output_type": "stream",
     "text": [
      "\r44particle :  68 / 81"
     ]
    },
    {
     "name": "stdout",
     "output_type": "stream",
     "text": [
      "\r44particle :  69 / 81"
     ]
    },
    {
     "name": "stdout",
     "output_type": "stream",
     "text": [
      "\r44particle :  70 / 81"
     ]
    },
    {
     "name": "stdout",
     "output_type": "stream",
     "text": [
      "\r44particle :  71 / 81"
     ]
    },
    {
     "name": "stdout",
     "output_type": "stream",
     "text": [
      "\r44particle :  72 / 81"
     ]
    },
    {
     "name": "stdout",
     "output_type": "stream",
     "text": [
      "\r44particle :  73 / 81"
     ]
    },
    {
     "name": "stdout",
     "output_type": "stream",
     "text": [
      "\r44particle :  74 / 81"
     ]
    },
    {
     "name": "stdout",
     "output_type": "stream",
     "text": [
      "\r44particle :  75 / 81"
     ]
    },
    {
     "name": "stdout",
     "output_type": "stream",
     "text": [
      "\r44particle :  76 / 81"
     ]
    },
    {
     "name": "stdout",
     "output_type": "stream",
     "text": [
      "\r44particle :  77 / 81"
     ]
    },
    {
     "name": "stdout",
     "output_type": "stream",
     "text": [
      "\r44particle :  78 / 81"
     ]
    },
    {
     "name": "stdout",
     "output_type": "stream",
     "text": [
      "\r44particle :  79 / 81"
     ]
    },
    {
     "name": "stdout",
     "output_type": "stream",
     "text": [
      "\r44particle :  80 / 81"
     ]
    },
    {
     "name": "stdout",
     "output_type": "stream",
     "text": [
      "\r45particle :  0 / 81"
     ]
    },
    {
     "name": "stdout",
     "output_type": "stream",
     "text": [
      "\r45particle :  1 / 81"
     ]
    },
    {
     "name": "stdout",
     "output_type": "stream",
     "text": [
      "\r45particle :  2 / 81"
     ]
    },
    {
     "name": "stdout",
     "output_type": "stream",
     "text": [
      "\r45particle :  3 / 81"
     ]
    },
    {
     "name": "stdout",
     "output_type": "stream",
     "text": [
      "\r45particle :  4 / 81"
     ]
    },
    {
     "name": "stdout",
     "output_type": "stream",
     "text": [
      "\r45particle :  5 / 81"
     ]
    },
    {
     "name": "stdout",
     "output_type": "stream",
     "text": [
      "\r45particle :  6 / 81"
     ]
    },
    {
     "name": "stdout",
     "output_type": "stream",
     "text": [
      "\r45particle :  7 / 81"
     ]
    },
    {
     "name": "stdout",
     "output_type": "stream",
     "text": [
      "\r45particle :  8 / 81"
     ]
    },
    {
     "name": "stdout",
     "output_type": "stream",
     "text": [
      "\r45particle :  9 / 81"
     ]
    },
    {
     "name": "stdout",
     "output_type": "stream",
     "text": [
      "\r45particle :  10 / 81"
     ]
    },
    {
     "name": "stdout",
     "output_type": "stream",
     "text": [
      "\r45particle :  11 / 81"
     ]
    },
    {
     "name": "stdout",
     "output_type": "stream",
     "text": [
      "\r45particle :  12 / 81"
     ]
    },
    {
     "name": "stdout",
     "output_type": "stream",
     "text": [
      "\r45particle :  13 / 81"
     ]
    },
    {
     "name": "stdout",
     "output_type": "stream",
     "text": [
      "\r45particle :  14 / 81"
     ]
    },
    {
     "name": "stdout",
     "output_type": "stream",
     "text": [
      "\r45particle :  15 / 81"
     ]
    },
    {
     "name": "stdout",
     "output_type": "stream",
     "text": [
      "\r45particle :  16 / 81"
     ]
    },
    {
     "name": "stdout",
     "output_type": "stream",
     "text": [
      "\r45particle :  17 / 81"
     ]
    },
    {
     "name": "stdout",
     "output_type": "stream",
     "text": [
      "\r45particle :  18 / 81"
     ]
    },
    {
     "name": "stdout",
     "output_type": "stream",
     "text": [
      "\r45particle :  19 / 81"
     ]
    },
    {
     "name": "stdout",
     "output_type": "stream",
     "text": [
      "\r45particle :  20 / 81"
     ]
    },
    {
     "name": "stdout",
     "output_type": "stream",
     "text": [
      "\r45particle :  21 / 81"
     ]
    },
    {
     "name": "stdout",
     "output_type": "stream",
     "text": [
      "\r45particle :  22 / 81"
     ]
    },
    {
     "name": "stdout",
     "output_type": "stream",
     "text": [
      "\r45particle :  23 / 81"
     ]
    },
    {
     "name": "stdout",
     "output_type": "stream",
     "text": [
      "\r45particle :  24 / 81"
     ]
    },
    {
     "name": "stdout",
     "output_type": "stream",
     "text": [
      "\r45particle :  25 / 81"
     ]
    },
    {
     "name": "stdout",
     "output_type": "stream",
     "text": [
      "\r45particle :  26 / 81"
     ]
    },
    {
     "name": "stdout",
     "output_type": "stream",
     "text": [
      "\r45particle :  27 / 81"
     ]
    },
    {
     "name": "stdout",
     "output_type": "stream",
     "text": [
      "\r45particle :  28 / 81"
     ]
    },
    {
     "name": "stdout",
     "output_type": "stream",
     "text": [
      "\r45particle :  29 / 81"
     ]
    },
    {
     "name": "stdout",
     "output_type": "stream",
     "text": [
      "\r45particle :  30 / 81"
     ]
    },
    {
     "name": "stdout",
     "output_type": "stream",
     "text": [
      "\r45particle :  31 / 81"
     ]
    },
    {
     "name": "stdout",
     "output_type": "stream",
     "text": [
      "\r45particle :  32 / 81"
     ]
    },
    {
     "name": "stdout",
     "output_type": "stream",
     "text": [
      "\r45particle :  33 / 81"
     ]
    },
    {
     "name": "stdout",
     "output_type": "stream",
     "text": [
      "\r45particle :  34 / 81"
     ]
    },
    {
     "name": "stdout",
     "output_type": "stream",
     "text": [
      "\r45particle :  35 / 81"
     ]
    },
    {
     "name": "stdout",
     "output_type": "stream",
     "text": [
      "\r45particle :  36 / 81"
     ]
    },
    {
     "name": "stdout",
     "output_type": "stream",
     "text": [
      "\r45particle :  37 / 81"
     ]
    },
    {
     "name": "stdout",
     "output_type": "stream",
     "text": [
      "\r45particle :  38 / 81"
     ]
    },
    {
     "name": "stdout",
     "output_type": "stream",
     "text": [
      "\r45particle :  39 / 81"
     ]
    },
    {
     "name": "stdout",
     "output_type": "stream",
     "text": [
      "\r45particle :  40 / 81"
     ]
    },
    {
     "name": "stdout",
     "output_type": "stream",
     "text": [
      "\r45particle :  41 / 81"
     ]
    },
    {
     "name": "stdout",
     "output_type": "stream",
     "text": [
      "\r45particle :  42 / 81"
     ]
    },
    {
     "name": "stdout",
     "output_type": "stream",
     "text": [
      "\r45particle :  43 / 81"
     ]
    },
    {
     "name": "stdout",
     "output_type": "stream",
     "text": [
      "\r45particle :  44 / 81"
     ]
    },
    {
     "name": "stdout",
     "output_type": "stream",
     "text": [
      "\r45particle :  45 / 81"
     ]
    },
    {
     "name": "stdout",
     "output_type": "stream",
     "text": [
      "\r45particle :  46 / 81"
     ]
    },
    {
     "name": "stdout",
     "output_type": "stream",
     "text": [
      "\r45particle :  47 / 81"
     ]
    },
    {
     "name": "stdout",
     "output_type": "stream",
     "text": [
      "\r45particle :  48 / 81"
     ]
    },
    {
     "name": "stdout",
     "output_type": "stream",
     "text": [
      "\r45particle :  49 / 81"
     ]
    },
    {
     "name": "stdout",
     "output_type": "stream",
     "text": [
      "\r45particle :  50 / 81"
     ]
    },
    {
     "name": "stdout",
     "output_type": "stream",
     "text": [
      "\r45particle :  51 / 81"
     ]
    },
    {
     "name": "stdout",
     "output_type": "stream",
     "text": [
      "\r45particle :  52 / 81"
     ]
    },
    {
     "name": "stdout",
     "output_type": "stream",
     "text": [
      "\r45particle :  53 / 81"
     ]
    },
    {
     "name": "stdout",
     "output_type": "stream",
     "text": [
      "\r45particle :  54 / 81"
     ]
    },
    {
     "name": "stdout",
     "output_type": "stream",
     "text": [
      "\r45particle :  55 / 81"
     ]
    },
    {
     "name": "stdout",
     "output_type": "stream",
     "text": [
      "\r45particle :  56 / 81"
     ]
    },
    {
     "name": "stdout",
     "output_type": "stream",
     "text": [
      "\r45particle :  57 / 81"
     ]
    },
    {
     "name": "stdout",
     "output_type": "stream",
     "text": [
      "\r45particle :  58 / 81"
     ]
    },
    {
     "name": "stdout",
     "output_type": "stream",
     "text": [
      "\r45particle :  59 / 81"
     ]
    },
    {
     "name": "stdout",
     "output_type": "stream",
     "text": [
      "\r45particle :  60 / 81"
     ]
    },
    {
     "name": "stdout",
     "output_type": "stream",
     "text": [
      "\r45particle :  61 / 81"
     ]
    },
    {
     "name": "stdout",
     "output_type": "stream",
     "text": [
      "\r45particle :  62 / 81"
     ]
    },
    {
     "name": "stdout",
     "output_type": "stream",
     "text": [
      "\r45particle :  63 / 81"
     ]
    },
    {
     "name": "stdout",
     "output_type": "stream",
     "text": [
      "\r45particle :  64 / 81"
     ]
    },
    {
     "name": "stdout",
     "output_type": "stream",
     "text": [
      "\r45particle :  65 / 81"
     ]
    },
    {
     "name": "stdout",
     "output_type": "stream",
     "text": [
      "\r45particle :  66 / 81"
     ]
    },
    {
     "name": "stdout",
     "output_type": "stream",
     "text": [
      "\r45particle :  67 / 81"
     ]
    },
    {
     "name": "stdout",
     "output_type": "stream",
     "text": [
      "\r45particle :  68 / 81"
     ]
    },
    {
     "name": "stdout",
     "output_type": "stream",
     "text": [
      "\r45particle :  69 / 81"
     ]
    },
    {
     "name": "stdout",
     "output_type": "stream",
     "text": [
      "\r45particle :  70 / 81"
     ]
    },
    {
     "name": "stdout",
     "output_type": "stream",
     "text": [
      "\r45particle :  71 / 81"
     ]
    },
    {
     "name": "stdout",
     "output_type": "stream",
     "text": [
      "\r45particle :  72 / 81"
     ]
    },
    {
     "name": "stdout",
     "output_type": "stream",
     "text": [
      "\r45particle :  73 / 81"
     ]
    },
    {
     "name": "stdout",
     "output_type": "stream",
     "text": [
      "\r45particle :  74 / 81"
     ]
    },
    {
     "name": "stdout",
     "output_type": "stream",
     "text": [
      "\r45particle :  75 / 81"
     ]
    },
    {
     "name": "stdout",
     "output_type": "stream",
     "text": [
      "\r45particle :  76 / 81"
     ]
    },
    {
     "name": "stdout",
     "output_type": "stream",
     "text": [
      "\r45particle :  77 / 81"
     ]
    },
    {
     "name": "stdout",
     "output_type": "stream",
     "text": [
      "\r45particle :  78 / 81"
     ]
    },
    {
     "name": "stdout",
     "output_type": "stream",
     "text": [
      "\r45particle :  79 / 81"
     ]
    },
    {
     "name": "stdout",
     "output_type": "stream",
     "text": [
      "\r45particle :  80 / 81"
     ]
    },
    {
     "name": "stdout",
     "output_type": "stream",
     "text": [
      "\r46particle :  0 / 81"
     ]
    },
    {
     "name": "stdout",
     "output_type": "stream",
     "text": [
      "\r46particle :  1 / 81"
     ]
    },
    {
     "name": "stdout",
     "output_type": "stream",
     "text": [
      "\r46particle :  2 / 81"
     ]
    },
    {
     "name": "stdout",
     "output_type": "stream",
     "text": [
      "\r46particle :  3 / 81"
     ]
    },
    {
     "name": "stdout",
     "output_type": "stream",
     "text": [
      "\r46particle :  4 / 81"
     ]
    },
    {
     "name": "stdout",
     "output_type": "stream",
     "text": [
      "\r46particle :  5 / 81"
     ]
    },
    {
     "name": "stdout",
     "output_type": "stream",
     "text": [
      "\r46particle :  6 / 81"
     ]
    },
    {
     "name": "stdout",
     "output_type": "stream",
     "text": [
      "\r46particle :  7 / 81"
     ]
    },
    {
     "name": "stdout",
     "output_type": "stream",
     "text": [
      "\r46particle :  8 / 81"
     ]
    },
    {
     "name": "stdout",
     "output_type": "stream",
     "text": [
      "\r46particle :  9 / 81"
     ]
    },
    {
     "name": "stdout",
     "output_type": "stream",
     "text": [
      "\r46particle :  10 / 81"
     ]
    },
    {
     "name": "stdout",
     "output_type": "stream",
     "text": [
      "\r46particle :  11 / 81"
     ]
    },
    {
     "name": "stdout",
     "output_type": "stream",
     "text": [
      "\r46particle :  12 / 81"
     ]
    },
    {
     "name": "stdout",
     "output_type": "stream",
     "text": [
      "\r46particle :  13 / 81"
     ]
    },
    {
     "name": "stdout",
     "output_type": "stream",
     "text": [
      "\r46particle :  14 / 81"
     ]
    },
    {
     "name": "stdout",
     "output_type": "stream",
     "text": [
      "\r46particle :  15 / 81"
     ]
    },
    {
     "name": "stdout",
     "output_type": "stream",
     "text": [
      "\r46particle :  16 / 81"
     ]
    },
    {
     "name": "stdout",
     "output_type": "stream",
     "text": [
      "\r46particle :  17 / 81"
     ]
    },
    {
     "name": "stdout",
     "output_type": "stream",
     "text": [
      "\r46particle :  18 / 81"
     ]
    },
    {
     "name": "stdout",
     "output_type": "stream",
     "text": [
      "\r46particle :  19 / 81"
     ]
    },
    {
     "name": "stdout",
     "output_type": "stream",
     "text": [
      "\r46particle :  20 / 81"
     ]
    },
    {
     "name": "stdout",
     "output_type": "stream",
     "text": [
      "\r46particle :  21 / 81"
     ]
    },
    {
     "name": "stdout",
     "output_type": "stream",
     "text": [
      "\r46particle :  22 / 81"
     ]
    },
    {
     "name": "stdout",
     "output_type": "stream",
     "text": [
      "\r46particle :  23 / 81"
     ]
    },
    {
     "name": "stdout",
     "output_type": "stream",
     "text": [
      "\r46particle :  24 / 81"
     ]
    },
    {
     "name": "stdout",
     "output_type": "stream",
     "text": [
      "\r46particle :  25 / 81"
     ]
    },
    {
     "name": "stdout",
     "output_type": "stream",
     "text": [
      "\r46particle :  26 / 81"
     ]
    },
    {
     "name": "stdout",
     "output_type": "stream",
     "text": [
      "\r46particle :  27 / 81"
     ]
    },
    {
     "name": "stdout",
     "output_type": "stream",
     "text": [
      "\r46particle :  28 / 81"
     ]
    },
    {
     "name": "stdout",
     "output_type": "stream",
     "text": [
      "\r46particle :  29 / 81"
     ]
    },
    {
     "name": "stdout",
     "output_type": "stream",
     "text": [
      "\r46particle :  30 / 81"
     ]
    },
    {
     "name": "stdout",
     "output_type": "stream",
     "text": [
      "\r46particle :  31 / 81"
     ]
    },
    {
     "name": "stdout",
     "output_type": "stream",
     "text": [
      "\r46particle :  32 / 81"
     ]
    },
    {
     "name": "stdout",
     "output_type": "stream",
     "text": [
      "\r46particle :  33 / 81"
     ]
    },
    {
     "name": "stdout",
     "output_type": "stream",
     "text": [
      "\r46particle :  34 / 81"
     ]
    },
    {
     "name": "stdout",
     "output_type": "stream",
     "text": [
      "\r46particle :  35 / 81"
     ]
    },
    {
     "name": "stdout",
     "output_type": "stream",
     "text": [
      "\r46particle :  36 / 81"
     ]
    },
    {
     "name": "stdout",
     "output_type": "stream",
     "text": [
      "\r46particle :  37 / 81"
     ]
    },
    {
     "name": "stdout",
     "output_type": "stream",
     "text": [
      "\r46particle :  38 / 81"
     ]
    },
    {
     "name": "stdout",
     "output_type": "stream",
     "text": [
      "\r46particle :  39 / 81"
     ]
    },
    {
     "name": "stdout",
     "output_type": "stream",
     "text": [
      "\r46particle :  40 / 81"
     ]
    },
    {
     "name": "stdout",
     "output_type": "stream",
     "text": [
      "\r46particle :  41 / 81"
     ]
    },
    {
     "name": "stdout",
     "output_type": "stream",
     "text": [
      "\r46particle :  42 / 81"
     ]
    },
    {
     "name": "stdout",
     "output_type": "stream",
     "text": [
      "\r46particle :  43 / 81"
     ]
    },
    {
     "name": "stdout",
     "output_type": "stream",
     "text": [
      "\r46particle :  44 / 81"
     ]
    },
    {
     "name": "stdout",
     "output_type": "stream",
     "text": [
      "\r46particle :  45 / 81"
     ]
    },
    {
     "name": "stdout",
     "output_type": "stream",
     "text": [
      "\r46particle :  46 / 81"
     ]
    },
    {
     "name": "stdout",
     "output_type": "stream",
     "text": [
      "\r46particle :  47 / 81"
     ]
    },
    {
     "name": "stdout",
     "output_type": "stream",
     "text": [
      "\r46particle :  48 / 81"
     ]
    },
    {
     "name": "stdout",
     "output_type": "stream",
     "text": [
      "\r46particle :  49 / 81"
     ]
    },
    {
     "name": "stdout",
     "output_type": "stream",
     "text": [
      "\r46particle :  50 / 81"
     ]
    },
    {
     "name": "stdout",
     "output_type": "stream",
     "text": [
      "\r46particle :  51 / 81"
     ]
    },
    {
     "name": "stdout",
     "output_type": "stream",
     "text": [
      "\r46particle :  52 / 81"
     ]
    },
    {
     "name": "stdout",
     "output_type": "stream",
     "text": [
      "\r46particle :  53 / 81"
     ]
    },
    {
     "name": "stdout",
     "output_type": "stream",
     "text": [
      "\r46particle :  54 / 81"
     ]
    },
    {
     "name": "stdout",
     "output_type": "stream",
     "text": [
      "\r46particle :  55 / 81"
     ]
    },
    {
     "name": "stdout",
     "output_type": "stream",
     "text": [
      "\r46particle :  56 / 81"
     ]
    },
    {
     "name": "stdout",
     "output_type": "stream",
     "text": [
      "\r46particle :  57 / 81"
     ]
    },
    {
     "name": "stdout",
     "output_type": "stream",
     "text": [
      "\r46particle :  58 / 81"
     ]
    },
    {
     "name": "stdout",
     "output_type": "stream",
     "text": [
      "\r46particle :  59 / 81"
     ]
    },
    {
     "name": "stdout",
     "output_type": "stream",
     "text": [
      "\r46particle :  60 / 81"
     ]
    },
    {
     "name": "stdout",
     "output_type": "stream",
     "text": [
      "\r46particle :  61 / 81"
     ]
    },
    {
     "name": "stdout",
     "output_type": "stream",
     "text": [
      "\r46particle :  62 / 81"
     ]
    },
    {
     "name": "stdout",
     "output_type": "stream",
     "text": [
      "\r46particle :  63 / 81"
     ]
    },
    {
     "name": "stdout",
     "output_type": "stream",
     "text": [
      "\r46particle :  64 / 81"
     ]
    },
    {
     "name": "stdout",
     "output_type": "stream",
     "text": [
      "\r46particle :  65 / 81"
     ]
    },
    {
     "name": "stdout",
     "output_type": "stream",
     "text": [
      "\r46particle :  66 / 81"
     ]
    },
    {
     "name": "stdout",
     "output_type": "stream",
     "text": [
      "\r46particle :  67 / 81"
     ]
    },
    {
     "name": "stdout",
     "output_type": "stream",
     "text": [
      "\r46particle :  68 / 81"
     ]
    },
    {
     "name": "stdout",
     "output_type": "stream",
     "text": [
      "\r46particle :  69 / 81"
     ]
    },
    {
     "name": "stdout",
     "output_type": "stream",
     "text": [
      "\r46particle :  70 / 81"
     ]
    },
    {
     "name": "stdout",
     "output_type": "stream",
     "text": [
      "\r46particle :  71 / 81"
     ]
    },
    {
     "name": "stdout",
     "output_type": "stream",
     "text": [
      "\r46particle :  72 / 81"
     ]
    },
    {
     "name": "stdout",
     "output_type": "stream",
     "text": [
      "\r46particle :  73 / 81"
     ]
    },
    {
     "name": "stdout",
     "output_type": "stream",
     "text": [
      "\r46particle :  74 / 81"
     ]
    },
    {
     "name": "stdout",
     "output_type": "stream",
     "text": [
      "\r46particle :  75 / 81"
     ]
    },
    {
     "name": "stdout",
     "output_type": "stream",
     "text": [
      "\r46particle :  76 / 81"
     ]
    },
    {
     "name": "stdout",
     "output_type": "stream",
     "text": [
      "\r46particle :  77 / 81"
     ]
    },
    {
     "name": "stdout",
     "output_type": "stream",
     "text": [
      "\r46particle :  78 / 81"
     ]
    },
    {
     "name": "stdout",
     "output_type": "stream",
     "text": [
      "\r46particle :  79 / 81"
     ]
    },
    {
     "name": "stdout",
     "output_type": "stream",
     "text": [
      "\r46particle :  80 / 81"
     ]
    },
    {
     "name": "stdout",
     "output_type": "stream",
     "text": [
      "\r47particle :  0 / 81"
     ]
    },
    {
     "name": "stdout",
     "output_type": "stream",
     "text": [
      "\r47particle :  1 / 81"
     ]
    },
    {
     "name": "stdout",
     "output_type": "stream",
     "text": [
      "\r47particle :  2 / 81"
     ]
    },
    {
     "name": "stdout",
     "output_type": "stream",
     "text": [
      "\r47particle :  3 / 81"
     ]
    },
    {
     "name": "stdout",
     "output_type": "stream",
     "text": [
      "\r47particle :  4 / 81"
     ]
    },
    {
     "name": "stdout",
     "output_type": "stream",
     "text": [
      "\r47particle :  5 / 81"
     ]
    },
    {
     "name": "stdout",
     "output_type": "stream",
     "text": [
      "\r47particle :  6 / 81"
     ]
    },
    {
     "name": "stdout",
     "output_type": "stream",
     "text": [
      "\r47particle :  7 / 81"
     ]
    },
    {
     "name": "stdout",
     "output_type": "stream",
     "text": [
      "\r47particle :  8 / 81"
     ]
    },
    {
     "name": "stdout",
     "output_type": "stream",
     "text": [
      "\r47particle :  9 / 81"
     ]
    },
    {
     "name": "stdout",
     "output_type": "stream",
     "text": [
      "\r47particle :  10 / 81"
     ]
    },
    {
     "name": "stdout",
     "output_type": "stream",
     "text": [
      "\r47particle :  11 / 81"
     ]
    },
    {
     "name": "stdout",
     "output_type": "stream",
     "text": [
      "\r47particle :  12 / 81"
     ]
    },
    {
     "name": "stdout",
     "output_type": "stream",
     "text": [
      "\r47particle :  13 / 81"
     ]
    },
    {
     "name": "stdout",
     "output_type": "stream",
     "text": [
      "\r47particle :  14 / 81"
     ]
    },
    {
     "name": "stdout",
     "output_type": "stream",
     "text": [
      "\r47particle :  15 / 81"
     ]
    },
    {
     "name": "stdout",
     "output_type": "stream",
     "text": [
      "\r47particle :  16 / 81"
     ]
    },
    {
     "name": "stdout",
     "output_type": "stream",
     "text": [
      "\r47particle :  17 / 81"
     ]
    },
    {
     "name": "stdout",
     "output_type": "stream",
     "text": [
      "\r47particle :  18 / 81"
     ]
    },
    {
     "name": "stdout",
     "output_type": "stream",
     "text": [
      "\r47particle :  19 / 81"
     ]
    },
    {
     "name": "stdout",
     "output_type": "stream",
     "text": [
      "\r47particle :  20 / 81"
     ]
    },
    {
     "name": "stdout",
     "output_type": "stream",
     "text": [
      "\r47particle :  21 / 81"
     ]
    },
    {
     "name": "stdout",
     "output_type": "stream",
     "text": [
      "\r47particle :  22 / 81"
     ]
    },
    {
     "name": "stdout",
     "output_type": "stream",
     "text": [
      "\r47particle :  23 / 81"
     ]
    },
    {
     "name": "stdout",
     "output_type": "stream",
     "text": [
      "\r47particle :  24 / 81"
     ]
    },
    {
     "name": "stdout",
     "output_type": "stream",
     "text": [
      "\r47particle :  25 / 81"
     ]
    },
    {
     "name": "stdout",
     "output_type": "stream",
     "text": [
      "\r47particle :  26 / 81"
     ]
    },
    {
     "name": "stdout",
     "output_type": "stream",
     "text": [
      "\r47particle :  27 / 81"
     ]
    },
    {
     "name": "stdout",
     "output_type": "stream",
     "text": [
      "\r47particle :  28 / 81"
     ]
    },
    {
     "name": "stdout",
     "output_type": "stream",
     "text": [
      "\r47particle :  29 / 81"
     ]
    },
    {
     "name": "stdout",
     "output_type": "stream",
     "text": [
      "\r47particle :  30 / 81"
     ]
    },
    {
     "name": "stdout",
     "output_type": "stream",
     "text": [
      "\r47particle :  31 / 81"
     ]
    },
    {
     "name": "stdout",
     "output_type": "stream",
     "text": [
      "\r47particle :  32 / 81"
     ]
    },
    {
     "name": "stdout",
     "output_type": "stream",
     "text": [
      "\r47particle :  33 / 81"
     ]
    },
    {
     "name": "stdout",
     "output_type": "stream",
     "text": [
      "\r47particle :  34 / 81"
     ]
    },
    {
     "name": "stdout",
     "output_type": "stream",
     "text": [
      "\r47particle :  35 / 81"
     ]
    },
    {
     "name": "stdout",
     "output_type": "stream",
     "text": [
      "\r47particle :  36 / 81"
     ]
    },
    {
     "name": "stdout",
     "output_type": "stream",
     "text": [
      "\r47particle :  37 / 81"
     ]
    },
    {
     "name": "stdout",
     "output_type": "stream",
     "text": [
      "\r47particle :  38 / 81"
     ]
    },
    {
     "name": "stdout",
     "output_type": "stream",
     "text": [
      "\r47particle :  39 / 81"
     ]
    },
    {
     "name": "stdout",
     "output_type": "stream",
     "text": [
      "\r47particle :  40 / 81"
     ]
    },
    {
     "name": "stdout",
     "output_type": "stream",
     "text": [
      "\r47particle :  41 / 81"
     ]
    },
    {
     "name": "stdout",
     "output_type": "stream",
     "text": [
      "\r47particle :  42 / 81"
     ]
    }
   ],
   "source": [
    "reoreient(particleList,cellList)"
   ]
  },
  {
   "cell_type": "code",
   "execution_count": 45,
   "metadata": {},
   "outputs": [
    {
     "name": "stdout",
     "output_type": "stream",
     "text": [
      "\n Extending from (-6.0588,-6.0588) to (-4.8588,-4.8588) and count is 1\n Extending from (-6.0588,-4.712400000000001) to (-4.8588,-3.5124000000000004) and count is 1\n Extending from (-6.0588,-3.366) to (-4.8588,-2.1660000000000004) and count is 1\n Extending from (-6.0588,-2.0196) to (-4.8588,-0.8196000000000001) and count is 1\n Extending from (-6.0588,-0.6732) to (-4.8588,0.5267999999999999) and count is 1\n Extending from (-6.0588,0.6732) to (-4.8588,1.8732) and count is 1\n Extending from (-6.0588,2.0196) to (-4.8588,3.2196) and count is 1\n Extending from (-6.0588,3.366000000000001) to (-4.8588,4.566000000000001) and count is 1\n Extending from (-6.0588,4.712400000000001) to (-4.8588,5.912400000000001) and count is 1\n Extending from (-4.712400000000001,-6.0588) to (-3.5124000000000004,-4.8588) and count is 1\n Extending from (-4.712400000000001,-4.712400000000001) to (-3.5124000000000004,-3.5124000000000004) and count is 1\n Extending from (-4.712400000000001,-3.366) to (-3.5124000000000004,-2.1660000000000004) and count is 1\n Extending from (-4.712400000000001,-2.0196) to (-3.5124000000000004,-0.8196000000000001) and count is 1\n Extending from (-4.712400000000001,-0.6732) to (-3.5124000000000004,0.5267999999999999) and count is 1\n Extending from (-4.712400000000001,0.6732) to (-3.5124000000000004,1.8732) and count is 1\n Extending from (-4.712400000000001,2.0196) to (-3.5124000000000004,3.2196) and count is 1\n Extending from (-4.712400000000001,3.366000000000001) to (-3.5124000000000004,4.566000000000001) and count is 1\n Extending from (-4.712400000000001,4.712400000000001) to (-3.5124000000000004,5.912400000000001) and count is 1\n Extending from (-3.366,-6.0588) to (-2.1660000000000004,-4.8588) and count is 1\n Extending from (-3.366,-4.712400000000001) to (-2.1660000000000004,-3.5124000000000004) and count is 1\n Extending from (-3.366,-3.366) to (-2.1660000000000004,-2.1660000000000004) and count is 1\n Extending from (-3.366,-2.0196) to (-2.1660000000000004,-0.8196000000000001) and count is 1\n Extending from (-3.366,-0.6732) to (-2.1660000000000004,0.5267999999999999) and count is 1\n Extending from (-3.366,0.6732) to (-2.1660000000000004,1.8732) and count is 1\n Extending from (-3.366,2.0196) to (-2.1660000000000004,3.2196) and count is 1\n Extending from (-3.366,3.366000000000001) to (-2.1660000000000004,4.566000000000001) and count is 1\n Extending from (-3.366,4.712400000000001) to (-2.1660000000000004,5.912400000000001) and count is 1\n Extending from (-2.0196,-6.0588) to (-0.8196000000000001,-4.8588) and count is 1\n Extending from (-2.0196,-4.712400000000001) to (-0.8196000000000001,-3.5124000000000004) and count is 1\n Extending from (-2.0196,-3.366) to (-0.8196000000000001,-2.1660000000000004) and count is 1\n Extending from (-2.0196,-2.0196) to (-0.8196000000000001,-0.8196000000000001) and count is 1\n Extending from (-2.0196,-0.6732) to (-0.8196000000000001,0.5267999999999999) and count is 1\n Extending from (-2.0196,0.6732) to (-0.8196000000000001,1.8732) and count is 1\n Extending from (-2.0196,2.0196) to (-0.8196000000000001,3.2196) and count is 1\n Extending from (-2.0196,3.366000000000001) to (-0.8196000000000001,4.566000000000001) and count is 1\n Extending from (-2.0196,4.712400000000001) to (-0.8196000000000001,5.912400000000001) and count is 1\n Extending from (-0.6732,-6.0588) to (0.5267999999999999,-4.8588) and count is 1\n Extending from (-0.6732,-4.712400000000001) to (0.5267999999999999,-3.5124000000000004) and count is 1\n Extending from (-0.6732,-3.366) to (0.5267999999999999,-2.1660000000000004) and count is 1\n Extending from (-0.6732,-2.0196) to (0.5267999999999999,-0.8196000000000001) and count is 1\n Extending from (-0.6732,-0.6732) to (0.5267999999999999,0.5267999999999999) and count is 1\n Extending from (-0.6732,0.6732) to (0.5267999999999999,1.8732) and count is 1\n Extending from (-0.6732,2.0196) to (0.5267999999999999,3.2196) and count is 1\n Extending from (-0.6732,3.366000000000001) to (0.5267999999999999,4.566000000000001) and count is 1\n Extending from (-0.6732,4.712400000000001) to (0.5267999999999999,5.912400000000001) and count is 1\n Extending from (0.6732,-6.0588) to (1.8732,-4.8588) and count is 1\n Extending from (0.6732,-4.712400000000001) to (1.8732,-3.5124000000000004) and count is 1\n Extending from (0.6732,-3.366) to (1.8732,-2.1660000000000004) and count is 1\n Extending from (0.6732,-2.0196) to (1.8732,-0.8196000000000001) and count is 1\n Extending from (0.6732,-0.6732) to (1.8732,0.5267999999999999) and count is 1\n Extending from (0.6732,0.6732) to (1.8732,1.8732) and count is 1\n Extending from (0.6732,2.0196) to (1.8732,3.2196) and count is 1\n Extending from (0.6732,3.366000000000001) to (1.8732,4.566000000000001) and count is 1\n Extending from (0.6732,4.712400000000001) to (1.8732,5.912400000000001) and count is 1\n Extending from (2.0196,-6.0588) to (3.2196,-4.8588) and count is 1\n Extending from (2.0196,-4.712400000000001) to (3.2196,-3.5124000000000004) and count is 1\n Extending from (2.0196,-3.366) to (3.2196,-2.1660000000000004) and count is 1\n Extending from (2.0196,-2.0196) to (3.2196,-0.8196000000000001) and count is 1\n Extending from (2.0196,-0.6732) to (3.2196,0.5267999999999999) and count is 1\n Extending from (2.0196,0.6732) to (3.2196,1.8732) and count is 1\n Extending from (2.0196,2.0196) to (3.2196,3.2196) and count is 1\n Extending from (2.0196,3.366000000000001) to (3.2196,4.566000000000001) and count is 1\n Extending from (2.0196,4.712400000000001) to (3.2196,5.912400000000001) and count is 1\n Extending from (3.366000000000001,-6.0588) to (4.566000000000001,-4.8588) and count is 1\n Extending from (3.366000000000001,-4.712400000000001) to (4.566000000000001,-3.5124000000000004) and count is 1\n Extending from (3.366000000000001,-3.366) to (4.566000000000001,-2.1660000000000004) and count is 1\n Extending from (3.366000000000001,-2.0196) to (4.566000000000001,-0.8196000000000001) and count is 1\n Extending from (3.366000000000001,-0.6732) to (4.566000000000001,0.5267999999999999) and count is 1\n Extending from (3.366000000000001,0.6732) to (4.566000000000001,1.8732) and count is 1\n Extending from (3.366000000000001,2.0196) to (4.566000000000001,3.2196) and count is 1\n Extending from (3.366000000000001,3.366000000000001) to (4.566000000000001,4.566000000000001) and count is 1\n Extending from (3.366000000000001,4.712400000000001) to (4.566000000000001,5.912400000000001) and count is 1\n Extending from (4.712400000000001,-6.0588) to (5.912400000000001,-4.8588) and count is 1\n Extending from (4.712400000000001,-4.712400000000001) to (5.912400000000001,-3.5124000000000004) and count is 1\n Extending from (4.712400000000001,-3.366) to (5.912400000000001,-2.1660000000000004) and count is 1\n Extending from (4.712400000000001,-2.0196) to (5.912400000000001,-0.8196000000000001) and count is 1\n Extending from (4.712400000000001,-0.6732) to (5.912400000000001,0.5267999999999999) and count is 1\n Extending from (4.712400000000001,0.6732) to (5.912400000000001,1.8732) and count is 1\n Extending from (4.712400000000001,2.0196) to (5.912400000000001,3.2196) and count is 1\n Extending from (4.712400000000001,3.366000000000001) to (5.912400000000001,4.566000000000001) and count is 1\n Extending from (4.712400000000001,4.712400000000001) to (5.912400000000001,5.912400000000001) and count is 1"
     ]
    }
   ],
   "source": [
    "for cell in cellList:\n",
    "    sys.stdout.write(\"\\n Extending from ({},{}) to ({},{}) and count is {}\".format(cell.x1,cell.y1,cell.x2,cell.y2,cell.count))\n"
   ]
  },
  {
   "cell_type": "code",
   "execution_count": null,
   "metadata": {},
   "outputs": [],
   "source": []
  }
 ],
 "metadata": {
  "kernelspec": {
   "display_name": "Python 2",
   "language": "python",
   "name": "python2"
  },
  "language_info": {
   "codemirror_mode": {
    "name": "ipython",
    "version": 2
   },
   "file_extension": ".py",
   "mimetype": "text/x-python",
   "name": "python",
   "nbconvert_exporter": "python",
   "pygments_lexer": "ipython2",
   "version": "2.7.6"
  }
 },
 "nbformat": 4,
 "nbformat_minor": 0
}
