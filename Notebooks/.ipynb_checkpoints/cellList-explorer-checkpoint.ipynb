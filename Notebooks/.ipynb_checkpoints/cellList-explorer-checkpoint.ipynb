{
 "cells": [
  {
   "cell_type": "markdown",
   "metadata": {},
   "source": [
    "Cell List graph"
   ]
  },
  {
   "cell_type": "code",
   "execution_count": 1,
   "metadata": {
    "ExecuteTime": {
     "end_time": "2018-02-19T19:42:38.855995Z",
     "start_time": "2018-02-19T19:42:38.851563Z"
    }
   },
   "outputs": [],
   "source": [
    "import os\n",
    "import sys\n",
    "module_path = os.path.abspath(os.path.join('..'))\n",
    "if module_path not in sys.path:\n",
    "    sys.path.append(module_path)\n",
    "import sys"
   ]
  },
  {
   "cell_type": "code",
   "execution_count": 2,
   "metadata": {
    "ExecuteTime": {
     "end_time": "2018-02-19T19:42:39.746932Z",
     "start_time": "2018-02-19T19:42:39.636347Z"
    }
   },
   "outputs": [],
   "source": [
    "from Code.Particle import Particle\n",
    "from Code.Cell import Cell\n",
    "from Code.cellutils import CellUtils\n",
    "import numpy as np \n",
    "import math\n",
    "import time"
   ]
  },
  {
   "cell_type": "code",
   "execution_count": 3,
   "metadata": {
    "ExecuteTime": {
     "end_time": "2018-02-19T19:42:40.311869Z",
     "start_time": "2018-02-19T19:42:40.132767Z"
    }
   },
   "outputs": [],
   "source": [
    "import matplotlib.pyplot as plt\n",
    "import matplotlib.patches as patches"
   ]
  },
  {
   "cell_type": "code",
   "execution_count": 4,
   "metadata": {
    "ExecuteTime": {
     "end_time": "2018-02-19T19:42:40.843023Z",
     "start_time": "2018-02-19T19:42:40.836070Z"
    }
   },
   "outputs": [],
   "source": [
    "def init(n):\n",
    "    particleList = []\n",
    "    particles_per_edge = np.ceil(np.sqrt(n))\n",
    "    initial_min_step = 1.2 * 1.122\n",
    "    initial_l = particles_per_edge * initial_min_step\n",
    "    count =0\n",
    "    for i in range(0, int(math.sqrt(n))):  # 1 <= i <= n/2\n",
    "        for j in range(0, int(math.sqrt(n))):\n",
    "            x = initial_min_step * i - (initial_l/2) + (initial_min_step/2)\n",
    "            y = initial_min_step * j - (initial_l/2) + (initial_min_step / 2)\n",
    "            particleList.append(Particle(count,False,x,y))\n",
    "            count+=1\n",
    "    return particleList"
   ]
  },
  {
   "cell_type": "code",
   "execution_count": 5,
   "metadata": {
    "ExecuteTime": {
     "end_time": "2018-02-19T19:42:42.207068Z",
     "start_time": "2018-02-19T19:42:42.202863Z"
    }
   },
   "outputs": [],
   "source": [
    "num_particle = 100\n",
    "particleList =init(num_particle) #list of particles"
   ]
  },
  {
   "cell_type": "code",
   "execution_count": 11,
   "metadata": {
    "ExecuteTime": {
     "end_time": "2018-02-19T19:43:54.774418Z",
     "start_time": "2018-02-19T19:43:54.586666Z"
    }
   },
   "outputs": [],
   "source": [
    "fig2,ax2= plt.subplots(1)\n",
    "\n",
    "# ax2 = fig2.add_subplot(111, aspect='equal')\n",
    "ax2.add_patch(\n",
    "    patches.Rectangle(\n",
    "        (0.1, 0.1),\n",
    "        0.5,\n",
    "        0.5,\n",
    "        fill=False      # remove background\n",
    "    )\n",
    ")\n",
    "fig2.savefig('rect2.png', dpi=90, bbox_inches='tight')"
   ]
  },
  {
   "cell_type": "code",
   "execution_count": 27,
   "metadata": {
    "ExecuteTime": {
     "end_time": "2018-02-19T19:50:53.622982Z",
     "start_time": "2018-02-19T19:50:53.600468Z"
    }
   },
   "outputs": [],
   "source": [
    "def init_cells(particleList,distance=1.5):\n",
    "    num_particles = particleList\n",
    "    cellList = []\n",
    "    b_x1,b_y1,b_x2,b_y2 = 0,0,0,0\n",
    "    #getting the bounds of the system (#ask orit)\n",
    "    for particle in particleList:\n",
    "        if particle.x < b_x1:\n",
    "            b_x1 = particle.x\n",
    "        if particle.y < b_y1:\n",
    "            b_y1 = particle.y\n",
    "        if particle.x > b_x2:\n",
    "            b_x2 = particle.x\n",
    "        if particle.y > b_y2:\n",
    "            b_y2 = particle.y\n",
    "    length = np.sqrt((b_x1+b_x2)**2 + (b_y1-b_y2)**2)\n",
    "    num_cell = int(length / distance)\n",
    "    for i in range(num_cell):\n",
    "        for j in range(num_cell):\n",
    "            cellList.append(Cell(b_x1+distance*i , b_y1+distance*j, b_x2+distance*i,b_y2+distance*j,distance))\n",
    "    \n",
    "    fig2,ax2= plt.subplots(1)\n",
    "    ax2 = plt.gca()\n",
    "    for cell in cellList:\n",
    "        ax2.add_patch(\n",
    "        patches.Rectangle(\n",
    "            (cell.x1, cell.y1),\n",
    "            distance,\n",
    "            distance,\n",
    "            fill=False      # remove background\n",
    "        )\n",
    "        )\n",
    "    xlim((b_x1-0.5,b_x2+0.5))\n",
    "    ylim((b_y1-0.5,b_y2+0.5))\n",
    "    fig2.savefig('rect2.png', dpi=90, bbox_inches='tight')\n",
    "    \n",
    "#     for cell in cellList:\n",
    "#         rect = patches.Rectangle((float(cell.x1),float(cell.y1)),1.5,1.5,fill=False)\n",
    "#         ax2.add_patch(rect)\n",
    "#         plt.show()"
   ]
  },
  {
   "cell_type": "code",
   "execution_count": 28,
   "metadata": {
    "ExecuteTime": {
     "end_time": "2018-02-19T19:50:54.269874Z",
     "start_time": "2018-02-19T19:50:54.058324Z"
    }
   },
   "outputs": [],
   "source": [
    "init_cells(particleList,1.5)"
   ]
  },
  {
   "cell_type": "code",
   "execution_count": 94,
   "metadata": {
    "ExecuteTime": {
     "end_time": "2018-02-19T19:36:23.809866Z",
     "start_time": "2018-02-19T19:36:23.801450Z"
    }
   },
   "outputs": [],
   "source": [
    "def reoreient(particleList,cellList):\n",
    "    for j,particle in enumerate(particleList):\n",
    "        for i,cell in enumerate(cellList):\n",
    "            sys.stdout.write(\"\\r{}particle :  {} / {}\".format(j,i,len(cellList)))\n",
    "            sys.stdout.flush()\n",
    "            if cell.check_if_present(particle):\n",
    "                cell.add_particle(particle)\n",
    "                continue"
   ]
  },
  {
   "cell_type": "code",
   "execution_count": 49,
   "metadata": {},
   "outputs": [
    {
     "name": "stdout",
     "output_type": "stream",
     "text": [
      "47particle :  42 / 81"
     ]
    }
   ],
   "source": [
    "reoreient(particleList,cellList)"
   ]
  },
  {
   "cell_type": "code",
   "execution_count": 45,
   "metadata": {},
   "outputs": [
    {
     "name": "stdout",
     "output_type": "stream",
     "text": [
      "\n",
      " Extending from (-6.0588,-6.0588) to (-4.8588,-4.8588) and count is 1\n",
      " Extending from (-6.0588,-4.712400000000001) to (-4.8588,-3.5124000000000004) and count is 1\n",
      " Extending from (-6.0588,-3.366) to (-4.8588,-2.1660000000000004) and count is 1\n",
      " Extending from (-6.0588,-2.0196) to (-4.8588,-0.8196000000000001) and count is 1\n",
      " Extending from (-6.0588,-0.6732) to (-4.8588,0.5267999999999999) and count is 1\n",
      " Extending from (-6.0588,0.6732) to (-4.8588,1.8732) and count is 1\n",
      " Extending from (-6.0588,2.0196) to (-4.8588,3.2196) and count is 1\n",
      " Extending from (-6.0588,3.366000000000001) to (-4.8588,4.566000000000001) and count is 1\n",
      " Extending from (-6.0588,4.712400000000001) to (-4.8588,5.912400000000001) and count is 1\n",
      " Extending from (-4.712400000000001,-6.0588) to (-3.5124000000000004,-4.8588) and count is 1\n",
      " Extending from (-4.712400000000001,-4.712400000000001) to (-3.5124000000000004,-3.5124000000000004) and count is 1\n",
      " Extending from (-4.712400000000001,-3.366) to (-3.5124000000000004,-2.1660000000000004) and count is 1\n",
      " Extending from (-4.712400000000001,-2.0196) to (-3.5124000000000004,-0.8196000000000001) and count is 1\n",
      " Extending from (-4.712400000000001,-0.6732) to (-3.5124000000000004,0.5267999999999999) and count is 1\n",
      " Extending from (-4.712400000000001,0.6732) to (-3.5124000000000004,1.8732) and count is 1\n",
      " Extending from (-4.712400000000001,2.0196) to (-3.5124000000000004,3.2196) and count is 1\n",
      " Extending from (-4.712400000000001,3.366000000000001) to (-3.5124000000000004,4.566000000000001) and count is 1\n",
      " Extending from (-4.712400000000001,4.712400000000001) to (-3.5124000000000004,5.912400000000001) and count is 1\n",
      " Extending from (-3.366,-6.0588) to (-2.1660000000000004,-4.8588) and count is 1\n",
      " Extending from (-3.366,-4.712400000000001) to (-2.1660000000000004,-3.5124000000000004) and count is 1\n",
      " Extending from (-3.366,-3.366) to (-2.1660000000000004,-2.1660000000000004) and count is 1\n",
      " Extending from (-3.366,-2.0196) to (-2.1660000000000004,-0.8196000000000001) and count is 1\n",
      " Extending from (-3.366,-0.6732) to (-2.1660000000000004,0.5267999999999999) and count is 1\n",
      " Extending from (-3.366,0.6732) to (-2.1660000000000004,1.8732) and count is 1\n",
      " Extending from (-3.366,2.0196) to (-2.1660000000000004,3.2196) and count is 1\n",
      " Extending from (-3.366,3.366000000000001) to (-2.1660000000000004,4.566000000000001) and count is 1\n",
      " Extending from (-3.366,4.712400000000001) to (-2.1660000000000004,5.912400000000001) and count is 1\n",
      " Extending from (-2.0196,-6.0588) to (-0.8196000000000001,-4.8588) and count is 1\n",
      " Extending from (-2.0196,-4.712400000000001) to (-0.8196000000000001,-3.5124000000000004) and count is 1\n",
      " Extending from (-2.0196,-3.366) to (-0.8196000000000001,-2.1660000000000004) and count is 1\n",
      " Extending from (-2.0196,-2.0196) to (-0.8196000000000001,-0.8196000000000001) and count is 1\n",
      " Extending from (-2.0196,-0.6732) to (-0.8196000000000001,0.5267999999999999) and count is 1\n",
      " Extending from (-2.0196,0.6732) to (-0.8196000000000001,1.8732) and count is 1\n",
      " Extending from (-2.0196,2.0196) to (-0.8196000000000001,3.2196) and count is 1\n",
      " Extending from (-2.0196,3.366000000000001) to (-0.8196000000000001,4.566000000000001) and count is 1\n",
      " Extending from (-2.0196,4.712400000000001) to (-0.8196000000000001,5.912400000000001) and count is 1\n",
      " Extending from (-0.6732,-6.0588) to (0.5267999999999999,-4.8588) and count is 1\n",
      " Extending from (-0.6732,-4.712400000000001) to (0.5267999999999999,-3.5124000000000004) and count is 1\n",
      " Extending from (-0.6732,-3.366) to (0.5267999999999999,-2.1660000000000004) and count is 1\n",
      " Extending from (-0.6732,-2.0196) to (0.5267999999999999,-0.8196000000000001) and count is 1\n",
      " Extending from (-0.6732,-0.6732) to (0.5267999999999999,0.5267999999999999) and count is 1\n",
      " Extending from (-0.6732,0.6732) to (0.5267999999999999,1.8732) and count is 1\n",
      " Extending from (-0.6732,2.0196) to (0.5267999999999999,3.2196) and count is 1\n",
      " Extending from (-0.6732,3.366000000000001) to (0.5267999999999999,4.566000000000001) and count is 1\n",
      " Extending from (-0.6732,4.712400000000001) to (0.5267999999999999,5.912400000000001) and count is 1\n",
      " Extending from (0.6732,-6.0588) to (1.8732,-4.8588) and count is 1\n",
      " Extending from (0.6732,-4.712400000000001) to (1.8732,-3.5124000000000004) and count is 1\n",
      " Extending from (0.6732,-3.366) to (1.8732,-2.1660000000000004) and count is 1\n",
      " Extending from (0.6732,-2.0196) to (1.8732,-0.8196000000000001) and count is 1\n",
      " Extending from (0.6732,-0.6732) to (1.8732,0.5267999999999999) and count is 1\n",
      " Extending from (0.6732,0.6732) to (1.8732,1.8732) and count is 1\n",
      " Extending from (0.6732,2.0196) to (1.8732,3.2196) and count is 1\n",
      " Extending from (0.6732,3.366000000000001) to (1.8732,4.566000000000001) and count is 1\n",
      " Extending from (0.6732,4.712400000000001) to (1.8732,5.912400000000001) and count is 1\n",
      " Extending from (2.0196,-6.0588) to (3.2196,-4.8588) and count is 1\n",
      " Extending from (2.0196,-4.712400000000001) to (3.2196,-3.5124000000000004) and count is 1\n",
      " Extending from (2.0196,-3.366) to (3.2196,-2.1660000000000004) and count is 1\n",
      " Extending from (2.0196,-2.0196) to (3.2196,-0.8196000000000001) and count is 1\n",
      " Extending from (2.0196,-0.6732) to (3.2196,0.5267999999999999) and count is 1\n",
      " Extending from (2.0196,0.6732) to (3.2196,1.8732) and count is 1\n",
      " Extending from (2.0196,2.0196) to (3.2196,3.2196) and count is 1\n",
      " Extending from (2.0196,3.366000000000001) to (3.2196,4.566000000000001) and count is 1\n",
      " Extending from (2.0196,4.712400000000001) to (3.2196,5.912400000000001) and count is 1\n",
      " Extending from (3.366000000000001,-6.0588) to (4.566000000000001,-4.8588) and count is 1\n",
      " Extending from (3.366000000000001,-4.712400000000001) to (4.566000000000001,-3.5124000000000004) and count is 1\n",
      " Extending from (3.366000000000001,-3.366) to (4.566000000000001,-2.1660000000000004) and count is 1\n",
      " Extending from (3.366000000000001,-2.0196) to (4.566000000000001,-0.8196000000000001) and count is 1\n",
      " Extending from (3.366000000000001,-0.6732) to (4.566000000000001,0.5267999999999999) and count is 1\n",
      " Extending from (3.366000000000001,0.6732) to (4.566000000000001,1.8732) and count is 1\n",
      " Extending from (3.366000000000001,2.0196) to (4.566000000000001,3.2196) and count is 1\n",
      " Extending from (3.366000000000001,3.366000000000001) to (4.566000000000001,4.566000000000001) and count is 1\n",
      " Extending from (3.366000000000001,4.712400000000001) to (4.566000000000001,5.912400000000001) and count is 1\n",
      " Extending from (4.712400000000001,-6.0588) to (5.912400000000001,-4.8588) and count is 1\n",
      " Extending from (4.712400000000001,-4.712400000000001) to (5.912400000000001,-3.5124000000000004) and count is 1\n",
      " Extending from (4.712400000000001,-3.366) to (5.912400000000001,-2.1660000000000004) and count is 1\n",
      " Extending from (4.712400000000001,-2.0196) to (5.912400000000001,-0.8196000000000001) and count is 1\n",
      " Extending from (4.712400000000001,-0.6732) to (5.912400000000001,0.5267999999999999) and count is 1\n",
      " Extending from (4.712400000000001,0.6732) to (5.912400000000001,1.8732) and count is 1\n",
      " Extending from (4.712400000000001,2.0196) to (5.912400000000001,3.2196) and count is 1\n",
      " Extending from (4.712400000000001,3.366000000000001) to (5.912400000000001,4.566000000000001) and count is 1\n",
      " Extending from (4.712400000000001,4.712400000000001) to (5.912400000000001,5.912400000000001) and count is 1"
     ]
    }
   ],
   "source": [
    "for cell in cellList:\n",
    "    sys.stdout.write(\"\\n Extending from ({},{}) to ({},{}) and count is {}\".format(cell.x1,cell.y1,cell.x2,cell.y2,cell.count))\n"
   ]
  },
  {
   "cell_type": "code",
   "execution_count": null,
   "metadata": {},
   "outputs": [],
   "source": []
  }
 ],
 "metadata": {
  "kernelspec": {
   "display_name": "Python 3",
   "language": "python",
   "name": "python3"
  },
  "language_info": {
   "codemirror_mode": {
    "name": "ipython",
    "version": 3
   },
   "file_extension": ".py",
   "mimetype": "text/x-python",
   "name": "python",
   "nbconvert_exporter": "python",
   "pygments_lexer": "ipython3",
   "version": "3.6.3"
  }
 },
 "nbformat": 4,
 "nbformat_minor": 1
}
