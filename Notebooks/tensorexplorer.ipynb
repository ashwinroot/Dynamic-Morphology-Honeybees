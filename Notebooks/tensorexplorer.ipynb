{
 "cells": [
  {
   "cell_type": "code",
   "execution_count": 3,
   "metadata": {
    "collapsed": true
   },
   "outputs": [],
   "source": [
    "import tensorflow as tf\n",
    "import time\n",
    "import numpy as np\n"
   ]
  },
  {
   "cell_type": "code",
   "execution_count": 20,
   "metadata": {},
   "outputs": [
    {
     "name": "stdout",
     "output_type": "stream",
     "text": [
      "[[250 250]\n [375 375]]\n"
     ]
    }
   ],
   "source": [
    "#matrix to the power of a number function\n",
    "def mat_pow(x,y):\n",
    "    x1 = x \n",
    "    for i in range(y-1):\n",
    "        x= tf.matmul(x,x1)\n",
    "    return x\n",
    "x = tf.constant([[2,2],[3,3]])\n",
    "z= mat_pow(x,4)\n",
    "\n",
    "with tf.Session() as sess:\n",
    "    p = sess.run(z)\n",
    "    print(p)"
   ]
  },
  {
   "cell_type": "code",
   "execution_count": null,
   "metadata": {},
   "outputs": [],
   "source": []
  }
 ],
 "metadata": {
  "kernelspec": {
   "display_name": "Python 2",
   "language": "python",
   "name": "python2"
  },
  "language_info": {
   "codemirror_mode": {
    "name": "ipython",
    "version": 2
   },
   "file_extension": ".py",
   "mimetype": "text/x-python",
   "name": "python",
   "nbconvert_exporter": "python",
   "pygments_lexer": "ipython2",
   "version": "2.7.6"
  }
 },
 "nbformat": 4,
 "nbformat_minor": 0
}
