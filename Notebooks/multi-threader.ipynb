{
 "cells": [
  {
   "cell_type": "code",
   "execution_count": 9,
   "metadata": {
    "collapsed": true
   },
   "outputs": [],
   "source": [
    "import threading\n",
    "from queue import Queue\n",
    "import time\n",
    "import sys"
   ]
  },
  {
   "cell_type": "code",
   "execution_count": 21,
   "metadata": {},
   "outputs": [
    {
     "name": "stdout",
     "output_type": "stream",
     "text": [
      "Thread-134 0\nThread-137 3\nThread-135 1\nThread-136 2\nThread-143 9\nThread-138 4\nThread-139 5\nThread-140 6\nThread-141 7\nThread-142 8\n"
     ]
    },
    {
     "name": "stdout",
     "output_type": "stream",
     "text": [
      "Thread-134 10\nThread-137 Thread-13511 \n12\nThread-136 13\nThread-140 17\nThread-141 18\nThread-142 Thread-14319 Thread-138\n14 Thread-139 \n1516 Entire job took 1.02\n\n"
     ]
    }
   ],
   "source": [
    "def ExamJob(worker):\n",
    "    time.sleep(0.5)\n",
    "    with print_lock:\n",
    "        print(threading.current_thread().name,worker)\n",
    "\n",
    "def threader():\n",
    "    while True:\n",
    "        worker = q.get()\n",
    "        ExamJob(worker)\n",
    "        q.task_done()\n",
    "        \n",
    "        \n",
    "print_lock = threading.Lock()\n",
    "\n",
    "q = Queue()\n",
    "\n",
    "t = [threading.Thread(target=threader) for i in range(10)]\n",
    "for x in range(10):\n",
    "    t[x].start()\n",
    "\n",
    "start = time.time()\n",
    "for worker in range(20):\n",
    "    q.put(worker)\n",
    "\n",
    "q.join()\n",
    "\n",
    "sys.stdout.write(\" Entire job took {:.4}\" .format(time.time()-start))\n",
    "    "
   ]
  },
  {
   "cell_type": "code",
   "execution_count": null,
   "metadata": {},
   "outputs": [],
   "source": []
  }
 ],
 "metadata": {
  "kernelspec": {
   "display_name": "Python 2",
   "language": "python",
   "name": "python2"
  },
  "language_info": {
   "codemirror_mode": {
    "name": "ipython",
    "version": 2
   },
   "file_extension": ".py",
   "mimetype": "text/x-python",
   "name": "python",
   "nbconvert_exporter": "python",
   "pygments_lexer": "ipython2",
   "version": "2.7.6"
  }
 },
 "nbformat": 4,
 "nbformat_minor": 0
}
