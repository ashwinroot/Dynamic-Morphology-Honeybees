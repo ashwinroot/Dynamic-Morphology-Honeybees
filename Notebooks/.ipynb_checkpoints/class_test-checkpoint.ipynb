{
 "cells": [
  {
   "cell_type": "code",
   "execution_count": 2,
   "metadata": {},
   "outputs": [],
   "source": [
    "import numpy as np\n",
    "import matplotlib.pyplot as plt \n",
    "import random\n"
   ]
  },
  {
   "cell_type": "code",
   "execution_count": 7,
   "metadata": {},
   "outputs": [],
   "source": [
    "class Particle:\n",
    "    def __init__(self,force=0):\n",
    "        self.x = random.uniform(-2.5,2.5)\n",
    "        self.y = random.uniform(-2.5,2.5)\n",
    "        self.force = np.empty([1,2])\n",
    "    "
   ]
  },
  {
   "cell_type": "code",
   "execution_count": 8,
   "metadata": {},
   "outputs": [],
   "source": [
    "class LJ:\n",
    "    def __init__(self):\n",
    "        pass\n",
    "    def force_calculate(self,A,B):\n",
    "        distance = np.sqrt((A.x-B.x)**2 - (A.y-B.y)**2 ) \n",
    "        r_vector = np.empty([1,2])\n",
    "        r_vector[0,0] = ( A.x-B.x)/distance\n",
    "        r_vector[0,1] = ( A.y-B.y)/distance\n",
    "        force_LJ = 24*(2*distance**(-14)-distance**(-8)) * r_vector\n",
    "        return force_LJ\n",
    "        "
   ]
  },
  {
   "cell_type": "code",
   "execution_count": 9,
   "metadata": {},
   "outputs": [],
   "source": [
    "A = Particle()\n",
    "B = Particle()\n",
    "LJ = LJ()"
   ]
  },
  {
   "cell_type": "code",
   "execution_count": 6,
   "metadata": {},
   "outputs": [
    {
     "data": {
      "text/plain": [
       "0.8057694169775802"
      ]
     },
     "execution_count": 6,
     "metadata": {},
     "output_type": "execute_result"
    }
   ],
   "source": [
    "LJ.force_calculate(A,B)\n"
   ]
  },
  {
   "cell_type": "code",
   "execution_count": 39,
   "metadata": {},
   "outputs": [],
   "source": [
    "def single_plot(A):\n",
    "    plt.plot(A.x,A.y,'ro')\n",
    "    plt.show()\n",
    "    \n",
    "def multi_plot(series):\n",
    "    x=[]\n",
    "    y=[]\n",
    "    for s in series:\n",
    "        x.append(s.x)\n",
    "        y.append(s.y)\n",
    "    plt.plot(x,y,'ro')\n",
    "    plt.show()"
   ]
  },
  {
   "cell_type": "code",
   "execution_count": 8,
   "metadata": {},
   "outputs": [
    {
     "data": {
      "text/plain": [
       "1.7415928000778846"
      ]
     },
     "execution_count": 8,
     "metadata": {},
     "output_type": "execute_result"
    }
   ],
   "source": [
    "x= random.uniform(-5,5)\n",
    "y = random.uniform(-5,5)"
   ]
  },
  {
   "cell_type": "code",
   "execution_count": null,
   "metadata": {},
   "outputs": [],
   "source": []
  }
 ],
 "metadata": {
  "kernelspec": {
   "display_name": "Python 3",
   "language": "python",
   "name": "python3"
  },
  "language_info": {
   "codemirror_mode": {
    "name": "ipython",
    "version": 3
   },
   "file_extension": ".py",
   "mimetype": "text/x-python",
   "name": "python",
   "nbconvert_exporter": "python",
   "pygments_lexer": "ipython3",
   "version": "3.6.3"
  }
 },
 "nbformat": 4,
 "nbformat_minor": 1
}
